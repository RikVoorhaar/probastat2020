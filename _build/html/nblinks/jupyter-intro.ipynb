{
 "cells": [
  {
   "cell_type": "markdown",
   "metadata": {},
   "source": [
    "[![Open in Colab](https://colab.research.google.com/assets/colab-badge.svg)](https://colab.research.google.com/github/RikVoorhaar/probastat2020/blob/master/notebooks/instructions.ipynb?hl=fr)"
   ]
  },
  {
   "cell_type": "markdown",
   "metadata": {},
   "source": [
    "# Instructions d'utilisation de Jupyter\n",
    "\n",
    "Jupyter est une plate-forme très utile pour l'écrire et exécution de code interactive en Python (et en autre langues, notablement Julia et R). \n",
    "\n",
    "Avec Jupyter nous pouvons exécuter de code pièce par pièce. De plus, nous pouvons mélanger du code et texte riche (et en plus des maths avec $\\LaTeX$). Nous pouvons aussi montrer la sortie du code en formats riches (par exemple des graphiques). Cette page ici est un Jupyter notebook par exemple."
   ]
  },
  {
   "cell_type": "markdown",
   "metadata": {},
   "source": [
    "## Google Colab\n",
    "\n",
    "Vous pouvez utiliser sans installation avec [Google Colab](https://colab.research.google.com/). Vous pouvez trouver des instructions pour utiliser Colab ici:\n",
    "\n",
    "https://colab.research.google.com/notebooks/welcome.ipynb?hl=fr (français)\n",
    "\n",
    "https://colab.research.google.com/notebooks/welcome.ipynb?hl=en (English)\n",
    "\n",
    "Ainsi vous pouvez ouvrir cette notebook en cliquant le bouton `open in Colab` en haut de cette page.\n",
    "\n",
    "## Utilisation locale\n",
    "\n",
    "La méthode plus facile pour utiliser Jupyter localement est d'installer Anaconda. Vous pouvez le démarager ici:\n",
    "\n",
    "https://www.anaconda.com/products/individual#Downloads\n",
    "\n",
    "Anaconda est un distribution de Python qui contient beaucoup progiciels utiles. Ainsi, Anaconda contient le package manager `conda`, qui est plus avancé que le package manager `pip` qu'on utilise en Python de base. \n",
    "\n",
    "Après installation de Anaconda, c'est un bon idée d'exécuter le code suivant en ligne de commande pour ajouter Anaconda à `$PATH` d'une manière appropriée\n",
    "\n",
    "```\n",
    "conda init\n",
    "```\n",
    "\n",
    "En Windows vous devez exécuter cet code en `Anaconda Prompt`. Vous pouvez ajouter le nom de votre shell interpreter, par exemple si vous utilise `powershell` on écrit\n",
    "\n",
    "```\n",
    "conda init powershell\n",
    "```\n",
    "\n",
    "Sans Anaconda vous pouvez installer Jupyter avec `pìp`:\n",
    "\n",
    "```\n",
    "pip install jupyter\n",
    "```\n",
    "\n",
    "Après installation de jupyter on peut lancer Jupyter comme logiciel ordinaire, ou avec la ligne de commande:\n",
    "\n",
    "```\n",
    "jupyter notebook\n",
    "```\n",
    "\n",
    "Notez que Jupyter n'a pas accès à tous les répertoires. Si vous voulez des notebooks en un certain répertoire, vous devez d'abord changer à cette répertoire. Par exemple:\n",
    "\n",
    "```\n",
    "cd ~/notebooks/\n",
    "jupyter notebook\n",
    "```\n",
    "\n",
    "donne accès a le répertoire `~/notebooks/` et tous ses sous-répertoires."
   ]
  },
  {
   "cell_type": "markdown",
   "metadata": {},
   "source": [
    "## Exemples d'utilisation\n",
    "\n",
    "Il y a deux types de cellules en Jupyter. Il y à des cellules de `markdown` commes tous ceux d'avant, et cellules de code comme suivant:"
   ]
  },
  {
   "cell_type": "code",
   "execution_count": 1,
   "metadata": {},
   "outputs": [
    {
     "data": {
      "text/plain": [
       "5"
      ]
     },
     "execution_count": 1,
     "metadata": {},
     "output_type": "execute_result"
    }
   ],
   "source": [
    "x = 2\n",
    "y = 3\n",
    "\n",
    "x+y"
   ]
  },
  {
   "cell_type": "markdown",
   "metadata": {},
   "source": [
    "Si on exécute un cellule de code, la sortie de la dernière ligne de code est affichée. Tous les variables et fonctions évalués sont conservé. Par exemple, on peut réutiliser les variables `x` et `y` déja défini."
   ]
  },
  {
   "cell_type": "code",
   "execution_count": 2,
   "metadata": {},
   "outputs": [
    {
     "data": {
      "text/plain": [
       "13"
      ]
     },
     "execution_count": 2,
     "metadata": {},
     "output_type": "execute_result"
    }
   ],
   "source": [
    "x**2+y**2"
   ]
  },
  {
   "cell_type": "markdown",
   "metadata": {},
   "source": [
    "Même pour des fonctions:"
   ]
  },
  {
   "cell_type": "code",
   "execution_count": 3,
   "metadata": {},
   "outputs": [],
   "source": [
    "def f(x):\n",
    "    return x**2"
   ]
  },
  {
   "cell_type": "markdown",
   "metadata": {},
   "source": [
    "On l'utilise:"
   ]
  },
  {
   "cell_type": "code",
   "execution_count": 4,
   "metadata": {},
   "outputs": [
    {
     "data": {
      "text/plain": [
       "4"
      ]
     },
     "execution_count": 4,
     "metadata": {},
     "output_type": "execute_result"
    }
   ],
   "source": [
    "f(x)"
   ]
  },
  {
   "cell_type": "markdown",
   "metadata": {},
   "source": [
    "On peut aussi tracer des données avec `matplotlib` comme ça:"
   ]
  },
  {
   "cell_type": "code",
   "execution_count": 5,
   "metadata": {},
   "outputs": [
    {
     "data": {
      "image/png": "[encoded data removed]",
      "text/plain": [
       "<Figure size 432x288 with 1 Axes>"
      ]
     },
     "metadata": {
      "needs_background": "light"
     },
     "output_type": "display_data"
    }
   ],
   "source": [
    "import matplotlib.pyplot as plt\n",
    "\n",
    "x = [t**2 for t in range(10)]\n",
    "plt.plot(x);"
   ]
  },
  {
   "cell_type": "markdown",
   "metadata": {},
   "source": [
    "On peut décorer le tráce avec plus des informations. Notons que nous n'avons pas besoin de importer `matplotlib.pyplot` une deuxième fois."
   ]
  },
  {
   "cell_type": "code",
   "execution_count": 6,
   "metadata": {},
   "outputs": [
    {
     "data": {
      "image/png": "[encoded data removed]",
      "text/plain": [
       "<Figure size 432x288 with 1 Axes>"
      ]
     },
     "metadata": {
      "needs_background": "light"
     },
     "output_type": "display_data"
    }
   ],
   "source": [
    "plt.title(\"Tracé de $y=x^2$\")\n",
    "plt.xlabel('Valeur de $x$')\n",
    "plt.ylabel('Valeur de $y$')\n",
    "\n",
    "plt.plot(x);"
   ]
  },
  {
   "cell_type": "markdown",
   "metadata": {},
   "source": [
    "Si on utilise beaucoup de données, c'est plus vite est facile d'utiliser `numpy` que Python de base. Par exemple on utilise 10000 valeurs de x entre -5 et 5:"
   ]
  },
  {
   "cell_type": "code",
   "execution_count": 7,
   "metadata": {},
   "outputs": [
    {
     "data": {
      "text/plain": [
       "array([-5.       , -4.9989999, -4.9979998, ...,  4.9979998,  4.9989999,\n",
       "        5.       ])"
      ]
     },
     "execution_count": 7,
     "metadata": {},
     "output_type": "execute_result"
    }
   ],
   "source": [
    "import numpy as np\n",
    "\n",
    "x = np.linspace(-5,5,10000)\n",
    "x"
   ]
  },
  {
   "cell_type": "markdown",
   "metadata": {},
   "source": [
    "Dans ce cas `x` est un array. On peut applier des fonctions à toutes les entrées facilement. Par exemple, on calcule\n",
    "\n",
    "$$y = \\exp(-x^2/2)/\\sqrt{2\\pi}$$\n",
    "\n",
    "pour tous les valuers de $x$, et on tracér le graphique de $y$."
   ]
  },
  {
   "cell_type": "code",
   "execution_count": 8,
   "metadata": {},
   "outputs": [
    {
     "data": {
      "image/png": "[encoded data removed]",
      "text/plain": [
       "<Figure size 432x288 with 1 Axes>"
      ]
     },
     "metadata": {
      "needs_background": "light"
     },
     "output_type": "display_data"
    }
   ],
   "source": [
    "y = np.exp(-x**2/2)/np.sqrt(2*np.pi)\n",
    "\n",
    "plt.plot(x, y);"
   ]
  },
  {
   "cell_type": "markdown",
   "metadata": {},
   "source": [
    "On peut aussi faire d'intégration numérique avec `scipy.integrate`. Par exemple on peut calculer\n",
    "\n",
    "$$\n",
    "    \\int_{-5}^{5}\\! \\frac{1}{\\sqrt{2\\pi}} e^{-x^2/2}\\,\\mathrm{d}x\n",
    "$$"
   ]
  },
  {
   "cell_type": "code",
   "execution_count": 9,
   "metadata": {},
   "outputs": [
    {
     "data": {
      "text/plain": [
       "(0.9999994266968565, 8.668320228277793e-10)"
      ]
     },
     "execution_count": 9,
     "metadata": {},
     "output_type": "execute_result"
    }
   ],
   "source": [
    "import scipy.integrate as integrate\n",
    "\n",
    "def gauss(x):\n",
    "    return np.exp(-x**2/2)/np.sqrt(2*np.pi)\n",
    "\n",
    "integrate.quad(gauss, -5, 5)"
   ]
  },
  {
   "cell_type": "markdown",
   "metadata": {},
   "source": [
    "La fonction `scipy.integrate.quad` sorte deux nombres, la valeur d'intégrale, et un estimation d'erreur absolue. Dans ce cas on trouve que l'intégrale est très proche de $1$. On peut aussi intégrer de $-\\infty$ à $\\infty$:"
   ]
  },
  {
   "cell_type": "code",
   "execution_count": 10,
   "metadata": {},
   "outputs": [
    {
     "data": {
      "text/plain": [
       "(0.9999999999999998, 1.0178191320905743e-08)"
      ]
     },
     "execution_count": 10,
     "metadata": {},
     "output_type": "execute_result"
    }
   ],
   "source": [
    "integrate.quad(gauss, -np.inf, np.inf)"
   ]
  },
  {
   "cell_type": "markdown",
   "metadata": {},
   "source": [
    "Notons que ceci n'est pas un preuve de d'égalité\n",
    "\n",
    "$$\n",
    "    \\int_{-\\infty}^{\\infty}\\! \\frac{1}{\\sqrt{2\\pi}} e^{-x^2/2}\\,\\mathrm{d}x = 1,\n",
    "$$\n",
    "\n",
    "Mais c'est de toute façon un bon verification sanitaire."
   ]
  },
  {
   "cell_type": "markdown",
   "metadata": {},
   "source": [
    "## Conseils Généraux\n",
    "\n",
    "- Redémarrer le kernel de Jupyter de temps en temps et exécuter toutes les cellules.\n",
    "\n",
    "- Le documentation de Python de base est très util, même pour les packages. \n",
    "    - [Documentation de Python de base](https://docs.python.org/3/)\n",
    "    - [Documentation de numpy/scipy](https://docs.scipy.org/doc/)\n",
    "    - [Documentation de matplotlib](https://matplotlib.org/api/index.html)\n"
   ]
  }
 ],
 "metadata": {
  "kernelspec": {
   "display_name": "Python 3.8.3 64-bit ('base': conda)",
   "language": "python",
   "name": "python38364bitbaseconda3ee4c4cdcb7a427db5500fc83937f989"
  },
  "language_info": {
   "codemirror_mode": {
    "name": "ipython",
    "version": 3
   },
   "file_extension": ".py",
   "mimetype": "text/x-python",
   "name": "python",
   "nbconvert_exporter": "python",
   "pygments_lexer": "ipython3",
   "version": "3.8.3"
  }
 },
 "nbformat": 4,
 "nbformat_minor": 4
}
