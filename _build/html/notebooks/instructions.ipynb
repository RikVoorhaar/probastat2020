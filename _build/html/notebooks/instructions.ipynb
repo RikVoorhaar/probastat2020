{
 "cells": [
  {
   "cell_type": "markdown",
   "metadata": {},
   "source": [
    "[![Open in Colab](https://colab.research.google.com/assets/colab-badge.svg)](https://colab.research.google.com/github/RikVoorhaar/probastat2020/blob/master/notebooks/instructions.ipynb)"
   ]
  },
  {
   "cell_type": "markdown",
   "metadata": {},
   "source": [
    "# Instructions d'utilisation de Jupyter\n",
    "\n",
    "Jupyter est une platforme très utile pour l'écricre est exécution de code interactive en Python (et en autre langues, notablement Julia et R). \n",
    "\n",
    "Avec Jupyter nous pouvons exécuter de code pièce par pièce. De plus, nous pouvons mélanger du code et texte riche (et en plus des maths avec $\\LaTeX$). Nous pouvons aussi montrer la sortie du code en formats riches (par exemple des graphiques). Cette page ici est un Jupyter notebook par exemple."
   ]
  },
  {
   "cell_type": "markdown",
   "metadata": {},
   "source": [
    "## Google Colab\n",
    "\n",
    "Vous pouvez utiliser sans installation avec [Google Colab](https://colab.research.google.com/). Vous pouvez trouver des instructions pour utiliser Colab ici:\n",
    "\n",
    "https://colab.research.google.com/notebooks/welcome.ipynb?hl=fr (français)\n",
    "\n",
    "https://colab.research.google.com/notebooks/welcome.ipynb?hl=en (English)\n",
    "\n",
    "Ainsi vous pouvez ouvrir cette notebook en cliquant le badge `open in Colab` en haut de cette page.\n",
    "\n",
    "## Utilisation locale\n",
    "\n",
    "La méthode plus facile pour utiliser Jupyter localement est d'installer Anaconda. Vous pouvez le démarager ici:\n",
    "\n",
    "https://www.anaconda.com/products/individual#Downloads\n",
    "\n",
    "Anaconda est un distribution de Python qui contient beaucoup progiciels utiles. Ainsi, Anaconda contient le package manager `conda`, qui est plus avancé que le package manager `pip` qu'on utilise en Python de base. \n",
    "\n",
    "Après installation de Anaconda, c'est un bon idée d'exécuter le code suivant en ligne de commande pour ajouter Anaconda à `$PATH` d'une manière appropriée\n",
    "\n",
    "```\n",
    "conda init\n",
    "```\n",
    "\n",
    "En Windows vous devez exécuter cet code en `Anaconda Prompt`. Vous pouvez ajouter le nom de votre shell interpreter, par exemple si vous utilise `powershell` on écrit\n",
    "\n",
    "```\n",
    "conda init powershell\n",
    "```\n",
    "\n",
    "Sans Anaconda vous pouvez installer Jupyter avec `pìp`:\n",
    "\n",
    "```\n",
    "pip install jupyter\n",
    "```\n",
    "\n",
    "Après installation de jupyter on peut lancer Jupyter comme logiciel ordinaire, ou avec la ligne de commande:\n",
    "\n",
    "```\n",
    "jupyter notebook\n",
    "```\n",
    "\n",
    "Notez que jupyter n'a pas accès à tous les répertoires. Si vous voulez des notebooks en un certain répertoire, vous devez d'abord changer à cette répertoire. Par exemple:\n",
    "\n",
    "```\n",
    "cd ~/notebooks/\n",
    "jupyter notebook\n",
    "```\n",
    "\n",
    "donne accès a le répertoire `~/notebooks/` et tous ses sous-répertoires."
   ]
  },
  {
   "cell_type": "markdown",
   "metadata": {},
   "source": [
    "## Exemples d'utilisation\n",
    "\n",
    "Il y a deux types de cellules en Jupyter. Il y à des celulles de `markdown` commes tous les précedents, et celulles de code comme suivant:"
   ]
  },
  {
   "cell_type": "code",
   "execution_count": 2,
   "metadata": {},
   "outputs": [
    {
     "data": {
      "text/plain": [
       "5"
      ]
     },
     "execution_count": 2,
     "metadata": {},
     "output_type": "execute_result"
    }
   ],
   "source": [
    "x = 2\n",
    "y = 3\n",
    "\n",
    "x+y"
   ]
  },
  {
   "cell_type": "markdown",
   "metadata": {},
   "source": [
    "Si on exécute un cellule de code, la sortie de la dernière ligne de code est affichée. Tous les variables et fonctions évalués sont conservé. Par exemple, on peut réutiliser les variables `x` et `y` déja defini."
   ]
  },
  {
   "cell_type": "code",
   "execution_count": 3,
   "metadata": {},
   "outputs": [
    {
     "data": {
      "text/plain": [
       "13"
      ]
     },
     "execution_count": 3,
     "metadata": {},
     "output_type": "execute_result"
    }
   ],
   "source": [
    "x**2+y**2"
   ]
  },
  {
   "cell_type": "markdown",
   "metadata": {},
   "source": [
    "La même pour des fonctions:"
   ]
  },
  {
   "cell_type": "code",
   "execution_count": 6,
   "metadata": {},
   "outputs": [],
   "source": [
    "def f(x):\n",
    "    return x**2"
   ]
  },
  {
   "cell_type": "markdown",
   "metadata": {},
   "source": [
    "On l'utilise:"
   ]
  },
  {
   "cell_type": "code",
   "execution_count": 7,
   "metadata": {},
   "outputs": [
    {
     "data": {
      "text/plain": [
       "4"
      ]
     },
     "execution_count": 7,
     "metadata": {},
     "output_type": "execute_result"
    }
   ],
   "source": [
    "f(x)"
   ]
  },
  {
   "cell_type": "code",
   "execution_count": null,
   "metadata": {},
   "outputs": [],
   "source": []
  }
 ],
 "metadata": {
  "kernelspec": {
   "display_name": "Python 3.8.3 64-bit ('base': conda)",
   "language": "python",
   "name": "python38364bitbaseconda3ee4c4cdcb7a427db5500fc83937f989"
  },
  "language_info": {
   "codemirror_mode": {
    "name": "ipython",
    "version": 3
   },
   "file_extension": ".py",
   "mimetype": "text/x-python",
   "name": "python",
   "nbconvert_exporter": "python",
   "pygments_lexer": "ipython3",
   "version": "3.8.3"
  }
 },
 "nbformat": 4,
 "nbformat_minor": 4
}
