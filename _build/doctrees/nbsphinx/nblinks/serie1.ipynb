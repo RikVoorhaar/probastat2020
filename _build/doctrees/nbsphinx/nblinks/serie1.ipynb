{
 "cells": [
  {
   "cell_type": "markdown",
   "metadata": {},
   "source": [
    "[![Open in Colab](https://colab.research.google.com/assets/colab-badge.svg)](https://colab.research.google.com/github/RikVoorhaar/probastat2020/blob/master/notebooks/serie1.ipynb?hl=fr)\n",
    "\n",
    "# Série 1"
   ]
  },
  {
   "cell_type": "markdown",
   "metadata": {},
   "source": [
    "## Exercice 1\n",
    "### Exerice 1a)\n",
    "<div class=\"alert alert-info\">\n",
    "**Exercice 1a)**\n",
    "\n",
    "Soit $A^*$ l’ensemble des mots finis sur l’alphabet $\\{0; 1\\}$. On ordonne\n",
    "les éléments de $A^*$ selon leur longueur et pour des éléments de\n",
    "même longueur, selon l’ordre lexicographique :\n",
    "\n",
    "$$A^* = \\{0; 1; 00; 01; 10; 11; 000; 001; 010 : 011; 100; 101; 110; 111; \\dots\\}.$$\n",
    "\n",
    "Ecrire un programme Python qui à partir d’un entier $n$, produit\n",
    "le $n$-ième mot de $A^*$.\n",
    "</div>\n",
    "\n",
    "Remarquons que $A^*$ est l'union de mots d'une longueure donnée. Dans la groupe des mots de longuer $\\ell$ il y a $2^\\ell$ éléments, et ils sont énumeré par les nombres $0,\\dots,2^\\ell-1$ exprimés en binaire (avec des zeros ajoutés). Alors étant donné un nombre $n$ on doit:\n",
    "\n",
    "1. Trouver la nombre $\\ell$ tel que \n",
    "\n",
    "$$\n",
    "    2^1+2^2+\\dots+2^{\\ell-1} < n \\leq 2^1+2^2+\\dots+2^{\\ell}\n",
    "$$\n",
    "\n",
    "2. Exprimer $n-\\sum_{i=1}^{\\ell-1}2^i$ en binaire et ajouter des zéros. \n",
    "\n",
    "Rappelons la formule des séries géometrique:\n",
    "\n",
    "$$\n",
    "a + ar + a^2+\\dots ar^{n-1} = a\\left(\\frac{1-r^n}{1-r}\\right)\n",
    "$$\n",
    "\n",
    "Dans notre cas, $a=2,r=2,n=\\ell-1$, donc\n",
    "\n",
    "$$\n",
    "    \\sum_{i=1}^\\ell 2^i = 2\\left(\\frac{1-2^{\\ell-1}}{1-2}\\right) = 2^\\ell-2\n",
    "$$\n",
    "\n",
    "On veut alors trouver $\\ell$ tel que\n",
    "\n",
    "$$\n",
    "    2^\\ell-2 < n \\leq 2^{\\ell+1}-2\n",
    "$$\n",
    "\n",
    "c'est-à-dire, le plus petit $\\ell>0$ tel que\n",
    "\n",
    "$$\n",
    "    n+2\\leq 2^{\\ell+1}\n",
    "$$\n",
    "\n",
    "où\n",
    "\n",
    "$$\n",
    "    \\log_2(n+2)\\leq \\ell+1\n",
    "$$\n",
    "\n",
    "Alors\n",
    "\n",
    "$$\n",
    "    \\ell = \\lceil \\log_2(n+2)\\rceil-1\n",
    "$$\n",
    "\n",
    "On calcule alors $\\ell$ avec cette fonction:\n",
    "\n"
   ]
  },
  {
   "cell_type": "code",
   "execution_count": 1,
   "metadata": {},
   "outputs": [
    {
     "data": {
      "text/plain": [
       "3"
      ]
     },
     "execution_count": 1,
     "metadata": {},
     "output_type": "execute_result"
    }
   ],
   "source": [
    "from math import log2, ceil\n",
    "def compute_l(n):\n",
    "    return ceil(log2(n+2))-1\n",
    "\n",
    "# Exemple\n",
    "compute_l(7)"
   ]
  },
  {
   "cell_type": "markdown",
   "metadata": {},
   "source": [
    "Pour exprimer $n$ en binaire, on peut utiliser la méthode `bin`. Exemple:"
   ]
  },
  {
   "cell_type": "code",
   "execution_count": 2,
   "metadata": {},
   "outputs": [
    {
     "data": {
      "text/plain": [
       "'0b111'"
      ]
     },
     "execution_count": 2,
     "metadata": {},
     "output_type": "execute_result"
    }
   ],
   "source": [
    "bin(7)"
   ]
  },
  {
   "cell_type": "markdown",
   "metadata": {},
   "source": [
    "On voit que ce nous donne un string de $0$ et $1$ précédé par `0b`. Alors on écrit une fonction qui supprime le `0b` et ajoute un nombre correct des zéros:"
   ]
  },
  {
   "cell_type": "code",
   "execution_count": 3,
   "metadata": {},
   "outputs": [
    {
     "data": {
      "text/plain": [
       "['000', '001', '010', '011', '100', '101', '110', '111']"
      ]
     },
     "execution_count": 3,
     "metadata": {},
     "output_type": "execute_result"
    }
   ],
   "source": [
    "def format_binaire(n, l):\n",
    "    s = bin(n)[2:]\n",
    "    return '0'*(l-len(s))+s\n",
    "\n",
    "# Exemple\n",
    "[format_binaire(n,3) for n in range(8)]"
   ]
  },
  {
   "cell_type": "markdown",
   "metadata": {},
   "source": [
    "Enfin, on combine les deux fonctions:"
   ]
  },
  {
   "cell_type": "code",
   "execution_count": 4,
   "metadata": {},
   "outputs": [
    {
     "data": {
      "text/plain": [
       "['0',\n",
       " '1',\n",
       " '00',\n",
       " '01',\n",
       " '10',\n",
       " '11',\n",
       " '000',\n",
       " '001',\n",
       " '010',\n",
       " '011',\n",
       " '100',\n",
       " '101',\n",
       " '110',\n",
       " '111',\n",
       " '0000',\n",
       " '0001']"
      ]
     },
     "execution_count": 4,
     "metadata": {},
     "output_type": "execute_result"
    }
   ],
   "source": [
    "def enumerate_A(n):\n",
    "    l = compute_l(n)\n",
    "    n = n-2**l+1\n",
    "    return format_binaire(n, l)\n",
    "\n",
    "# Vérifier que ce donne la bonne réponse\n",
    "[enumerate_A(n) for n in range(1,17)]"
   ]
  },
  {
   "cell_type": "markdown",
   "metadata": {},
   "source": [
    "### Exercice 1b)\n",
    "<div class=\"alert alert-info\">\n",
    "**Exercice 1b)**\n",
    "\n",
    "Démontrer l’existence d’une bijection\n",
    "$$b\\colon \\mathbb{N}\\to\\mathbb{N}\\times\\mathbb{N}$$\n",
    "$$n\\mapsto (x(n),y(n))$$\n",
    "\n",
    "entre les nombre naturels $\\mathbb{N}$ et le produit cartésien $\\mathbb{N}\\times\\mathbb{N}$. Choisir\n",
    "une telle bijection $b$ et écrire un programme qui calcule $x(n)$ et\n",
    "$y(n)$.\n",
    "</div>\n",
    "\n",
    "On peut prendre une bijection qui suit le chemin \n",
    "\n",
    "$$(0,0),(0,1),(1,0),(2,0),(1,1),(0,2),(3,0),\\dots$$\n",
    "\n",
    "qui parcourt toutes les diagonales en ordre.\n",
    "\n",
    "C'est un bijection parce que:\n",
    "\n",
    "1. C'est clairement injective; on ne revisite aucun position\n",
    "\n",
    "2. C'est surjective : soit $(a,b)\\in \\mathbb N\\times\\mathbb N$, alors $(a,b)$ est in le diagonal $\\{(x,y)\\in \\mathbb N\\times\\mathbb N\\mid x+y=a+b\\}$, est ce chemin visite toutes ces diagonales en un temps fini.\n",
    "\n",
    "Dans le $k$-ième diagonal dans ce chemin il y a $k+1$ positions $(k,0),\\dots,(0,k)$. Alors, dans les premières $k-1$ diagonales il y a en total\n",
    "\n",
    "$$1+2+\\dots+k = k(k-1)/2$$\n",
    "\n",
    "positions (c'est un nombre triangulaire).\n",
    "\n",
    "Donc un nombre $n$ est dans le $k$-ième diagonale ssi\n",
    "\n",
    "$$k(k-1)/2 < n \\leq k(k+1)/2$$\n",
    "\n",
    "On peut trouver $x$ tel que $n-1 = x(x-1)/2$ et puis $k=\\lfloor x\\rfloor$. On resout :\n",
    "\n",
    "$$n-1 = x(x+1)/2 \\Leftrightarrow x = \\frac{-1\\pm \\sqrt{1+8(n-1)}}{2}$$\n",
    "\n",
    "Donc on trouve que $n$ est dans le $k$-ième diagonale avec\n",
    "\n",
    "$$k(n) = \\left\\lfloor\\frac{-1+ \\sqrt{1+8(n-1)}}{2}\\right\\rfloor$$\n",
    "\n",
    "Puis on défine $t_k = k(k+1)/2$, et alors\n",
    "\n",
    "$$x(n)=k-(n-t_k-1),\\qquad y(n)=n-t_k-1$$"
   ]
  },
  {
   "cell_type": "code",
   "execution_count": 5,
   "metadata": {},
   "outputs": [
    {
     "data": {
      "text/plain": [
       "[(0, 0), (1, 0), (0, 1), (2, 0), (1, 1), (0, 2), (3, 0), (2, 1), (1, 2)]"
      ]
     },
     "execution_count": 5,
     "metadata": {},
     "output_type": "execute_result"
    }
   ],
   "source": [
    "from math import sqrt\n",
    "def bijection(n):\n",
    "    k = int((-1+sqrt(1+8*(n-1)))/2)\n",
    "    nombre_triangulaire = k*(k+1)//2\n",
    "    i = n-nombre_triangulaire-1\n",
    "    return (k-i, i)\n",
    "\n",
    "[bijection(n) for n in range(1,10)]"
   ]
  },
  {
   "cell_type": "markdown",
   "metadata": {},
   "source": [
    "On peut aussi tracer la chemin:"
   ]
  },
  {
   "cell_type": "code",
   "execution_count": 10,
   "metadata": {},
   "outputs": [
    {
     "data": {
      "image/png": "[encoded data removed]",
      "text/plain": [
       "<Figure size 432x288 with 1 Axes>"
      ]
     },
     "metadata": {
      "needs_background": "light"
     },
     "output_type": "display_data"
    }
   ],
   "source": [
    "import matplotlib.pyplot as plt\n",
    "\n",
    "x = []\n",
    "y = []\n",
    "for n in range(1,50):\n",
    "    xn, yn = bijection(n)\n",
    "    x.append(xn)\n",
    "    y.append(yn)\n",
    "\n",
    "plt.plot(x,y,'o-');"
   ]
  },
  {
   "cell_type": "markdown",
   "metadata": {},
   "source": [
    "### Exercice 1c)\n",
    "<div class=\"alert alert-info\">\n",
    "**Exercice 1c)**\n",
    "\n",
    "Prouver que l’ensemble des suites infinies constituées de 0 et de 1\n",
    "n’est pas dénombrable (Cantor).\n",
    "</div>"
   ]
  },
  {
   "cell_type": "markdown",
   "metadata": {},
   "source": [
    "On va prouver par contradiction. Supposons qu'il existe une applicaiton surjective \n",
    "\n",
    "$$\n",
    "\\phi\\colon\\mathbb N \\to \\{0,1\\}^{\\mathbb N}\n",
    "$$\n",
    "\n",
    "Dénotons $\\phi(n)_k$ la $k$-ième entrée de la suite $\\phi(n)$. On défine la suite $t$ par $t_k = 1-\\phi(k)_k$. Cette suite est differente de $\\phi(n)$ pour chaque $n$, donc $t$ n'est pas dans l'image de $\\phi$ et on trouve un contradiction. Alors $\\mathbb N$ n'est pas dénombrable. "
   ]
  },
  {
   "cell_type": "markdown",
   "metadata": {},
   "source": [
    "## Exerice 2\n",
    "\n",
    "### Exercice 2a)\n",
    "\n",
    "<div class=\"alert alert-info\">\n",
    "**Exercice 2a)**\n",
    "\n",
    "Soit $\\Omega$ un ensemble et $A$, $B$ des sous-ensembles de $\\Omega$. Exprimer la\n",
    "fonction caractéristique $1_{A\\cup B}$ de $A\\cup B$ en fonction de $1_A$ et $1_B$.\n",
    "Indication : considérer $(1_\\Omega − 1_A)(1_\\Omega − 1_B )$.\n",
    "</div>\n",
    "\n",
    "On commence avec quelques propriétés des fonctions caractéristiques. On a clairement\n",
    "\n",
    "$$\n",
    "1_{\\Omega}= 1\n",
    "$$\n",
    "\n",
    "De plus, on a que\n",
    "\n",
    "$$\n",
    "1_A1_B = 1_{A\\cap B}\n",
    "$$\n",
    "\n",
    "Parce que $1_A(x)$ ssi $x\\in A$, donc le produit $1_A(x)1_B(x)$ est égal à 1 ssi $x\\in A$ et $x\\in B$, c'est-à-dire $x\\in A\\cap B$. \n",
    "\n",
    "Nous avons d'une part\n",
    "\n",
    "$$\n",
    "\\begin{align}\n",
    "(1_\\Omega-1_A)(1_\\Omega-1_B) &= 1_\\Omega^2-1_\\Omega1_B+1_A1_\\Omega-1_A1_B\\\\ &= 1-1_B-1_A+1_A1_B\n",
    "\\end{align}\n",
    "$$\n",
    "\n",
    "Et d'autre part\n",
    "\n",
    "$$\n",
    "\\begin{align}\n",
    "(1_\\Omega-1_A)(1_\\Omega-1_B) &= 1_{\\Omega\\setminus A}1_{\\Omega\\setminus B} = 1_{(\\Omega\\setminus A)\\cap(\\Omega\\setminus B)}\\\\\n",
    "&=1_{\\Omega\\setminus(A\\cup B)}=1-1_{A\\cup B}\n",
    "\\end{align}\n",
    "$$\n",
    "\n",
    "On trouve alors que\n",
    "\n",
    "$$\n",
    "    1_{A\\cup B} = 1_A+1_B-1_{A\\cap B}.\n",
    "$$"
   ]
  },
  {
   "cell_type": "markdown",
   "metadata": {},
   "source": [
    "### Exercice 2b)\n",
    "\n",
    "<div class=\"alert alert-info\">\n",
    "**Exercice 2b)**\n",
    "\n",
    "Soit $(\\Omega, \\mathcal F , P)$ un espace probabilisé. Soit $A, B \\in \\mathcal F$. Prouver que\n",
    "$P(A \\cup B) = P (A) + P (B) − P (A \\cap B)$.\n",
    "</div>\n",
    "\n",
    "\n",
    "Rappelons que si $A$ et $B$ sont disjoints, alors $P(A\\cup B)=P(A)+P(B)$.\n",
    "\n",
    "On a que $(A\\cup B)$ est une union disjointe de $A$ et $B\\setminus (A\\cap B)$, alors\n",
    "\n",
    "$$\n",
    "    P(A\\cup B) = P(A)+P(B\\setminus (A\\cap B))\n",
    "$$\n",
    "\n",
    "De plus, $B$ est une union disjointe de $A\\cap B$ et $B\\setminus (A\\cap B)$, donc\n",
    "\n",
    "$$\n",
    "    P(B) = P(B\\setminus (A\\cap B))+P(A\\cap B)\n",
    "$$\n",
    "\n",
    "alors\n",
    "\n",
    "$$\n",
    "    P(A\\cup B) = P(A)+P(B)-P(A\\cap B)\n",
    "$$"
   ]
  },
  {
   "cell_type": "markdown",
   "metadata": {},
   "source": [
    "## Exercice 3\n",
    "### Exercice 3a)\n",
    "\n",
    "<div class=\"alert alert-info\">\n",
    "**Exercice 3a)**\n",
    "\n",
    "On lance deux pièces de monnaie. Quelle est la probabilité d’obtenir ni deux faces ni deux piles ?\n",
    "</div>"
   ]
  },
  {
   "cell_type": "markdown",
   "metadata": {},
   "source": [
    "Pour chaque pièce de monnaie on a deux résultats possibles, face ($F$) ou pile ($P$). On lance deux pièces, on a alors comme résultats possibles:\n",
    "\n",
    "$$\n",
    "\\Omega = \\{\\{F,F\\},\\{F,P\\},\\{P,F\\},\\{P,P\\}\\}\n",
    "$$\n",
    "\n",
    "On utilise la tribu maximale, avec probabilité uniforme. L'événement de obtenir ni deux faces ni deux piles est\n",
    "\n",
    "$$\n",
    "A = \\{\\{F,P\\},\\{P,F\\}\\}\n",
    "$$\n",
    "\n",
    "La probabilité de cet événement est\n",
    "\n",
    "$$\n",
    "P(A) = |A|/|\\Omega| = 2 / 4 = 1/2\n",
    "$$"
   ]
  },
  {
   "cell_type": "markdown",
   "metadata": {},
   "source": [
    "### Exercice 3b)\n",
    "\n",
    "<div class=\"alert alert-info\">\n",
    "**Exercice 3b)**\n",
    "\n",
    "On lance 6 dés. Quelle est la probabilité que l’on obtienne 6 faces\n",
    "différentes ?\n",
    "</div>\n",
    "\n",
    "Pour chaque dé on a comme possibilités $\\{1,\\dots,6\\}$ et car on lance 6 dés on a \n",
    "\n",
    "$$\n",
    "    \\Omega = \\{1,\\dots,6\\}^6\n",
    "$$\n",
    "\n",
    "Tous les possibilités sont équiprobable, donc on utilise la tribu maximale, et mesure de probabilité uniforme. La cardinalité de $\\Omega$ est $6^6 = 46656$\n",
    "\n",
    "Nous sommes intéressés par l'événement\n",
    "\n",
    "$$\n",
    "A = \\{(x_1,\\dots,x_6)\\mid x_i\\in \\{1,\\dots,6\\}, \\, x_i\\neq x_j\\,\\text{si } i\\neq j\\}\\subset \\Omega\n",
    "$$\n",
    "\n",
    "Nous pouvons intepréter les suites contenu dans $A$ comme applications injectives $\\{1,\\dots,6\\}\\to \\{1,\\dots,6\\}$, c'est-à-dire des permutations. Il y a $6! = 720$ telle suites. Alors,\n",
    "\n",
    "$$\n",
    "P(A) = |A|/|\\Omega| = 6!/6^6 \\simeq 0.0154\n",
    "$$"
   ]
  },
  {
   "cell_type": "markdown",
   "metadata": {},
   "source": [
    "On va confirmer ce resultat avec un simulation. On peut générer beaucoup des nombres aléatoires appartenant à $\\{1,\\dots,6\\}$ avec `numpy.random.randint`. On va faire un simulation avec $10^6$ fois $6$ lances de dés, et on compte les fois où il y a 6 faces différentes."
   ]
  },
  {
   "cell_type": "code",
   "execution_count": 7,
   "metadata": {},
   "outputs": [
    {
     "name": "stdout",
     "output_type": "stream",
     "text": [
      "nombre de fois de 6 faces différentes 15355/1000000=0.01536\n"
     ]
    }
   ],
   "source": [
    "import numpy as np\n",
    "\n",
    "num_tries = 1000000\n",
    "\n",
    "simulation = np.random.randint(1,7,size=(num_tries,6))\n",
    "num_all_different = 0\n",
    "\n",
    "for row in simulation:\n",
    "    if len(set(row)) == 6: # tous faces différentes\n",
    "        num_all_different += 1\n",
    "\n",
    "print(f\"nombre de fois de 6 faces différentes {num_all_different}/{num_tries}={num_all_different/num_tries:.5f}\")"
   ]
  },
  {
   "cell_type": "markdown",
   "metadata": {},
   "source": [
    "### Exercice 3c)\n",
    "\n",
    "<div class=\"alert alert-info\">\n",
    "**Exercice 3c**\n",
    "\n",
    "On lance 15 fois un dé. Quelle est la probabilité d’obtenir 8 fois\n",
    "le chiffre 1 ?\n",
    "</div>"
   ]
  },
  {
   "cell_type": "markdown",
   "metadata": {},
   "source": [
    "On a \n",
    "\n",
    "$$\n",
    "    \\Omega = \\{1,\\dots,6\\}^{15}\n",
    "$$\n",
    "\n",
    "avec la tribu maximale et mesure de probabilité uniforme. Considerons l'événement \n",
    "\n",
    "$$\n",
    "A=\\{(x_1,\\dots,x_{15})\\in \\Omega\\mid \\#\\{x_i=1\\}=8 \\}\n",
    "$$\n",
    "\n",
    "On doit compter la nombre d'éléments de $A$. D'abbord nous devons choisir les $8$ positiosn d'où $x_i=1$, et il y a $$\\binom{15}{8} = 15!/(8!7!)=6435$$ tel choix. Après choisir les positions où $x_i=1$, il reste $7$ positions où on peut choisir libre un face appartenant à $\\{2,\\dots,6\\}$, et il y a $5^7 = 78125$ choix possibles. On a alors que \n",
    "\n",
    "$$\n",
    "|A| = \\binom{15}{8}5^7 = 502734375\n",
    "$$\n",
    "\n",
    "Donc,\n",
    "\n",
    "$$\n",
    "P(A) = |A|/|\\Omega| = \\binom{15}{8}\\frac{5^7}{6^{15}} \\simeq 0.00107\n",
    "$$"
   ]
  },
  {
   "cell_type": "markdown",
   "metadata": {},
   "source": [
    "On peut encore faire un simulation."
   ]
  },
  {
   "cell_type": "code",
   "execution_count": 8,
   "metadata": {},
   "outputs": [
    {
     "name": "stdout",
     "output_type": "stream",
     "text": [
      "nombre de fois de 6 faces différentes 1063/1000000=0.00106\n"
     ]
    }
   ],
   "source": [
    "import numpy as np\n",
    "\n",
    "num_tries = 1000000\n",
    "\n",
    "simulation = np.random.randint(1,7,size=(num_tries,15))\n",
    "num_8_one = 0\n",
    "\n",
    "for row in simulation:\n",
    "    num_one = 0 \n",
    "    for i in row:\n",
    "        if i==1:\n",
    "            num_one+=1\n",
    "    if num_one==8:\n",
    "        num_8_one+=1\n",
    "        \n",
    "# Méthode plus éfficient:\n",
    "# num_8_one = np.sum(np.sum(simulation==1,axis=1)==8)\n",
    "\n",
    "print(f\"nombre de fois de 6 faces différentes {num_8_one}/{num_tries}={num_8_one/num_tries:.5f}\")"
   ]
  },
  {
   "cell_type": "markdown",
   "metadata": {},
   "source": [
    "### Exercice 3d)\n",
    "\n",
    "<div class=\"alert alert-info\">\n",
    "**Exercice 3d)**\n",
    "\n",
    "On lance 100 fois une pièce, quelle est la probabilité d’obtenir 2\n",
    "faces ? 50 faces ? 98 faces ?\n",
    "</div>"
   ]
  },
  {
   "cell_type": "markdown",
   "metadata": {},
   "source": [
    "Dans ce cas on prend\n",
    "\n",
    "$$\n",
    "    \\Omega = \\{P,F\\}^{100}\n",
    "$$\n",
    "\n",
    "avec la tribu maximale et mesure de probabilité uniforme. Définisons l'événement $A_k$ d'obtenir $k$ faces:\n",
    "\n",
    "$$\n",
    "    A_k = \\{(x_1,\\dots,x_{100})\\in \\Omega\\mid \\#\\{x_i=F\\}=k\\}\n",
    "$$\n",
    "\n",
    "Pour enumerer les éléments de $A_k$ on doit seulement décider dans quels $k$ positions il y a un $F$. Les autre $100-k$ positions sont automatiquement $P$. Il y a \n",
    "\n",
    "$$\n",
    "\\binom{100}{k}=\\frac{100!}{k!(100-k)!}\n",
    "$$\n",
    "\n",
    "tels choix. Alors on trouve que\n",
    "\n",
    "$$\n",
    "    P(A_k) = |A_k|/|\\Omega| = \\binom{100}{k}\\frac1{2^{100}}\n",
    "$$\n",
    "\n",
    "Dans les cas $k=2,50,98$ on trouve\n",
    "\n",
    "$$\n",
    "\\begin{align}\n",
    "    P(A_2) &= \\binom{100}{2}\\frac1{2^{100}} \\simeq 3.90\\times 10^{-27}\\\\\n",
    "    P(A_{50}) &= \\binom{100}{5}\\frac1{2^{100}} \\simeq 0.0796\\\\\n",
    "    P(A_{98}) &= \\binom{100}{98}\\frac1{2^{100}}\\simeq 3.90\\times 10^{-27}\n",
    "\\end{align}\n",
    "$$\n",
    "\n",
    "On peut faire un simulation. Nous ne prévoyons pas de obtenir un cas avec 2 ou 98 faces, mais 50 faces est assez probable. "
   ]
  },
  {
   "cell_type": "code",
   "execution_count": 9,
   "metadata": {},
   "outputs": [
    {
     "data": {
      "image/png": "[encoded data removed]",
      "text/plain": [
       "<Figure size 432x288 with 1 Axes>"
      ]
     },
     "metadata": {
      "needs_background": "light"
     },
     "output_type": "display_data"
    }
   ],
   "source": [
    "import numpy as np\n",
    "import seaborn as sns\n",
    "\n",
    "num_tries = 100000\n",
    "simulation = np.random.randint(0,2,size=(num_tries,100))\n",
    "\n",
    "num_faces = np.sum(simulation,axis=1)\n",
    "sns.distplot(num_faces,bins=20);"
   ]
  },
  {
   "cell_type": "markdown",
   "metadata": {},
   "source": [
    "## Exercice 4\n",
    "\n",
    "<div class=\"alert alert-info\">\n",
    "**Exercice 4)**\n",
    "\n",
    "Dans une cantine on propose deux desserts à chaque repas. La\n",
    "probabilité que l’un des deux desserts soit un yaourt est 0,4. La\n",
    "probabilité que l’un des deux desserts soit une orange est 0,8. La\n",
    "probabilité d’obtenir un yaourt et une orange est 0,3. Calculer la\n",
    "probabilité que l’on propose :\n",
    "</div>\n",
    "\n",
    "### Exercice 4a)\n",
    "<div class=\"alert alert-info\">\n",
    "**Exercice 4a)**\n",
    "\n",
    "un yaourt et pas d’orange\n",
    "</div>\n",
    "\n",
    "Denotons l'événement que un des deux desserts soit un yaourt par $Y$, et une orange par $O$. L'information donnée est donc\n",
    "\n",
    "$$\n",
    "P(Y)=0.4,\\quad P(O)=0.8,\\quad P(Y\\cap O)=0.3\n",
    "$$\n",
    "\n",
    "Dans ce question on doit calculer $P(Y\\setminus O)$. On a que $Y = (Y\\setminus O) \\cup (Y\\cap O)$ comme union disjoint, alors\n",
    "\n",
    "$$P(Y) = P(Y\\setminus O)+P(Y\\cap O)$$\n",
    "\n",
    "Et on trouve\n",
    "\n",
    "$$\n",
    "    P(Y\\setminus O) = P(Y)-P(Y\\cap O) = 0.4-0.3 = 0.1\n",
    "$$"
   ]
  },
  {
   "cell_type": "markdown",
   "metadata": {},
   "source": [
    "### Exercice 4b)\n",
    "\n",
    "<div class=\"alert alert-info\">\n",
    "**Exercice 4b)**\n",
    "\n",
    "une orange et pas de yaourt\n",
    "</div>\n",
    "\n",
    "On doit calculer $P(O\\setminus Y)$. Comme avant,\n",
    "\n",
    "$$\n",
    "P(O\\setminus Y) = P(O)-P(Y\\cap O) = 0.8-0.3 = 0.5\n",
    "$$"
   ]
  },
  {
   "cell_type": "markdown",
   "metadata": {},
   "source": [
    "### Exercice 4c)\n",
    "<div class=\"alert alert-info\">\n",
    "**Exercice 4c)**\n",
    "\n",
    "ni orange ni yaourt\n",
    "</div>\n",
    "\n",
    "On doit calculer $P(O^c\\cup Y^c)=P((O\\cap Y)^c)$, ou $A^c=\\Omega\\setminus A$ denote l'ensemble complementaire. Par ce que $\\Omega=A\\cup A^c$ comme union disjoint, on a que $P(A^c) = 1-P(A)$. Donc,\n",
    "\n",
    "$$\n",
    "P((O\\cap Y)^c) = 1- P(O\\cap Y) = 0.7\n",
    "$$"
   ]
  }
 ],
 "metadata": {
  "kernelspec": {
   "display_name": "Python 3",
   "language": "python",
   "name": "python3"
  },
  "language_info": {
   "codemirror_mode": {
    "name": "ipython",
    "version": 3
   },
   "file_extension": ".py",
   "mimetype": "text/x-python",
   "name": "python",
   "nbconvert_exporter": "python",
   "pygments_lexer": "ipython3",
   "version": "3.7.4"
  }
 },
 "nbformat": 4,
 "nbformat_minor": 4
}
