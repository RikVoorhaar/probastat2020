{
 "cells": [
  {
   "cell_type": "markdown",
   "metadata": {},
   "source": [
    "[![Open in Colab](https://colab.research.google.com/assets/colab-badge.svg)](https://colab.research.google.com/github/RikVoorhaar/probastat2020/blob/master/notebooks/programmation1.ipynb?hl=fr)"
   ]
  },
  {
   "cell_type": "markdown",
   "metadata": {},
   "source": [
    "# Série de programmation 1\n"
   ]
  },
  {
   "cell_type": "markdown",
   "metadata": {},
   "source": [
    "## Instructions générales"
   ]
  },
  {
   "cell_type": "markdown",
   "metadata": {},
   "source": [
    "On va utiliser les librairies suivantes. __Evaluer la cellule ci-dessous__ pour l'importer toutes les librairies."
   ]
  },
  {
   "cell_type": "code",
   "execution_count": 1,
   "metadata": {},
   "outputs": [],
   "source": [
    "import numpy as np\n",
    "import matplotlib.pyplot as plt\n",
    "import seaborn as sns\n",
    "import scipy"
   ]
  },
  {
   "cell_type": "markdown",
   "metadata": {},
   "source": [
    "Si une des librairies n'est pas installée, la cellule ci-dessus donne un `ModuleNotFoundError`. Dans ce cas vous pouvez les installer avec la ligne de commande :\n",
    "\n",
    "    \n",
    "```bash\n",
    "    pip install <logiciel>\n",
    "```\n",
    "\n",
    "Si vous utilisez Google Colab ou vous venez d'installer Annaconda, toutes les librairies devraient être déja installées."
   ]
  },
  {
   "cell_type": "markdown",
   "metadata": {},
   "source": [
    "__Informations importants pour les exercises__  \n",
    "\n",
    "* Les solutions des exercices ne font pas plus de 4 lignes. Réévaluer votre réponse s'il est beaucoup plus loin.  \n",
    "* Redémarrer l'environment d'exécution (anglais : 'kernel') de temps en temps.\n",
    "\n",
    "* Tous les exercises ont des tests automatiques. Si vous évaluer les tests et ils ne donnent pas d'erreurs, votre réponse est probablement correct.  \n",
    "\n",
    "* Avant de remettre votre fichier, __redémarrer l'environment d'exécution et exécuter tous la code__. Vérifier que aucun teste donne une erreur."
   ]
  },
  {
   "cell_type": "markdown",
   "metadata": {},
   "source": [
    "## Partie 1: Introduction à numpy\n",
    "\n",
    "Python est un langage interprété, ce qui le rend facile à programmer. Un désavantage est que Python est plus lent que d'autres langages comme C/C++ et Java. La différence particulièrement importante pour des boucles. C'est souvent le cas quand on veut faire des calculs avec des vecteurs ou des matrices (ou des tenseurs). Dans ces cas on peut utiliser des libraires numeriques qui sont basé sur code efficient écrit en C. \n",
    "\n",
    "Par exemple on calcule la moyenne d'un million de nombres aléatoires réparti uniformément sur l'intervalle [0,1) avec de la code de Python de base et en utilisant `numpy`."
   ]
  },
  {
   "cell_type": "code",
   "execution_count": 2,
   "metadata": {},
   "outputs": [
    {
     "output_type": "stream",
     "name": "stdout",
     "text": [
      "CPU times: user 137 ms, sys: 0 ns, total: 137 ms\nWall time: 137 ms\n"
     ]
    },
    {
     "output_type": "execute_result",
     "data": {
      "text/plain": [
       "0.500292815490113"
      ]
     },
     "metadata": {},
     "execution_count": 2
    }
   ],
   "source": [
    "%%time\n",
    "import random\n",
    "N = 1000000\n",
    "s = 0\n",
    "for i in range(N):\n",
    "    s += random.random()\n",
    "s = s / N\n",
    "s"
   ]
  },
  {
   "cell_type": "code",
   "execution_count": 3,
   "metadata": {},
   "outputs": [
    {
     "output_type": "stream",
     "name": "stdout",
     "text": [
      "CPU times: user 4.98 ms, sys: 3.02 ms, total: 8 ms\nWall time: 7.38 ms\n"
     ]
    },
    {
     "output_type": "execute_result",
     "data": {
      "text/plain": [
       "0.5001587085569584"
      ]
     },
     "metadata": {},
     "execution_count": 3
    }
   ],
   "source": [
    "%%time\n",
    "N = 1000000\n",
    "np.mean(np.random.random(size=N))"
   ]
  },
  {
   "cell_type": "markdown",
   "metadata": {},
   "source": [
    "Entre la code Python de base et la code `numpy` il y a un facteur 10 entre les vitesses. Dans ce cas on peut faire encore un dizaine fois d'amélioration par parallélisation, mais cela sort du cadre du cours. Si vous êtes intéressé par la parallélisation en Python, c'est assez facile en utilisant [Numba](https://numba.pydata.org/) ou [Cython](https://cython.org/).\n",
    "\n",
    "On arrive alors à la règle de base pour ce séries:\n",
    "\n",
    "_____\n",
    ">**Règle de base**   \n",
    ">_Il est interdit d'utilliser les boucles_ `for` _et_ `while`  \n",
    "\n",
    "_____"
   ]
  },
  {
   "cell_type": "markdown",
   "metadata": {},
   "source": [
    "### Exercice 1a)\n",
    "\n",
    "On peut calculer les sommes de tous les colonnes (premier axe) d'une matrice comme ça:"
   ]
  },
  {
   "cell_type": "code",
   "execution_count": 4,
   "metadata": {},
   "outputs": [
    {
     "output_type": "execute_result",
     "data": {
      "text/plain": [
       "array([ 0.06716459,  2.6965451 ,  0.37879613,  5.8154886 , -3.35450221,\n",
       "        0.73545801, -0.47835095, -0.00911386,  1.84349309,  3.05242514])"
      ]
     },
     "metadata": {},
     "execution_count": 4
    }
   ],
   "source": [
    "np.random.seed(179) # Fixer la graine aléatoire, ne le changez pas !\n",
    "A = np.random.normal(size=(8,10))\n",
    "\n",
    "np.sum(A, axis=0)"
   ]
  },
  {
   "cell_type": "markdown",
   "metadata": {},
   "source": [
    "_____\n",
    "> __Exercice 1a)__  \n",
    "> Calculer les moyennes des lignes de cette matrice `A` et stocker le résultat dans une variable qui est appelée `moyennes`\n",
    "\n",
    "_____"
   ]
  },
  {
   "cell_type": "code",
   "execution_count": null,
   "metadata": {
    "deletable": false,
    "nbgrader": {
     "cell_type": "code",
     "checksum": "fd8d14131975d6deac66cd9992af5fa6",
     "grade": true,
     "grade_id": "cell-e4440a1228e91729",
     "locked": false,
     "points": 0,
     "schema_version": 3,
     "solution": true,
     "task": false
    }
   },
   "outputs": [],
   "source": [
    "# INSÉREZ VOTRE CODE ICI\n"
   ]
  },
  {
   "cell_type": "code",
   "execution_count": null,
   "metadata": {
    "deletable": false,
    "editable": false,
    "nbgrader": {
     "cell_type": "code",
     "checksum": "415f02ddb8d8c17188b0d8b1d58abca2",
     "grade": true,
     "grade_id": "cell-abf8a1dfedcada9e",
     "locked": true,
     "points": 1,
     "schema_version": 3,
     "solution": false,
     "task": false
    }
   },
   "outputs": [],
   "source": [
    "### TESTES AUTOMATIQUES\n",
    "try:\n",
    "    moyennes\n",
    "except NameError:\n",
    "    raise AssertionError(\"Stocker le résultat dans une variable qui est appelée `moyennes`\")\n",
    "assert type(moyennes)==np.ndarray, \"Le resultat n'est pas un numpy array\"\n",
    "assert moyennes.shape == (8,), \"Vérifier que vous avez utilisé l'axe correct\" \n",
    "assert np.sum(moyennes) < 2, \"Vérifier que vous calculer la moyenne (pas la somme)\"\n",
    "assert abs(0.051629-moyennes[0])<1e-4, \"Vérifier que vous avez utilisé l'axe correct\" "
   ]
  },
  {
   "cell_type": "markdown",
   "metadata": {},
   "source": [
    "### Exercice 1b)\n",
    "\n",
    "Si on applique des fonctions comme $\\exp$ ou $\\cos$ à un array, le résultat est un array de même forme. Par exemple on peut calculer les points $(\\cos(t),\\sin(t))$ pour 100 valeurs $t\\in [0,2\\pi)$ comme ça :"
   ]
  },
  {
   "cell_type": "code",
   "execution_count": 5,
   "metadata": {},
   "outputs": [
    {
     "output_type": "display_data",
     "data": {
      "text/plain": "<Figure size 432x288 with 1 Axes>",
      "image/svg+xml": "<?xml version=\"1.0\" encoding=\"utf-8\" standalone=\"no\"?>\n<!DOCTYPE svg PUBLIC \"-//W3C//DTD SVG 1.1//EN\"\n  \"http://www.w3.org/Graphics/SVG/1.1/DTD/svg11.dtd\">\n<!-- Created with matplotlib (https://matplotlib.org/) -->\n<svg height=\"248.518125pt\" version=\"1.1\" viewBox=\"0 0 386.845313 248.518125\" width=\"386.845313pt\" xmlns=\"http://www.w3.org/2000/svg\" xmlns:xlink=\"http://www.w3.org/1999/xlink\">\n <metadata>\n  <rdf:RDF xmlns:cc=\"http://creativecommons.org/ns#\" xmlns:dc=\"http://purl.org/dc/elements/1.1/\" xmlns:rdf=\"http://www.w3.org/1999/02/22-rdf-syntax-ns#\">\n   <cc:Work>\n    <dc:type rdf:resource=\"http://purl.org/dc/dcmitype/StillImage\"/>\n    <dc:date>2020-10-13T19:51:16.388332</dc:date>\n    <dc:format>image/svg+xml</dc:format>\n    <dc:creator>\n     <cc:Agent>\n      <dc:title>Matplotlib v3.3.1, https://matplotlib.org/</dc:title>\n     </cc:Agent>\n    </dc:creator>\n   </cc:Work>\n  </rdf:RDF>\n </metadata>\n <defs>\n  <style type=\"text/css\">*{stroke-linecap:butt;stroke-linejoin:round;}</style>\n </defs>\n <g id=\"figure_1\">\n  <g id=\"patch_1\">\n   <path d=\"M 0 248.518125 \nL 386.845313 248.518125 \nL 386.845313 0 \nL 0 0 \nz\n\" style=\"fill:none;\"/>\n  </g>\n  <g id=\"axes_1\">\n   <g id=\"patch_2\">\n    <path d=\"M 44.845313 224.64 \nL 379.645313 224.64 \nL 379.645313 7.2 \nL 44.845313 7.2 \nz\n\" style=\"fill:#ffffff;\"/>\n   </g>\n   <g id=\"matplotlib.axis_1\">\n    <g id=\"xtick_1\">\n     <g id=\"line2d_1\">\n      <defs>\n       <path d=\"M 0 0 \nL 0 3.5 \n\" id=\"m46aa6c2c37\" style=\"stroke:#000000;stroke-width:0.8;\"/>\n      </defs>\n      <g>\n       <use style=\"stroke:#000000;stroke-width:0.8;\" x=\"59.986858\" xlink:href=\"#m46aa6c2c37\" y=\"224.64\"/>\n      </g>\n     </g>\n     <g id=\"text_1\">\n      <!-- −1.00 -->\n      <g transform=\"translate(44.664202 239.238437)scale(0.1 -0.1)\">\n       <defs>\n        <path d=\"M 10.59375 35.5 \nL 73.1875 35.5 \nL 73.1875 27.203125 \nL 10.59375 27.203125 \nz\n\" id=\"DejaVuSans-8722\"/>\n        <path d=\"M 12.40625 8.296875 \nL 28.515625 8.296875 \nL 28.515625 63.921875 \nL 10.984375 60.40625 \nL 10.984375 69.390625 \nL 28.421875 72.90625 \nL 38.28125 72.90625 \nL 38.28125 8.296875 \nL 54.390625 8.296875 \nL 54.390625 0 \nL 12.40625 0 \nz\n\" id=\"DejaVuSans-49\"/>\n        <path d=\"M 10.6875 12.40625 \nL 21 12.40625 \nL 21 0 \nL 10.6875 0 \nz\n\" id=\"DejaVuSans-46\"/>\n        <path d=\"M 31.78125 66.40625 \nQ 24.171875 66.40625 20.328125 58.90625 \nQ 16.5 51.421875 16.5 36.375 \nQ 16.5 21.390625 20.328125 13.890625 \nQ 24.171875 6.390625 31.78125 6.390625 \nQ 39.453125 6.390625 43.28125 13.890625 \nQ 47.125 21.390625 47.125 36.375 \nQ 47.125 51.421875 43.28125 58.90625 \nQ 39.453125 66.40625 31.78125 66.40625 \nz\nM 31.78125 74.21875 \nQ 44.046875 74.21875 50.515625 64.515625 \nQ 56.984375 54.828125 56.984375 36.375 \nQ 56.984375 17.96875 50.515625 8.265625 \nQ 44.046875 -1.421875 31.78125 -1.421875 \nQ 19.53125 -1.421875 13.0625 8.265625 \nQ 6.59375 17.96875 6.59375 36.375 \nQ 6.59375 54.828125 13.0625 64.515625 \nQ 19.53125 74.21875 31.78125 74.21875 \nz\n\" id=\"DejaVuSans-48\"/>\n       </defs>\n       <use xlink:href=\"#DejaVuSans-8722\"/>\n       <use x=\"83.789062\" xlink:href=\"#DejaVuSans-49\"/>\n       <use x=\"147.412109\" xlink:href=\"#DejaVuSans-46\"/>\n       <use x=\"179.199219\" xlink:href=\"#DejaVuSans-48\"/>\n       <use x=\"242.822266\" xlink:href=\"#DejaVuSans-48\"/>\n      </g>\n     </g>\n    </g>\n    <g id=\"xtick_2\">\n     <g id=\"line2d_2\">\n      <g>\n       <use style=\"stroke:#000000;stroke-width:0.8;\" x=\"98.041892\" xlink:href=\"#m46aa6c2c37\" y=\"224.64\"/>\n      </g>\n     </g>\n     <g id=\"text_2\">\n      <!-- −0.75 -->\n      <g transform=\"translate(82.719236 239.238437)scale(0.1 -0.1)\">\n       <defs>\n        <path d=\"M 8.203125 72.90625 \nL 55.078125 72.90625 \nL 55.078125 68.703125 \nL 28.609375 0 \nL 18.3125 0 \nL 43.21875 64.59375 \nL 8.203125 64.59375 \nz\n\" id=\"DejaVuSans-55\"/>\n        <path d=\"M 10.796875 72.90625 \nL 49.515625 72.90625 \nL 49.515625 64.59375 \nL 19.828125 64.59375 \nL 19.828125 46.734375 \nQ 21.96875 47.46875 24.109375 47.828125 \nQ 26.265625 48.1875 28.421875 48.1875 \nQ 40.625 48.1875 47.75 41.5 \nQ 54.890625 34.8125 54.890625 23.390625 \nQ 54.890625 11.625 47.5625 5.09375 \nQ 40.234375 -1.421875 26.90625 -1.421875 \nQ 22.3125 -1.421875 17.546875 -0.640625 \nQ 12.796875 0.140625 7.71875 1.703125 \nL 7.71875 11.625 \nQ 12.109375 9.234375 16.796875 8.0625 \nQ 21.484375 6.890625 26.703125 6.890625 \nQ 35.15625 6.890625 40.078125 11.328125 \nQ 45.015625 15.765625 45.015625 23.390625 \nQ 45.015625 31 40.078125 35.4375 \nQ 35.15625 39.890625 26.703125 39.890625 \nQ 22.75 39.890625 18.8125 39.015625 \nQ 14.890625 38.140625 10.796875 36.28125 \nz\n\" id=\"DejaVuSans-53\"/>\n       </defs>\n       <use xlink:href=\"#DejaVuSans-8722\"/>\n       <use x=\"83.789062\" xlink:href=\"#DejaVuSans-48\"/>\n       <use x=\"147.412109\" xlink:href=\"#DejaVuSans-46\"/>\n       <use x=\"179.199219\" xlink:href=\"#DejaVuSans-55\"/>\n       <use x=\"242.822266\" xlink:href=\"#DejaVuSans-53\"/>\n      </g>\n     </g>\n    </g>\n    <g id=\"xtick_3\">\n     <g id=\"line2d_3\">\n      <g>\n       <use style=\"stroke:#000000;stroke-width:0.8;\" x=\"136.096926\" xlink:href=\"#m46aa6c2c37\" y=\"224.64\"/>\n      </g>\n     </g>\n     <g id=\"text_3\">\n      <!-- −0.50 -->\n      <g transform=\"translate(120.77427 239.238437)scale(0.1 -0.1)\">\n       <use xlink:href=\"#DejaVuSans-8722\"/>\n       <use x=\"83.789062\" xlink:href=\"#DejaVuSans-48\"/>\n       <use x=\"147.412109\" xlink:href=\"#DejaVuSans-46\"/>\n       <use x=\"179.199219\" xlink:href=\"#DejaVuSans-53\"/>\n       <use x=\"242.822266\" xlink:href=\"#DejaVuSans-48\"/>\n      </g>\n     </g>\n    </g>\n    <g id=\"xtick_4\">\n     <g id=\"line2d_4\">\n      <g>\n       <use style=\"stroke:#000000;stroke-width:0.8;\" x=\"174.15196\" xlink:href=\"#m46aa6c2c37\" y=\"224.64\"/>\n      </g>\n     </g>\n     <g id=\"text_4\">\n      <!-- −0.25 -->\n      <g transform=\"translate(158.829304 239.238437)scale(0.1 -0.1)\">\n       <defs>\n        <path d=\"M 19.1875 8.296875 \nL 53.609375 8.296875 \nL 53.609375 0 \nL 7.328125 0 \nL 7.328125 8.296875 \nQ 12.9375 14.109375 22.625 23.890625 \nQ 32.328125 33.6875 34.8125 36.53125 \nQ 39.546875 41.84375 41.421875 45.53125 \nQ 43.3125 49.21875 43.3125 52.78125 \nQ 43.3125 58.59375 39.234375 62.25 \nQ 35.15625 65.921875 28.609375 65.921875 \nQ 23.96875 65.921875 18.8125 64.3125 \nQ 13.671875 62.703125 7.8125 59.421875 \nL 7.8125 69.390625 \nQ 13.765625 71.78125 18.9375 73 \nQ 24.125 74.21875 28.421875 74.21875 \nQ 39.75 74.21875 46.484375 68.546875 \nQ 53.21875 62.890625 53.21875 53.421875 \nQ 53.21875 48.921875 51.53125 44.890625 \nQ 49.859375 40.875 45.40625 35.40625 \nQ 44.1875 33.984375 37.640625 27.21875 \nQ 31.109375 20.453125 19.1875 8.296875 \nz\n\" id=\"DejaVuSans-50\"/>\n       </defs>\n       <use xlink:href=\"#DejaVuSans-8722\"/>\n       <use x=\"83.789062\" xlink:href=\"#DejaVuSans-48\"/>\n       <use x=\"147.412109\" xlink:href=\"#DejaVuSans-46\"/>\n       <use x=\"179.199219\" xlink:href=\"#DejaVuSans-50\"/>\n       <use x=\"242.822266\" xlink:href=\"#DejaVuSans-53\"/>\n      </g>\n     </g>\n    </g>\n    <g id=\"xtick_5\">\n     <g id=\"line2d_5\">\n      <g>\n       <use style=\"stroke:#000000;stroke-width:0.8;\" x=\"212.206994\" xlink:href=\"#m46aa6c2c37\" y=\"224.64\"/>\n      </g>\n     </g>\n     <g id=\"text_5\">\n      <!-- 0.00 -->\n      <g transform=\"translate(201.074182 239.238437)scale(0.1 -0.1)\">\n       <use xlink:href=\"#DejaVuSans-48\"/>\n       <use x=\"63.623047\" xlink:href=\"#DejaVuSans-46\"/>\n       <use x=\"95.410156\" xlink:href=\"#DejaVuSans-48\"/>\n       <use x=\"159.033203\" xlink:href=\"#DejaVuSans-48\"/>\n      </g>\n     </g>\n    </g>\n    <g id=\"xtick_6\">\n     <g id=\"line2d_6\">\n      <g>\n       <use style=\"stroke:#000000;stroke-width:0.8;\" x=\"250.262028\" xlink:href=\"#m46aa6c2c37\" y=\"224.64\"/>\n      </g>\n     </g>\n     <g id=\"text_6\">\n      <!-- 0.25 -->\n      <g transform=\"translate(239.129216 239.238437)scale(0.1 -0.1)\">\n       <use xlink:href=\"#DejaVuSans-48\"/>\n       <use x=\"63.623047\" xlink:href=\"#DejaVuSans-46\"/>\n       <use x=\"95.410156\" xlink:href=\"#DejaVuSans-50\"/>\n       <use x=\"159.033203\" xlink:href=\"#DejaVuSans-53\"/>\n      </g>\n     </g>\n    </g>\n    <g id=\"xtick_7\">\n     <g id=\"line2d_7\">\n      <g>\n       <use style=\"stroke:#000000;stroke-width:0.8;\" x=\"288.317062\" xlink:href=\"#m46aa6c2c37\" y=\"224.64\"/>\n      </g>\n     </g>\n     <g id=\"text_7\">\n      <!-- 0.50 -->\n      <g transform=\"translate(277.18425 239.238437)scale(0.1 -0.1)\">\n       <use xlink:href=\"#DejaVuSans-48\"/>\n       <use x=\"63.623047\" xlink:href=\"#DejaVuSans-46\"/>\n       <use x=\"95.410156\" xlink:href=\"#DejaVuSans-53\"/>\n       <use x=\"159.033203\" xlink:href=\"#DejaVuSans-48\"/>\n      </g>\n     </g>\n    </g>\n    <g id=\"xtick_8\">\n     <g id=\"line2d_8\">\n      <g>\n       <use style=\"stroke:#000000;stroke-width:0.8;\" x=\"326.372097\" xlink:href=\"#m46aa6c2c37\" y=\"224.64\"/>\n      </g>\n     </g>\n     <g id=\"text_8\">\n      <!-- 0.75 -->\n      <g transform=\"translate(315.239284 239.238437)scale(0.1 -0.1)\">\n       <use xlink:href=\"#DejaVuSans-48\"/>\n       <use x=\"63.623047\" xlink:href=\"#DejaVuSans-46\"/>\n       <use x=\"95.410156\" xlink:href=\"#DejaVuSans-55\"/>\n       <use x=\"159.033203\" xlink:href=\"#DejaVuSans-53\"/>\n      </g>\n     </g>\n    </g>\n    <g id=\"xtick_9\">\n     <g id=\"line2d_9\">\n      <g>\n       <use style=\"stroke:#000000;stroke-width:0.8;\" x=\"364.427131\" xlink:href=\"#m46aa6c2c37\" y=\"224.64\"/>\n      </g>\n     </g>\n     <g id=\"text_9\">\n      <!-- 1.00 -->\n      <g transform=\"translate(353.294318 239.238437)scale(0.1 -0.1)\">\n       <use xlink:href=\"#DejaVuSans-49\"/>\n       <use x=\"63.623047\" xlink:href=\"#DejaVuSans-46\"/>\n       <use x=\"95.410156\" xlink:href=\"#DejaVuSans-48\"/>\n       <use x=\"159.033203\" xlink:href=\"#DejaVuSans-48\"/>\n      </g>\n     </g>\n    </g>\n   </g>\n   <g id=\"matplotlib.axis_2\">\n    <g id=\"ytick_1\">\n     <g id=\"line2d_10\">\n      <defs>\n       <path d=\"M 0 0 \nL -3.5 0 \n\" id=\"m3de39cb68c\" style=\"stroke:#000000;stroke-width:0.8;\"/>\n      </defs>\n      <g>\n       <use style=\"stroke:#000000;stroke-width:0.8;\" x=\"44.845313\" xlink:href=\"#m3de39cb68c\" y=\"214.768806\"/>\n      </g>\n     </g>\n     <g id=\"text_10\">\n      <!-- −1.00 -->\n      <g transform=\"translate(7.2 218.568025)scale(0.1 -0.1)\">\n       <use xlink:href=\"#DejaVuSans-8722\"/>\n       <use x=\"83.789062\" xlink:href=\"#DejaVuSans-49\"/>\n       <use x=\"147.412109\" xlink:href=\"#DejaVuSans-46\"/>\n       <use x=\"179.199219\" xlink:href=\"#DejaVuSans-48\"/>\n       <use x=\"242.822266\" xlink:href=\"#DejaVuSans-48\"/>\n      </g>\n     </g>\n    </g>\n    <g id=\"ytick_2\">\n     <g id=\"line2d_11\">\n      <g>\n       <use style=\"stroke:#000000;stroke-width:0.8;\" x=\"44.845313\" xlink:href=\"#m3de39cb68c\" y=\"190.056604\"/>\n      </g>\n     </g>\n     <g id=\"text_11\">\n      <!-- −0.75 -->\n      <g transform=\"translate(7.2 193.855823)scale(0.1 -0.1)\">\n       <use xlink:href=\"#DejaVuSans-8722\"/>\n       <use x=\"83.789062\" xlink:href=\"#DejaVuSans-48\"/>\n       <use x=\"147.412109\" xlink:href=\"#DejaVuSans-46\"/>\n       <use x=\"179.199219\" xlink:href=\"#DejaVuSans-55\"/>\n       <use x=\"242.822266\" xlink:href=\"#DejaVuSans-53\"/>\n      </g>\n     </g>\n    </g>\n    <g id=\"ytick_3\">\n     <g id=\"line2d_12\">\n      <g>\n       <use style=\"stroke:#000000;stroke-width:0.8;\" x=\"44.845313\" xlink:href=\"#m3de39cb68c\" y=\"165.344403\"/>\n      </g>\n     </g>\n     <g id=\"text_12\">\n      <!-- −0.50 -->\n      <g transform=\"translate(7.2 169.143622)scale(0.1 -0.1)\">\n       <use xlink:href=\"#DejaVuSans-8722\"/>\n       <use x=\"83.789062\" xlink:href=\"#DejaVuSans-48\"/>\n       <use x=\"147.412109\" xlink:href=\"#DejaVuSans-46\"/>\n       <use x=\"179.199219\" xlink:href=\"#DejaVuSans-53\"/>\n       <use x=\"242.822266\" xlink:href=\"#DejaVuSans-48\"/>\n      </g>\n     </g>\n    </g>\n    <g id=\"ytick_4\">\n     <g id=\"line2d_13\">\n      <g>\n       <use style=\"stroke:#000000;stroke-width:0.8;\" x=\"44.845313\" xlink:href=\"#m3de39cb68c\" y=\"140.632201\"/>\n      </g>\n     </g>\n     <g id=\"text_13\">\n      <!-- −0.25 -->\n      <g transform=\"translate(7.2 144.43142)scale(0.1 -0.1)\">\n       <use xlink:href=\"#DejaVuSans-8722\"/>\n       <use x=\"83.789062\" xlink:href=\"#DejaVuSans-48\"/>\n       <use x=\"147.412109\" xlink:href=\"#DejaVuSans-46\"/>\n       <use x=\"179.199219\" xlink:href=\"#DejaVuSans-50\"/>\n       <use x=\"242.822266\" xlink:href=\"#DejaVuSans-53\"/>\n      </g>\n     </g>\n    </g>\n    <g id=\"ytick_5\">\n     <g id=\"line2d_14\">\n      <g>\n       <use style=\"stroke:#000000;stroke-width:0.8;\" x=\"44.845313\" xlink:href=\"#m3de39cb68c\" y=\"115.92\"/>\n      </g>\n     </g>\n     <g id=\"text_14\">\n      <!-- 0.00 -->\n      <g transform=\"translate(15.579688 119.719219)scale(0.1 -0.1)\">\n       <use xlink:href=\"#DejaVuSans-48\"/>\n       <use x=\"63.623047\" xlink:href=\"#DejaVuSans-46\"/>\n       <use x=\"95.410156\" xlink:href=\"#DejaVuSans-48\"/>\n       <use x=\"159.033203\" xlink:href=\"#DejaVuSans-48\"/>\n      </g>\n     </g>\n    </g>\n    <g id=\"ytick_6\">\n     <g id=\"line2d_15\">\n      <g>\n       <use style=\"stroke:#000000;stroke-width:0.8;\" x=\"44.845313\" xlink:href=\"#m3de39cb68c\" y=\"91.207799\"/>\n      </g>\n     </g>\n     <g id=\"text_15\">\n      <!-- 0.25 -->\n      <g transform=\"translate(15.579688 95.007017)scale(0.1 -0.1)\">\n       <use xlink:href=\"#DejaVuSans-48\"/>\n       <use x=\"63.623047\" xlink:href=\"#DejaVuSans-46\"/>\n       <use x=\"95.410156\" xlink:href=\"#DejaVuSans-50\"/>\n       <use x=\"159.033203\" xlink:href=\"#DejaVuSans-53\"/>\n      </g>\n     </g>\n    </g>\n    <g id=\"ytick_7\">\n     <g id=\"line2d_16\">\n      <g>\n       <use style=\"stroke:#000000;stroke-width:0.8;\" x=\"44.845313\" xlink:href=\"#m3de39cb68c\" y=\"66.495597\"/>\n      </g>\n     </g>\n     <g id=\"text_16\">\n      <!-- 0.50 -->\n      <g transform=\"translate(15.579688 70.294816)scale(0.1 -0.1)\">\n       <use xlink:href=\"#DejaVuSans-48\"/>\n       <use x=\"63.623047\" xlink:href=\"#DejaVuSans-46\"/>\n       <use x=\"95.410156\" xlink:href=\"#DejaVuSans-53\"/>\n       <use x=\"159.033203\" xlink:href=\"#DejaVuSans-48\"/>\n      </g>\n     </g>\n    </g>\n    <g id=\"ytick_8\">\n     <g id=\"line2d_17\">\n      <g>\n       <use style=\"stroke:#000000;stroke-width:0.8;\" x=\"44.845313\" xlink:href=\"#m3de39cb68c\" y=\"41.783396\"/>\n      </g>\n     </g>\n     <g id=\"text_17\">\n      <!-- 0.75 -->\n      <g transform=\"translate(15.579688 45.582614)scale(0.1 -0.1)\">\n       <use xlink:href=\"#DejaVuSans-48\"/>\n       <use x=\"63.623047\" xlink:href=\"#DejaVuSans-46\"/>\n       <use x=\"95.410156\" xlink:href=\"#DejaVuSans-55\"/>\n       <use x=\"159.033203\" xlink:href=\"#DejaVuSans-53\"/>\n      </g>\n     </g>\n    </g>\n    <g id=\"ytick_9\">\n     <g id=\"line2d_18\">\n      <g>\n       <use style=\"stroke:#000000;stroke-width:0.8;\" x=\"44.845313\" xlink:href=\"#m3de39cb68c\" y=\"17.071194\"/>\n      </g>\n     </g>\n     <g id=\"text_18\">\n      <!-- 1.00 -->\n      <g transform=\"translate(15.579688 20.870413)scale(0.1 -0.1)\">\n       <use xlink:href=\"#DejaVuSans-49\"/>\n       <use x=\"63.623047\" xlink:href=\"#DejaVuSans-46\"/>\n       <use x=\"95.410156\" xlink:href=\"#DejaVuSans-48\"/>\n       <use x=\"159.033203\" xlink:href=\"#DejaVuSans-48\"/>\n      </g>\n     </g>\n    </g>\n   </g>\n   <g id=\"line2d_19\">\n    <path clip-path=\"url(#p7459319c17)\" d=\"M 364.427131 115.92 \nL 364.120662 109.650621 \nL 363.202491 103.406487 \nL 361.676315 97.21274 \nL 359.548278 91.094321 \nL 356.826949 85.075866 \nL 353.523288 79.18161 \nL 349.650595 73.435286 \nL 345.224466 67.860033 \nL 340.262722 62.478301 \nL 334.785343 57.311759 \nL 328.814384 52.381212 \nL 322.373888 47.706514 \nL 315.489789 43.306487 \nL 308.189807 39.198849 \nL 300.503336 35.40014 \nL 292.461327 31.925656 \nL 284.096162 28.789388 \nL 275.441524 26.003963 \nL 266.532264 23.580599 \nL 257.404254 21.529054 \nL 248.094252 19.857587 \nL 238.639744 18.57293 \nL 229.0788 17.680254 \nL 219.44992 17.183156 \nL 209.791875 17.083636 \nL 200.143555 17.382096 \nL 190.54381 18.077332 \nL 181.031295 19.166547 \nL 171.644314 20.645353 \nL 162.420664 22.507797 \nL 153.397487 24.746379 \nL 144.611114 27.352085 \nL 136.096926 30.314423 \nL 127.889207 33.621464 \nL 120.021005 37.259892 \nL 112.524004 41.215057 \nL 105.428391 45.471032 \nL 98.762738 50.01068 \nL 92.553885 54.815722 \nL 86.826833 59.86681 \nL 81.604642 65.143603 \nL 76.908341 70.624855 \nL 72.75684 76.288495 \nL 69.166855 82.111717 \nL 66.152843 88.071073 \nL 63.726939 94.142567 \nL 61.898912 100.301751 \nL 60.676122 106.523824 \nL 60.063494 112.783732 \nL 60.063494 119.056268 \nL 60.676122 125.316176 \nL 61.898912 131.538249 \nL 63.726939 137.697433 \nL 66.152843 143.768927 \nL 69.166855 149.728283 \nL 72.75684 155.551505 \nL 76.908341 161.215145 \nL 81.604642 166.696397 \nL 86.826833 171.97319 \nL 92.553885 177.024278 \nL 98.762738 181.82932 \nL 105.428391 186.368968 \nL 112.524004 190.624943 \nL 120.021005 194.580108 \nL 127.889207 198.218536 \nL 136.096926 201.525577 \nL 144.611114 204.487915 \nL 153.397487 207.093621 \nL 162.420664 209.332203 \nL 171.644314 211.194647 \nL 181.031295 212.673453 \nL 190.54381 213.762668 \nL 200.143555 214.457904 \nL 209.791875 214.756364 \nL 219.44992 214.656844 \nL 229.0788 214.159746 \nL 238.639744 213.26707 \nL 248.094252 211.982413 \nL 257.404254 210.310946 \nL 266.532264 208.259401 \nL 275.441524 205.836037 \nL 284.096162 203.050612 \nL 292.461327 199.914344 \nL 300.503336 196.43986 \nL 308.189807 192.641151 \nL 315.489789 188.533513 \nL 322.373888 184.133486 \nL 328.814384 179.458788 \nL 334.785343 174.528241 \nL 340.262722 169.361699 \nL 345.224466 163.979967 \nL 349.650595 158.404714 \nL 353.523288 152.65839 \nL 356.826949 146.764134 \nL 359.548278 140.745679 \nL 361.676315 134.62726 \nL 363.202491 128.433513 \nL 364.120662 122.189379 \nL 364.427131 115.92 \n\" style=\"fill:none;stroke:#1f77b4;stroke-linecap:square;stroke-width:1.5;\"/>\n   </g>\n   <g id=\"patch_3\">\n    <path d=\"M 44.845313 224.64 \nL 44.845313 7.2 \n\" style=\"fill:none;stroke:#000000;stroke-linecap:square;stroke-linejoin:miter;stroke-width:0.8;\"/>\n   </g>\n   <g id=\"patch_4\">\n    <path d=\"M 379.645313 224.64 \nL 379.645313 7.2 \n\" style=\"fill:none;stroke:#000000;stroke-linecap:square;stroke-linejoin:miter;stroke-width:0.8;\"/>\n   </g>\n   <g id=\"patch_5\">\n    <path d=\"M 44.845313 224.64 \nL 379.645313 224.64 \n\" style=\"fill:none;stroke:#000000;stroke-linecap:square;stroke-linejoin:miter;stroke-width:0.8;\"/>\n   </g>\n   <g id=\"patch_6\">\n    <path d=\"M 44.845313 7.2 \nL 379.645313 7.2 \n\" style=\"fill:none;stroke:#000000;stroke-linecap:square;stroke-linejoin:miter;stroke-width:0.8;\"/>\n   </g>\n  </g>\n </g>\n <defs>\n  <clipPath id=\"p7459319c17\">\n   <rect height=\"217.44\" width=\"334.8\" x=\"44.845313\" y=\"7.2\"/>\n  </clipPath>\n </defs>\n</svg>\n",
      "image/png": "[encoded data removed]"
     },
     "metadata": {
      "needs_background": "light"
     }
    }
   ],
   "source": [
    "t = np.linspace(0, 2*np.pi, 100)\n",
    "x = np.cos(t)\n",
    "y = np.sin(t)\n",
    "\n",
    "plt.plot(x,y);"
   ]
  },
  {
   "cell_type": "markdown",
   "metadata": {},
   "source": [
    "_____\n",
    "> **Exercice 1b)**  \n",
    "\n",
    " - Définir un array `x` avec 50 valeurs réparties uniformément entre $[-5,5]$  \n",
    "\n",
    " - Calculer $y=\\frac{1}{\\sqrt{2\\pi}}\\exp\\left(-\\frac12 x^2\\right)$ pour chaque entrée de `x` et stocker le résultat dans un array qui est appelée `y`.\n",
    "\n",
    "_____"
   ]
  },
  {
   "cell_type": "code",
   "execution_count": null,
   "metadata": {
    "deletable": false,
    "nbgrader": {
     "cell_type": "code",
     "checksum": "62fd26b48c0820f2fc15a76b96590492",
     "grade": false,
     "grade_id": "cell-27f44ba56c474b84",
     "locked": false,
     "schema_version": 3,
     "solution": true,
     "task": false
    }
   },
   "outputs": [],
   "source": [
    "# INSÉREZ VOTRE CODE ICI\n",
    "\n",
    "\n",
    "plt.plot(x,y)"
   ]
  },
  {
   "cell_type": "code",
   "execution_count": null,
   "metadata": {
    "deletable": false,
    "editable": false,
    "nbgrader": {
     "cell_type": "code",
     "checksum": "d9f17b8df19548d74fe4919f6517ef3c",
     "grade": true,
     "grade_id": "cell-f434a56db7b5346f",
     "locked": true,
     "points": 1,
     "schema_version": 3,
     "solution": false,
     "task": false
    }
   },
   "outputs": [],
   "source": [
    "### TESTES AUTOMATIQUES\n",
    "assert type(x)==type(y)==np.ndarray, \"Le resultat n'est pas un numpy array\"\n",
    "assert abs(np.sum(x)) < 1e-8, \"Vérifier que x se compose de valeurs entre -5 et 5\"\n",
    "assert np.min(x) == -5.0, \"Vérifier que x se compose de valeurs entre -5 et 5\"\n",
    "assert np.max(x) == 5.0, \"Vérifier que x se compose de valeurs entre -5 et 5\"\n",
    "assert len(x) == len(y) == 50, \"Vérifier que x et y sont de taille 50\"\n",
    "assert abs(np.sum(y)-4.9) < 1e-4, \"Vérifier la définition de y\"\n",
    "assert np.min(y)<1e-4, \"Vérifier la définition de y\""
   ]
  },
  {
   "cell_type": "markdown",
   "metadata": {},
   "source": [
    "### Exercice 1c)\n",
    "\n",
    "On peut appliquer des comparaisons à des tableaux. Par exemple, on peut vérifier pour chaque élément d'un tableau s'il est positif ou non :"
   ]
  },
  {
   "cell_type": "code",
   "execution_count": 6,
   "metadata": {},
   "outputs": [
    {
     "output_type": "execute_result",
     "data": {
      "text/plain": [
       "array([False, False, False, False, False,  True,  True,  True,  True,\n",
       "        True])"
      ]
     },
     "metadata": {},
     "execution_count": 6
    }
   ],
   "source": [
    "x = np.linspace(-1,1,10)\n",
    "x > 0"
   ]
  },
  {
   "cell_type": "markdown",
   "metadata": {},
   "source": [
    "Ce nous donne un tableau avec des entrées booléennes. Si l'on calcule la somme des entrées de ce tableau, on obtient le nombre des elements positifs :"
   ]
  },
  {
   "cell_type": "code",
   "execution_count": 7,
   "metadata": {},
   "outputs": [
    {
     "output_type": "execute_result",
     "data": {
      "text/plain": [
       "5"
      ]
     },
     "metadata": {},
     "execution_count": 7
    }
   ],
   "source": [
    "np.sum(x>0)"
   ]
  },
  {
   "cell_type": "markdown",
   "metadata": {},
   "source": [
    "On peut aussi utiliser les tableaux booléens pour sélectionner des éléments. Par exemple, on sélectionne les éléments de `x` qui sont plus grand que 0.2 comme ça:"
   ]
  },
  {
   "cell_type": "code",
   "execution_count": 8,
   "metadata": {},
   "outputs": [
    {
     "output_type": "execute_result",
     "data": {
      "text/plain": [
       "array([0.33333333, 0.55555556, 0.77777778, 1.        ])"
      ]
     },
     "metadata": {},
     "execution_count": 8
    }
   ],
   "source": [
    "x[x>0.2]"
   ]
  },
  {
   "cell_type": "markdown",
   "metadata": {},
   "source": [
    "______\n",
    "> **Exercice 1c)**  \n",
    "\n",
    " - Considerons le tableau `A` defini ci-dessous  \n",
    "\n",
    " - Calculer pour chaque ligne (deuxième axe) le nombre d'entrées qui sont plus grandes que 0.5, stocker le résultat dans un tableau `x`.  \n",
    "\n",
    " - Créer un tableau `y` qui contient les entrées de `x` qui sont moins grandes que 5.\n",
    "\n",
    "_______"
   ]
  },
  {
   "cell_type": "code",
   "execution_count": null,
   "metadata": {
    "deletable": false,
    "nbgrader": {
     "cell_type": "code",
     "checksum": "4f32b0c3c5295abc1be13f0b92b660c5",
     "grade": false,
     "grade_id": "cell-aca44692a0a75d8d",
     "locked": false,
     "schema_version": 3,
     "solution": true,
     "task": false
    }
   },
   "outputs": [],
   "source": [
    "np.random.seed(179) # Fixer la graine aléatoire, ne le changez pas !\n",
    "A = np.random.random(size=(100,10))\n",
    "\n",
    "# INSÉREZ VOTRE CODE ICI\n"
   ]
  },
  {
   "cell_type": "code",
   "execution_count": null,
   "metadata": {
    "deletable": false,
    "editable": false,
    "nbgrader": {
     "cell_type": "code",
     "checksum": "6c91b05f6d58fd76bcc6585235800783",
     "grade": true,
     "grade_id": "cell-112f13c402bc235c",
     "locked": true,
     "points": 1,
     "schema_version": 3,
     "solution": false,
     "task": false
    }
   },
   "outputs": [],
   "source": [
    "### TESTES AUTOMATIQUES\n",
    "assert type(x) == type(y) == np.ndarray, \"Le resultat n'est pas un numpy array\"\n",
    "assert np.shape(x) == (100,), \"Vérifier que vous avez utilisé l'axe correct\"\n",
    "assert np.shape(y) == (37,), \"Vérifier la définition de y\" \n",
    "assert np.sum(x) == 507, \"Vérifier la définition de x\" \n",
    "assert np.sum(y) == 129, \"Vérifier la définition de y\""
   ]
  },
  {
   "cell_type": "markdown",
   "metadata": {},
   "source": [
    "## Partie 2: Échantillonnage à partir de distributions"
   ]
  },
  {
   "cell_type": "markdown",
   "metadata": {},
   "source": [
    "________\n",
    "    \n",
    "> **N.B.**  \n",
    "> _Dans ces exercices vous pouvez seulement utiliser_ `np.random.random` _comme source des nombres pseudo-aléatoires._  \n",
    "    \n",
    "________\n",
    "\n",
    "Quand on veut faire des simulations de modèles statistiques, on a souvent besoin d'échantillons aléatoires à partir de certaines distributions. À la base de échantillonnage est un générateur de nombres pseudo-aléatoires. Avec un tel générateur on peut générer des nombres aléatoires à partir de distribution uniforme sur [0,1). Nous ne discuterons pas de comment les nombres aléatoires sont générés, et nous nous concentrerons sur comment transformer les échantillons à partir de [0,1) à certaines distributions.\n",
    "\n",
    "Par exemple, considérons la distribution de Bernoulli. Si $Y$ est de Bernoulli avec paramètre $0\\leq p\\leq 1$ alors\n",
    "\n",
    "$$\n",
    "    P(Y=1) = p,\\qquad P(Y=0) = 1-p\n",
    "$$\n",
    "\n",
    "Si $X\\sim U(0,1)$ est uniforme, on peut alors définir\n",
    "\n",
    "$$\n",
    "    Z:=\\left\\{\\begin{matrix}1 &\\text{si } X\\leq p\\\\ 0 & \\text{si } X>p\\end{matrix}\\right.\n",
    "$$\n",
    "\n",
    "On calcule\n",
    "\n",
    "$$\n",
    "\\begin{align}\n",
    "    P(Z=1) &= P(0\\leq X\\leq p) = p\\\\\n",
    "    P(Z=0) &= P(p<X\\leq 1) = 1-p\n",
    "\\end{align}\n",
    "$$\n",
    "\n",
    "On conclut alors que $Z$ est de Bernoulli. Ce nous donne une recette pour générer des échantillons de Bernoulli: nous générons des nombres de manière uniforme, et puis nous vérifons lesquels sont plus grand que $p$. En code :"
   ]
  },
  {
   "cell_type": "code",
   "execution_count": 9,
   "metadata": {},
   "outputs": [
    {
     "output_type": "execute_result",
     "data": {
      "text/plain": [
       "array([1, 0, 1, 1, 0, 1, 0, 1, 1, 0])"
      ]
     },
     "metadata": {},
     "execution_count": 9
    }
   ],
   "source": [
    "def bernoulli(p, N):\n",
    "    \"\"\"Générer un échantillon de taille `N` à partir de Bernoulli \n",
    "    avec paramètre `p`\"\"\"\n",
    "    \n",
    "    # Générer N nombres aléatoires uniformes\n",
    "    x = np.random.random(size=N)\n",
    "    \n",
    "    # Vérifons lesquels sont plus grand que p\n",
    "    # Convertir le resultat vers un tableau d'entiers et renvoie\n",
    "    return (x>p).astype(int)\n",
    "\n",
    "bernoulli(0.3, 10)"
   ]
  },
  {
   "cell_type": "markdown",
   "metadata": {},
   "source": [
    "### Exercice 2a) Loi binomiale\n",
    "\n",
    "Un variable aléatoire bionomial $X\\sim \\operatorname{Bin}(n,p)$ est une somme des $n$ variables de Bernoulli avec paramètres $p$. On peut donc générer un échantillon binomial par générer un échantillon de distribution uniforme de taille $n$, et puis compter combien sont moins grand que $p$. \n",
    "\n",
    "_____\n",
    "> **Exercice 2a)**  \n",
    "> Écrire une fonction `binomial(n, p, N)` qui génère un échantillon de $\\operatorname{Bin}(n,p)$ de taille $N$.  \n",
    "> Vous pouvez générer un échantillon uniforme de taille $n\\times N$ en utilisant  \n",
    "```\n",
    "    np.random.random(size=(n, N))\n",
    "```\n",
    "> Si votre réponse est correcte, le densité empirique et théorique dans le graphe ci-dessous doivent être proche.\n",
    "\n",
    "_____"
   ]
  },
  {
   "cell_type": "code",
   "execution_count": null,
   "metadata": {
    "deletable": false,
    "nbgrader": {
     "cell_type": "code",
     "checksum": "8bc333391e6d1f7d240f91c3420fbc92",
     "grade": false,
     "grade_id": "cell-16cf866b62025c10",
     "locked": false,
     "schema_version": 3,
     "solution": true,
     "task": false
    }
   },
   "outputs": [],
   "source": [
    "def binomial(n, p, N):\n",
    "    \"\"\"Générer un échantillon binomial de taille `N` et \n",
    "    paramètres `n` et `p`\"\"\"\n",
    "    \n",
    "    # INSÉREZ VOTRE CODE ICI\n",
    "    \n",
    "\n",
    "N=100000\n",
    "n=10\n",
    "p=0.4\n",
    "\n",
    "plt.plot(np.bincount(binomial(n, p, N)) / N, '.', label='densité empirique')\n",
    "k = np.arange(n+1)\n",
    "plt.plot(k, scipy.special.binom(n,k) * (p**k) * (1-p)**(n-k), label='densité théorique')\n",
    "plt.legend();"
   ]
  },
  {
   "cell_type": "code",
   "execution_count": null,
   "metadata": {
    "deletable": false,
    "editable": false,
    "nbgrader": {
     "cell_type": "code",
     "checksum": "0a03cc7dbb50c68d6a70a4c2eb68d7d8",
     "grade": true,
     "grade_id": "cell-9b9a0903a2c889f0",
     "locked": true,
     "points": 1,
     "schema_version": 3,
     "solution": false,
     "task": false
    }
   },
   "outputs": [],
   "source": [
    "### TESTES AUTOMATIQUES\n",
    "np.random.seed(179)\n",
    "sample = binomial(10,0.3,100000)\n",
    "assert type(sample)==np.ndarray, \"La résultat n'est pas un numpy array\"\n",
    "assert sample.shape == (100000,), \"La taille de échantillon n'est pas correcte\"\n",
    "assert abs(np.mean(sample)-3) < 1e-2, \"Vérifier que votre implementation est correcte\"\n",
    "assert abs(np.std(sample)-np.sqrt(10*0.3*0.7)) < 1e-2, \"Vérifier que votre implementation est correcte\""
   ]
  },
  {
   "cell_type": "markdown",
   "metadata": {},
   "source": [
    "### Exercice 2b) Loi normale\n",
    "\n",
    "La loi normale standard est omniprésente dans la statistique. La densité de la loi normale est donnée par\n",
    "\n",
    "$$\n",
    "    f(x) = \\frac{1}{\\sqrt{2\\pi}}\\exp\\left(-\\frac12 x^2\\right)\n",
    "$$\n",
    "\n",
    "On peut générer un échantillon normal en utilisant la transformation de Box-Muller. Soient $X$ et $Y$ deux variables aléatoires indépendantes uniformes. Définisons la transformation de Box-Muller de $X$ et $Y$ par\n",
    "\n",
    "$$\n",
    "    Z = R\\cos\\theta =\\sqrt{-2\\log(X)}\\cos(2\\pi Y)\n",
    "$$\n",
    "\n",
    "On peut prouver que $Z$ suit une loi normale [(lire cette page Wikipedia pour plus des informations)](https://fr.wikipedia.org/wiki/M%C3%A9thode_de_Box-Muller)\n",
    "\n",
    "_____\n",
    ">**Exercice 2b)**     \n",
    "> Écrivez une fonction `normal(N)` qui donne un échantillon de taille `N` de loi normale, en utilisant la transformation de Box-Muller.  \n",
    "> Utilisez deux échantillons de loi uniforme par échantillion de loi normale.  \n",
    "> Si votre réponse est correcte, les densités théorique et empirique dans le graphe ci-dessous doivent être proche.\n",
    "\n",
    "_____"
   ]
  },
  {
   "cell_type": "code",
   "execution_count": null,
   "metadata": {
    "deletable": false,
    "nbgrader": {
     "cell_type": "code",
     "checksum": "2175e8c46724ea8167f5e8eb8b26d3b3",
     "grade": false,
     "grade_id": "cell-5761509e8c9d6f0d",
     "locked": false,
     "schema_version": 3,
     "solution": true,
     "task": false
    }
   },
   "outputs": [],
   "source": [
    "def normal(N):\n",
    "    \"\"\"Générer un échantillon de taille `N` de la loi normale\"\"\"\n",
    "    # INSÉREZ VOTRE CODE ICI\n",
    "    \n",
    "\n",
    "x = np.linspace(-5,5,100)\n",
    "plt.plot(x, np.exp(-x**2/2)/np.sqrt(np.pi*2), label='densité théorique')\n",
    "sns.kdeplot(normal(100000), label='densité empirique')\n",
    "plt.legend();"
   ]
  },
  {
   "cell_type": "code",
   "execution_count": null,
   "metadata": {
    "deletable": false,
    "editable": false,
    "nbgrader": {
     "cell_type": "code",
     "checksum": "3448b818850df72eff15a2318ddd2e56",
     "grade": true,
     "grade_id": "cell-0f612806a06637cf",
     "locked": true,
     "points": 1,
     "schema_version": 3,
     "solution": false,
     "task": false
    }
   },
   "outputs": [],
   "source": [
    "### TESTES AUTOMATIQUES\n",
    "np.random.seed(179)\n",
    "sample = normal(100000)\n",
    "assert type(sample)==np.ndarray, \"La résultat n'est pas un numpy array\"\n",
    "assert sample.shape == (100000,), \"La taille de échantillon n'est pas correcte\"\n",
    "assert abs(np.mean(sample)) < 1e-2, \"Vérifier que votre implementation est correcte\"\n",
    "assert abs(np.std(sample)-1) < 1e-2, \"Vérifier que votre implementation est correcte\""
   ]
  },
  {
   "cell_type": "markdown",
   "metadata": {},
   "source": [
    "### Exercice 2c) Loi exponentielle\n",
    "\n",
    "La densité de la loi exponentielle avec paramètre $\\lambda$ est donnée par\n",
    "\n",
    "$$\n",
    "    f(x) = \\lambda \\exp(-\\lambda x)\n",
    "$$\n",
    "\n",
    "Pour l'échantillonner, on utilise la fonction de répartition $F\\colon [0,\\infty)\\to [0,1]$ :\n",
    "\n",
    "$$\n",
    "    F(x) = \\int_{-\\infty}^x\\! f(t)\\,\\mathrm dt = 1-\\exp(-\\lambda x)\n",
    "$$\n",
    "\n",
    "Soit $X$ une variable aléatoire qui suit la loi exponentielle, alors\n",
    "\n",
    "$$\n",
    "    P(X<t) = F(t)\n",
    "$$\n",
    "\n",
    "Si $Y$ est une variable aléatoire qui suit la loi uniforme sur $[0,1]$, on peut définir $Z$ par\n",
    "\n",
    "$$\n",
    "    Z = F^{-1}(Y)\n",
    "$$\n",
    "\n",
    "On calcule :\n",
    "\n",
    "$$\n",
    "    P(Z<t) = P(F^{-1}(Y) < t) = P(Y < F(t)) = F(t)\n",
    "$$\n",
    "\n",
    "on conclut alors que $Z$ est de la loi exponentielle. En général, si $F$ est la fonction de répartition d'une loi, la variable $Z=F^{-1}(Y)$ est de la même loi si $Y$ est une variable aléatoire de la loi uniforme sur $[0,1]$.\n",
    "\n",
    "_____\n",
    "> **Exercice 2c)**  \n",
    "\n",
    " - Trouvez un expression pour la inverse $F^{-1}(t)$ de la fonction de répartition de la loi exponentielle. Ecrivez le dans un cellule de markdown ci-dessous.  \n",
    "\n",
    " - Écrivez une fonction `exponential(lam, N)` qui donne une échantillon de la loi exponentielle avec parametre `lam`.\n",
    "\n",
    "_____"
   ]
  },
  {
   "cell_type": "markdown",
   "metadata": {
    "deletable": false,
    "nbgrader": {
     "cell_type": "markdown",
     "checksum": "27b2043f2544bd0b2b668f9f1581e1cc",
     "grade": true,
     "grade_id": "cell-ca408a5b85e025df",
     "locked": false,
     "points": 1,
     "schema_version": 3,
     "solution": true,
     "task": false
    }
   },
   "source": [
    "YOUR ANSWER HERE"
   ]
  },
  {
   "cell_type": "code",
   "execution_count": null,
   "metadata": {
    "deletable": false,
    "nbgrader": {
     "cell_type": "code",
     "checksum": "cca605fb0fbed31407bfde690bfd63ee",
     "grade": false,
     "grade_id": "cell-e5e448649d6598be",
     "locked": false,
     "schema_version": 3,
     "solution": true,
     "task": false
    }
   },
   "outputs": [],
   "source": [
    "def exponential(lam, N):\n",
    "    \"\"\"Générer un échantillon de taille `N` de la loi exponentielle\n",
    "    à paramètre `lam`\"\"\"\n",
    "    \n",
    "    # INSÉREZ VOTRE CODE ICI\n",
    "    \n",
    "\n",
    "lam = 4\n",
    "x = np.linspace(0,3,100)\n",
    "plt.plot(x,lam*np.exp(-lam*x), label='densité théorique')\n",
    "sns.kdeplot(exponential(lam, 100000),clip=(0.05,None), label='densité empirique')\n",
    "plt.legend();"
   ]
  },
  {
   "cell_type": "code",
   "execution_count": null,
   "metadata": {
    "deletable": false,
    "editable": false,
    "nbgrader": {
     "cell_type": "code",
     "checksum": "c773efef71385fa663ceafe1ba0b64de",
     "grade": true,
     "grade_id": "cell-461db55a2659a063",
     "locked": true,
     "points": 1,
     "schema_version": 3,
     "solution": false,
     "task": false
    }
   },
   "outputs": [],
   "source": [
    "### TESTES AUTOMATIQUES\n",
    "np.random.seed(179)\n",
    "sample = exponential(2, 100000)\n",
    "assert type(sample)==np.ndarray, \"La résultat n'est pas un numpy array\"\n",
    "assert sample.shape == (100000,), \"La taille de échantillon n'est pas correcte\"\n",
    "assert abs(np.mean(sample)-0.5) < 1e-2, \"Vérifier que votre implementation est correcte\"\n",
    "assert abs(np.std(sample)-0.5) < 1e-2, \"Vérifier que votre implementation est correcte\"\n",
    "assert abs(np.median(sample)-np.log(2)*0.5) < 1e-2, \"Vérifier que votre implementation est correcte\""
   ]
  },
  {
   "cell_type": "markdown",
   "metadata": {},
   "source": [
    "### Exercice 2d) Loi de Poisson\n",
    "\n",
    "Soit $X$ une variable aléatoire de la loi de Poisson avec paramètre $\\lambda$. La fonction de masse de la loi de Poisson est donnée par\n",
    "\n",
    "$$\n",
    "    P(X=k) = \\frac{e^{-\\lambda}\\lambda^k}{k!}\n",
    "$$\n",
    "\n",
    "Pour échantillonner cette loi on va utiliser la méthode d'inverse de fonction de répartition, comme dans la cas de loi exponentielle. Dans ce cas la fonction de répartition est donnée par\n",
    "\n",
    "$$\n",
    "    F(k) = P(X\\leq k) = \\sum_{\\ell=0}^k \\frac{e^{-\\lambda}\\lambda^\\ell}{\\ell!}\n",
    "$$\n",
    "\n",
    "Si $Y$ est un variable aléatoire de loi uniforme sur $[0,1]$, on define\n",
    "\n",
    "$$\n",
    "    Z = \\min\\{k\\in \\mathbb N\\mid F(k)\\geq Y\\}\n",
    "$$\n",
    "\n",
    "et on voit que $Z$ est de la loi de Poisson.\n",
    "\n",
    "_____\n",
    "> **Exercice 2d)**  \n",
    "\n",
    " - Écrivez une fonction `poisson_repartition(lam, k_max)` qui donne un tableau avec les `k_max` premières valeurs de la fonction de répartition $F(k)$ de la loi Poisson avec paramètre `lam`.  \n",
    " \n",
    "Suggestion : Utilisez `scipy.special.factorial` et `np.cumsum`  \n",
    " \n",
    " - Écrivez une fonction `poisson(lam, N)` qui donne un échantillon de la loi de Poisson avec paramètre `lam`.  \n",
    "\n",
    "Suggestion : Utilisez `np.searchsorted` pour calculer la variable $Z$ ci-dessus\n",
    "\n",
    "_____"
   ]
  },
  {
   "cell_type": "code",
   "execution_count": null,
   "metadata": {
    "deletable": false,
    "nbgrader": {
     "cell_type": "code",
     "checksum": "8a1e84ca60e67b430b0d125d5d0a0826",
     "grade": false,
     "grade_id": "cell-0319b96e3c4b12dd",
     "locked": false,
     "schema_version": 3,
     "solution": true,
     "task": false
    }
   },
   "outputs": [],
   "source": [
    "from scipy.special import factorial\n",
    "\n",
    "def poisson_repartition(lam, k_max):\n",
    "    \"\"\"Calculer la tableau de `k_max` premiers valeurs de fonction\n",
    "    de répartition de la loi de Poisson avec paramètre `lam`\"\"\"\n",
    "    \n",
    "    # INSÉREZ VOTRE CODE ICI\n",
    "    \n",
    "\n",
    "def poisson(lam, N):\n",
    "    \"\"\"Générer un échantillon de taille `N` de la loi de Poisson\n",
    "    à paramètre `lam`\"\"\"\n",
    "    \n",
    "    k_max = max(int(lam*10),10)  # Heuristique pour k_max\n",
    "    repartition = poisson_repartition(lam, k_max)\n",
    "    \n",
    "    # INSÉREZ VOTRE CODE ICI\n",
    "    \n",
    "\n",
    "lam = 4\n",
    "N = 100000\n",
    "k = np.arange(17)\n",
    "plt.plot(np.bincount(poisson(lam,N))/N,'.', label='densité empirique')\n",
    "plt.plot(scipy.stats.poisson.pmf(k, lam), label='densité théorique')\n",
    "plt.legend();"
   ]
  },
  {
   "cell_type": "code",
   "execution_count": null,
   "metadata": {
    "deletable": false,
    "editable": false,
    "nbgrader": {
     "cell_type": "code",
     "checksum": "df8c283bdfd681e67d84217321da6916",
     "grade": true,
     "grade_id": "cell-4f3bfa08e1bd7d29",
     "locked": true,
     "points": 2,
     "schema_version": 3,
     "solution": false,
     "task": false
    }
   },
   "outputs": [],
   "source": [
    "### TESTES AUTOMATIQUES\n",
    "np.random.seed(179)\n",
    "repartition = poisson_repartition(2,10)\n",
    "assert type(repartition)==np.ndarray, \"La résultat n'est pas un numpy array\"\n",
    "assert len(repartition) == 10, \"La résultat n'est pas de bonne taille\"\n",
    "assert abs(np.mean(repartition)-0.8) < 1e-6, \"Vérifier que votre implementation est correcte\"\n",
    "assert np.max(repartition)<1, \"Vérifier que votre implementation est correcte\"\n",
    "assert 1-repartition[-1]<1e-3, \"Vérifier que votre implementation est correcte\"\n",
    "assert 0<repartition[0]<0.15, \"Vérifier que votre implementation est correcte\"\n",
    "\n",
    "sample = poisson(2, 100000)\n",
    "assert type(sample)==np.ndarray, \"La résultat n'est pas un numpy array\"\n",
    "assert sample.shape == (100000,), \"La taille de échantillon n'est pas correcte\"\n",
    "assert abs(np.mean(sample)-2) < 1e-2, \"Vérifier que votre implementation est correcte\"\n",
    "assert abs(np.std(sample)-np.sqrt(2)) < 1e-2, \"Vérifier que votre implementation est correcte\"\n",
    "assert np.min(sample) == 0, \"Vérifier que votre implementation est correcte\""
   ]
  }
 ],
 "metadata": {
  "kernelspec": {
   "display_name": "Python 3.8.3 64-bit ('base': conda)",
   "language": "python",
   "name": "python38364bitbaseconda3ee4c4cdcb7a427db5500fc83937f989"
  },
  "language_info": {
   "codemirror_mode": {
    "name": "ipython",
    "version": 3
   },
   "file_extension": ".py",
   "mimetype": "text/x-python",
   "name": "python",
   "nbconvert_exporter": "python",
   "pygments_lexer": "ipython3",
   "version": "3.8.3-final"
  }
 },
 "nbformat": 4,
 "nbformat_minor": 4
}