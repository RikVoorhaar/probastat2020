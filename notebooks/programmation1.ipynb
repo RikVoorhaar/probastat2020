{
 "cells": [
  {
   "cell_type": "markdown",
   "metadata": {},
   "source": [
    "[![Open in Colab](https://colab.research.google.com/assets/colab-badge.svg)](https://colab.research.google.com/github/RikVoorhaar/probastat2020/blob/master/notebooks/programmation1.ipynb?hl=fr)"
   ]
  },
  {
   "cell_type": "markdown",
   "metadata": {},
   "source": [
    "# Série de programmation 1\n"
   ]
  },
  {
   "cell_type": "markdown",
   "metadata": {},
   "source": [
    "## Instructions générales"
   ]
  },
  {
   "cell_type": "markdown",
   "metadata": {},
   "source": [
    "On va utiliser les librairies suivantes. __Evaluer la cellule ci-dessous__ pour l'importer toutes les librairies."
   ]
  },
  {
   "cell_type": "code",
   "execution_count": 25,
   "metadata": {},
   "outputs": [],
   "source": [
    "import numpy as np\n",
    "import matplotlib.pyplot as plt\n",
    "import seaborn as sns\n",
    "import scipy"
   ]
  },
  {
   "cell_type": "markdown",
   "metadata": {},
   "source": [
    "Si une des librairies n'est pas installée, la cellule ci-dessus donne un `ModuleNotFoundError`. Dans ce cas vous pouvez les installer avec la ligne de commande :\n",
    "\n",
    "    \n",
    "```bash\n",
    "    pip install <logiciel>\n",
    "```\n",
    "\n",
    "Si vous utilisez Google Colab ou vous venez d'installer Annaconda, toutes les librairies devraient être déja installées."
   ]
  },
  {
   "cell_type": "markdown",
   "metadata": {},
   "source": [
    "__Informations importants pour les exercises__  \n",
    "\n",
    "* Les solutions des exercices ne font pas plus de 4 lignes. Réévaluer votre réponse si il est beaucoup plus loin.  \n",
    "\n",
    "* Redémarrer l'environment d'exécution (anglais : 'kernel') de temps en temps  \n",
    "\n",
    "* Tous les exercises ont des tests automatiques. Si vous évaluer les tests et ils ne donnent pas d'erreurs, votre réponse est probablement correct.  \n",
    "\n",
    "* Avant de remettre votre fichier, redémarrer l'environment d'exécution et exécuter tous la code. Vérifier que aucun teste donne une erreur."
   ]
  },
  {
   "cell_type": "markdown",
   "metadata": {},
   "source": [
    "## Partie 1: Introduction à numpy\n",
    "\n",
    "Python est un langage interprété, ce qui le rend facile à programmer. Un désavantage est que Python est plus lent que d'autres langages comme C/C++ et Java. La différence particulièrement importante pour des boucles. C'est souvent le cas quand on veut faire des calculs avec des vecteurs ou des matrices (ou des tenseurs). Dans ces cas on peut utiliser des libraires numeriques qui sont basé sur code efficient écrit en C. \n",
    "\n",
    "Par exemple on calcule la moyenne d'un million de nombres aléatoires réparti uniformément sur l'intervalle [0,1) avec de la code de Python de base et en utilisant `numpy`."
   ]
  },
  {
   "cell_type": "code",
   "execution_count": 2,
   "metadata": {},
   "outputs": [
    {
     "name": "stdout",
     "output_type": "stream",
     "text": [
      "CPU times: user 122 ms, sys: 0 ns, total: 122 ms\n",
      "Wall time: 121 ms\n"
     ]
    },
    {
     "data": {
      "text/plain": [
       "0.5002823755401048"
      ]
     },
     "execution_count": 2,
     "metadata": {},
     "output_type": "execute_result"
    }
   ],
   "source": [
    "%%time\n",
    "import random\n",
    "N = 1000000\n",
    "s = 0\n",
    "for i in range(N):\n",
    "    s += random.random()\n",
    "s = s / N\n",
    "s"
   ]
  },
  {
   "cell_type": "code",
   "execution_count": 3,
   "metadata": {},
   "outputs": [
    {
     "name": "stdout",
     "output_type": "stream",
     "text": [
      "CPU times: user 4.31 ms, sys: 3.39 ms, total: 7.71 ms\n",
      "Wall time: 6.58 ms\n"
     ]
    },
    {
     "data": {
      "text/plain": [
       "0.5003383953839244"
      ]
     },
     "execution_count": 3,
     "metadata": {},
     "output_type": "execute_result"
    }
   ],
   "source": [
    "%%time\n",
    "N = 1000000\n",
    "np.mean(np.random.random(size=N))"
   ]
  },
  {
   "cell_type": "markdown",
   "metadata": {},
   "source": [
    "Entre la code Python de base et la code `numpy` il y a un facteur 10 entre les vitesses. Dans ce cas on peut faire encore un dizaine fois d'amélioration par parallélisation, mais cela sort du cadre du cours. Si vous êtes intéressé par la parallélisation en Python, c'est assez facile en utilisant [Numba](https://numba.pydata.org/) ou [Cython](https://cython.org/).\n",
    "\n",
    "On arrive alors à la règle de base pour ce séries:\n",
    "\n",
    "_____\n",
    ">**Règle de base**   \n",
    ">_Il est interdit d'utilliser les boucles_ `for` _et_ `while`  \n",
    "\n",
    "_____"
   ]
  },
  {
   "cell_type": "markdown",
   "metadata": {},
   "source": [
    "### Exercice 1a)\n",
    "\n",
    "On peut calculer les sommes de tous les colonnes (premier axe) d'une matrice comme ça:"
   ]
  },
  {
   "cell_type": "code",
   "execution_count": 4,
   "metadata": {},
   "outputs": [
    {
     "data": {
      "text/plain": [
       "array([ 0.06716459,  2.6965451 ,  0.37879613,  5.8154886 , -3.35450221,\n",
       "        0.73545801, -0.47835095, -0.00911386,  1.84349309,  3.05242514])"
      ]
     },
     "execution_count": 4,
     "metadata": {},
     "output_type": "execute_result"
    }
   ],
   "source": [
    "np.random.seed(179) # Fixer la graine aléatoire, ne le changez pas !\n",
    "A = np.random.normal(size=(8,10))\n",
    "\n",
    "np.sum(A, axis=0)"
   ]
  },
  {
   "cell_type": "markdown",
   "metadata": {},
   "source": [
    "_____\n",
    "> __Exercice 1a)__  \n",
    "> Calculer les moyennes des lignes de cette matrice `A` et stocker le résultat dans une variable qui est appelée `moyennes`\n",
    "\n",
    "_____"
   ]
  },
  {
   "cell_type": "code",
   "execution_count": 5,
   "metadata": {
    "nbgrader": {
     "grade": true,
     "grade_id": "cell-e4440a1228e91729",
     "locked": false,
     "points": 0,
     "schema_version": 3,
     "solution": true,
     "task": false
    }
   },
   "outputs": [],
   "source": [
    "### BEGIN SOLUTION\n",
    "moyennes = np.mean(A, axis=1)\n",
    "### END SOLUTION"
   ]
  },
  {
   "cell_type": "code",
   "execution_count": 6,
   "metadata": {
    "nbgrader": {
     "grade": true,
     "grade_id": "cell-abf8a1dfedcada9e",
     "locked": true,
     "points": 1,
     "schema_version": 3,
     "solution": false,
     "task": false
    }
   },
   "outputs": [],
   "source": [
    "### TESTES AUTOMATIQUES\n",
    "try:\n",
    "    moyennes\n",
    "except NameError:\n",
    "    raise AssertionError(\"Stocker le résultat dans une variable qui est appelée `moyennes`\")\n",
    "assert type(moyennes)==np.ndarray, \"Le resultat n'est pas un numpy array\"\n",
    "assert moyennes.shape == (8,), \"Vérifier que vous avez utilisé l'axe correct\" \n",
    "assert np.sum(moyennes) < 2, \"Vérifier que vous calculer la moyenne (pas la somme)\"\n",
    "assert abs(0.051629-moyennes[0])<1e-4, \"Vérifier que vous avez utilisé l'axe correct\" "
   ]
  },
  {
   "cell_type": "markdown",
   "metadata": {},
   "source": [
    "### Exercice 1b)\n",
    "\n",
    "Si on applique des fonctions comme $\\exp$ ou $\\cos$ à un array, le résultat est un array de même forme. Par exemple on peut calculer les points $(\\cos(t),\\sin(t))$ pour 100 valeurs $t\\in [0,2\\pi)$ comme ça :"
   ]
  },
  {
   "cell_type": "code",
   "execution_count": 7,
   "metadata": {},
   "outputs": [
    {
     "data": {
      "image/png": "[encoded data removed]",
      "text/plain": [
       "<Figure size 432x288 with 1 Axes>"
      ]
     },
     "metadata": {
      "needs_background": "light"
     },
     "output_type": "display_data"
    }
   ],
   "source": [
    "t = np.linspace(0, 2*np.pi, 100)\n",
    "x = np.cos(t)\n",
    "y = np.sin(t)\n",
    "\n",
    "plt.plot(x,y);"
   ]
  },
  {
   "cell_type": "markdown",
   "metadata": {},
   "source": [
    "_____\n",
    "> **Exercice 1b)**  \n",
    "\n",
    " - Définir un array `x` avec 50 valeurs réparties uniformément entre $[-5,5]$  \n",
    "\n",
    " - Calculer $y=\\frac{1}{\\sqrt{2\\pi}}\\exp\\left(-\\frac12 x^2\\right)$ pour chaque entrée de `x` et stocker le résultat dans un array qui est appelée `y`.\n",
    "\n",
    "_____"
   ]
  },
  {
   "cell_type": "code",
   "execution_count": 8,
   "metadata": {
    "nbgrader": {
     "grade": false,
     "grade_id": "cell-27f44ba56c474b84",
     "locked": false,
     "schema_version": 3,
     "solution": true,
     "task": false
    }
   },
   "outputs": [
    {
     "data": {
      "text/plain": [
       "[<matplotlib.lines.Line2D at 0x7fe542037790>]"
      ]
     },
     "execution_count": 8,
     "metadata": {},
     "output_type": "execute_result"
    },
    {
     "data": {
      "image/png": "[encoded data removed]",
      "text/plain": [
       "<Figure size 432x288 with 1 Axes>"
      ]
     },
     "metadata": {
      "needs_background": "light"
     },
     "output_type": "display_data"
    }
   ],
   "source": [
    "### BEGIN SOLUTION\n",
    "x = np.linspace(-5,5,50)\n",
    "y = 1/(np.sqrt(2*np.pi))*np.exp(-0.5*x**2)\n",
    "### END SOLUTION\n",
    "\n",
    "plt.plot(x,y)"
   ]
  },
  {
   "cell_type": "code",
   "execution_count": 9,
   "metadata": {
    "nbgrader": {
     "grade": true,
     "grade_id": "cell-f434a56db7b5346f",
     "locked": true,
     "points": 1,
     "schema_version": 3,
     "solution": false,
     "task": false
    }
   },
   "outputs": [],
   "source": [
    "### TESTES AUTOMATIQUES\n",
    "assert type(x)==type(y)==np.ndarray, \"Le resultat n'est pas un numpy array\"\n",
    "assert abs(np.sum(x)) < 1e-8, \"Vérifier que x se compose de valeurs entre -5 et 5\"\n",
    "assert np.min(x) == -5.0, \"Vérifier que x se compose de valeurs entre -5 et 5\"\n",
    "assert np.max(x) == 5.0, \"Vérifier que x se compose de valeurs entre -5 et 5\"\n",
    "assert len(x) == len(y) == 50, \"Vérifier que x et y sont de taille 50\"\n",
    "assert abs(np.sum(y)-4.9) < 1e-4, \"Vérifier la définition de y\"\n",
    "assert np.min(y)<1e-4, \"Vérifier la définition de y\""
   ]
  },
  {
   "cell_type": "markdown",
   "metadata": {},
   "source": [
    "### Exercice 1c)\n",
    "\n",
    "On peut appliquer des comparaisons à des tableaux. Par exemple, on peut vérifier pour chaque élément d'un tableau s'il est positif ou non :"
   ]
  },
  {
   "cell_type": "code",
   "execution_count": 10,
   "metadata": {},
   "outputs": [
    {
     "data": {
      "text/plain": [
       "array([False, False, False, False, False,  True,  True,  True,  True,\n",
       "        True])"
      ]
     },
     "execution_count": 10,
     "metadata": {},
     "output_type": "execute_result"
    }
   ],
   "source": [
    "x = np.linspace(-1,1,10)\n",
    "x > 0"
   ]
  },
  {
   "cell_type": "markdown",
   "metadata": {},
   "source": [
    "Ce nous donne un tableau avec des entrées booléennes. Si l'on calcule la somme des entrées de ce tableau, on obtient le nombre des elements positifs :"
   ]
  },
  {
   "cell_type": "code",
   "execution_count": 11,
   "metadata": {},
   "outputs": [
    {
     "data": {
      "text/plain": [
       "5"
      ]
     },
     "execution_count": 11,
     "metadata": {},
     "output_type": "execute_result"
    }
   ],
   "source": [
    "np.sum(x>0)"
   ]
  },
  {
   "cell_type": "markdown",
   "metadata": {},
   "source": [
    "On peut aussi utiliser les tableaux booléens pour sélectionner des éléments. Par exemple, on sélectionne les éléments de `x` qui sont plus grand que 0.2 comme ça:"
   ]
  },
  {
   "cell_type": "code",
   "execution_count": 12,
   "metadata": {},
   "outputs": [
    {
     "data": {
      "text/plain": [
       "array([0.33333333, 0.55555556, 0.77777778, 1.        ])"
      ]
     },
     "execution_count": 12,
     "metadata": {},
     "output_type": "execute_result"
    }
   ],
   "source": [
    "x[x>0.2]"
   ]
  },
  {
   "cell_type": "markdown",
   "metadata": {},
   "source": [
    "______\n",
    "> **Exercice 1c)**  \n",
    "\n",
    " - Considerons le tableau `A` defini ci-dessous  \n",
    "\n",
    " - Calculer pour chaque ligne (deuxième axe) le nombre d'entrées qui sont plus grandes que 0.5, stocker le résultat dans un tableau `x`.  \n",
    "\n",
    " - Créer un tableau `y` qui contient les entrées de `x` qui sont moins grandes que 5.\n",
    "\n",
    "_______"
   ]
  },
  {
   "cell_type": "code",
   "execution_count": 13,
   "metadata": {
    "nbgrader": {
     "grade": false,
     "grade_id": "cell-aca44692a0a75d8d",
     "locked": false,
     "schema_version": 3,
     "solution": true,
     "task": false
    }
   },
   "outputs": [],
   "source": [
    "np.random.seed(179) # Fixer la graine aléatoire, ne le changez pas !\n",
    "A = np.random.random(size=(100,10))\n",
    "\n",
    "### BEGIN SOLUTION\n",
    "x = np.sum(A>0.5, axis=1)\n",
    "y = x[x<5]\n",
    "### END SOLUTION"
   ]
  },
  {
   "cell_type": "code",
   "execution_count": 14,
   "metadata": {
    "nbgrader": {
     "grade": true,
     "grade_id": "cell-112f13c402bc235c",
     "locked": true,
     "points": 1,
     "schema_version": 3,
     "solution": false,
     "task": false
    }
   },
   "outputs": [],
   "source": [
    "### TESTES AUTOMATIQUES\n",
    "assert type(x) == type(y) == np.ndarray, \"Le resultat n'est pas un numpy array\"\n",
    "assert np.shape(x) == (100,), \"Vérifier que vous avez utilisé l'axe correct\"\n",
    "assert np.shape(y) == (37,), \"Vérifier la définition de y\" \n",
    "assert np.sum(x) == 507, \"Vérifier la définition de x\" \n",
    "assert np.sum(y) == 129, \"Vérifier la définition de y\""
   ]
  },
  {
   "cell_type": "markdown",
   "metadata": {},
   "source": [
    "## Partie 2: Échantillonnage à partir de distributions"
   ]
  },
  {
   "cell_type": "markdown",
   "metadata": {},
   "source": [
    "________\n",
    "    \n",
    "> **N.B.**  \n",
    "> _Dans ces exercices vous pouvez seulement utiliser_ `np.random.random` _comme source des nombres pseudo-aléatoires._  \n",
    "    \n",
    "________\n",
    "\n",
    "Quand on veut faire des simulations de modèles statistiques, on a souvent besoin d'échantillons aléatoires à partir de certaines distributions. À la base de échantillonnage est un générateur de nombres pseudo-aléatoires. Avec un tel générateur on peut générer des nombres aléatoires à partir de distribution uniforme sur [0,1). Nous ne discuterons pas de comment les nombres aléatoires sont générés, et nous nous concentrerons sur comment transformer les échantillons à partir de [0,1) à certaines distributions.\n",
    "\n",
    "Par exemple, considérons la distribution de Bernoulli. Si $Y$ est de Bernoulli avec paramètre $0\\leq p\\leq 1$ alors\n",
    "\n",
    "$$\n",
    "    P(Y=1) = p,\\qquad P(Y=0) = 1-p\n",
    "$$\n",
    "\n",
    "Si $X\\sim U(0,1)$ est uniforme, on peut alors définir\n",
    "\n",
    "$$\n",
    "    Z:=\\left\\{\\begin{matrix}1 &\\text{si } X\\leq p\\\\ 0 & \\text{si } X>p\\end{matrix}\\right.\n",
    "$$\n",
    "\n",
    "On calcule\n",
    "\n",
    "$$\n",
    "\\begin{align}\n",
    "    P(Z=1) &= P(0\\leq X\\leq p) = p\\\\\n",
    "    P(Z=0) &= P(p<X\\leq 1) = 1-p\n",
    "\\end{align}\n",
    "$$\n",
    "\n",
    "On conclut alors que $Z$ est de Bernoulli. Ce nous donne une recette pour générer des échantillons de Bernoulli: nous générons des nombres de manière uniforme, et puis nous vérifons lesquels sont plus grand que $p$. En code :"
   ]
  },
  {
   "cell_type": "code",
   "execution_count": 15,
   "metadata": {},
   "outputs": [
    {
     "data": {
      "text/plain": [
       "array([1, 0, 0, 1, 1, 1, 1, 0, 1, 1])"
      ]
     },
     "execution_count": 15,
     "metadata": {},
     "output_type": "execute_result"
    }
   ],
   "source": [
    "def bernoulli(p, N):\n",
    "    \"\"\"Générer un échantillon de taille `N` à partir de Bernoulli \n",
    "    avec paramètre `p`\"\"\"\n",
    "    \n",
    "    # Générer N nombres aléatoires uniformes\n",
    "    x = np.random.random(size=N)\n",
    "    \n",
    "    # Vérifons lesquels sont plus grand que p\n",
    "    # Convertir le resultat vers un tableau d'entiers et renvoie\n",
    "    return (x>p).astype(int)\n",
    "\n",
    "bernoulli(0.3, 10)"
   ]
  },
  {
   "cell_type": "markdown",
   "metadata": {},
   "source": [
    "### Exercice 2a) Loi binomiale\n",
    "\n",
    "Un variable aléatoire bionomial $X\\sim \\operatorname{Bin}(n,p)$ est une somme des $n$ variables de Bernoulli avec paramètres $p$. On peut donc générer un échantillon binomial par générer un échantillon de distribution uniforme de taille $n$, et puis compter combien sont moins grand que $p$. \n",
    "\n",
    "_____\n",
    "> **Exercice 2a)**  \n",
    "> Écrire une fonction `binomial(n, p, N)` qui génère un échantillon de $\\operatorname{Bin}(n,p)$ de taille $N$.  \n",
    "> Vous pouvez générer un échantillon uniforme de taille $n\\times N$ en utilisant  \n",
    "```\n",
    "    np.random.random(size=(n, N))\n",
    "```\n",
    "> Si votre réponse est correcte, le densité empirique et théorique dans le graphe ci-dessous doivent être proche.\n",
    "\n",
    "_____"
   ]
  },
  {
   "cell_type": "code",
   "execution_count": 16,
   "metadata": {
    "nbgrader": {
     "grade": false,
     "grade_id": "cell-16cf866b62025c10",
     "locked": false,
     "schema_version": 3,
     "solution": true,
     "task": false
    },
    "scrolled": true
   },
   "outputs": [
    {
     "data": {
      "image/png": "[encoded data removed]",
      "text/plain": [
       "<Figure size 432x288 with 1 Axes>"
      ]
     },
     "metadata": {
      "needs_background": "light"
     },
     "output_type": "display_data"
    }
   ],
   "source": [
    "def binomial(n, p, N):\n",
    "    \"\"\"Générer un échantillon binomial de taille `N` et \n",
    "    paramètres `n` et `p`\"\"\"\n",
    "    \n",
    "    ### BEGIN SOLUTION\n",
    "    x = np.random.random(size=(n, N))\n",
    "    return np.sum(x < p, axis=0)\n",
    "    ### END SOLUTION\n",
    "\n",
    "N=100000\n",
    "n=10\n",
    "p=0.4\n",
    "\n",
    "plt.plot(np.bincount(binomial(n, p, N)) / N, '.', label='densité empirique')\n",
    "k = np.arange(n+1)\n",
    "plt.plot(k, scipy.special.binom(n,k) * (p**k) * (1-p)**(n-k), label='densité théorique')\n",
    "plt.legend();"
   ]
  },
  {
   "cell_type": "code",
   "execution_count": 17,
   "metadata": {
    "nbgrader": {
     "grade": true,
     "grade_id": "cell-9b9a0903a2c889f0",
     "locked": true,
     "points": 1,
     "schema_version": 3,
     "solution": false,
     "task": false
    }
   },
   "outputs": [],
   "source": [
    "### TESTES AUTOMATIQUES\n",
    "np.random.seed(179)\n",
    "sample = binomial(10,0.3,100000)\n",
    "assert type(sample)==np.ndarray, \"La résultat n'est pas un numpy array\"\n",
    "assert sample.shape == (100000,), \"La taille de échantillon n'est pas correcte\"\n",
    "assert abs(np.mean(sample)-3) < 1e-2, \"Vérifier que votre implementation est correcte\"\n",
    "assert abs(np.std(sample)-np.sqrt(10*0.3*0.7)) < 1e-2, \"Vérifier que votre implementation est correcte\""
   ]
  },
  {
   "cell_type": "markdown",
   "metadata": {},
   "source": [
    "### Exercice 2b) Loi normale\n",
    "\n",
    "La loi normale standard est omniprésente dans la statistique. La densité de la loi normale est donnée par\n",
    "\n",
    "$$\n",
    "    f(x) = \\frac{1}{\\sqrt{2\\pi}}\\exp\\left(-\\frac12 x^2\\right)\n",
    "$$\n",
    "\n",
    "On peut générer un échantillon normal en utilisant la transformation de Box-Muller. Soient $X$ et $Y$ deux variables aléatoires indépendantes uniformes. Définisons la transformation de Box-Muller de $X$ et $Y$ par\n",
    "\n",
    "$$\n",
    "    Z = R\\cos\\theta =\\sqrt{-2\\log(X)}\\cos(2\\pi Y)\n",
    "$$\n",
    "\n",
    "On peut prouver que $Z$ suit une loi normale [(lire cette page Wikipedia pour plus des informations)](https://fr.wikipedia.org/wiki/M%C3%A9thode_de_Box-Muller)\n",
    "\n",
    "_____\n",
    ">**Exercice 2b)**     \n",
    "> Écrivez une fonction `normal(N)` qui donne un échantillon de taille `N` de loi normale, en utilisant la transformation de Box-Muller.  \n",
    "> Utilisez deux échantillons de loi uniforme par échantillion de loi normale.  \n",
    "> Si votre réponse est correcte, les densités théorique et empirique dans le graphe ci-dessous doivent être proche.\n",
    "\n",
    "_____"
   ]
  },
  {
   "cell_type": "code",
   "execution_count": 18,
   "metadata": {
    "nbgrader": {
     "grade": false,
     "grade_id": "cell-5761509e8c9d6f0d",
     "locked": false,
     "schema_version": 3,
     "solution": true,
     "task": false
    }
   },
   "outputs": [
    {
     "data": {
      "image/png": "[encoded data removed]",
      "text/plain": [
       "<Figure size 432x288 with 1 Axes>"
      ]
     },
     "metadata": {
      "needs_background": "light"
     },
     "output_type": "display_data"
    }
   ],
   "source": [
    "def normal(N):\n",
    "    \"\"\"Générer un échantillon de taille `N` de la loi normale\"\"\"\n",
    "    ### BEGIN SOLUTION\n",
    "    x = np.random.random(size=(2,N))\n",
    "    R = np.sqrt(-2*np.log(x[0,:]))\n",
    "    cos_theta = np.cos(2*np.pi*x[1,:])\n",
    "    return R*cos_theta\n",
    "    ### END SOLUTION\n",
    "\n",
    "x = np.linspace(-5,5,100)\n",
    "plt.plot(x, np.exp(-x**2/2)/np.sqrt(np.pi*2), label='densité théorique')\n",
    "sns.kdeplot(normal(100000), label='densité empirique')\n",
    "plt.legend();"
   ]
  },
  {
   "cell_type": "code",
   "execution_count": 19,
   "metadata": {
    "nbgrader": {
     "grade": true,
     "grade_id": "cell-0f612806a06637cf",
     "locked": true,
     "points": 1,
     "schema_version": 3,
     "solution": false,
     "task": false
    }
   },
   "outputs": [],
   "source": [
    "### TESTES AUTOMATIQUES\n",
    "np.random.seed(179)\n",
    "sample = normal(100000)\n",
    "assert type(sample)==np.ndarray, \"La résultat n'est pas un numpy array\"\n",
    "assert sample.shape == (100000,), \"La taille de échantillon n'est pas correcte\"\n",
    "assert abs(np.mean(sample)) < 1e-2, \"Vérifier que votre implementation est correcte\"\n",
    "assert abs(np.std(sample)-1) < 1e-2, \"Vérifier que votre implementation est correcte\""
   ]
  },
  {
   "cell_type": "markdown",
   "metadata": {},
   "source": [
    "### Exercice 2c) Loi exponentielle\n",
    "\n",
    "La densité de la loi exponentielle avec paramètre $\\lambda$ est donnée par\n",
    "\n",
    "$$\n",
    "    f(x) = \\lambda \\exp(-\\lambda x)\n",
    "$$\n",
    "\n",
    "Pour l'échantillonner, on utilise la fonction de répartition $F\\colon [0,\\infty)\\to [0,1]$ :\n",
    "\n",
    "$$\n",
    "    F(x) = \\int_{-\\infty}^x\\! f(t)\\,\\mathrm dt = 1-\\exp(-\\lambda x)\n",
    "$$\n",
    "\n",
    "Soit $X$ une variable aléatoire qui suit la loi exponentielle, alors\n",
    "\n",
    "$$\n",
    "    P(X<t) = F(t)\n",
    "$$\n",
    "\n",
    "Si $Y$ est une variable aléatoire qui suit la loi uniforme sur $[0,1]$, on peut définir $Z$ par\n",
    "\n",
    "$$\n",
    "    Z = F^{-1}(Y)\n",
    "$$\n",
    "\n",
    "On calcule :\n",
    "\n",
    "$$\n",
    "    P(Z<t) = P(F^{-1}(Y) < t) = P(Y < F(t)) = F(t)\n",
    "$$\n",
    "\n",
    "on conclut alors que $Z$ est de la loi exponentielle. En général, si $F$ est la fonction de répartition d'une loi, la variable $Z=F^{-1}(Y)$ est de la même loi si $Y$ est une variable aléatoire de la loi uniforme sur $[0,1]$.\n",
    "\n",
    "_____\n",
    "> **Exercice 2c)**  \n",
    "\n",
    " - Trouvez un expression pour la inverse $F^{-1}(t)$ de la fonction de répartition de la loi exponentielle. Ecrivez le dans un cellule de markdown ci-dessous.  \n",
    "\n",
    " - Écrivez une fonction `exponential(lam, N)` qui donne une échantillon de la loi exponentielle avec parametre `lam`.\n",
    "\n",
    "_____"
   ]
  },
  {
   "cell_type": "markdown",
   "metadata": {
    "nbgrader": {
     "grade": true,
     "grade_id": "cell-ca408a5b85e025df",
     "locked": false,
     "points": 1,
     "schema_version": 3,
     "solution": true,
     "task": false
    }
   },
   "source": [
    "Encapsulez des expressions mathématiques entre signes dollar pour avoir la bonne typographie. \n",
    "\n",
    "__Écrivez votre reponse ci-dessous__\n",
    "\n",
    "$$\n",
    "    F^{-1}(t) = \n",
    "$$"
   ]
  },
  {
   "cell_type": "code",
   "execution_count": 20,
   "metadata": {
    "nbgrader": {
     "grade": false,
     "grade_id": "cell-e5e448649d6598be",
     "locked": false,
     "schema_version": 3,
     "solution": true,
     "task": false
    }
   },
   "outputs": [
    {
     "data": {
      "image/png": "[encoded data removed]",
      "text/plain": [
       "<Figure size 432x288 with 1 Axes>"
      ]
     },
     "metadata": {
      "needs_background": "light"
     },
     "output_type": "display_data"
    }
   ],
   "source": [
    "def exponential(lam, N):\n",
    "    \"\"\"Générer un échantillon de taille `N` de la loi exponentielle\n",
    "    à paramètre `lam`\"\"\"\n",
    "    \n",
    "    ### BEGIN SOLUTION\n",
    "    x = np.random.random(size=N)\n",
    "    return -np.log(1-x)/lam\n",
    "    ### END SOLUTION\n",
    "\n",
    "lam = 4\n",
    "x = np.linspace(0,3,100)\n",
    "plt.plot(x,lam*np.exp(-lam*x), label='densité théorique')\n",
    "sns.kdeplot(exponential(lam, 100000),clip=(0.05,None), label='densité empirique')\n",
    "plt.legend();"
   ]
  },
  {
   "cell_type": "code",
   "execution_count": 21,
   "metadata": {
    "nbgrader": {
     "grade": true,
     "grade_id": "cell-461db55a2659a063",
     "locked": true,
     "points": 1,
     "schema_version": 3,
     "solution": false,
     "task": false
    }
   },
   "outputs": [],
   "source": [
    "### TESTES AUTOMATIQUES\n",
    "np.random.seed(179)\n",
    "sample = exponential(2, 100000)\n",
    "assert type(sample)==np.ndarray, \"La résultat n'est pas un numpy array\"\n",
    "assert sample.shape == (100000,), \"La taille de échantillon n'est pas correcte\"\n",
    "assert abs(np.mean(sample)-0.5) < 1e-2, \"Vérifier que votre implementation est correcte\"\n",
    "assert abs(np.std(sample)-0.5) < 1e-2, \"Vérifier que votre implementation est correcte\"\n",
    "assert abs(np.median(sample)-np.log(2)*0.5) < 1e-2, \"Vérifier que votre implementation est correcte\""
   ]
  },
  {
   "cell_type": "markdown",
   "metadata": {},
   "source": [
    "### Exercice 2d) Loi de Poisson\n",
    "\n",
    "Soit $X$ une variable aléatoire de la loi de Poisson avec paramètre $\\lambda$. La fonction de masse de la loi de Poisson est donnée par\n",
    "\n",
    "$$\n",
    "    P(X=k) = \\frac{e^{-\\lambda}\\lambda^k}{k!}\n",
    "$$\n",
    "\n",
    "Pour échantillonner cette loi on va utiliser la méthode d'inverse de fonction de répartition, comme dans la cas de loi exponentielle. Dans ce cas la fonction de répartition est donnée par\n",
    "\n",
    "$$\n",
    "    F(k) = P(X\\leq k) = \\sum_{\\ell=0}^k \\frac{e^{-\\lambda}\\lambda^\\ell}{\\ell!}\n",
    "$$\n",
    "\n",
    "Si $Y$ est un variable aléatoire de loi uniforme sur $[0,1]$, on define\n",
    "\n",
    "$$\n",
    "    Z = \\min\\{k\\in \\mathbb N\\mid F(k)\\geq Y\\}\n",
    "$$\n",
    "\n",
    "et on voit que $Z$ est de la loi de Poisson.\n",
    "\n",
    "_____\n",
    "> **Exercice 2d)**  \n",
    "\n",
    " - Écrivez une fonction `poisson_repartition(lam, k_max)` qui donne un tableau avec les `k_max` premières valeurs de la fonction de répartition $F(k)$ de la loi Poisson avec paramètre `lam`.  \n",
    " \n",
    "Suggestion : Utilisez `scipy.special.factorial` et `np.cumsum`  \n",
    " \n",
    " - Écrivez une fonction `poisson(lam, N)` qui donne un échantillon de la loi de Poisson avec paramètre `lam`.  \n",
    "\n",
    "Suggestion : Utilisez `np.searchsorted` pour calculer la variable $Z$ ci-dessus\n",
    "\n",
    "_____"
   ]
  },
  {
   "cell_type": "code",
   "execution_count": 22,
   "metadata": {
    "nbgrader": {
     "grade": false,
     "grade_id": "cell-0319b96e3c4b12dd",
     "locked": false,
     "schema_version": 3,
     "solution": true,
     "task": false
    }
   },
   "outputs": [
    {
     "data": {
      "image/png": "[encoded data removed]",
      "text/plain": [
       "<Figure size 432x288 with 1 Axes>"
      ]
     },
     "metadata": {
      "needs_background": "light"
     },
     "output_type": "display_data"
    }
   ],
   "source": [
    "from scipy.special import factorial\n",
    "\n",
    "def poisson_repartition(lam, k_max):\n",
    "    \"\"\"Calculer la tableau de `k_max` premiers valeurs de fonction\n",
    "    de répartition de la loi de Poisson avec paramètre `lam`\"\"\"\n",
    "    \n",
    "    ### BEGIN SOLUTION\n",
    "    k = np.arange(k_max)\n",
    "    return np.cumsum(np.exp(-lam)*lam**k/factorial(k))\n",
    "    ### END SOLUTION\n",
    "\n",
    "def poisson(lam, N):\n",
    "    \"\"\"Générer un échantillon de taille `N` de la loi de Poisson\n",
    "    à paramètre `lam`\"\"\"\n",
    "    \n",
    "    k_max = max(int(lam*10),10)  # Heuristique pour k_max\n",
    "    repartition = poisson_repartition(lam, k_max)\n",
    "    \n",
    "    ### BEGIN SOLUTION\n",
    "    x = np.random.random(size=N)\n",
    "    return np.searchsorted(repartition, x)\n",
    "    ### END SOLUTION\n",
    "\n",
    "lam = 4\n",
    "N = 100000\n",
    "k = np.arange(17)\n",
    "plt.plot(np.bincount(poisson(lam,N))/N,'.', label='densité empirique')\n",
    "plt.plot(scipy.stats.poisson.pmf(k, lam), label='densité théorique')\n",
    "plt.legend();"
   ]
  },
  {
   "cell_type": "code",
   "execution_count": 23,
   "metadata": {
    "nbgrader": {
     "grade": true,
     "grade_id": "cell-4f3bfa08e1bd7d29",
     "locked": true,
     "points": 2,
     "schema_version": 3,
     "solution": false,
     "task": false
    }
   },
   "outputs": [],
   "source": [
    "### TESTES AUTOMATIQUES\n",
    "np.random.seed(179)\n",
    "repartition = poisson_repartition(2,10)\n",
    "assert type(repartition)==np.ndarray, \"La résultat n'est pas un numpy array\"\n",
    "assert len(repartition) == 10, \"La résultat n'est pas de bonne taille\"\n",
    "assert abs(np.mean(repartition)-0.8) < 1e-6, \"Vérifier que votre implementation est correcte\"\n",
    "assert np.max(repartition)<1, \"Vérifier que votre implementation est correcte\"\n",
    "assert 1-repartition[-1]<1e-3, \"Vérifier que votre implementation est correcte\"\n",
    "assert 0<repartition[0]<0.15, \"Vérifier que votre implementation est correcte\"\n",
    "\n",
    "sample = poisson(2, 100000)\n",
    "assert type(sample)==np.ndarray, \"La résultat n'est pas un numpy array\"\n",
    "assert sample.shape == (100000,), \"La taille de échantillon n'est pas correcte\"\n",
    "assert abs(np.mean(sample)-2) < 1e-2, \"Vérifier que votre implementation est correcte\"\n",
    "assert abs(np.std(sample)-np.sqrt(2)) < 1e-2, \"Vérifier que votre implementation est correcte\"\n",
    "assert np.min(sample) == 0, \"Vérifier que votre implementation est correcte\""
   ]
  }
 ],
 "metadata": {
  "celltoolbar": "Create Assignment",
  "kernelspec": {
   "display_name": "Python 3",
   "language": "python",
   "name": "python3"
  },
  "language_info": {
   "codemirror_mode": {
    "name": "ipython",
    "version": 3
   },
   "file_extension": ".py",
   "mimetype": "text/x-python",
   "name": "python",
   "nbconvert_exporter": "python",
   "pygments_lexer": "ipython3",
   "version": "3.8.3"
  }
 },
 "nbformat": 4,
 "nbformat_minor": 4
}
