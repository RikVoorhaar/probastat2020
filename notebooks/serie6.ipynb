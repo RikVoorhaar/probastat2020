{
 "cells": [
  {
   "cell_type": "markdown",
   "metadata": {},
   "source": [
    "[![Open in Colab](https://colab.research.google.com/assets/colab-badge.svg)](https://colab.research.google.com/github/RikVoorhaar/probastat2020/blob/master/notebooks/serie6.ipynb?hl=fr)\n",
    "\n",
    "# Série 6"
   ]
  },
  {
   "cell_type": "markdown",
   "metadata": {},
   "source": [
    "## Exercice 1\n",
    "\n",
    "<div class=\"alert alert-info\">\n",
    "**Exercice** \n",
    "\n",
    "On jette un dé 3 fois. Pour $1\\leq i<j\\leq 3$ on note $A_{ij}$ l'évènement «obtenir le même résultat au jeté $i$ et au jeté $j$».\n",
    "\n",
    "Prouver que les évènements  $A_{ij}$ sont  deux-à-deux indépendants mais ne sont pas mutuellement indépendants. \n",
    "</div>"
   ]
  },
  {
   "cell_type": "markdown",
   "metadata": {},
   "source": [
    "## Exercice 2\n",
    "\n",
    "\n",
    "\n",
    "<div class=\"alert alert-info\">\n",
    "**Exercice**\n",
    "\n",
    "Un ascenseur dessert les $k$ étages d'un immeuble (étage 1, \\dots, étage k). Au rez-de-chaussée (étage $0$), $n$ personnes rentrent dans l'ascenseur. On suppose que chaque personne \n",
    "se rend à l'étage $1\\leq i\\leq k$ avec une probabilité $1/k$, indépendamment des autres personnes.\n",
    "</div>"
   ]
  },
  {
   "cell_type": "markdown",
   "metadata": {},
   "source": [
    "### Exercice 2a)\n",
    "\n",
    "<div class=\"alert alert-info\">\n",
    "**Exercice**\n",
    "    \n",
    "Quelle est la probabilité qu'un passager ne sorte pas à l'étage $i$ ?\n",
    "</div>"
   ]
  },
  {
   "cell_type": "markdown",
   "metadata": {},
   "source": [
    "### Exercice 2b)\n",
    "\n",
    "<div class=\"alert alert-info\">\n",
    "**Exercice**\n",
    "    \n",
    "Quelle est la probabilité qu'aucun passager ne sorte à l'étage $i$ ?\n",
    "</div>"
   ]
  },
  {
   "cell_type": "markdown",
   "metadata": {},
   "source": [
    "### Exercice 2c)\n",
    "\n",
    "<div class=\"alert alert-info\">\n",
    "**Exercice**\n",
    "    \n",
    "Quelle est la probabilité que l'ascenseur s'arrête à l'étage $i$ ?\n",
    "</div>"
   ]
  },
  {
   "cell_type": "markdown",
   "metadata": {},
   "source": [
    "### Exercice 2d)\n",
    "\n",
    "<div class=\"alert alert-info\">\n",
    "**Exercice**\n",
    "    \n",
    "Soit $N_i$ la variable aléatoire qui prend la valeur $1$ si l'ascenseur s'arrête à l'étage $i$ et  qui prend la valeur $0$ si l'ascenseur ne s'arrête pas à l'étage $i$, calculer $\\mathbb E[N_i]$.\n",
    "</div>"
   ]
  },
  {
   "cell_type": "markdown",
   "metadata": {},
   "source": [
    "### Exercice 2e)\n",
    "\n",
    "<div class=\"alert alert-info\">\n",
    "**Exercice**\n",
    "    \n",
    "Les variables aléatoires $N_1,\\dots,N_k$ sont-elles indépendantes ?\n",
    "</div>"
   ]
  },
  {
   "cell_type": "markdown",
   "metadata": {},
   "source": [
    "### Exercice 2f)\n",
    "\n",
    "<div class=\"alert alert-info\">\n",
    "**Exercice**\n",
    "    \n",
    "Quelle est l'espérence du nombre d'arrêts de l'ascenseur ?\n",
    "</div>"
   ]
  },
  {
   "cell_type": "markdown",
   "metadata": {},
   "source": [
    "## Exercice 3\n",
    "\n",
    "### Exercice 3a)\n",
    "\n",
    "<div class=\"alert alert-info\">\n",
    "**Exercice** Cauchy-Schwarz et variance.\n",
    "\n",
    "On rappelle l’inégalité de Cauchy Schwarz pour les fonctions d’une\n",
    "variable réelle. Soit $f, g \\colon \\mathbb R\\to\\mathbb R$, deux fonctions continues par morceaux. Alors\n",
    "    \n",
    "$$\n",
    "\\left\\|\\int_{-\\infty}^\\infty\\!f(x)g(x)\\,\\mathrm dx\\right\\| \\leq \\sqrt{\\int_{-\\infty}^\\infty\\!f(x)^2\\,\\mathrm dx}\\sqrt{\\int_{-\\infty}^\\infty\\!g(x)^2\\,\\mathrm dx}\n",
    "$$\n",
    "\n",
    "Soit $X$ une variable aléatoire à valeurs réelles admettant une densité $f_X \\colon \\mathbb R \\to [0, \\infty[$. Supposons que $\\mathbb E[X^2] < \\infty$. Prouver qu’alors $|\\mathbb E[x]|<\\infty$. Suggestion : poser $f(x) = xf_X^{\\frac12}(x)$ et $g(x) = f^{\\frac12}_X(x)$ et appliquer Cauchy-Schwarz.\n",
    "\n",
    "</div>"
   ]
  },
  {
   "cell_type": "markdown",
   "metadata": {},
   "source": [
    "### Exercice 3b)\n",
    "\n",
    "<div class=\"alert alert-info\">\n",
    "**Exercice**\n",
    "    \n",
    "En déduire que Var(X) < ∞.\n",
    "</div>"
   ]
  },
  {
   "cell_type": "markdown",
   "metadata": {},
   "source": [
    "## Exercice 4\n",
    "\n",
    "<div class=\"alert alert-info\">\n",
    "**Exercice**\n",
    "    \n",
    "Soit $X$ une variable aléatoire à valeurs dans l’intervalle $[-1, 1]$, de\n",
    "loi uniforme. (Ce qui signifie que la densité de probabilité qui définit\n",
    "la loi de $X$ est $f_X(x) = 1/2$ pour tout $x \\in [-1, 1]$ et $f_X(x) = 0$ si\n",
    "$|x| > 1$). Soit $Y = X^2$. Prouver que $X$ et $Y$ ne sont pas indépendantes\n",
    "mais que $\\operatorname{cov}(X, Y ) = 0$.\n",
    "</div>"
   ]
  },
  {
   "cell_type": "markdown",
   "metadata": {},
   "source": [
    "## Exercice 5\n",
    "\n",
    "<div class=\"alert alert-info\">\n",
    "**Exercice**  Tirages de Bernoulli et loi de Poisson.\n",
    "\n",
    "Soit $p,q\\geq 0$, tels que $p+q=1$. Soit $X$ une variable aléatoire à valeurs dans $\\{0,1\\}$ qui suit une loi de Bernoulli de paramètres $p,q$, c'est-à-dire que\n",
    "\n",
    "$$\n",
    "    \\mathbb P(X=1)=p,\\, \\mathbb P(X=0)=q.\n",
    "$$\n",
    "    \n",
    "Notons $\\tau$ la permutation de $\\{0,1\\}$ telle que $\\tau(0)=1, \\tau(1)=0$. Soit $Y=\\tau\\circ X$ la composition de $X$ et $\\tau$.\n",
    "Pour $i\\in\\mathbb N\\cup\\{0\\}$, soient  $X_i$  des variables aléatoires mutuellement indépendantes de même loi que $X$ et \n",
    "soient $Y_i$ des variables aléatoires mutuellement indépendantes de même loi que $Y$.\n",
    "</div>\n",
    "\n",
    "### Exercice 5a)\n",
    "\n",
    "<div class=\"alert alert-info\">\n",
    "**Exercice** \n",
    "\n",
    "i. Décrire la loi de $Y$, c'est-à-dire, calculer $\\mathbb P(Y=1)$ et $\\mathbb P(Y=0)$.\n",
    "    \n",
    "ii. Soit $n\\in\\mathbb N\\cup\\{0\\}$ soit $S_n=\\sum_{i=0}^{n}X_i$ \n",
    "et soit $U_n=\\sum_{i=0}^{n}Y_i$.\n",
    "Pour $0\\leq k,l\\leq n$ Calculer $\\mathbb P(S_n=k)$ et  $\\mathbb P(U_n=l)$ \n",
    "</div>"
   ]
  },
  {
   "cell_type": "markdown",
   "metadata": {},
   "source": [
    "### Exercice 5b)\n",
    "\n",
    "<div class=\"alert alert-info\">\n",
    "**Exercice**\n",
    "    \n",
    "Les variables $S_n$ et $U_n$ sont-elles indépendantes ?\n",
    "</div>"
   ]
  },
  {
   "cell_type": "markdown",
   "metadata": {},
   "source": [
    "### Exercice 5c)\n",
    "\n",
    "<div class=\"alert alert-info\">\n",
    "**Exercice**\n",
    "    \n",
    "On considère une pièce qui a la propriété de tomber sur face avec probabilité $p$. On interprète $S_n$ comme le nombre de faces obtenues en jetant $n+1$ fois ladite pièce. Comment interpréter $U_n$ ?  \n",
    "</div>"
   ]
  },
  {
   "cell_type": "markdown",
   "metadata": {},
   "source": [
    "### Exercice 5d)\n",
    "\n",
    "<div class=\"alert alert-info\">\n",
    "**Exercice**\n",
    "    \n",
    "Soit $T$ une variable aléatoire à valeurs dans $\\mathbb N\\cup\\{0\\}$ de loi de Poisson de paramètre $\\lambda$, c'est-à-dire que\n",
    "\n",
    "$$\n",
    "    \\mathbb P(T=n)=\\frac{\\lambda^n}{n!}e^{-\\lambda}.\n",
    "$$\n",
    "\n",
    "Prouver que l'on a bien\n",
    "\n",
    "$$\n",
    "    \\sum_{n\\geq 0}\\mathbb P(T=n)=1.\n",
    "$$\n",
    "\n",
    "</div>"
   ]
  },
  {
   "cell_type": "markdown",
   "metadata": {},
   "source": [
    "### Exercice 5e)\n",
    "\n",
    "<div class=\"alert alert-info\">\n",
    "**Exercice**\n",
    "    \n",
    "Prouver l'dentité purement algébrique suivante : pour tout $k\\in \\mathbb N\\cup\\{0\\}$\n",
    "\n",
    "$$\n",
    "\\sum_{n\\geq k}\\binom{n}{k}p^kq^{n-k}\\frac{\\lambda^n}{n!}e^{-\\lambda}=\\frac{(\\lambda p)^k}{k!}e^{-\\lambda p}.\n",
    "$$\n",
    "</div>"
   ]
  },
  {
   "cell_type": "markdown",
   "metadata": {},
   "source": [
    "### Exercice 5f)\n",
    "\n",
    "<div class=\"alert alert-info\">\n",
    "**Exercice**\n",
    "    \n",
    "Soit $S_T=\\sum_{i=0}^TX_i$ la variable aléatoire qui somme les $T+1$ premières variables $X_i$ (où le nombre de termes dans la somme est déterminé aléatoirement selon la loi de $T$ - on suppose que $T$ est indépendante des $X_i$). De même, soit $U_T=\\sum_{i=0}^TY_i$ la variable aléatoire qui somme les $T+1$ premières variables $Y_i$.\n",
    "Soient $k,l\\in\\mathbb N\\cup\\{0\\}$. Prouver que\n",
    "\n",
    "$$\n",
    "\\mathbb P(S_T=k, U_T=l)=\\mathbb P(S_T=k)\\mathbb P(U_T=l).\n",
    "$$\n",
    "\n",
    "Suggestions. Pour calculer $\\mathbb P(S_T=k, U_T=l)$, poser $n=k+l$ afin de réaliser que le calcul de $\\mathbb P(S_T=k, U_T=l|T=k+l)$ a déjà été fait, et appliquer la définition d'une probabilité conditionnelle qui dit que :\n",
    "\n",
    "$$\n",
    "\\mathbb P(S_T=k, U_T=l)=\\mathbb P(S_T=k, U_T=l|T=k+l)\\mathbb P(T=k+l).\n",
    "$$\n",
    "\n",
    "Pour calculer $\\mathbb P(S_T=k)$, appliquer la formule\n",
    "\n",
    "$$\n",
    "\\mathbb P(S_T=k)=\\sum_{n\\geq k}\\mathbb P(S_T=k|T=n)\\mathbb P(T=n),\n",
    "$$\n",
    "\n",
    "puis l'identité purement algébrique ci-dessus.\n",
    "</div>"
   ]
  },
  {
   "cell_type": "markdown",
   "metadata": {},
   "source": [
    "### Exercice 5g)\n",
    "\n",
    "<div class=\"alert alert-info\">\n",
    "**Exercice**\n",
    "    \n",
    "On peut interpréter  $S_T$ ainsi. On considère une pièce qui a la propriété de tomber sur face avec probabilité $p$. On choisi un entier $T$ au hasard selon la loi de Poisson de paramètre $\\lambda$ et on tire au hasard $T+1$ ladite  pièce, on compte le nombre de faces obtenues. Comment interpréter  $U_T$ ?  \n",
    "</div>"
   ]
  },
  {
   "cell_type": "markdown",
   "metadata": {},
   "source": [
    "### Exercice 5h)\n",
    "\n",
    "<div class=\"alert alert-info\">\n",
    "**Exercice**\n",
    "    \n",
    "Les variables $S_T$ et $U_T$ sont-elles indépendantes ?\n",
    "</div>"
   ]
  }
 ],
 "metadata": {
  "kernelspec": {
   "display_name": "Python 3",
   "language": "python",
   "name": "python3"
  },
  "language_info": {
   "codemirror_mode": {
    "name": "ipython",
    "version": 3
   },
   "file_extension": ".py",
   "mimetype": "text/x-python",
   "name": "python",
   "nbconvert_exporter": "python",
   "pygments_lexer": "ipython3",
   "version": "3.8.3"
  }
 },
 "nbformat": 4,
 "nbformat_minor": 4
}
