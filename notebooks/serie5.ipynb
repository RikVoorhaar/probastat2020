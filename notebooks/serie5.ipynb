{
 "cells": [
  {
   "cell_type": "markdown",
   "metadata": {},
   "source": [
    "[![Open in Colab](https://colab.research.google.com/assets/colab-badge.svg)](https://colab.research.google.com/github/RikVoorhaar/probastat2020/blob/master/notebooks/serie5.ipynb?hl=fr)\n",
    "\n",
    "# Série 5"
   ]
  },
  {
   "cell_type": "markdown",
   "metadata": {},
   "source": [
    "## Exercice 1\n",
    "\n",
    "<div class=\"alert alert-info\">\n",
    "**Exercice** (Somme de variables de Bernoulli indépendantes de même loi.) \n",
    "\n",
    "Soit $X_1,\\dots,X_n$ des variables aléatoires suivant une loi de Bernoulli de paramètres $p, q$. Si ces variables sont mutuellement indépendantes, montrer que\n",
    "    \n",
    "$$\n",
    "    S_n = X_1+\\dots+X_n\n",
    "$$\n",
    " \n",
    "suit une loi binomiale de paramètre $p$.\n",
    "\n",
    "</div>"
   ]
  },
  {
   "cell_type": "markdown",
   "metadata": {},
   "source": [
    "## Exercice 2\n",
    "\n",
    "<div class=\"alert alert-info\">\n",
    "**Exercice**  (Loi de Poisson comme approximation de la loi binomiale.)\n",
    "    \n",
    "Soit $0\\leq p\\leq q\\leq 1$ tel que $p+q=1$. Soit\n",
    "    \n",
    "$$\n",
    "    B(n,p)(k) = \\binom nk p^kq^{n-k}\n",
    "$$\n",
    "\n",
    "la densité de probabilité de la loi binomiale. Soit $\\lambda > 0$ supposons que $p_n>0$ est une suite qui tend vers zéro telle que\n",
    "    \n",
    "$$\n",
    "    \\lim_{n\\to\\infty} np_n = \\lambda.\n",
    "$$\n",
    "    \n",
    "Prouver que pour tout entier $k$ positif ou nul,\n",
    "    \n",
    "$$\n",
    "    \\lim_{n\\to\\infty} B(n,p_n)(k) = e^{-\\lambda}\\frac{\\lambda^k}{k!}.\n",
    "$$\n",
    "    \n",
    "Suggestion. Prouver tout d'abord l'égalité \n",
    "    \n",
    "$$\n",
    "    \\binom nk p^k q^{n-k} = \\frac{n(n-1)\\dots(n-k+1)}{n^k} \\frac{(np)^k}{k!}\\left(1-\\frac{np}n\\right)^{n-k}\n",
    "$$\n",
    "    \n",
    "</div>"
   ]
  },
  {
   "cell_type": "markdown",
   "metadata": {},
   "source": [
    "## Exercice 3\n",
    "\n",
    "<div class=\"alert alert-info\">\n",
    "**Exercice** (Application de la loi de Poisson.)\n",
    "    \n",
    "La fabrication d’un objet dans une usine s’effectue avec 4 pour cent de défauts. Calculer la probabilité $P_k$ qu’un lot de 35 objets choisis au hasard comprennent $k$ objects défectueux $(k = 0, 1, 2, 3)$. Faire les calculs avec la loi exacte $B(n, p)$ et avec son approximation de Poisson de paramètre $\\lambda = np$.\n",
    "    \n",
    "</div>"
   ]
  },
  {
   "cell_type": "markdown",
   "metadata": {},
   "source": [
    "## Exercice 4\n",
    "\n",
    "<div class=\"alert alert-info\">\n",
    "**Exercice** (Un calcul de Laplace.)\n",
    "\n",
    "Prouver que la fonction\n",
    "    \n",
    "$$\n",
    "    \\mathbb R\\to [0,\\infty[\n",
    "$$\n",
    "    \n",
    "$$\n",
    "    t\\mapsto \\frac{1}{\\sigma\\sqrt{2\\pi}}e^{-\\frac12\\left(\\frac{t-\\mu}\\sigma\\right)^2}\n",
    "$$\n",
    "    \n",
    "est une densité de probabilités. C'est-à-dire : \n",
    "    \n",
    "$$\n",
    "\\frac{1}{\\sigma\\sqrt{2\\pi}}\\int_{-\\infty}^\\infty\\! e^{-\\frac12\\left(\\frac{t-\\mu}\\sigma\\right)^2}\\,\\mathrm{d}x=1\n",
    "$$\n",
    "    \n",
    "Indications. Effectuer le changement de variable $y=\\frac{x-\\mu}\\sigma$ pour se ramener au calcul de\n",
    "    \n",
    "$$\n",
    "    \\int_{-\\infty}^\\infty e^{-\\frac12 y^2}dy.\n",
    "$$\n",
    "    \n",
    "Ensuite, calculer\n",
    "    \n",
    "$$\n",
    "    \\left(\\int_{-\\infty}^\\infty e^{-\\frac12 y^2}dy\\right)^2 = \\int_{-\\infty}^\\infty\\int_{-\\infty}^\\infty e^{-\\frac12 (x^2+y^2)}dydx\n",
    "$$\n",
    "\n",
    "en passant en coordonnées polaires :\n",
    "    \n",
    "$$\n",
    "    x=r\\cos\\theta,\\,y=r\\sin\\theta\n",
    "$$\n",
    "    \n",
    "</div>"
   ]
  },
  {
   "cell_type": "markdown",
   "metadata": {},
   "source": [
    "## Exercice 5\n",
    "\n",
    "<div class=\"alert alert-info\">\n",
    "**Exercice** (Loi exponentielle.)\n",
    "\n",
    "Soit $X$ une variable aléatoire de loi exponentielle de paramètre $\\lambda$. Exprimer par une formule sa loi de probabilité \n",
    "    \n",
    "$$\n",
    "    P(X \\leq x)\n",
    "$$\n",
    "\n",
    "(on distinguera les cas $x < 0$ et $x \\geq 0$.)\n",
    "\n",
    "</div>"
   ]
  },
  {
   "cell_type": "markdown",
   "metadata": {},
   "source": [
    "## Exercice 6\n",
    "\n",
    "<div class=\"alert alert-info\">\n",
    "**Exercice** (Loi uniforme.)\n",
    "\n",
    "Soit $X$ une variable aléatoire de loi uniforme sur l’intervalle $[a, b]$. Exprimer par une formule sa loi de probabilité\n",
    "\n",
    "$$\n",
    "P(X \\leq x)\n",
    "$$\n",
    "\n",
    "(on distinguera trois cas.)\n",
    "\n",
    "\n",
    "</div>"
   ]
  },
  {
   "cell_type": "markdown",
   "metadata": {},
   "source": [
    "## Exercice 7\n",
    "\n",
    "<div class=\"alert alert-info\">\n",
    "**Exercice** (Indépendance implique la multiplicativité de l’espérance.)\n",
    "\n",
    "Soit $(\\Omega, A, P)$ un espace probabilisé. Soient\n",
    "\n",
    "$$\n",
    "    X, Y : \\Omega\\to \\mathbb R\n",
    "$$\n",
    "    \n",
    "des v.a. à valeurs réelles. Si $X$ et $Y$ sont indépendantes alors $\\mathbb E[XY ] = \\mathbb E[X]E[Y]$. Suggestion : prouver tout d’abord que l’indépendance implique que\n",
    "\n",
    "$$\n",
    "P(X \\leq x, Y \\leq y) = P(X \\leq x)P(Y \\leq y).\n",
    "$$\n",
    "\n",
    "</div>"
   ]
  }
 ],
 "metadata": {
  "kernelspec": {
   "display_name": "Python 3",
   "language": "python",
   "name": "python3"
  },
  "language_info": {
   "codemirror_mode": {
    "name": "ipython",
    "version": 3
   },
   "file_extension": ".py",
   "mimetype": "text/x-python",
   "name": "python",
   "nbconvert_exporter": "python",
   "pygments_lexer": "ipython3",
   "version": "3.8.3"
  }
 },
 "nbformat": 4,
 "nbformat_minor": 4
}
