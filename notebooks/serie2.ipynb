{
 "cells": [
  {
   "cell_type": "markdown",
   "metadata": {},
   "source": [
    "[![Open in Colab](https://colab.research.google.com/assets/colab-badge.svg)](https://colab.research.google.com/github/RikVoorhaar/probastat2020/blob/master/notebooks/serie2.ipynb?hl=fr)\n",
    "\n",
    "# Série 2"
   ]
  },
  {
   "cell_type": "markdown",
   "metadata": {},
   "source": [
    "## Exercice 1\n",
    "### Exercice 1a)\n",
    "<div class=\"alert alert-info\">\n",
    "**Exercice 1a)**\n",
    "\n",
    "Dans une classe de 67 étudiants, 47 lisent le français, 35 lisent\n",
    "l’allemand, 23 lisent le français et l’allemand. Combien ne lisent\n",
    "ni le français ni l’allemand ?\n",
    "\n",
    "</div>\n",
    "\n",
    "Dénotons l'ensemble de tous les étudiants par $\\Omega$, ceux qui lisent le français par $F$ et ceux qui lisent l'allemand par $A$. Alors on sait que\n",
    "\n",
    "$$\n",
    "    |\\Omega| = 67,\\,|F|=47,\\,|A|=35,\\,|F\\cap A|=23\n",
    "$$\n",
    "\n",
    "Nous voulons calculer $|(\\Omega\\setminus F)\\cap(\\Omega\\setminus A)|=|\\Omega\\setminus(F\\cup A)|$ :\n",
    "\n",
    "$$\n",
    "\\begin{align}\n",
    "      |\\Omega\\setminus(F\\cup A)| &= |\\Omega|-|F\\cup A|\\\\ &-|\\Omega| - (|F|+|A|-|F\\cap A|)\\\\ &=67-(47+35-23)\\\\ &=8\n",
    "\\end{align}\n",
    "$$"
   ]
  },
  {
   "cell_type": "markdown",
   "metadata": {},
   "source": [
    "### Exercice 1b)\n",
    "<div class=\"alert alert-info\">\n",
    "**Exercice 1b)**\n",
    "\n",
    "Dans une classe de 67 étudiants, 47 lisent le français, 35 lisent\n",
    "l’allemand, 23 lisent le français et l’allemand, 20 lisent le russe.\n",
    "Parmi ceux qui lisent le russe : 12 lisent le français, 11 lisent\n",
    "l’allemand, 5 lisent le français et l’allemand. Combien d’étudiants\n",
    "ne savent lire ni le français, ni l’allemand, ni le russe.\n",
    "\n",
    "</div>\n",
    "\n",
    "Dénotons l'ensemble de tous les étudiants par $\\Omega$, ceux qui lisent le français par $F$, ceux qui lisent l'allemand par $A$ et ceux qui lisent le russe par $R$. Nous voulons calculer $|\\Omega\\setminus (F\\cup A\\cup R)|$. Par le formule de Poincaré :\n",
    "\n",
    "$$\n",
    "\\begin{align}\n",
    "|F\\cup A \\cup R| &= |F|+|A|+|R|-|F\\cap A|-|F\\cap R|-\\\\&\\quad-|A\\cap R|+|F\\cap A\\cap R|\\\\ &= 47+35+20-23-12-11+5\\\\ &= 61\n",
    "\\end{align}\n",
    "$$\n",
    "\n",
    "Alors, \n",
    "\n",
    "$$\n",
    "|\\Omega\\setminus (F\\cup A\\cup R)|=|\\Omega|-|F\\cup A\\cup R|=67-61=6\n",
    "$$"
   ]
  },
  {
   "cell_type": "markdown",
   "metadata": {},
   "source": [
    "## Exercice 2\n",
    "<div class=\"alert alert-info\">\n",
    "**Exercice 2**\n",
    "\n",
    "Un terroriste a disparu après un\n",
    "attentat. Trois hypothèses sont envisagées par la police.\n",
    "\n",
    "A) Le terroriste a trouvé refuge chez un membre de sa famille (domicilié loin du\n",
    "lieu de l’attentat mais dans le pays où a été commis l’attentat)  \n",
    "B) il est caché près du lieu de l’attentat  \n",
    "C) il a quitté le pays. \n",
    "\n",
    "La police estime que $P(A) = 1/4,\\,P(B) = 1/2,\\,P(C) = 1/4$. Elle estime que\n",
    "la probabilité de retrouver le terroriste si celui-ci s’est caché près du\n",
    "lieu de l’attentat est de $90/100$. Elle estime d’autre part que la probabilité de le retrouver s’il a quitté le pays est de $50/100$. Elle estime\n",
    "enfin que la probabilité de le retrouver s’il est caché chez un membre\n",
    "de sa famille (domicilié loin du lieu de l’attentat mais dans le pays\n",
    "où a été commis l’attentat) est de $100/100$. \n",
    "    \n",
    "i) Quelle est la probabilité que le terroriste soit retrouvé sur les lieux de l’attentat ?  \n",
    "ii) Quelle est la probabilité que le terroriste soit retrouvé chez un membre de sa\n",
    "famille (domicilié loin du lieu de l’attentat mais dans le pays où a été\n",
    "commis l’attentat) ?  \n",
    "iii) Quelle est la probabilité que le terroriste ne soit\n",
    "pas retrouvé ?  \n",
    "\n",
    "\n",
    "</div>\n",
    "\n",
    "Dénotons l'événement que le terroriste soit retrouvé par $R$. On a les informations suivantes :\n",
    "\n",
    "$$\n",
    "    P(R|A) = 1,\\quad P(R|B)=0.9,\\quad P(R|C)=0.5\n",
    "$$\n",
    "\n",
    "On doit d'aboord calculer $P(R\\cap B)$. On utilise la définition de probabilité conditionnelle :\n",
    "\n",
    "$$\n",
    "    P(R|B) = \\frac{P(R\\cap B)}{P(B)} \n",
    "$$\n",
    "\n",
    "Alors,\n",
    "\n",
    "$$\n",
    "    P(R\\cap B) = P(R|B)P(B) = \\frac{9}{10}\\frac{1}{2} = \\frac{9}{20}\n",
    "$$\n",
    "\n",
    "Puis on calcule $P(R\\cap A)$ :\n",
    "\n",
    "$$\n",
    "    P(R\\cap A) = P(R|A)P(A) = 1\\cdot \\frac{1}{4} = \\frac{1}{4}\n",
    "$$\n",
    "\n",
    "Enfin, on calcule $P(R^c)=1-P(R)$. On utilise le formule des probabilités totales :\n",
    "\n",
    "$$\n",
    "\\begin{align}\n",
    "P(R) &= P(R|A)P(A)+P(R|B)P(B)+P(R|C)P(C)\\\\ &= 1\\cdot \\frac{1}{4} + \\frac{9}{10}\\frac{1}{2}+\\frac{1}{2}\\frac{1}{4} \\\\&= 0.25+0.45+0.125 = 0.825\n",
    "\\end{align}\n",
    "$$\n",
    "\n",
    "Alors $P(R^c) = 1-0.825 = 0.175$."
   ]
  },
  {
   "cell_type": "markdown",
   "metadata": {},
   "source": [
    "## Exercice 3\n",
    "<div class=\"alert alert-info\">\n",
    "**Exercice 3**\n",
    "\n",
    "Soit $0 \\leq\\mu\\leq 1$ le taux de létalité d’une maladie. C’est-à-dire que la\n",
    "probabilité qu’une personne meure de la maladie, sachant qu’elle a\n",
    "contracté la maladie est égal à $\\mu$. Soit $0 \\leq a \\leq 1$. Soit $E_n$ l’évènement :\n",
    "parmi $n$ personnes qui ont toutes contracté la maladie, au moins l’une\n",
    "d’elle meurt de la maladie. (On suppose que la seule cause de décès\n",
    "est la maladie contractée.) Exprimer en fonction de $\\mu$ et de $a$ le $n$\n",
    "maximal tel que\n",
    "\n",
    "$$\n",
    "P(E_n ) \\leq a.\n",
    "$$\n",
    "\n",
    "Calculer $n$ lorsque $\\mu = 3/100$, $a = 1/2$, $a = 95/100$.\n",
    "\n",
    "</div>\n",
    "\n",
    "Dénotons l'événement que le $k$ième personne meurt de la maladie par $M_i$, alors $P(M_i)=\\mu$. Tous les $M_i$ sont indépendantes. La probabilité que personne ne meure est donnée par\n",
    "\n",
    "$$\n",
    "    P(M_1^c\\cap\\dots M_n^c) = P(M_1^c)\\cdots P(M_n^c)=(1-\\mu)^n\n",
    "$$\n",
    "\n",
    "La probabilité $P(E_n)$ que au moins l'une dés personnes meurt est alors donnée par\n",
    "\n",
    "$$\n",
    "    P(E_n) = 1-P(M_1^c\\cap\\dots M_n^c) = 1-(1-\\mu)^n\n",
    "$$\n",
    "\n",
    "On doit donc resoudre\n",
    "\n",
    "$$\n",
    "\\begin{align}\n",
    "1 - (1-\\mu)^n &\\leq a \\\\ 1-a&\\leq (1-\\mu)^n \\\\ \\log(1-a) &\\leq n \\log(1-\\mu) \n",
    "\\end{align}\n",
    "$$\n",
    "\n",
    "Comme $1-\\mu <1$, $\\log (1-\\mu)<0$ et si on divise par $\\log(1-\\mu)$, la direction de l'inégalité changera, on trouve donc\n",
    "\n",
    "$$\n",
    "    n\\leq \\frac{\\log(1-a)}{\\log(1-\\mu)}\n",
    "$$\n",
    "\n",
    "Le $n$ maximal est donc\n",
    "\n",
    "$$\n",
    "    n = \\left\\lfloor \\frac{\\log(1-a)}{\\log(1-\\mu)}\\right\\rfloor\n",
    "$$"
   ]
  },
  {
   "cell_type": "code",
   "execution_count": 16,
   "metadata": {},
   "outputs": [
    {
     "name": "stdout",
     "output_type": "stream",
     "text": [
      "n maximale pour a=1/2, mu=3/100: 22\n",
      "n maximale pour a=95/100, mu=3/100: 98\n"
     ]
    }
   ],
   "source": [
    "from math import log, floor\n",
    "\n",
    "def max_n(a,mu):\n",
    "    return floor(log(1-a)/log(1-mu))\n",
    "\n",
    "print(f\"n maximale pour a=1/2, mu=3/100: {max_n(1/2,3/100)}\")\n",
    "print(f\"n maximale pour a=95/100, mu=3/100: {max_n(95/100,3/100)}\")"
   ]
  },
  {
   "cell_type": "markdown",
   "metadata": {},
   "source": [
    "On peut confirmer ces resultats avec un simulation:"
   ]
  },
  {
   "cell_type": "code",
   "execution_count": 49,
   "metadata": {},
   "outputs": [
    {
     "data": {
      "text/plain": [
       "(0.5114, 0.05015)"
      ]
     },
     "execution_count": 49,
     "metadata": {},
     "output_type": "execute_result"
    }
   ],
   "source": [
    "import numpy as np\n",
    "mu = 3/100 \n",
    "n = 22\n",
    "\n",
    "def simulate_disease(mu, n, sample_size=100000):\n",
    "    # Un tableau de nombres aléatoires uniforme en [0,1]\n",
    "    samples = np.random.uniform(size=(sample_size,n))\n",
    "\n",
    "    # On simuler les nombres des décès par le nombre des\n",
    "    # entrées moins que mu\n",
    "    num_dead = np.sum(samples < mu, axis=1)\n",
    "\n",
    "    # La probabilité P(E_n) est approximé par \n",
    "    # la fraction des lignes où il n'y a aucune mort\n",
    "    return np.sum(num_dead == 0)/sample_size\n",
    "\n",
    "simulate_disease(3/100, 22), simulate_disease(3/100, 98)"
   ]
  },
  {
   "cell_type": "markdown",
   "metadata": {},
   "source": [
    "Dans les deux cas nous trouvons que $P(E_n)$ est proche mais inférieur à $a$."
   ]
  }
 ],
 "metadata": {
  "kernelspec": {
   "display_name": "Python 3",
   "language": "python",
   "name": "python3"
  },
  "language_info": {
   "codemirror_mode": {
    "name": "ipython",
    "version": 3
   },
   "file_extension": ".py",
   "mimetype": "text/x-python",
   "name": "python",
   "nbconvert_exporter": "python",
   "pygments_lexer": "ipython3",
   "version": "3.7.7"
  }
 },
 "nbformat": 4,
 "nbformat_minor": 4
}
