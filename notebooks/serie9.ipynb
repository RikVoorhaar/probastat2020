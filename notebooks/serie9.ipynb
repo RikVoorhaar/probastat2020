{
 "cells": [
  {
   "cell_type": "markdown",
   "metadata": {},
   "source": [
    "[![Open in Colab](https://colab.research.google.com/assets/colab-badge.svg)](https://colab.research.google.com/github/RikVoorhaar/probastat2020/blob/master/notebooks/serie9.ipynb?hl=fr)\n",
    "\n",
    "# Série 9"
   ]
  },
  {
   "cell_type": "markdown",
   "metadata": {},
   "source": [
    "## Exercice 1\n",
    "\n",
    "<div class=\"alert alert-info\">\n",
    "**Exercice** \n",
    "\n",
    "Soit $T$ une variable aléatoires à valeurs réelles. Prouver qu'il existe $t\\in\\mathbb R$ tel que\n",
    "\n",
    "$$\n",
    "\\mathbb P(T\\leq t)>0\n",
    "$$    \n",
    "\n",
    "</div>"
   ]
  },
  {
   "cell_type": "markdown",
   "metadata": {},
   "source": [
    "Supposons par l'absurde que $\\mathbb P(T\\leq t)=0$ pour tous $t\\in\\mathbb R$. Alors on a que\n",
    "\n",
    "$$\n",
    "\\begin{align}\n",
    "1 &= P(T\\in\\mathbb R)\\\\\n",
    "&= P\\left(\\bigcup_{n=1}^{\\infty}(T<n)\\right)\\\\\n",
    "&\\leq \\sum_{n=1}^{\\infty}P(T<n) = 0\n",
    "\\end{align}\n",
    "$$\n",
    "\n",
    "et on arrive à une contradiction. Donc on conclut qu'il existe un $t\\in\\mathbb R$ tel que $P(T\\leq t)>0$. "
   ]
  },
  {
   "cell_type": "markdown",
   "metadata": {},
   "source": [
    "## Exercice 2\n",
    "\n",
    "<div class=\"alert alert-info\">\n",
    "**Exercice** \n",
    "\n",
    "Soient $X,Y$ des variables aléatoires indépendantes à valeurs dans l'ensemble des entiers $\\mathbb Z$. On pose :\n",
    "\n",
    "$$\n",
    "f_X(x)=P(X=x),\\, f_Y(y)=P(Y=y).\n",
    "$$\n",
    "\n",
    "Prouver que \n",
    "\n",
    "$$\n",
    "P(X+Y=z)=\\sum_{x\\in\\mathbb Z}f_X(x)f_Y(z-x).\n",
    "$$\n",
    "    \n",
    "</div>"
   ]
  },
  {
   "cell_type": "markdown",
   "metadata": {},
   "source": [
    "Par la formule des probabilités totales on a que \n",
    "\n",
    "$$P(X+Y=z) = \\sum_{x\\in \\mathbb Z}P(X+Y=z|X=x)P(X=x)$$\n",
    "\n",
    "Notons que \n",
    "\n",
    "$$\n",
    "\\begin{align}\n",
    "P(X+Y=z|X=x)&=\\frac{P((X+Y=z)\\cap (X=x))}{P(X=x)}\\\\\n",
    "&=\\frac{P((Y=z-x)\\cap(X=x))}{P(X=x)}\\\\\n",
    "&=\\frac{P(Y=z-x)P(X=x)}{P(X=x)}\\\\\n",
    "&= P(Y=z-x)\n",
    "\\end{align}\n",
    "$$\n",
    "\n",
    "donc on trouve que\n",
    "\n",
    "$$\n",
    "\\begin{align}\n",
    "P(X+Y=z) &= \\sum_{x\\in \\mathbb Z}P(X=x)P(Y=z-x)\\\\\n",
    "&= \\sum_{x\\in \\mathbb Z}f_X(x)f_Y(z-x)\n",
    "\\end{align}\n",
    "$$"
   ]
  },
  {
   "cell_type": "markdown",
   "metadata": {},
   "source": [
    "## Exercice 3\n",
    "\n",
    "<div class=\"alert alert-info\">\n",
    "**Exercice** \n",
    "\n",
    "Soit $U:\\mathbb R\\to ]0,\\infty[$ une fonction continue qui vérifie $U(0)=1$, et pour tout $s,t\\in\\mathbb R$,\n",
    " $$U(s+t)=U(s)U(t).$$ Prouver qu'il existe $a\\in\\mathbb R$ tel que $U(t)=e^{at}$.\n",
    " \n",
    "_Suggestion:_ Poser $L(t)=\\log(U(t))$. Montrer que pour tout $t,s$ on a $L(s+t)=L(s)+L(t)$. Prouver que $L(n)=nL(1)$ et que $L(1/n)=L(1)/n$. Si $p,q\\in\\mathbb Z$,\n",
    "montrer que $L(p/q)=p/qL(1)$. Par continuité en déduire que pour tout $t\\in\\mathbb R$ on a  $L(t)=tL(1)$. Poser $a=L(1)$.    \n",
    "\n",
    "</div>"
   ]
  },
  {
   "cell_type": "markdown",
   "metadata": {},
   "source": [
    "Posons $L(t) = \\log(U(t))$. Pour tout $t,s$ on a alors que\n",
    "\n",
    "$$\n",
    "\\begin{align}\n",
    "    L(s+t)&=\\log(U(t+s))\\\\\n",
    "    &=\\log(U(t)U(s))\\\\\n",
    "    &=\\log(U(t))+\\log(U(s))\\\\\n",
    "    &=L(s)+L(t)\n",
    "\\end{align}\n",
    "$$\n",
    "\n",
    "De plus on a que\n",
    "\n",
    "$$\n",
    "0 = \\log 1 = L(0) = L(s-s) = L(s)+L(-s),\n",
    "$$\n",
    "\n",
    "donc $L(-s) = -L(s)$.\n",
    "\n",
    "Par récurrence on a pour chaque $s\\in \\mathbb R$ et $n\\in \\mathbb N$ que :\n",
    " \n",
    "$$\n",
    "L(n s) = L((n-1)s)+L(s) = \\dots = nL(s)\n",
    "$$\n",
    "\n",
    "De même, \n",
    "\n",
    "$$\n",
    "L(s)/n = L(ns/n)/n = L(s/n)\n",
    "$$\n",
    "\n",
    "Si $n\\in \\mathbb Z$ est négatif on que $L(ns) = -L(-ns) = -(-n)L(s) = nL(s)$, et de la même manière on trouve que $L(s/n) = L(s)/n$.\n",
    "\n",
    "Si $p/q\\in \\mathbb Q$ on a que \n",
    "\n",
    "$$\n",
    "L(p/q) = L(p)/q =L(1)p/q\n",
    "$$\n",
    "\n",
    "Soit $t\\in \\mathbb R$ et soient $\\{p_n\\}_{n},\\{q_n\\}_{n}$ deux suites telles que $\\lim_{n\\to\\infty}p_n/q_n = t$. Comme $U$ et $\\log$ sont des fonctions continues, alors $L$ est continue aussi. On a alors que\n",
    "\n",
    "$$\n",
    "\\begin{align}\n",
    "L(t) &= L(\\lim_{n\\to\\infty}p_n/q_n)\\\\\n",
    "&= \\lim_{n\\to\\infty}L(p_n/q_n)\\\\\n",
    "&= \\lim_{n\\to\\infty}L(1)p_n/q_n\\\\\n",
    "&= L(1)t\\\\\n",
    "\\end{align}\n",
    "$$\n",
    "\n",
    "Finalement, soit $a = L(1)$, alors $U(t) = \\exp(L(t)) = \\exp(at)$. "
   ]
  },
  {
   "cell_type": "markdown",
   "metadata": {},
   "source": [
    "## Exercice 4\n",
    "\n",
    "<div class=\"alert alert-info\">\n",
    "**Exercice** \n",
    "    \n",
    "Soit $a>0$ et $n\\in\\mathbb N$. On pose :\n",
    "\n",
    "$$\n",
    "f(x)=-e^{-ax}\\sum_{k=0}^{n-1}\\frac{(ax)^k}{k!}.\n",
    "$$\n",
    "\n",
    "Prouver que \n",
    "\n",
    "$$\n",
    "f'(x)=\\frac{a^n}{(n-1)!}x^{n-1}e^{-ax}.\n",
    "$$\n",
    "\n",
    "</div>"
   ]
  },
  {
   "cell_type": "markdown",
   "metadata": {},
   "source": [
    "On calcule\n",
    "\n",
    "$$\n",
    "\\begin{align}\n",
    "f'(x)&=\\frac{\\mathrm d}{\\mathrm dx}\\left(-e^{-ax}\\sum_{k=0}^{n-1}\\frac{(ax)^k}{k!}\\right)\\\\\n",
    "&=\\left(-\\frac{\\mathrm d}{\\mathrm dx}e^{-ax}\\right)\\sum_{k=0}^{n-1}\\frac{(ax)^k}{k!}+-e^{-ax}\\frac{\\mathrm d}{\\mathrm dx}\\left(\\sum_{k=0}^{n-1}\\frac{(ax)^k}{k!}\\right)\\\\\n",
    "&=ae^{-ax}\\sum_{k=0}^{n-1}\\frac{(ax)^k}{k!}-e^{-ax}\\sum_{k=1}^{n-1}\\frac{ak(ax)^{k-1}}{k!}\\\\\n",
    "&=ae^{-ax}\\sum_{k=0}^{n-1}\\frac{(ax)^k}{k!}-ae^{-ax}\\sum_{k=1}^{n-1}\\frac{(ax)^{k-1}}{(k-1)!}\\\\\n",
    "&=ae^{-ax}\\sum_{k=0}^{n-1}\\frac{(ax)^k}{k!}-ae^{-ax}\\sum_{k=0}^{n-2}\\frac{(ax)^k}{k!}\\\\\n",
    "&=ae^{-ax}\\frac{(ax)^{n-1}}{(n-1)!}\\\\\n",
    "&=\\frac{a^n}{(n-1)!}x^{n-1}e^{-ax}.\n",
    "\\end{align}\n",
    "$$"
   ]
  }
 ],
 "metadata": {
  "kernelspec": {
   "display_name": "Python 3",
   "language": "python",
   "name": "python3"
  },
  "language_info": {
   "codemirror_mode": {
    "name": "ipython",
    "version": 3
   },
   "file_extension": ".py",
   "mimetype": "text/x-python",
   "name": "python",
   "nbconvert_exporter": "python",
   "pygments_lexer": "ipython3",
   "version": "3.7.4"
  }
 },
 "nbformat": 4,
 "nbformat_minor": 4
}