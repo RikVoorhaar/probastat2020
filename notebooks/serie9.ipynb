{
 "cells": [
  {
   "cell_type": "markdown",
   "metadata": {},
   "source": [
    "[![Open in Colab](https://colab.research.google.com/assets/colab-badge.svg)](https://colab.research.google.com/github/RikVoorhaar/probastat2020/blob/master/notebooks/serie9.ipynb?hl=fr)\n",
    "\n",
    "# Série 9"
   ]
  },
  {
   "cell_type": "markdown",
   "metadata": {},
   "source": [
    "## Exercice 1\n",
    "\n",
    "<div class=\"alert alert-info\">\n",
    "**Exercice** \n",
    "\n",
    "Soit $T$ une variable aléatoires à valeurs réelles. Prouver qu'il existe $t\\in\\mathbb R$ tel que\n",
    "\n",
    "$$\n",
    "\\mathbb P(T\\leq t)>0\n",
    "$$    \n",
    "\n",
    "</div>"
   ]
  },
  {
   "cell_type": "markdown",
   "metadata": {},
   "source": [
    "## Exercice 2\n",
    "\n",
    "<div class=\"alert alert-info\">\n",
    "**Exercice** \n",
    "\n",
    "Soient $X,Y$ des variables aléatoires à valeurs dans l'ensemble des entiers $\\mathbb Z$. On pose :\n",
    "\n",
    "$$\n",
    "f_X(x)=P(X=x),\\, f_Y(y)=P(Y=y).\n",
    "$$\n",
    "\n",
    "Prouver que \n",
    "\n",
    "$$\n",
    "P(X+Y=z)=\\sum_{x\\in\\mathbb Z}f_X(x)f_Y(z-x).\n",
    "$$\n",
    "    \n",
    "</div>"
   ]
  },
  {
   "cell_type": "markdown",
   "metadata": {},
   "source": [
    "## Exercice 3\n",
    "\n",
    "<div class=\"alert alert-info\">\n",
    "**Exercice** \n",
    "\n",
    "Soit $U:\\mathbb R\\to ]0,\\infty[$ une fonction continue qui vérifie $U(0)=1$, et pour tout $s,t\\in\\mathbb R$,\n",
    " $$U(s+t)=U(s)U(t).$$ Prouver qu'il existe $a\\in\\mathbb R$ tel que $U(t)=e^{at}$.\n",
    " \n",
    "_Suggestion:_ Poser $L(t)=\\log(U(t))$. Montrer que pour tout $t,s$ on a $L(s+t)=L(s)+L(t)$. Prouver que $L(n)=nL(1)$ et que $L(1/n)=L(1)/n$. Si $p,q\\in\\mathbb Z$,\n",
    "montrer que $L(p/q)=p/qL(1)$. Par continuité en déduire que pour tout $t\\in\\mathbb R$ on a  $L(t)=tL(1)$. Poser $a=L(1)$.    \n",
    "\n",
    "</div>"
   ]
  },
  {
   "cell_type": "markdown",
   "metadata": {},
   "source": [
    "## Exercice 4\n",
    "\n",
    "<div class=\"alert alert-info\">\n",
    "**Exercice** \n",
    "    \n",
    "Soit $a>0$ et $n\\in\\mathbb N$. On pose :\n",
    "\n",
    "$$\n",
    "f(x)=-e^{-ax}\\sum_{k=0}^{n-1}\\frac{(ax)^k}{k!}.\n",
    "$$\n",
    "\n",
    "Prouver que \n",
    "\n",
    "$$\n",
    "f'(x)=\\frac{a^n}{(n-1)!}x^{n-1}e^{-ax}.\n",
    "$$\n",
    "\n",
    "</div>"
   ]
  }
 ],
 "metadata": {
  "kernelspec": {
   "display_name": "Python 3",
   "language": "python",
   "name": "python3"
  },
  "language_info": {
   "codemirror_mode": {
    "name": "ipython",
    "version": 3
   },
   "file_extension": ".py",
   "mimetype": "text/x-python",
   "name": "python",
   "nbconvert_exporter": "python",
   "pygments_lexer": "ipython3",
   "version": "3.7.4"
  }
 },
 "nbformat": 4,
 "nbformat_minor": 4
}
