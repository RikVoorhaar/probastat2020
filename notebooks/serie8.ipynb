{
 "cells": [
  {
   "cell_type": "markdown",
   "metadata": {},
   "source": [
    "[![Open in Colab](https://colab.research.google.com/assets/colab-badge.svg)](https://colab.research.google.com/github/RikVoorhaar/probastat2020/blob/master/notebooks/serie8.ipynb?hl=fr)\n",
    "\n",
    "# Série 8"
   ]
  },
  {
   "cell_type": "markdown",
   "metadata": {},
   "source": [
    "## Exercice 1\n",
    "\n",
    "<div class=\"alert alert-info\">\n",
    "**Exercice** \n",
    "\n",
    "On se donne $n$ points du plan : $(x_1,y_1),\\dots,(x_n,y_n)$. Soit $(X,Y)$ la variable aléatoire de la loi uniforme à valeurs dans l'ensemble \n",
    "\n",
    "$$\n",
    "\\{(x_1,y_1),\\dots,(x_n,y_n)\\}\n",
    "$$\n",
    "\n",
    "Calculer \n",
    "    \n",
    "$$\n",
    "    \\Phi(a,b)=\\mathbb E[(Y-(aX+b))^2].\n",
    "$$\n",
    "    \n",
    "Déterminer l'expression de la droite de régression linéaire.\n",
    "\n",
    "</div>"
   ]
  },
  {
   "cell_type": "markdown",
   "metadata": {},
   "source": [
    "On a que \n",
    "\n",
    "$$\n",
    "\\begin{align}\n",
    "    \\Phi(a,b) &= \\mathbb E[(Y-(aX+b))^2]\\\\\n",
    "    &= \\frac1n \\sum_{k=1}^n (y_i-(a x_i+b))^2\\\\\n",
    "    &= \\frac1n \\left\\|(y_1,\\dots,y_n)^\\top-\\left(a(x_1,\\dots,x_n)^\\top+b\\right)\\right\\|^2\n",
    "\\end{align}\n",
    "$$\n",
    "\n",
    "L'expression de la droite de régression linéaire est donnée pas $a_0X+b_0$ où $a_0,b_0$ sont telles que $\\Phi(a_0,b_0)$ est minimale. Dans la cours on a vu qu'alors\n",
    "\n",
    "$$\n",
    "    a_0 = \\frac{\\operatorname{cov}(X,Y)}{\\operatorname{Var}(X)},\\qquad b_0=\\mathbb E[Y]-a_0\\mathbb E[X]\n",
    "$$\n",
    "\n",
    "Soit $\\overline x$ et $\\overline y$ les moyennes de $x$ et $x$. Comme $\\operatorname{cov}(X,Y) = \\mathbb E[(X-\\overline x)(Y-\\overline y)]$ on trouve que\n",
    "\n",
    "$$\n",
    "\\begin{align}\n",
    "    a_0 &=  \\left(\\frac1n\\sum_{k=1}^n (x_k-\\overline x)(y_k-\\overline y)\\right)\\left(\\frac1n\\sum_{k=1}^n (x_k-\\overline x)^2\\right)^{-1}\\\\\n",
    "    b_0 &= \\overline y - a_0 \\overline x\n",
    "\\end{align}\n",
    "$$\n",
    "\n",
    "On peut vérifier cette expression avec du code :"
   ]
  },
  {
   "cell_type": "code",
   "execution_count": 20,
   "metadata": {},
   "outputs": [
    {
     "data": {
      "image/png": "[encoded data removed]",
      "text/plain": [
       "<Figure size 432x288 with 1 Axes>"
      ]
     },
     "metadata": {
      "needs_background": "light"
     },
     "output_type": "display_data"
    }
   ],
   "source": [
    "import numpy as np\n",
    "import matplotlib.pyplot as plt\n",
    "\n",
    "# Données artificielles\n",
    "n = 100\n",
    "X = np.random.uniform(0, 1, n)\n",
    "X = np.sort(X)\n",
    "Y = 2*X-1 + 0.1*np.random.normal(size=n)\n",
    "plt.plot(X,Y,'.')\n",
    "\n",
    "# Moyennes, covariance et variance\n",
    "X_mean = np.sum(X) / n\n",
    "Y_mean = np.sum(Y) / n\n",
    "XY_cov = np.sum((X-X_mean)*(Y-Y_mean)) / n\n",
    "X_var = np.sum((X-X_mean)**2) / n\n",
    "\n",
    "# Tracer la droite de régression\n",
    "a = XY_cov / X_var\n",
    "b = Y_mean-a*X_mean\n",
    "plt.plot(X, a*X+b);"
   ]
  },
  {
   "cell_type": "markdown",
   "metadata": {},
   "source": [
    "## Exercice 2\n",
    "\n",
    "<div class=\"alert alert-info\">\n",
    "**Exercice** \n",
    "    \n",
    "Soient $X,Y:\\Omega\\to\\mathbb R$ des v.a. indépendantes, de même espérance $\\mu$, de même variance $\\sigma^2$. Soit $S=X+Y$. Calculer\n",
    "$\\rho_{X,S}$ et calculer la droite de régression linéaire qui approxime la dépendance de $S$ en $X$.\n",
    "\n",
    "_Suggestions_. Déduire de l'indépendance de $X$ et $Y$, par un simple calcul, que\n",
    "$\\mbox{Cov}(X,S)=\\sigma^2$. Déduire de l'indépendance de $X$ et $Y$ que $\\mbox{Var}(S)=2\\sigma^2$.\n",
    "\n",
    "</div>"
   ]
  },
  {
   "cell_type": "markdown",
   "metadata": {},
   "source": [
    "Comme $X$ et $Y$ sont indépendantes et $\\mathbb E[S] = 2\\mu$, on a \n",
    "\n",
    "$$\n",
    "\\begin{align}\n",
    "\\mathrm{cov}(X,S)&=E[(X-\\mu)(S-2\\mu)]\\\\\n",
    "&=E[(X-\\mu)((X-\\mu)+(Y-\\mu))]\\\\\n",
    "&=E[(X-\\mu)(X-\\mu)]+E[(X-\\mu)(Y-\\mu)]\\\\\n",
    "&=E[(X-\\mu)(X-\\mu)]+\\mathrm{cov}(X,Y)\\\\\n",
    "&=\\sigma^2.\n",
    "\\end{align}\n",
    "$$\n",
    "\n",
    "Rappelons que si $X$ et $Y$ sont indépendantes, alors $\\mathrm{Var}(X+Y)=\\mathrm{Var}(X)+\\mathrm{Var}(Y)$, et donc $\\mathrm{Var}(S)=2\\sigma^2$.\n",
    "On a alors par definition,\n",
    "\n",
    "$$\n",
    "    \\rho_{X,S} = \\frac{\\mathrm{cov}(X,S)}{\\sigma_X\\sigma_S} = \\frac{\\sigma^2}{\\sigma\\sqrt{2\\sigma^2}} = \\frac{1}{\\sqrt 2}\n",
    "$$\n",
    "\n",
    "La droite linéaire est donnée par $a_0X+b_0$ où\n",
    "\n",
    "$$\n",
    "\\begin{align}\n",
    "a_0 &= \\rho_{X,S}\\frac{\\sigma_S}{\\sigma_X} = 1,\\\\\n",
    "b_0 &= \\mathbb E[S]-a_0\\mathbb E[X] = 2\\mu-\\mu=\\mu\n",
    "\\end{align}\n",
    "$$\n",
    "\n",
    "La droite linéaire est alors $X+\\mu$. "
   ]
  },
  {
   "cell_type": "markdown",
   "metadata": {},
   "source": [
    "## Exercice 3\n",
    "\n",
    "<div class=\"alert alert-info\">\n",
    "**Exercice** (Deux estimateurs de l'espérance)\n",
    "    \n",
    "Soit $a>0$. Soit $X$ une variable aléatoire de loi uniforme \n",
    "à valeur dans l'intervalle $[0,2a]$. Soit $n$ un entier naturel et soit $X_1,X_2,\\dots, X_n$ une suite de $n$ variables aléatoires indépendantes de même loi que $X$.\n",
    "    \n",
    "</div>"
   ]
  },
  {
   "cell_type": "markdown",
   "metadata": {},
   "source": [
    "### Exercice 3a)\n",
    "\n",
    "<div class=\"alert alert-info\">\n",
    "**Exercice** \n",
    "\n",
    "Soit\n",
    "    \n",
    "$$M_n=\\frac{X_1+X_2+\\cdots+X_n}{n}.$$ \n",
    "    \n",
    "Prouver que $E[M_n]=a$ et que \n",
    "    \n",
    "$$\\mbox{Var}[M_n]=\\frac{a^2}{3n}.$$\n",
    "\n",
    "</div>"
   ]
  },
  {
   "cell_type": "markdown",
   "metadata": {},
   "source": [
    "Comme $X$ est uniforme à $[0,2a]$, on a que $\\mathbb E[X]=a$. Par linéarité de l'espérence on a donc que\n",
    "\n",
    "$$\n",
    "\\mathbb E[M_n]=\\frac{\\mathbb E[X_1]+\\mathbb E[X_2]+\\cdots+\\mathbb E[X_n]}{n} = a\n",
    "$$\n",
    "\n",
    "Rappelons que \n",
    "\n",
    "$$\\mathbb {E}[X^2] = \\int_0^{2a}\\!\\frac{t^2}{2a}\\,\\mathrm dt = \\frac{(2a)^3}{3(2a)} = \\frac{4 a^2}{3}$$\n",
    "\n",
    "Et alors, \n",
    "\n",
    "$$\n",
    "\\mbox{Var}(X) = \\mathbb {E}[X^2] - \\mathbb E[X]^2 = \\frac{4 a^2}{3}-a^2 = \\frac{a^2}{3}\n",
    "$$\n",
    "\n",
    "Rappelons que la variance est additive pour des variables aléatoires indépendantes, et aussi que $\\mbox{Var}(X/n) = \\mbox{Var}(X)/n^2$. On a donc que\n",
    "\n",
    "$$\n",
    "\\begin{align}\n",
    "\\mbox{Var}[M_n] &= \\mbox{Var}\\left[\\sum_{i=1}^n\\frac{X_i}{n}\\right] = \\sum_{i=1}^n\\mbox{Var}\\left[\\frac{X_i}{n}\\right]\\\\\n",
    "&=\\sum_{i=1}^n\\frac{\\mbox{Var}\\left[X_i\\right]}{n^2} = \\sum_{i=1}^n\\frac{a^2}{3n^2}\\\\\n",
    "&=\\frac{a^2}{3n}\n",
    "\\end{align}\n",
    "$$"
   ]
  },
  {
   "cell_type": "markdown",
   "metadata": {},
   "source": [
    "### Exercice 3b)\n",
    "\n",
    "<div class=\"alert alert-info\">\n",
    "**Exercice**  \n",
    "    \n",
    "Soit\n",
    "    \n",
    "$$\n",
    "T_n=\\max(X_1,X_2,\\dots,X_n).\n",
    "$$\n",
    "    \n",
    "Prouver que $$P(T_n\\leq x)=\\left(\\frac{x}{2a}\\right)^n$$ et en déduire l'expression de  la densité de probabilité $f_{T_n}(x)$. Prouver que\n",
    "    \n",
    "$$\n",
    "E[T_n]=2a\\frac{n}{n+1},\n",
    "$$\n",
    "\n",
    "$$\n",
    "\\mbox{Var}[T_n]=4a^2\\frac{n}{(n+2)(n+1)^2}.\n",
    "$$\n",
    "\n",
    "</div>"
   ]
  },
  {
   "cell_type": "markdown",
   "metadata": {},
   "source": [
    "On a que $T_n\\leq x$ si et seulement si $X_i\\leq x$ pour chaque $i$, alors par l'indépendance \n",
    "\n",
    "$$\n",
    "\\begin{align}\n",
    "    P(T_n\\leq x) &= P(X_1\\leq x,\\,X_2\\leq x,\\dots,\\,X_n\\leq x)\\\\\n",
    "    &= P(X_1\\leq x)P(X_2\\leq x)\\dots P(X_n\\leq x)\\\\\n",
    "    &= \\left(\\frac{x}{2a}\\right)^n\n",
    "\\end{align}\n",
    "$$\n",
    "\n",
    "La densité de $T_n$ est alors donnée par\n",
    "\n",
    "$$\n",
    "    f_{T_n}(x) = \\frac{\\mathrm d}{\\mathrm d x}P(T_n\\leq x) = \\frac{n}{2a}\\left(\\frac{x}{2a}\\right)^{n-1}\n",
    "$$\n",
    "\n",
    "Donc,\n",
    "\n",
    "$$\n",
    "\\begin{align}\n",
    "    E[T_n] &= \\int_{0}^{2a}\\frac{n}{2a}\\left(\\frac{x}{2a}\\right)^{n-1}x\\,\\mathrm dx = \\frac{n}{(2a)^n}\\int_{0}^{2a}x^{n}\\,\\mathrm dx \\\\\n",
    "    &= \\left[\\frac{n\\,x^{n+1}}{(2a)^n(n+1)}\\right]^{2a}_0\\\\\n",
    "    &=2a\\frac{n}{n+1}.\n",
    "\\end{align}\n",
    "$$\n",
    "\n",
    "Puis on calcule\n",
    "\n",
    "$$\n",
    "\\begin{align}\n",
    "    E[T_n^2] &= \\int_{0}^{2a}\\frac{n}{2a}\\left(\\frac{x}{2a}\\right)^{n-1}x^2\\,\\mathrm dx = \\frac{n}{(2a)^n} \\int_{0}^{2a}x^{n+1}\\,\\mathrm dx\\\\\n",
    "    &= \\left[\\frac{n\\,x^{n+2}}{(2a)^n (n+2)}\\right]^{2a}_0\\\\\n",
    "    &=4a^2\\frac{n}{n+2}\n",
    "\\end{align}\n",
    "$$\n",
    "\n",
    "Et finalement, \n",
    "\n",
    "$$\n",
    "\\begin{align}\n",
    "    \\mbox{Var}[T_n] &= E[T_n^2]-E[T_n]^2\\\\\n",
    "    &= 4a^2\\frac{n}{n+2} - 4a^2\\frac{n^2}{(n+1)^2}\\\\\n",
    "    &= 4a^2\\frac{n(n+1)^2-n^2(n+2)}{(n+2)(n+1)^2}\\\\\n",
    "    &=4a^2\\frac{n^3+2n^2+n-n^3-2n^2}{(n+2)(n+1)^2}\\\\\n",
    "    &=4a^2\\frac{n}{(n+2)(n+1)^2}\\\\\n",
    "\\end{align}\n",
    "$$"
   ]
  },
  {
   "cell_type": "markdown",
   "metadata": {},
   "source": [
    "### Exercice 3c)\n",
    "\n",
    "<div class=\"alert alert-info\">\n",
    "**Exercice** \n",
    "\n",
    "Soit $U_n=\\frac{n+1}{2n}T_n$. Prouver que $E[U_n]=a$ et que \n",
    "\n",
    "$$\\mbox{Var}[U_n]=\\frac{a^2}{n(n+2)}.$$\n",
    "\n",
    "</div>"
   ]
  },
  {
   "cell_type": "markdown",
   "metadata": {},
   "source": [
    "On a simplement que \n",
    "\n",
    "$$\n",
    "    E[U_n] =\\frac{n+1}{2n}E[T_n]=a,\n",
    "$$\n",
    "\n",
    "et\n",
    "\n",
    "$$\n",
    "\\begin{align}\n",
    "\\mbox{Var}[U_n] &= \\frac{(n+1)^2}{4n^2}\\mbox{Var}[T_n]\\\\\n",
    "&=\\frac{(n+1)^2}{4n^2}\\frac{4a^2n}{(n+2)(n+1)^2}\\\\\n",
    "&=\\frac{a^2}{n(n+2)}\n",
    "\\end{align}\n",
    "$$"
   ]
  },
  {
   "cell_type": "markdown",
   "metadata": {},
   "source": [
    "### Exercice 3d)\n",
    "\n",
    "<div class=\"alert alert-info\">\n",
    "**Exercice** \n",
    "    \n",
    "Quel estimateur de la moyenne de $X$ choisissez-vous ? Plutôt $M_n$ ou plutôt $U_n$ ?\n",
    "\n",
    "</div>"
   ]
  },
  {
   "cell_type": "markdown",
   "metadata": {},
   "source": [
    "On choisit $U_n$, car la variance de $U_n$ est plus petite. \n",
    "\n",
    "On peut voir visuelemnt la différence entre les estimateurs ci-dessous. On prend $a=1$ et $n=5$ et on voit que la densité de $U_n$ et beaucoup plus concentré que $M_n$."
   ]
  },
  {
   "cell_type": "code",
   "execution_count": 36,
   "metadata": {},
   "outputs": [
    {
     "data": {
      "image/png": "[encoded data removed]",
      "text/plain": [
       "<Figure size 432x288 with 1 Axes>"
      ]
     },
     "metadata": {
      "needs_background": "light"
     },
     "output_type": "display_data"
    }
   ],
   "source": [
    "import numpy as np\n",
    "import matplotlib.pyplot as plt\n",
    "import seaborn as sns\n",
    "\n",
    "a = 1\n",
    "n = 5\n",
    "\n",
    "X = np.random.uniform(0,2*a,size=(n,100000))\n",
    "M = np.mean(X,axis=0)\n",
    "U = np.max(X,axis=0)*(n+1)/(2*n)\n",
    "\n",
    "sns.kdeplot(M,label=\"$M_n$\");\n",
    "sns.kdeplot(U,label=\"$U_n$\");\n",
    "plt.axvline(x=1,c='gray',label='$a=1$')\n",
    "plt.legend();"
   ]
  },
  {
   "cell_type": "markdown",
   "metadata": {},
   "source": [
    "On a aussi le estimateur du maximum de vraisemblance. Soit $A$ un variable aléatoire qui décrit la paramètre $a$. La vraisemblance $L(a)$ dans cas discrète est defini par\n",
    "\n",
    "$$\n",
    "    L(a) = P(X_1=x_1,\\dots,X_n=x_n | A=a)\n",
    "$$\n",
    "\n",
    "En cas continue c'est une densité. Dans ce cas uniforme, le densité sachant $A=a$ est $\\frac{1}{2a}$, donc si on a des observations $(x_1,\\dots,x_n)$, on a vraisemblance\n",
    "\n",
    "$$\n",
    "    L(a) = \\frac{1}{(2a)^n}\n",
    "$$\n",
    "\n",
    "qui est minimale pour $\\hat a = \\frac12\\max(x_1,\\dots,x_n)$, car un valeur plut petit que ça n'est pas possible.\n",
    "\n",
    "On peut aussi normaliser le vraisemblance pour trouver une densité de probabilité de paramètre $a$ sachant les observations:\n",
    "\n",
    "$$\n",
    "f_A(a) = L(a) \\cdot\\left( \\int_{\\hat a}^\\infty L(a)\\right)^{-1} = \\frac{\\hat a^{n-1} (n-1)}{a^n}\n",
    "$$\n",
    "\n",
    "(si $a\\geq\\hat a$ et $f_A(a)=0$ si $a<\\hat a$.)\n",
    "\n",
    "Le moyenne de cette denstité est \n",
    "\n",
    "$$\n",
    "\\mathbb E[A] = \\frac{\\hat a(n-1)}{n-2}\n",
    "$$\n",
    "\n",
    "Par exemple pour $n=5$ et $\\hat a = 0.9$ on trace la densité de $A$:"
   ]
  },
  {
   "cell_type": "code",
   "execution_count": 67,
   "metadata": {},
   "outputs": [
    {
     "data": {
      "image/png": "[encoded data removed]",
      "text/plain": [
       "<Figure size 432x288 with 1 Axes>"
      ]
     },
     "metadata": {
      "needs_background": "light"
     },
     "output_type": "display_data"
    }
   ],
   "source": [
    "n = 5\n",
    "a_hat = 0.9\n",
    "a = np.linspace(1e-4,2*a_hat,num=200)\n",
    "\n",
    "plt.plot(a, a_hat**(n-1)*(n-1)/a**n*(a >= a_hat), label=\"$L(a)$\")\n",
    "plt.axvline(a_hat*(n+1)/n, c='r', label=\"$U_n$\")\n",
    "plt.axvline(a_hat*(n-1)/(n-2), c='g', label=\"$E[A]$\")\n",
    "plt.legend();"
   ]
  }
 ],
 "metadata": {
  "kernelspec": {
   "display_name": "Python 3",
   "language": "python",
   "name": "python3"
  },
  "language_info": {
   "codemirror_mode": {
    "name": "ipython",
    "version": 3
   },
   "file_extension": ".py",
   "mimetype": "text/x-python",
   "name": "python",
   "nbconvert_exporter": "python",
   "pygments_lexer": "ipython3",
   "version": "3.8.3"
  }
 },
 "nbformat": 4,
 "nbformat_minor": 4
}
