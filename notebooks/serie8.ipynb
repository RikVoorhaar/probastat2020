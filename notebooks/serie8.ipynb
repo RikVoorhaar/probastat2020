{
 "cells": [
  {
   "cell_type": "markdown",
   "metadata": {},
   "source": [
    "[![Open in Colab](https://colab.research.google.com/assets/colab-badge.svg)](https://colab.research.google.com/github/RikVoorhaar/probastat2020/blob/master/notebooks/serie8.ipynb?hl=fr)\n",
    "\n",
    "# Série 8"
   ]
  },
  {
   "cell_type": "markdown",
   "metadata": {},
   "source": [
    "## Exercice 1\n",
    "\n",
    "<div class=\"alert alert-info\">\n",
    "**Exercice** \n",
    "\n",
    "On se donne $n$ points du plan : $(x_1,y_1),\\dots,(x_n,y_n)$. Soit $X$ la variable aléatoire de la loi uniforme à valeurs dans l'ensemble $\\{x_1,\\dots,x_n\\}$.\n",
    "Soit $Y$ la variable aléatoire de la loi uniforme à valeurs dans l'ensemble $\\{y_1,\\dots,y_n\\}$. Calculer \n",
    "    \n",
    "$$\n",
    "    \\Phi(a,b)=\\mathbb E[(Y-(aX+b))^2].\n",
    "$$\n",
    "    \n",
    "Déterminer l'expression de la droite de régression linéaire.\n",
    "\n",
    "</div>"
   ]
  },
  {
   "cell_type": "markdown",
   "metadata": {},
   "source": [
    "## Exercice 2\n",
    "\n",
    "<div class=\"alert alert-info\">\n",
    "**Exercice** \n",
    "    \n",
    "Soient $X,Y:\\Omega\\to\\mathbb R$ des v.a. indépendantes, de même espérance $\\mu$, de même variance $\\sigma^2$. Soit $S=X+Y$. Calculer\n",
    "$\\rho_{X,S}$ et calculer la droite de régression linéaire qui approxime la dépendance de $S$ en $X$.\n",
    "\n",
    "_Suggestions_. Déduire de l'indépendance de $X$ et $Y$, par un simple calcul, que\n",
    "$\\mbox{Cov}(X,S)=\\sigma^2$. Déduire de l'indépendance de $X$ et $Y$ que $\\mbox{Var}(S)=2\\sigma^2$.\n",
    "\n",
    "</div>"
   ]
  },
  {
   "cell_type": "markdown",
   "metadata": {},
   "source": [
    "## Exercice 3\n",
    "\n",
    "<div class=\"alert alert-info\">\n",
    "**Exercice** (Deux estimateurs de l'espérance)\n",
    "    \n",
    "Soit $a>0$. Soit $X$ une variable aléatoire de loi uniforme \n",
    "à valeur dans l'intervalle $[0,2a]$. Soit $n$ un entier naturel et soit $X_1,X_2,\\dots, X_n$ une suite de $n$ variables aléatoires indépendantes de même loi que $X$.\n",
    "    \n",
    "</div>"
   ]
  },
  {
   "cell_type": "markdown",
   "metadata": {},
   "source": [
    "### Exercice 3a)\n",
    "\n",
    "<div class=\"alert alert-info\">\n",
    "**Exercice** \n",
    "\n",
    "Soit\n",
    "    \n",
    "$$M_n=\\frac{X_1+X_2+\\cdots+X_n}{n}.$$ \n",
    "    \n",
    "Prouver que $E[M_n]=a$ et que \n",
    "    \n",
    "$$\\mbox{Var}[M_n]=\\frac{a^2}{3n}.$$\n",
    "\n",
    "</div>"
   ]
  },
  {
   "cell_type": "markdown",
   "metadata": {},
   "source": [
    "### Exercice 3b)\n",
    "\n",
    "<div class=\"alert alert-info\">\n",
    "**Exercice**  \n",
    "    \n",
    "Soit\n",
    "    \n",
    "$$\n",
    "T_n=\\max(X_1,X_2,\\dots,X_n).\n",
    "$$\n",
    "    \n",
    "Prouver que $$P(T_n\\leq x)=\\left(\\frac{x}{2a}\\right)^n$$ et en déduire l'expression de  la densité de probabilité $f_{T_n}(x)$. Prouver que\n",
    "    \n",
    "$$\n",
    "E[T_n]=2a\\frac{n}{n+1},\n",
    "$$\n",
    "\n",
    "$$\n",
    "\\mbox{Var}[T_n]=4a^2\\frac{n}{(n+2)(n+1)^2}.\n",
    "$$\n",
    "\n",
    "</div>"
   ]
  },
  {
   "cell_type": "markdown",
   "metadata": {},
   "source": [
    "### Exercice 3c)\n",
    "\n",
    "<div class=\"alert alert-info\">\n",
    "**Exercice** \n",
    "\n",
    "Soit $U_n=\\frac{n+1}{2n}T_n$. Prouver que $E[U_n]=a$ et que \n",
    "\n",
    "$$\\mbox{Var}[U_n]=\\frac{a^2}{n(n+2)}.$$\n",
    "\n",
    "</div>"
   ]
  },
  {
   "cell_type": "markdown",
   "metadata": {},
   "source": [
    "### Exercice 3d)\n",
    "\n",
    "<div class=\"alert alert-info\">\n",
    "**Exercice** \n",
    "    \n",
    "Quel estimateur de la moyenne de $X$ choisissez-vous ? Plutôt $M_n$ ou plutôt $U_n$ ?\n",
    "\n",
    "</div>"
   ]
  }
 ],
 "metadata": {
  "kernelspec": {
   "display_name": "Python 3",
   "language": "python",
   "name": "python3"
  },
  "language_info": {
   "codemirror_mode": {
    "name": "ipython",
    "version": 3
   },
   "file_extension": ".py",
   "mimetype": "text/x-python",
   "name": "python",
   "nbconvert_exporter": "python",
   "pygments_lexer": "ipython3",
   "version": "3.7.4"
  }
 },
 "nbformat": 4,
 "nbformat_minor": 4
}
