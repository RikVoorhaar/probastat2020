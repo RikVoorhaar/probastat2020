{
 "cells": [
  {
   "cell_type": "markdown",
   "metadata": {},
   "source": [
    "[![Open in Colab](https://colab.research.google.com/assets/colab-badge.svg)](https://colab.research.google.com/github/RikVoorhaar/probastat2020/blob/master/notebooks/serie4.ipynb?hl=fr)\n",
    "\n",
    "# Série 4 (sans solutions)"
   ]
  },
  {
   "cell_type": "markdown",
   "metadata": {},
   "source": [
    "## Exercice 1\n",
    "\n",
    "<div class=\"alert alert-info\">\n",
    "**Exercice**\n",
    "    \n",
    "(Combinatoire.) Soient $0 \\leq k \\leq n$ des entiers. Prouver que le nombres\n",
    "suivants sont égaux.\n",
    "</div>\n",
    "\n",
    "### Exercice 1a)\n",
    "<div class=\"alert alert-info\">\n",
    "**Exercice**\n",
    "\n",
    "Le nombre de choix non-ordonnés avec répétions de $k$ objets parmi\n",
    "$n$.\n",
    "\n",
    "</div>"
   ]
  },
  {
   "cell_type": "markdown",
   "metadata": {},
   "source": [
    "### Exercice 1b)\n",
    "<div class=\"alert alert-info\">\n",
    "**Exercice**\n",
    "\n",
    "Le nombre de solutions entières positives ou nulles de l’équation\n",
    "\n",
    "$$\n",
    "x_1+\\dots+x_n = k\n",
    "$$\n",
    "\n",
    "</div>"
   ]
  },
  {
   "cell_type": "markdown",
   "metadata": {},
   "source": [
    "### Exercice 1c)\n",
    "<div class=\"alert alert-info\">\n",
    "**Exercice**\n",
    "\n",
    "(Mots abéliens.) Le nombre de mots, sur un alphabet ordonné de\n",
    "$n$ lettres, constitués de $k$ lettres qui apparaissent dans un ordre\n",
    "croissant (on ne demande pas strictement croissant donc $AA$ est\n",
    "accepté).\n",
    "\n",
    "</div>"
   ]
  },
  {
   "cell_type": "markdown",
   "metadata": {},
   "source": [
    "### Exercice 1d)\n",
    "<div class=\"alert alert-info\">\n",
    "**Exercice**\n",
    "\n",
    "Le nombre d’arrangements de $k$ boules indiscernables dans $n$ urnes.\n",
    "\n",
    "</div>"
   ]
  },
  {
   "cell_type": "markdown",
   "metadata": {},
   "source": [
    "### Exercice 1e)\n",
    "<div class=\"alert alert-info\">\n",
    "**Exercice**\n",
    "\n",
    "Le coefficient binomial\n",
    "\n",
    "$$\n",
    "\\binom{n+k-1}{k}\n",
    "$$\n",
    "\n",
    "</div>"
   ]
  },
  {
   "cell_type": "markdown",
   "metadata": {},
   "source": [
    "## Exercice 2\n",
    "<div class=\"alert alert-info\">\n",
    "**Exercice**\n",
    "\n",
    "(Densité de probabilités.) Soit $\\Omega$ un ensemble dénombrable. Soit $f \\colon\\Omega\\to [0, 1]$ telle que\n",
    "    \n",
    "$$\n",
    "    \\sum_{x\\in\\Omega}f(x) = 1\n",
    "$$\n",
    "    \n",
    "On définit\n",
    "\n",
    "$$\n",
    "    \\mathbb P\\colon \\mathcal P(\\Omega)\\to[0,1]\n",
    "$$\n",
    "$$\n",
    "    \\mathbb P(A) = \\sum_{x\\in A}f(x)\n",
    "$$\n",
    "\n",
    "Vérifier que $(\\Omega, \\mathcal P(\\Omega), \\mathbb P)$ est un espace probabilisé.\n",
    "\n",
    "</div>"
   ]
  },
  {
   "cell_type": "markdown",
   "metadata": {},
   "source": [
    "## Exercice 3\n",
    "<div class=\"alert alert-info\">\n",
    "**Exercice**\n",
    "\n",
    "(Densité de Poisson.) Soit $\\lambda \\geq 0$. Soit $\\Omega = \\mathbb N \\cup \\{0\\}$. Pour tout $k\\in\\mathbb N\\cup \\{0\\}$, posons\n",
    "\n",
    "$$\n",
    "    f(k) = \\frac{e^{-\\lambda}\\lambda^k}{k!}\n",
    "$$\n",
    "\n",
    "Vérifier que $f$ est une densité de probabilités.\n",
    "\n",
    "</div>"
   ]
  },
  {
   "cell_type": "markdown",
   "metadata": {},
   "source": [
    "## Exercice 4\n",
    "<div class=\"alert alert-info\">\n",
    "**Exercice**\n",
    "\n",
    "(Loi de probabilité d’une variable aléatoire ou poussé avant d’une\n",
    "mesure de probabilités.) Soit $(\\Omega, \\mathcal A, \\mathbb P)$ un espace probabilisé et $(E, \\mathcal B)$\n",
    "un ensemble muni d’une tribu. Soit\n",
    "\n",
    "$$\n",
    "    X\\colon \\Omega \\to E\n",
    "$$\n",
    "\n",
    "une variable aléatoire. On définit la loi de $X$ par les conditions :\n",
    "    \n",
    "$$\n",
    "    \\mathbb P_X\\colon \\mathcal B\\to[0,1]\n",
    "$$\n",
    "$$\n",
    "    B\\mapsto \\mathbb P(X^{-1}(B))\n",
    "$$\n",
    "\n",
    "Prouver que $(E, \\mathcal B, \\mathbb P_X)$ est un espace probabilisé.\n",
    "\n",
    "</div>"
   ]
  },
  {
   "cell_type": "markdown",
   "metadata": {},
   "source": [
    "## Exercice 5\n",
    "<div class=\"alert alert-info\">\n",
    "**Exercice**\n",
    "\n",
    "Soit $X$ et $Y$ deux variables aléatoires de Bernoulli modélisant chacune\n",
    "le jet d’une pièce équilibrée (pile = 0, face = 1, avec même probabilité). On suppose que les jetés des deux pièces sont indépendants.\n",
    "Soit $Z = X + Y$ modulo 2. C’est-à-dire que $Z = 0$ si $X = Y = 0$ ou si\n",
    "$X = Y = 1$ et $Z = 1$ si les valeurs de X et Y sont distinctes. Montrer\n",
    "que les variables aléatoires $X, Y, Z$ sont deux-à-deux indépendantes\n",
    "mais qu’elles ne sont pas mutuellement indépendantes.\n",
    "\n",
    "</div>"
   ]
  }
 ],
 "metadata": {
  "kernelspec": {
   "display_name": "Python 3",
   "language": "python",
   "name": "python3"
  },
  "language_info": {
   "codemirror_mode": {
    "name": "ipython",
    "version": 3
   },
   "file_extension": ".py",
   "mimetype": "text/x-python",
   "name": "python",
   "nbconvert_exporter": "python",
   "pygments_lexer": "ipython3",
   "version": "3.8.3"
  }
 },
 "nbformat": 4,
 "nbformat_minor": 4
}
