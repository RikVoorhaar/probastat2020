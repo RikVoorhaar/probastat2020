{
 "cells": [
  {
   "cell_type": "markdown",
   "metadata": {},
   "source": [
    "[![Open in Colab](https://colab.research.google.com/assets/colab-badge.svg)](https://colab.research.google.com/github/RikVoorhaar/probastat2020/blob/master/notebooks/serie4.ipynb?hl=fr)\n",
    "\n",
    "# Série 4"
   ]
  },
  {
   "cell_type": "markdown",
   "metadata": {},
   "source": [
    "## Exercice 1\n",
    "\n",
    "<div class=\"alert alert-info\">\n",
    "**Exercice**\n",
    "    \n",
    "(Combinatoire.) Soient $0 \\leq k \\leq n$ des entiers. Prouver que le nombres\n",
    "suivants sont égaux.\n",
    "</div>\n",
    "\n",
    "### Exercice 1a)\n",
    "<div class=\"alert alert-info\">\n",
    "**Exercice**\n",
    "\n",
    "Le nombre de choix non-ordonnés avec répétions de $k$ objets parmi\n",
    "$n$.\n",
    "\n",
    "</div>\n",
    "\n",
    "On va montrer que ce nombre est egal à 1e), le coeffcient binomial\n",
    "\n",
    "$$\n",
    "\\binom{n+k-1}k\n",
    "$$\n",
    "\n",
    "On utilise récurrence sur $n$ et $k$. Denotons le nombre de choix de $k$ parmi $n$ par $[n,k]$ (NB: ce n'est pas une notation standard). Si $n=0$clairement on a $0$ choix, donc $[0,k]=0$. Si $k=0$ on a un seul choix (le choix vide) alor $[n,0]=1$. Si $n=k=1$ clairement on a un seul choix, alors $[1,1]=1$. \n",
    "\n",
    "Si on choisit $n$ objects parmi $k$, on a deux possibilités :\n",
    "- un des $k$ choix est la $n$ième objet, ou \n",
    "- le $n$ième objet n'est pas choisit. \n",
    "\n",
    "Dans la premier cas, il nous reste à choisir $k-1$ parmi $n$, car nous savons qu'un choix est le $n$ième objet (et l'ordre n'importe pas). Dans deuxième cas nous reste de choisir $k$ objets parmi $n-1$ (car on sait que tous les choix sont differentes de $n$ième objet). Nous avons alors demontré que\n",
    "\n",
    "$$\n",
    "[n,k] = [n,k-1]+[n-1,k]\n",
    "$$\n",
    "\n",
    "Par reccurence on a que\n",
    "\n",
    "$$\n",
    "[n,k] = \\binom{n+k-2}{k-1}+\\binom{n+k-2}{k}=\\binom{n+k-1}{k},\n",
    "$$\n",
    "\n",
    "par la formule suivante des coefficients binominaux:\n",
    "\n",
    "$$\n",
    "\\binom{n}{k} = \\binom{n-1}{k-1}+\\binom{n-1}{k}\n",
    "$$\n",
    "\n",
    "(c'est essentiellement la definition de triangle de Pascal : )\n",
    "\n",
    "$$\n",
    "\\begin{align}\n",
    "\\binom{n-1}{k-1}+\\binom{n-1}{k} &= \\frac{(n-1)!}{k!(n-1-k)!}+\\frac{(n-1)!}{(k-1)!(n-k)!}\\\\\n",
    "&=\\frac{(n-1)!(n-k)}{k!(n-k)!}+\\frac{(n-1)!k}{k!(n-k)!}\\\\\n",
    "&=\\frac{(n-1)!(n-k+k)}{k!(n-k)!} = \\frac{n!}{k!(n-k)!}\\\\\n",
    "&=\\binom{n}{k}.\n",
    "\\end{align}\n",
    "$$\n",
    "\n",
    "On peut alors calculer les nombre de choix de $k$ objets parmi $n$ avec la méthode recursive suivante :"
   ]
  },
  {
   "cell_type": "code",
   "execution_count": 15,
   "metadata": {},
   "outputs": [
    {
     "data": {
      "text/plain": [
       "2002"
      ]
     },
     "execution_count": 15,
     "metadata": {},
     "output_type": "execute_result"
    }
   ],
   "source": [
    "def num_choices(n,k):\n",
    "    if n==1 and k==1:\n",
    "        return 1\n",
    "    if n==0:\n",
    "        return 0\n",
    "    if k==0:\n",
    "        return 1\n",
    "    return num_choices(n,k-1)+num_choices(n-1,k)\n",
    "\n",
    "num_choices(10,5)"
   ]
  },
  {
   "cell_type": "code",
   "execution_count": 25,
   "metadata": {},
   "outputs": [
    {
     "data": {
      "text/plain": [
       "2002"
      ]
     },
     "execution_count": 25,
     "metadata": {},
     "output_type": "execute_result"
    }
   ],
   "source": [
    "from scipy.special import binom\n",
    "\n",
    "def num_choices2(n,k):\n",
    "    return int(binom(n+k-1,k))\n",
    "\n",
    "num_choices2(10,5)"
   ]
  },
  {
   "cell_type": "markdown",
   "metadata": {},
   "source": [
    "### Exercice 1b)\n",
    "<div class=\"alert alert-info\">\n",
    "**Exercice**\n",
    "\n",
    "Le nombre de solutions entières positives ou nulles de l’équation\n",
    "\n",
    "$$\n",
    "x_1+\\dots+x_n = k\n",
    "$$\n",
    "\n",
    "</div>\n",
    "\n",
    "On peut interpreter cette équation comme choix de $k$ objets non-ordonnées parmi $n$ object avec répetitions : Le nombre $x_i$ est le nombre de fois le $i$ème objet a été choisi. La condition $\\sum_ix_i=k$ veux dire que le nombre total des objets choisi est $k$. \n",
    "\n",
    "Dans manière recursive comme la méthode `num_choices` si-dessus, on peut calculer tous les solutions de $\\sum_ix_i=k$ comme dessous :"
   ]
  },
  {
   "cell_type": "code",
   "execution_count": 24,
   "metadata": {},
   "outputs": [
    {
     "data": {
      "text/plain": [
       "[[0, 3], [1, 2], [2, 1], [3, 0]]"
      ]
     },
     "execution_count": 24,
     "metadata": {},
     "output_type": "execute_result"
    }
   ],
   "source": [
    "def multi_choices(n,k):\n",
    "    # Conditions aux limites\n",
    "    if n==1 and k==1:  # Un seul choix\n",
    "        return [[1]]\n",
    "    if n==0:  # Aucun choix\n",
    "        return []\n",
    "    if k==0:  # Choix vide\n",
    "        return [[0]*n]\n",
    "    \n",
    "    # Étape de récursivité\n",
    "    l1 = multi_choices(n,k-1)\n",
    "    for c in l1:\n",
    "        c[-1]+=1\n",
    "    l2 = multi_choices(n-1,k)\n",
    "    for c in l2:\n",
    "        c.append(0)\n",
    "    return l1+l2\n",
    "\n",
    "multi_choices(2,3)"
   ]
  },
  {
   "cell_type": "markdown",
   "metadata": {},
   "source": [
    "### Exercice 1c)\n",
    "<div class=\"alert alert-info\">\n",
    "**Exercice**\n",
    "\n",
    "(Mots abéliens.) Le nombre de mots, sur un alphabet ordonné de\n",
    "$n$ lettres, constitués de $k$ lettres qui apparaissent dans un ordre\n",
    "croissant (on ne demande pas strictement croissant donc $AA$ est\n",
    "accepté).\n",
    "\n",
    "</div>"
   ]
  },
  {
   "cell_type": "markdown",
   "metadata": {},
   "source": [
    "Comme les mots sont abéliens, nous ne intéressons qu'à le nombre de fois chaque lettre apparaît. Un mot abélian est donc definé par le nombres $x_i$ de fois le $i$ème lettre apparaît. Comme le nombres totales des lettres est $k$, on conclut que les mots abéliens de longueur $k$ en $n$ lettres sont equivalent à des solutions d'équation\n",
    "\n",
    "$$\n",
    "x_1+\\dots+x_n = k\n",
    "$$\n",
    "\n",
    "C'est donc equivalent à 1b)."
   ]
  },
  {
   "cell_type": "markdown",
   "metadata": {},
   "source": [
    "### Exercice 1d)\n",
    "<div class=\"alert alert-info\">\n",
    "**Exercice**\n",
    "\n",
    "Le nombre d’arrangements de $k$ boules indiscernables dans $n$ urnes.\n",
    "\n",
    "</div>"
   ]
  },
  {
   "cell_type": "markdown",
   "metadata": {},
   "source": [
    "Pour chaque boule $k$ nous devons choisir une urne parmi $n$. C'est un choix non-ordonné avec répetition, donc le nombre de chaques arrangements est égal à 1a)"
   ]
  },
  {
   "cell_type": "markdown",
   "metadata": {},
   "source": [
    "### Exercice 1e)\n",
    "<div class=\"alert alert-info\">\n",
    "**Exercice**\n",
    "\n",
    "Le coefficient binomial\n",
    "\n",
    "$$\n",
    "\\binom{n+k-1}{k}\n",
    "$$\n",
    "\n",
    "</div>\n",
    "\n",
    "Rien à faire."
   ]
  },
  {
   "cell_type": "markdown",
   "metadata": {},
   "source": [
    "## Exercice 2\n",
    "<div class=\"alert alert-info\">\n",
    "**Exercice**\n",
    "\n",
    "(Densité de probabilités.) Soit $\\Omega$ un ensemble dénombrable. Soit $f \\colon\\Omega\\to [0, 1]$ telle que\n",
    "    \n",
    "$$\n",
    "    \\sum_{x\\in\\Omega}f(x) = 1\n",
    "$$\n",
    "    \n",
    "On définit\n",
    "\n",
    "$$\n",
    "    \\mathbb P\\colon \\mathcal P(\\Omega)\\to[0,1]\n",
    "$$\n",
    "$$\n",
    "    \\mathbb P(A) = \\sum_{x\\in A}f(x)\n",
    "$$\n",
    "\n",
    "Vérifier que $(\\Omega, \\mathcal P(\\Omega), \\mathbb P)$ est un espace probabilisé.\n",
    "\n",
    "</div>"
   ]
  },
  {
   "cell_type": "markdown",
   "metadata": {},
   "source": [
    "On sait que $\\mathcal P(\\Omega)$ est un tribu, donc on doit vérifier que :\n",
    "\n",
    "1. $\\mathbb P(\\Omega)=1$\n",
    "2. $\\mathbb P(\\bigcup_n A_n)=\\sum_n A_n$ pour des familles dénombrables disjointes\n",
    "\n",
    "La première propriété est satisfait par hypothèse. Soit $A_1,\\dots,A_n,\\dots$ une famille dénombrable des sous-ensembles disjointes $A_i\\subset \\Omega$. Alors\n",
    "\n",
    "$$\n",
    "\\mathbb P\\left(\\bigcup_n A_n\\right) = \\sum_{x\\in \\bigcup_n A_n}f(x)=\\sum_i\\sum_{x\\in A_i}f(x) = \\sum_n A_n\n",
    "$$\n",
    "\n",
    "donc $(\\Omega, \\mathcal P(\\Omega), \\mathbb P)$ est bien un espace probabilisé. "
   ]
  },
  {
   "cell_type": "markdown",
   "metadata": {},
   "source": [
    "## Exercice 3\n",
    "<div class=\"alert alert-info\">\n",
    "**Exercice**\n",
    "\n",
    "(Densité de Poisson.) Soit $\\lambda \\geq 0$. Soit $\\Omega = \\mathbb N \\cup \\{0\\}$. Pour tout $k\\in\\mathbb N\\cup \\{0\\}$, posons\n",
    "\n",
    "$$\n",
    "    f(k) = \\frac{e^{-\\lambda}\\lambda^k}{k!}\n",
    "$$\n",
    "\n",
    "Vérifier que $f$ est une densité de probabilités.\n",
    "\n",
    "</div>\n",
    "\n",
    "Comme $\\lambda\\geq 0$ tous les $f(k)$ sont positifs, donc on doit donc seulement vérifier que\n",
    "\n",
    "$$\n",
    "    \\sum_{k=0}^\\infty f(k) = 1\n",
    "$$\n",
    "\n",
    "On calcule alors\n",
    "\n",
    "$$\n",
    "\\begin{align}\n",
    "\\sum_{k=0}^\\infty \\frac{e^{-\\lambda}\\lambda^k}{k!}&=e^{-\\lambda}\\sum_{k=0}^\\infty \\frac{\\lambda^k}{k!}\\\\\n",
    "&=e^{-\\lambda}e^\\lambda =1\n",
    "\\end{align}\n",
    "$$"
   ]
  },
  {
   "cell_type": "markdown",
   "metadata": {},
   "source": [
    "## Exercice 4\n",
    "<div class=\"alert alert-info\">\n",
    "**Exercice**\n",
    "\n",
    "(Loi de probabilité d’une variable aléatoire ou poussé avant d’une\n",
    "mesure de probabilités.) Soit $(\\Omega, \\mathcal A, \\mathbb P)$ un espace probabilisé et $(E, \\mathcal B)$\n",
    "un ensemble muni d’une tribu. Soit\n",
    "\n",
    "$$\n",
    "    X\\colon \\Omega \\to E\n",
    "$$\n",
    "une variable aléatoire. On définit la loi de $X$ par les conditions :\n",
    "    \n",
    "$$\n",
    "    \\mathbb P_X\\colon \\mathcal B\\to[0,1]\n",
    "$$\n",
    "$$\n",
    "    B\\mapsto \\mathbb P(X^{-1}(B))\n",
    "$$\n",
    "\n",
    "Prouver que $(E, \\mathcal B, \\mathbb P_X)$ est un espace probabilisé.\n",
    "\n",
    "</div>\n",
    "\n",
    "D'abbord notons que si $B\\in \\mathcal B$, alors $X^{-1}(B)\\in \\mathcal A$ par définition d'une variable aléatoire, donc $\\mathbb P_X$ est bien défini. Puis on a que\n",
    "\n",
    "$$\n",
    "    \\mathbb P_X(E) = \\mathbb P(X^{-1}(E))=\\mathbb P(\\Omega) = 1\n",
    "$$\n",
    "\n",
    "Il reste à montrer que\n",
    "\n",
    "$$\n",
    "    \\mathbb P_X\\left(\\bigcup_n B_n\\right)=\\sum_n \\mathbb P_X(B_n)\n",
    "$$\n",
    "pour des familles $\\{B_n\\}\\subset \\mathcal B$ dénombrables disjointes. Notons que si $B$, $B'$ disjoints, alors $X^{-1}(B)$ et $X^{-1}(B')$ sont disjoints aussi. On a donc\n",
    "\n",
    "$$\n",
    "\\begin{align}\n",
    "\\mathbb P_X\\left(\\bigcup_n B_n\\right) &= \\mathbb P\\left(X^{-1}\\left(\\bigcup_n B_n\\right)\\right)\\\\\n",
    "&= \\mathbb P\\left(\\bigcup_n X^{-1}(B_n)\\right)\\\\\n",
    "&= \\sum_n \\mathbb P(X^{-1}(B_n))\\\\\n",
    "&= \\sum_n \\mathbb P_X(B_n)\n",
    "\\end{align} \n",
    "$$\n"
   ]
  },
  {
   "cell_type": "markdown",
   "metadata": {},
   "source": [
    "## Exercice 5\n",
    "<div class=\"alert alert-info\">\n",
    "**Exercice**\n",
    "\n",
    "Soit $X$ et $Y$ deux variables aléatoires de Bernoulli modélisant chacune\n",
    "le jet d’une pièce équilibrée (pile = 0, face = 1, avec même probabilité). On suppose que les jetés des deux pièces sont indépendants.\n",
    "Soit $Z = X + Y$ modulo 2. C’est-à-dire que $Z = 0$ si $X = Y = 0$ ou si\n",
    "$X = Y = 1$ et $Z = 1$ si les valeurs de X et Y sont distinctes. Montrer\n",
    "que les variables aléatoires $X, Y, Z$ sont deux-à-deux indépendantes\n",
    "mais qu’elles ne sont pas mutuellement indépendantes.\n",
    "\n",
    "</div>\n",
    "\n",
    "Les variables aléatoires sont des fonctions $X,Y,Z\\colon \\{0,1\\}^2\\to \\{0,1\\}$ où \n",
    "\n",
    "- $X(x_1,x_2) = x_1$\n",
    "- $Y(x_1,x_2) = x_2$\n",
    "- $Z(x_1,x_2) = x_1+x_2 \\mod 2$\n",
    "\n",
    "D'abbord on voit que\n",
    "\n",
    "$$\n",
    "\\mathbb P((X=1)\\cap (Y=1)\\cap (Z=1)) = 0,\n",
    "$$\n",
    "\n",
    "car si $X=1$ et $Y=1$, alors $Z=0$. Mais d'autre part,\n",
    "\n",
    "$$\n",
    "\\mathbb P(X=1)\\mathbb P(Y=1)\\mathbb P(Z=1)=\\frac18\n",
    "$$\n",
    "\n",
    "car $X,Y$ sont de Bernoulli et \n",
    "\n",
    "$$\n",
    "\\mathbb P(Z=1) = \\mathbb P(\\{(1,0),(0,1)\\}) = \\frac12\n",
    "$$\n",
    "\n",
    "(en fait $Z$ est aussi de Bernoulli). Donc on conclut que $X,Y,Z$ ne sont pas mutuellement indépendantes. \n",
    "\n",
    "On a vu dans le cours que $X$ et $Y$ sont indépendantes. Par symétrie il reste donc seulement montrer que $X$ et $Z$ sont indépendantes. On a que \n",
    "\n",
    "$$\n",
    "\\begin{align}\n",
    "\\mathbb P((X=0)\\cap (Z=0))&=\\mathbb P(\\{(0,1)\\}) = \\frac14\\\\\n",
    "\\mathbb P((X=0)\\cap (Z=1))&=\\mathbb P(\\{(0,0)\\}) = \\frac14\\\\\n",
    "\\mathbb P((X=1)\\cap (Z=0))&=\\mathbb P(\\{(1,1)\\}) = \\frac14\\\\\n",
    "\\mathbb P((X=1)\\cap (Z=1))&=\\mathbb P(\\{(1,0)\\}) = \\frac14\n",
    "\\end{align}\n",
    "$$\n",
    "\n",
    "Comme $P(X=i)=P(Z=i)=1/2$, on conclut que $X$ et $Z$ sont indépendantes ($Y$ et $Z$ sont indépendantes par le même raisonnement)."
   ]
  }
 ],
 "metadata": {
  "kernelspec": {
   "display_name": "Python 3",
   "language": "python",
   "name": "python3"
  },
  "language_info": {
   "codemirror_mode": {
    "name": "ipython",
    "version": 3
   },
   "file_extension": ".py",
   "mimetype": "text/x-python",
   "name": "python",
   "nbconvert_exporter": "python",
   "pygments_lexer": "ipython3",
   "version": "3.7.7"
  }
 },
 "nbformat": 4,
 "nbformat_minor": 4
}
