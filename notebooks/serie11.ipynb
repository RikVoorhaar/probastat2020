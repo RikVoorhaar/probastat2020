{
 "cells": [
  {
   "cell_type": "markdown",
   "metadata": {},
   "source": [
    "[![Open in Colab](https://colab.research.google.com/assets/colab-badge.svg)](https://colab.research.google.com/github/RikVoorhaar/probastat2020/blob/master/notebooks/serie11.ipynb?hl=fr)\n",
    "\n",
    "# Série 11"
   ]
  },
  {
   "cell_type": "markdown",
   "metadata": {},
   "source": [
    "## Exercice 1\n",
    "\n",
    "<div class=\"alert alert-info\">\n",
    "**Exercice** \n",
    "    \n",
    "Expliquer pourquoi il suffit de prouver le théorème central limite dans le cas particulier où les v.a. que l'on somme sont centrées réduites.\n",
    "    \n",
    "</div>"
   ]
  },
  {
   "cell_type": "markdown",
   "metadata": {},
   "source": [
    "## Exercice 2\n",
    "\n",
    "<div class=\"alert alert-info\">\n",
    "**Exercice** \n",
    "    \n",
    "Soit $t\\in\\mathbb R$. Prouver que\n",
    "\n",
    "$$\n",
    "\\lim_{n\\to\\infty}\\left(1-\\frac{t^2}{2n}+o\\left(\\frac{t^2}{n}\\right)\\right)^n=e^{-\\frac{t^2}{2}}.\n",
    "$$\n",
    "    \n",
    "</div>"
   ]
  },
  {
   "cell_type": "markdown",
   "metadata": {},
   "source": [
    "## Exercice 3\n",
    "\n",
    "<div class=\"alert alert-info\">\n",
    "**Exercice** \n",
    "    \n",
    "Soit $X$ une variable aléatoire de densité $f_X$. Supposons que \n",
    "    \n",
    "$$\\mathbb E[|X|]<\\infty.$$\n",
    "    \n",
    "Soit $t\\in\\mathbb R$. Prouver que\n",
    "    \n",
    "$$\\lim_{s\\to 0}\\int_{-\\infty}^{\\infty}\\left(\\frac{e^{isx}-1}{isx}-1\\right)xe^{itx}f_X(x)dx=0.$$\n",
    "    \n",
    "</div>"
   ]
  },
  {
   "cell_type": "markdown",
   "metadata": {},
   "source": [
    "## Exercice 4\n",
    "\n",
    "<div class=\"alert alert-info\">\n",
    "**Exercice** \n",
    "    \n",
    "Soit $a\\in\\mathbb C$. Soit $\\theta\\in\\mathbb R$. Trouver une suite de nombres complexes $$h_1,\\dots,h_n,\\dots$$ qui tend vers zéro et qui est telle que \n",
    "\n",
    "$$\\lim_{n\\to \\infty}\\frac{\\overline{a+h_n}-\\overline{a}}{h_n}=e^{i\\theta}.$$\n",
    "    \n",
    "</div>"
   ]
  },
  {
   "cell_type": "markdown",
   "metadata": {},
   "source": [
    "## Exercice 5\n",
    "\n",
    "<div class=\"alert alert-info\">\n",
    "**Exercice** \n",
    "    \n",
    "Soit $a\\in\\mathbb C$. Prouver que  les limites suivantes existent et les calculer :\n",
    "\n",
    "$$\n",
    "\\lim_{h\\in\\mathbb C, h\\to 0}\\frac{(a+h)^2-a^2}{h},\n",
    "$$\n",
    "\n",
    "$$\n",
    "\\lim_{h\\in\\mathbb C, h\\to 0}\\frac{e^{a+h}-e^a}{h}.\n",
    "$$\n",
    "    \n",
    "</div>"
   ]
  },
  {
   "cell_type": "markdown",
   "metadata": {},
   "source": [
    "## Exercice 6\n",
    "\n",
    "<div class=\"alert alert-info\">\n",
    "**Exercice** (Les zéros d'une fonction holomorphe sont isolés.) \n",
    "    \n",
    "Soit $a\\in U\\subset\\mathbb C$ un point dans un ouvert du plan complexe.\n",
    "Soit $f:U\\to\\mathbb C$ une fonction holomorphe.  Le développement de $f$ en série de Taylor \n",
    "\n",
    "$$\n",
    "(z)=\\sum_{n=0}^{\\infty}\\frac{f^{n}(a)}{n!}(z-a)^n\n",
    "$$\n",
    "\n",
    "est valide dans tout disque de centre $a$ inclus dans $U$. Déduire de ce fait le résultat suivant.\n",
    "    \n",
    "> Supposons que $f$ n'est pas identiquement nulle et que $U$ est connexe. Supposons que $a\\in U$ est tel que $f(a)=0$. Il existe alors $\\epsilon>0$ tel que si $|z-a|<\\epsilon$ et si $f(z)=0$ alors $z=a$.\n",
    "    \n",
    "</div>"
   ]
  }
 ],
 "metadata": {
  "kernelspec": {
   "display_name": "Python 3",
   "language": "python",
   "name": "python3"
  },
  "language_info": {
   "codemirror_mode": {
    "name": "ipython",
    "version": 3
   },
   "file_extension": ".py",
   "mimetype": "text/x-python",
   "name": "python",
   "nbconvert_exporter": "python",
   "pygments_lexer": "ipython3",
   "version": "3.7.4"
  }
 },
 "nbformat": 4,
 "nbformat_minor": 4
}
