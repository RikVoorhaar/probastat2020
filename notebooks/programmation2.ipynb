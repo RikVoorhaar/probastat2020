{
 "cells": [
  {
   "cell_type": "markdown",
   "metadata": {},
   "source": [
    "[![Open in Colab](https://colab.research.google.com/assets/colab-badge.svg)](https://colab.research.google.com/github/RikVoorhaar/probastat2020/blob/master/notebooks/programmation2.ipynb?hl=fr)"
   ]
  },
  {
   "cell_type": "markdown",
   "metadata": {},
   "source": [
    "# Série de programmation 2\n"
   ]
  },
  {
   "cell_type": "markdown",
   "metadata": {},
   "source": [
    "## Instructions générales"
   ]
  },
  {
   "cell_type": "markdown",
   "metadata": {},
   "source": [
    "On va utiliser les librairies suivantes. __Évaluer la cellule ci-dessous__ pour importer toutes les librairies."
   ]
  },
  {
   "cell_type": "code",
   "execution_count": 1,
   "metadata": {},
   "outputs": [],
   "source": [
    "import numpy as np\n",
    "import matplotlib.pyplot as plt\n",
    "import sklearn\n",
    "import scipy"
   ]
  },
  {
   "cell_type": "markdown",
   "metadata": {},
   "source": [
    "Si une des librairies n'est pas installée, la cellule ci-dessus donne un `ModuleNotFoundError`. Dans ce cas vous pouvez les installer avec la ligne de commande :\n",
    "\n",
    "    \n",
    "```bash\n",
    "    pip install <logiciel>\n",
    "```\n",
    "\n",
    "Si vous utilisez Google Colab ou vous venez d'installer Annaconda, toutes les librairies devraient être déja installées."
   ]
  },
  {
   "cell_type": "markdown",
   "metadata": {},
   "source": [
    "__Informations importants pour les exercises__  \n",
    "\n",
    "* Les solutions des exercices ne font pas plus de quelques lignes. Réévaluer votre réponse si elle est beaucoup plus longue.  \n",
    "\n",
    "* Redémarrer l'environment d'exécution (anglais : 'kernel') de temps en temps.  \n",
    "\n",
    "* Tous les exercises ont des tests automatiques. Si vous évaluez les tests et ils ne donnent pas d'erreurs, votre réponse est probablement correcte.  \n",
    "\n",
    "* Avant de remettre votre fichier, redémarrer l'environment d'exécution et exécuter toutes le code. Vérifier que aucun test ne donne une erreur."
   ]
  },
  {
   "cell_type": "markdown",
   "metadata": {},
   "source": [
    "## Partie 1: Marches aléatoires sur un réseau"
   ]
  },
  {
   "cell_type": "markdown",
   "metadata": {},
   "source": [
    "Soit $\\mathbb Z^n \\subset \\mathbb R^n$ le réseau d'entiers. Une marche aléatoire est une suite des variables aléatoires $\\{V_t\\}_{t\\geq 0}$. On a $V_0 = (0,\\dots,0)$, et $V_t = V_{t-1} + S_t$, où $S_t$ est un pas aléatoires de longueur $1$ dans une direction cardinale. \n",
    "\n",
    "C'est-à-dire, $S_t$ est uniforme à valeurs\n",
    "\n",
    "$$\n",
    "\\begin{align}\n",
    "&\\{(+1,0,\\dots,0),(-1,0,\\dots,0),(0,+1,0,\\dots,0),\\dots,(0,\\dots,+1),(0,\\dots,-1)\\}\\\\\n",
    "&\\cong \\{1,\\dots,n\\}\\times \\{-1,1\\}\n",
    "\\end{align}$$\n",
    "\n",
    "Chaque étape de marche on choisit une direction $k$, et on ajoute $-1$ ou $+1$ à la $k$ième entrée de $V_t$. \n",
    "\n",
    "Si $n=1$, il n'y a pas besoin de choisir une direction parce qu'il n'y qu'une seule direction. On fait une simulation d'une marche aléatoire dans le cas $n=1$ ci-dessous:"
   ]
  },
  {
   "cell_type": "code",
   "execution_count": 2,
   "metadata": {},
   "outputs": [
    {
     "data": {
      "text/plain": [
       "array([[-1,  0,  1,  0, -1,  0, -1, -2, -1,  0],\n",
       "       [-1, -2, -3, -4, -5, -4, -3, -4, -3, -2],\n",
       "       [ 1,  2,  1,  2,  1,  0,  1,  0,  1,  2]])"
      ]
     },
     "execution_count": 2,
     "metadata": {},
     "output_type": "execute_result"
    }
   ],
   "source": [
    "def random_walk1d(N, t):\n",
    "    \"\"\"Simuler `N` marches aléatoires 1D de `t` étapes\"\"\"\n",
    "    \n",
    "    # Choisir (N × t) nombres uniforme en {0,1} et transformer à {-1,1}\n",
    "    stepsize = (-1)**np.random.randint(0,2,size=(N,t))\n",
    "    \n",
    "    # Calculer la somme cumulative en direction de temps\n",
    "    x = np.cumsum(stepsize, axis=1)\n",
    "    \n",
    "    return x\n",
    "\n",
    "random_walk1d(3,10)"
   ]
  },
  {
   "cell_type": "markdown",
   "metadata": {},
   "source": [
    "_____\n",
    "> __Exercice 1a)__  \n",
    "> Écrire une fonction `random_walk2d(N, t)` qui donne `N` simulations de `t` étapes d'une marche aléatoire. \n",
    ">\n",
    "> Indications:\n",
    ">\n",
    "> - Définir une matrice `stepsize` comme ci-dessus  \n",
    "> - Définir un matrice aléatoire `direction` à valeurs $\\{0,1\\}$  \n",
    "> - Définir un matrice aléatoire dont les entrées sont `0` si `direction != 0`, et `stepsize` si `direction == 0`  \n",
    "> - Définir `x` comme la somme cumulative de la matrice précédente (fait attention à l'axe).  \n",
    "> - De même pour `y` avec `direction == 1`.  \n",
    ">\n",
    "> Une solution correcte et aussi une solution efficace. L'éxecution de ligne qui commence par `%time` faut renvoyer un temps pas beaucoup plus que 100ms sur du matériel moderne.\n",
    "\n",
    "_____"
   ]
  },
  {
   "cell_type": "code",
   "execution_count": 3,
   "metadata": {
    "nbgrader": {
     "grade": false,
     "grade_id": "cell-a3ae0439b5dd964c",
     "locked": false,
     "schema_version": 3,
     "solution": true,
     "task": false
    }
   },
   "outputs": [
    {
     "name": "stdout",
     "output_type": "stream",
     "text": [
      "CPU times: user 20.3 ms, sys: 3.35 ms, total: 23.7 ms\n",
      "Wall time: 23 ms\n"
     ]
    },
    {
     "data": {
      "image/png": "[encoded data removed]",
      "text/plain": [
       "<Figure size 432x288 with 1 Axes>"
      ]
     },
     "metadata": {
      "needs_background": "light"
     },
     "output_type": "display_data"
    }
   ],
   "source": [
    "def random_walk2d(N, t):\n",
    "    \"\"\"Simuler `N` marches aléatoires 2D de `t` étapes\"\"\"\n",
    "    \n",
    "    ### BEGIN SOLUTION\n",
    "    stepsize = (-1)**np.random.randint(0,2,size=(N,t))\n",
    "    direction = np.random.randint(0,2,size=(N,t))\n",
    "    x = np.cumsum(stepsize*direction, axis=1)\n",
    "    y = np.cumsum(stepsize*(1-direction), axis=1)\n",
    "    \n",
    "    ### END SOLUTION\n",
    "    \n",
    "    return x,y\n",
    "\n",
    "%time random_walk2d(100,10000)\n",
    "x,y = random_walk2d(1,1000)\n",
    "plt.plot(x.reshape(-1),y.reshape(-1))\n",
    "plt.title('Marche aléatoire 2D de 1000 étapes.');"
   ]
  },
  {
   "cell_type": "code",
   "execution_count": 4,
   "metadata": {
    "nbgrader": {
     "grade": true,
     "grade_id": "cell-3144fe71753fbbff",
     "locked": true,
     "points": 1,
     "schema_version": 3,
     "solution": false,
     "task": false
    }
   },
   "outputs": [],
   "source": [
    "### tests AUTOMATIQUES\n",
    "\n",
    "x,y = random_walk2d(20,30)\n",
    "assert x.shape == (20,30), \"Vérifier la taille du resultat\"\n",
    "assert y.shape == (20,30), \"Vérifier la taille du resultat\"\n",
    "x,y = random_walk2d(10,10000)\n",
    "assert x.shape == (10,10000), \"Vérifier la taille du resultat\"\n",
    "assert y.shape == (10,10000), \"Vérifier la taille du resultat\"\n",
    "assert type(x)==np.ndarray, \"Le résultat n'est pas un numpy array\"\n",
    "assert type(y)==np.ndarray, \"Le résultat n'est pas un numpy array\"\n",
    "assert abs(np.mean(np.diff(x)))<0.01, \"Vérifier que vous faites un pas de grandeur -1,+1\"\n",
    "assert abs(np.mean(np.diff(y)))<0.01, \"Vérifier que vous faites un pas de grandeur -1,+1\"\n",
    "assert np.max(np.abs(np.diff(x+y)))==1, \"Vérifier que vous faites un pas de grandeur -1,+1\"\n",
    "assert np.min(np.abs(np.diff(x+y)))==1, \"Vérifier que vous faites un pas de grandeur -1,+1\"\n",
    "assert abs(np.mean(np.abs(np.diff(x)))-0.5)<0.01, \"Vérifier que vous faites un pas dans un seul direction chaque étape\"\n",
    "assert abs(np.mean(np.abs(np.diff(x+y)))-1)<0.01, \"Vérifier que vous faites un pas dans un seul direction chaque étape\"\n",
    "assert set(x[:,0]+y[:,0]).issubset({-1,1}), \"Vérifier la premier étape\""
   ]
  },
  {
   "cell_type": "markdown",
   "metadata": {},
   "source": [
    "Pour une marche aléatoire dimension 2 la probabilité de retourner à $(0,0)$ pour un nombre d'étapes assez grand est égal à 1, mais cele peut prendre beaucoup de temps (ce n'est plus vrai en dimensions $\\geq 3$). Nous estimerons la probabilité de retourner au moins une fois en temps fini $t$.\n",
    "\n",
    "_____\n",
    "> __Exercice 1b)__  \n",
    "> Écrire une fonction `probability_return(N,t)` qui donne la proportion des `N` marches aléatoires 2D qui retournent au moins une fois à l'origine.\n",
    "> \n",
    "> Le temps d'exécution de cellule ne pas être plus de quelques secondes sur du matériel moderne.\n",
    "\n",
    "_____"
   ]
  },
  {
   "cell_type": "code",
   "execution_count": 5,
   "metadata": {
    "nbgrader": {
     "grade": false,
     "grade_id": "cell-ffa82321e01bc65d",
     "locked": false,
     "schema_version": 3,
     "solution": true,
     "task": false
    }
   },
   "outputs": [
    {
     "data": {
      "image/png": "[encoded data removed]",
      "text/plain": [
       "<Figure size 432x288 with 1 Axes>"
      ]
     },
     "metadata": {
      "needs_background": "light"
     },
     "output_type": "display_data"
    },
    {
     "name": "stdout",
     "output_type": "stream",
     "text": [
      "CPU times: user 1.41 s, sys: 226 ms, total: 1.63 s\n",
      "Wall time: 1.63 s\n"
     ]
    }
   ],
   "source": [
    "%%time\n",
    "def probability_return(N,t):\n",
    "    \"\"\"Calculer la proportion des `N` marches aléatoires de longueur `t` \n",
    "    qui retournent à l'origine.\n",
    "    \"\"\"\n",
    "    \n",
    "    x,y = random_walk2d(N,t)\n",
    "    \n",
    "    # BEGIN SOLUTION\n",
    "    return np.mean(np.sum((x==0)&(y==0),axis=1)>0)\n",
    "    # END SOLUTION\n",
    "\n",
    "times = np.logspace(1,4,30)\n",
    "return_fracs = [probability_return(1000,int(t)) for t in times]\n",
    "plt.xscale('log')\n",
    "plt.plot(times,return_fracs,'.')\n",
    "plt.title('Probabilité de retourner à l\\'origine\\n d\\'une marche aléatoire en deux dimensions')\n",
    "plt.xlabel('Longueur de marche')\n",
    "plt.ylabel('Probabilité de retourner')\n",
    "plt.show()"
   ]
  },
  {
   "cell_type": "code",
   "execution_count": 6,
   "metadata": {
    "nbgrader": {
     "grade": true,
     "grade_id": "cell-3a06a0affb5fae1a",
     "locked": true,
     "points": 1,
     "schema_version": 3,
     "solution": false,
     "task": false
    }
   },
   "outputs": [],
   "source": [
    "### tests AUTOMATIQUES\n",
    "\n",
    "assert 0<=probability_return(100,10)<=1, \"Vérifier que la fonction renvoyer une probabilité\"\n",
    "assert 0<=probability_return(100,100)<=1, \"Vérifier que la fonction renvoyer une probabilité\"\n",
    "assert probability_return(100,1)==0, \"Vérifier votre solution\"\n",
    "assert abs(probability_return(10000,2)-0.25)<0.1, \"Vérifier votre solution\"\n",
    "assert abs(probability_return(1000000,10)-0.4205)<0.1, \"Vérifier votre solution\""
   ]
  },
  {
   "cell_type": "markdown",
   "metadata": {},
   "source": [
    "## Partie 2: Mouvement brownien"
   ]
  },
  {
   "cell_type": "markdown",
   "metadata": {},
   "source": [
    "Le mouvement brownien est une description mathématique du mouvement aléatoire des particules immergées dans un fluide (https://fr.wikipedia.org/wiki/Mouvement_brownien). Si $X_t$ est la position au temps $t$, l'hypothèse centrale est que\n",
    "\n",
    "$$\n",
    "    X_t-X_s \\sim \\mathcal N(0,t-s)\n",
    "$$\n",
    "\n",
    "Dans une seul dimension on peut donc simuler l'évolution de $X_t$ en $T$ étapes discrètes par postuler\n",
    "\n",
    "$$\n",
    "X_0 = 0,\\qquad X_{n+1} = X_n + S_n,\\qquad S\\sim \\mathcal N(0,s)\n",
    "$$\n",
    "\n",
    "où $s>0$ est une taille de pas. On a donc que $X_n$ est une somme cumulative des variables aléatoires normales.\n",
    "\n",
    "Si on considère plusieurs dimensions, on a des variables $X_t^i$ indépendantes de même distribution."
   ]
  },
  {
   "cell_type": "markdown",
   "metadata": {},
   "source": [
    "_____\n",
    "> __Exercice 2a)__  \n",
    "> Écrire une fonction `brownian(N, T, stepsize=1.0)` qui fait `N` simulations de mouvement brownien 2D de `T` étapes avec un taille de pas `stepsize`.\n",
    ">\n",
    "> Le temps d'exécution de cellule ne doit pas être plus que quelques 100ms sur du matériel moderne.\n",
    ">\n",
    "> _Suggestion:_ Utiliser `np.cumsum` pour des sommes cumulatives et `np.random.normal` pour générer des nombres aléatoires à partir de la distribution normale.\n",
    "\n",
    "_____"
   ]
  },
  {
   "cell_type": "code",
   "execution_count": 7,
   "metadata": {
    "nbgrader": {
     "grade": false,
     "grade_id": "cell-3fdb47c594bd13fd",
     "locked": false,
     "schema_version": 3,
     "solution": true,
     "task": false
    }
   },
   "outputs": [
    {
     "name": "stdout",
     "output_type": "stream",
     "text": [
      "CPU times: user 52 ms, sys: 284 µs, total: 52.3 ms\n",
      "Wall time: 51.4 ms\n"
     ]
    },
    {
     "data": {
      "image/png": "[encoded data removed]",
      "text/plain": [
       "<Figure size 432x288 with 1 Axes>"
      ]
     },
     "metadata": {
      "needs_background": "light"
     },
     "output_type": "display_data"
    }
   ],
   "source": [
    "def brownian(N, T, stepsize=1.0):\n",
    "    \"\"\"Simuler `N` fois du mouvement brownien 2D de `t` étapes avec taille de pas `stepsize`\"\"\"\n",
    "    \n",
    "    # BEGIN SOLUTION\n",
    "    x = np.cumsum(np.random.normal(scale=stepsize, size=(N,T)), axis=1)\n",
    "    y = np.cumsum(np.random.normal(scale=stepsize, size=(N,T)), axis=1)\n",
    "    # END SOLUTION\n",
    "    \n",
    "    return x,y\n",
    "\n",
    "%time brownian(100,10000)\n",
    "x,y = brownian(1, 1000, stepsize=1)\n",
    "plt.plot(x.reshape(-1),y.reshape(-1))\n",
    "plt.title('Simulation de 1000 étapes de mouvement brownien');"
   ]
  },
  {
   "cell_type": "code",
   "execution_count": 8,
   "metadata": {
    "nbgrader": {
     "grade": true,
     "grade_id": "cell-4ae01b305820eb1d",
     "locked": true,
     "points": 1,
     "schema_version": 3,
     "solution": false,
     "task": false
    }
   },
   "outputs": [],
   "source": [
    "### tests AUTOMATIQUES\n",
    "x,y = brownian(100, 10000, stepsize=.3)\n",
    "assert type(x)==np.ndarray, \"Le résultat n'est pas un numpy array\"\n",
    "assert type(y)==np.ndarray, \"Le résultat n'est pas un numpy array\"\n",
    "assert x.shape == (100,10000), \"Vérifier la taille de resultat\"\n",
    "assert y.shape == (100,10000), \"Vérifier la taille de resultat\"\n",
    "assert abs(np.mean(np.abs(np.diff(x)**2))/0.3**2-1)<0.01, \"Vérifier la taille de pas\"\n",
    "assert abs(np.std(np.diff(x))/0.3)-1<0.01, \"Vérifier que les pas suivent un loi normale\"\n",
    "\n",
    "x,y = brownian(200, 30000, stepsize=1)\n",
    "assert x.shape == (200,30000), \"Vérifier la taille de resultat\"\n",
    "assert y.shape == (200,30000), \"Vérifier la taille de resultat\"\n",
    "assert abs(np.mean(np.abs(np.diff(x)**2))-1)<0.01, \"Vérifier la taille de pas\"\n",
    "assert abs(np.mean(np.diff(x)-np.diff(y)))<0.01, \"Vérifier que les pas suivent un loi normale\"\n",
    "assert abs(np.std(np.diff(x))-1)<0.01, \"Vérifier que les pas suivent un loi normale\"\n",
    "\n",
    "assert type(x)==np.ndarray, \"Le résultat n'est pas un numpy array\"\n",
    "assert type(y)==np.ndarray, \"Le résultat n'est pas un numpy array\"\n",
    "assert abs(np.mean(x[:,0]))<0.3, \"Vérifier la première étape\"\n",
    "assert abs(np.mean(y[:,0]))<0.3, \"Vérifier la première étape\""
   ]
  },
  {
   "cell_type": "markdown",
   "metadata": {},
   "source": [
    "Comme la marche aléatoire sur $\\mathbb Z^2$, le mouvement brownien en deux dimensions retourne à la longue arbitrairement proche de l'origine. Si $(X_t,Y_t)$ est la position de mouvement brownien au temps $t$, la distance de l'origine est $D_t = \\sqrt{X_t^2+Y_t^2}$. On va étudier comme la variable aléatoire $D_t$ évolue."
   ]
  },
  {
   "cell_type": "markdown",
   "metadata": {},
   "source": [
    "_____\n",
    "> __Exercice 2b)__  \n",
    "> - Faire `10000` simulations de `100` étapes de mouvement brownien (à taille de pas unitaire).  \n",
    "> - Calculer la distance de l'origine $D=\\sqrt{x^2+y^2}$ pour chaque simulation et pour chaque étape.  \n",
    "> - Estimer l'espérance de distance en fonction du temps, et stocker le résultat dans une variable `moyens`. (Faites attention à l'axe)  \n",
    "> - Estimer l'écart-type de distance en fonction du temps, et stocker le résultat dans une variable `ecart_types`. (Faites attention à l'axe, et utiliser `np.std`)  \n",
    "\n",
    "_____"
   ]
  },
  {
   "cell_type": "code",
   "execution_count": 9,
   "metadata": {
    "nbgrader": {
     "grade": false,
     "grade_id": "cell-4d5a948d1feaf6fb",
     "locked": false,
     "schema_version": 3,
     "solution": true,
     "task": false
    }
   },
   "outputs": [
    {
     "data": {
      "image/png": "[encoded data removed]",
      "text/plain": [
       "<Figure size 432x288 with 1 Axes>"
      ]
     },
     "metadata": {
      "needs_background": "light"
     },
     "output_type": "display_data"
    }
   ],
   "source": [
    "# BEGIN SOLUTION\n",
    "N = 10000\n",
    "T = 100\n",
    "x,y = brownian(N, T)\n",
    "D = np.sqrt(x**2+y**2)\n",
    "moyens = np.mean(D,axis=0)\n",
    "ecart_types = np.std(D,axis=0)\n",
    "# END SOLUTION\n",
    "\n",
    "time = np.arange(100)\n",
    "plt.plot(moyens)\n",
    "plt.fill_between(time, y1=moyens-ecart_types,y2=moyens+ecart_types,alpha=0.1)\n",
    "plt.title('Distance moyenne de l\\'origine et son écart-type\\n en fonction du temps pour le mouvement brownien')\n",
    "plt.xlabel('temps')\n",
    "plt.ylabel('distance de l\\'origine');"
   ]
  },
  {
   "cell_type": "code",
   "execution_count": 10,
   "metadata": {
    "nbgrader": {
     "grade": true,
     "grade_id": "cell-e744405ddf65e529",
     "locked": true,
     "points": 1,
     "schema_version": 3,
     "solution": false,
     "task": false
    }
   },
   "outputs": [],
   "source": [
    "### tests AUTOMATIQUES\n",
    "\n",
    "assert type(moyens)==np.ndarray, \"Le resultat n'est pas un numpy array\"\n",
    "assert type(ecart_types)==np.ndarray, \"Le resultat n'est pas un numpy array\"\n",
    "assert moyens.shape == (100,), \"Vérifier la taille de solution\"\n",
    "assert ecart_types.shape== (100,), \"Vérifier la taille de solution\"\n",
    "assert abs(np.mean(moyens**2)-80)<3, \"Vérifier votre solution\"\n",
    "assert abs(moyens[0]-1.25)<0.1, \"Vérifier votre solution\"\n",
    "assert abs(np.mean(ecart_types)-4.39)<0.2, \"Vérifier votre solution\"\n",
    "assert abs(np.std(ecart_types)-1.52)<0.2, \"Vérifier votre solution\""
   ]
  },
  {
   "cell_type": "markdown",
   "metadata": {},
   "source": [
    "## Partie 3: Marches aléatoires comme modèle de langage naturel"
   ]
  },
  {
   "cell_type": "markdown",
   "metadata": {},
   "source": [
    "On peut aussi modeler du langage naturel avec des marches aléatoires. \n",
    "\n",
    "Le langage naturel consiste des suites $\\{X_k\\}_{k}$ de caractères. On peut modeler la probabilité de $X_k$ sachant les caractères precédents. Pour avoir une modèle assez simple, on peut supposer que $X_k$ dépend seulement de $n$-caractères precédents (le $n$-gramme precédent):\n",
    "\n",
    "$$\n",
    "P(X_k | X_{k-1},X_{n-2},\\dots,X_1) = P(X_k | X_{k-1},X_{k-2},\\dots,X_{k-n})\n",
    "$$\n",
    "\n",
    "(Avec cette hypothèse on dit que $\\{X_k\\}_{k}$ est une chaîne de Markov). On peut obtenir un modèle comme ça en analysant des textes. Dans cette série on va analyser [les poésies complètes d'Arthur Rimbaud](http://www.gutenberg.org/ebooks/29302). D'abord on va télécharger le texte et faire un prétraitement __(évaluer la cellule ci-dessous)__"
   ]
  },
  {
   "cell_type": "code",
   "execution_count": 11,
   "metadata": {},
   "outputs": [],
   "source": [
    "import urllib.request\n",
    "from urllib.error import URLError\n",
    "try:\n",
    "    # Si la fichier est déja téléchargé, ouvrir directement\n",
    "    with open('rimbaud.txt',encoding='utf8') as f:\n",
    "        edited_text = f.read()\n",
    "except FileNotFoundError:\n",
    "    try:\n",
    "        with urllib.request.urlopen('http://www.gutenberg.org/cache/epub/29302/pg29302.txt') as f:\n",
    "            text = f.read().decode('utf-8')\n",
    "            # Prétraitement de texte. Nous voulons seulement les lignes de texte avec de la poésie.\n",
    "            edited_text = ''\n",
    "            for line in text.split('\\n'):\n",
    "                if line[:4]=='    ': # on voit que seulement ces lignes sont de la poésie\n",
    "                    line_edited = line.lower() # seulement lettres minuscules\n",
    "                    line_edited= ' '.join(line_edited.split()) # supprimer les espaces non-utilisés\n",
    "                    line_edited = ''.join([c for c in line_edited if c not in ['_','-']])\n",
    "\n",
    "                    if line_edited == 'préface': # tout le texte suivant `préface' n'est pas intéressant\n",
    "                        break\n",
    "                    if line_edited[:4]!='. . ': # quelques lignes composées seulement de points\n",
    "                        edited_text += line_edited+'\\n' # écrire des lignes bonnes dans un variable\n",
    "            with open('rimbaud.txt','w',encoding='utf8') as f:\n",
    "                f.write(edited_text)\n",
    "    except URLError:\n",
    "        print('Erreur de téléchargement! Télécharger manuellement.')"
   ]
  },
  {
   "cell_type": "markdown",
   "metadata": {},
   "source": [
    "Pour modeler les probabilités, on définit\n",
    "\n",
    "$$\n",
    "P(X_k | X_{k-1},X_{k-2},\\dots,X_{k-n}) = \\frac{\\#\\{X_{k-n}X_{k-n+1}\\dots X_{k}\\}}{\\#\\{X_{k-n}X_{k-n+1}\\dots X_{k-1}\\}}\n",
    "$$\n",
    "\n",
    "c'est-à-dire, on compte le nombre des occurences de $n$-gramme $X_{k-n}\\dots X_{k-1}X_{k}$ et on divise par le nombre des occurences de $n-1$-gramme $X_{k-n}\\dots X_{k-1}$. \n",
    "\n",
    "On peut efficacement obtenir les nombres des occurences des $n$-grammes dans un texte en utilisant [sklearn.feature_extraction.text.CountVectorizer](https://scikit-learn.org/stable/modules/generated/sklearn.feature_extraction.text.CountVectorizer.html). (`sklearn` est une librairie de machine learning omniprésente). On va utiliser $n=5$ dans cette série, mais $n=4$ ou $6$ donne des résultats similaires."
   ]
  },
  {
   "cell_type": "code",
   "execution_count": 12,
   "metadata": {},
   "outputs": [],
   "source": [
    "from sklearn.feature_extraction.text import CountVectorizer\n",
    "\n",
    "n = 5\n",
    "\n",
    "# `analyzer='char'` dit qu'on veut des ngrammes, pas de mots\n",
    "# `ngram_range=(n,n)` dit qu'on veut de n-grammes (c-à-d. caractères individuels)\n",
    "# `strip_accents='unicode'` dit que on supprime les accents (p. ex. é -> e).\n",
    "vectorizer = CountVectorizer(analyzer='char', ngram_range=(n,n), strip_accents='unicode')\n",
    "\n",
    "# Vecteur avec nombres d'occurences de toutes les n-grammes\n",
    "ngram_counts = vectorizer.fit_transform([edited_text]).toarray().reshape(-1)\n",
    "\n",
    "# Liste triée de tous les n-grammes\n",
    "ngrams = vectorizer.get_feature_names()\n",
    "\n",
    "# Liste de tous les caractères différentes dans le texte\n",
    "all_chars = ''.join(sorted((set(''.join(vectorizer.get_feature_names())))))\n",
    "all_chars = list(all_chars)\n",
    "\n",
    "# Dictionnaire qui donne une indice pour chaque caractère\n",
    "char_map = {c:i for i,c in enumerate(all_chars)}\n",
    "\n",
    "# Nombre total des caractères\n",
    "num_chars = len(all_chars)"
   ]
  },
  {
   "cell_type": "markdown",
   "metadata": {},
   "source": [
    "_____\n",
    "> __Exercice 3a)__  \n",
    "> Créer un dictionnaire `ngram_map` qui donne pour chaque $(n-1)$-gramme une liste des indices de tous les $n$-grammes qui commencent avec cette $(n-1)$-gramme.  \n",
    "> _Suggestion:_ Utiliser une boucle et la variable `ngrams`\n",
    "\n",
    "_____\n",
    "\n",
    "On utilise une `defaultdict` pour `ngram_map`. Une `defaultdict` fonctionne de la même façon q'un dictionnaire ordinaire, mais si un clé n'est pas dans la `defaultdict`, il retourne un objet standard (dans ce cas une liste). Comme ça on n'a pas besoin de vérifier si une clé existe avant utiliser le dictionnaire."
   ]
  },
  {
   "cell_type": "code",
   "execution_count": 13,
   "metadata": {
    "nbgrader": {
     "grade": false,
     "grade_id": "cell-be9f14ae272f86a0",
     "locked": false,
     "schema_version": 3,
     "solution": true,
     "task": false
    }
   },
   "outputs": [],
   "source": [
    "from collections import defaultdict\n",
    "\n",
    "ngram_map = defaultdict(list)\n",
    "\n",
    "# BEGIN SOLUTION\n",
    "for i,ngram in enumerate(ngrams):\n",
    "    ngram_map[ngram[:-1]].append(i)\n",
    "# END SOLUTION"
   ]
  },
  {
   "cell_type": "code",
   "execution_count": 14,
   "metadata": {
    "nbgrader": {
     "grade": true,
     "grade_id": "cell-9911dfd1bef6690c",
     "locked": true,
     "points": 1,
     "schema_version": 3,
     "solution": false,
     "task": false
    }
   },
   "outputs": [],
   "source": [
    "### tests AUTOMATIQUES\n",
    "assert type(ngram_map) == defaultdict, \"Vérifier que `ngram_map` est une `defaultdict`\"\n",
    "assert 'vous' in ngram_map, \"Vérifier que toutes les (n-1)grammes sont dans le dictionnaire\"\n",
    "assert ngram_map['vous'] == [26980, 26981, 26982, 26983], \"Vérifier que toutes les n-grammes sont indexé\"\n",
    "assert len(ngram_map) >= 13267, \"Vérifier que les cles sont (n-1)grammes\"\n",
    "assert set(len(k) for k in ngram_map.keys()) == {4}, \"Vérifier que les cles sont (n-1)grammes\"\n",
    "assert len([k for l in ngram_map.values() for k in l])==len(ngrams), \"Vérifier que toutes les n-grammes sont indexé\""
   ]
  },
  {
   "cell_type": "markdown",
   "metadata": {},
   "source": [
    "_____\n",
    "> __Exercice 3b)__  \n",
    "> Écrire une fonction `probabilites_ngram(ngram)` qui, sachant une $n$-gramme `ngram`, donne un vecteur des probabilités des caractères qui peuvent suivre cette $n$-gramme. On ajoute $10^{-6}$ à tous les comptes pour régulariser.\n",
    "> \n",
    "> _Indications:_  \n",
    "> - Utiliser la variable `ngram_map` de 3a) pour trouver les indices des $n$-grammes pertinentes  \n",
    "> - Pour chaque indice `i`:  \n",
    ">    - trouver la $n$-gramme `ngram` associée avec `ngrams[i]`  \n",
    ">    - trouver l'indice `j` de dernière caractère de `ngram` en utilisant `char_map`  \n",
    ">    - Ajouter à `counts[j]` le nombre d'occurence de la `i`ème $n$-gramme (utiliser `ngram_counts`)  \n",
    "> - Normaliser `counts` pour que la somme soit 1.  \n",
    "> - Renvoyer le résultat  \n",
    "\n",
    "_____"
   ]
  },
  {
   "cell_type": "code",
   "execution_count": 15,
   "metadata": {
    "nbgrader": {
     "grade": false,
     "grade_id": "cell-1bb2df75df21b001",
     "locked": false,
     "schema_version": 3,
     "solution": true,
     "task": false
    }
   },
   "outputs": [],
   "source": [
    "def probabilites_ngram(ngram):\n",
    "    counts = np.ones(num_chars)/1e6\n",
    "    \n",
    "    # BEGIN SOLUTION\n",
    "    indices = ngram_map[ngram]\n",
    "    \n",
    "    for i in indices:\n",
    "        char = ngrams[i][-1]\n",
    "        j = char_map[char]\n",
    "        counts[j]+=ngram_counts[i]\n",
    "    probs = counts/np.sum(counts)\n",
    "    \n",
    "    return probs\n",
    "    # END SOLUTION"
   ]
  },
  {
   "cell_type": "code",
   "execution_count": 16,
   "metadata": {
    "nbgrader": {
     "grade": true,
     "grade_id": "cell-abf8a1dfedcada9e",
     "locked": true,
     "points": 1,
     "schema_version": 3,
     "solution": false,
     "task": false
    }
   },
   "outputs": [],
   "source": [
    "### tests AUTOMATIQUES\n",
    "v = probabilites_ngram('asdf')\n",
    "assert np.sum(v)==1.0, \"Vérifier que les probabilités sont bien normalisées\"\n",
    "assert set(v)=={0.025}, \"Vérifier que vous utilisez la régularisation\"\n",
    "assert len(v) == num_chars, \"Vérifier la taille du résultat\"\n",
    "assert type(v) == np.ndarray, \"Le résultat n'est pas un numpy array\"\n",
    "\n",
    "v = probabilites_ngram('amou')\n",
    "assert np.sum(v)==1.0, \"Vérifier que les probabilités sont bien normalisées\"\n",
    "assert 0<1-np.max(v) < 1e-6, \"Vérifier que vous utilise la régularisation, et que vous comptez les n-grammes correctement\"\n",
    "\n",
    "v = probabilites_ngram('vous')\n",
    "assert np.sum(v)==1.0, \"Vérifier que les probabilités sont bien normalisées\"\n",
    "assert abs(0.825 - np.max(v)) < 1e-6, \"Vérifier que vous utilise la régularisation, et que vous comptez les ngrammes correctement\""
   ]
  },
  {
   "cell_type": "markdown",
   "metadata": {},
   "source": [
    "_____\n",
    "> __Exercice 3c)__  \n",
    "> Écrire une fonction `simuler_rimbaud(n_chars, start_text)` qui génère un texte au hasard, commençant par `start_text` et par ajouter `n_chars` caractères. \n",
    ">  \n",
    ">  \n",
    "> _Indications:_  \n",
    "> Pour chaque itération:  \n",
    "> - Calculer la probabilités de la caràctere suivante en utilisant `probabilites_ngram`  \n",
    "> - Tirer au hasard un caractère parmi `all_chars` avec `np.random.choice` (n'oubliez pas de spécifier les probabilités).  \n",
    "> - Ajouter la caractère à la texte  \n",
    "> - Mise à jour la $n$-gramme `ngram`.    \n",
    "> \n",
    "> Si votre solution est correcte, vous verrez du texte (assez) compréhensible au niveau des mots  \n",
    "\n",
    "_____"
   ]
  },
  {
   "cell_type": "code",
   "execution_count": 17,
   "metadata": {
    "nbgrader": {
     "grade": false,
     "grade_id": "cell-8957cdf4d9a88392",
     "locked": false,
     "schema_version": 3,
     "solution": true,
     "task": false
    }
   },
   "outputs": [
    {
     "name": "stdout",
     "output_type": "stream",
     "text": [
      "l'amours!\n",
      "chauds.\n",
      "et toute ma qu'il s'en se des omoplates;\n",
      "puis iles\n",
      "de collant pour de quelques\n",
      "de ses superbes son triste un claironts piere rougeoyant leve par ma terre,\n",
      "aux de qui grand ils sur les pied d'une faut, de ce que choses!\n",
      "tres heureuillent entredames;\n",
      "et, le tempereur,\n",
      "qui murmureron.\n",
      "puisant la. c'est endormes de la femme,\n",
      "croupeau sein des blancs vernis enorment au roissel, il penche verts ont betes fleur des chaste,\n",
      "je veux mots astres avez plus. je vers me restais l'arbre, etait calices comme une fient, noir!\n",
      "entement!\n",
      "nous damoisine tristesses,\n",
      "un fini ces penche...\n",
      "le bande mere a l'herbe d'un chiffons,\n",
      "tres houlement les tout, je sous les serais\n",
      "comme je sure sont leur de chaisers, sabots, emer du sillotee\n",
      "de viendre et ma que cet est la chettes dite,\n",
      "la gras laids!\n",
      "tandit qu'on aux seins.\n",
      "l'homme de christ, o l'enfant plong\n",
      "dans s'echistoi! je vais les et le coule,\n",
      "montre merde dieux...\n",
      "c'est penetre et le front baisait sa patient l'air, dans un sille. il a levre emouva\n"
     ]
    }
   ],
   "source": [
    "def simuler_rimbaud(n_chars, start_text):\n",
    "    ngram = start_text[-n+1:]\n",
    "    text = start_text\n",
    "    for _ in range(n_chars):\n",
    "        # BEGIN SOLUTION\n",
    "        probs = probabilites_ngram(ngram)\n",
    "        next_char = np.random.choice(all_chars, p=probs)\n",
    "        \n",
    "        ngram = ngram[1:]+next_char\n",
    "        text+=next_char\n",
    "        # END SOLUTION\n",
    "    print(text)\n",
    "    \n",
    "simuler_rimbaud(1000, \"l'amour\")"
   ]
  }
 ],
 "metadata": {
  "celltoolbar": "Create Assignment",
  "kernelspec": {
   "display_name": "Python 3",
   "language": "python",
   "name": "python3"
  },
  "language_info": {
   "codemirror_mode": {
    "name": "ipython",
    "version": 3
   },
   "file_extension": ".py",
   "mimetype": "text/x-python",
   "name": "python",
   "nbconvert_exporter": "python",
   "pygments_lexer": "ipython3",
   "version": "3.8.3"
  }
 },
 "nbformat": 4,
 "nbformat_minor": 4
}
