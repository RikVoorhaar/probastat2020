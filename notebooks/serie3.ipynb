{
 "cells": [
  {
   "cell_type": "markdown",
   "metadata": {},
   "source": [
    "[![Open in Colab](https://colab.research.google.com/assets/colab-badge.svg)](https://colab.research.google.com/github/RikVoorhaar/probastat2020/blob/master/notebooks/serie3.ipynb?hl=fr)\n",
    "\n",
    "# Série 3 (sans solutions)"
   ]
  },
  {
   "cell_type": "markdown",
   "metadata": {},
   "source": [
    "## Exercice 1\n",
    "### Exercice 1a)\n",
    "<div class=\"alert alert-info\">\n",
    "**Exercice**\n",
    "\n",
    "_(Application de la formule de Bayes)_ Pour $i = 1, 2,$ on considère une\n",
    "urne $U_i$ qui contient $b_i$ boules blanches et $n_i$ boules noires. On choisit\n",
    "au hasard de manière équiprobable une des deux urnes. Dans l’urne\n",
    "choisie, on tire au hasard de manière équiprobable une boule. Sachant\n",
    "que la boule tirée est noire, quelle est la probabilité que l’urne choisie\n",
    "soit l’urne numéro $i$ ?\n",
    "\n",
    "\n",
    "</div>\n"
   ]
  },
  {
   "cell_type": "markdown",
   "metadata": {},
   "source": [
    "## Exercice 2\n",
    "### Exercice 2a)\n",
    "<div class=\"alert alert-info\">\n",
    "**Exercice**\n",
    "\n",
    "Soit $(\\Omega, P )$ un espace de probabilités dénombrable. Soient $A, B \\subset\n",
    "\\Omega$. Supposons que $A$ et $B$ sont indépendants. Prouver qu’alors $A$\n",
    "et $\\Omega\\setminus B$ sont indépendants. Prouver que $\\Omega\\setminus A$ et $\\Omega\\setminus B$ sont indépendants.\n",
    "\n",
    "\n",
    "</div>\n"
   ]
  },
  {
   "cell_type": "markdown",
   "metadata": {},
   "source": [
    "### Exercice 2b)\n",
    "<div class=\"alert alert-info\">\n",
    "**Exercice**\n",
    "\n",
    "Un sondage a montré qu’une personne, prise au hasard, a une\n",
    "probabilité de $1/8$ de posséder un ordinateur personnel et une\n",
    "probabilité de $1/25$ d’être chauve. Si ces deux éventualités sont\n",
    "indépendantes, combien environ doit-on s’attendre à trouver de\n",
    "chauves possesseurs d’un ordinateur personnel dans un échantillon\n",
    "de $800$ personnes prises au hasard ?\n",
    "\n",
    "</div>\n"
   ]
  },
  {
   "cell_type": "markdown",
   "metadata": {},
   "source": [
    "### Exercice 2c)\n",
    "<div class=\"alert alert-info\">\n",
    "**Exercice**\n",
    "\n",
    "On jette deux fois un dé équilibré. Prouver que la probabilité\n",
    "d’obtenir un total de 7 points ne dépend pas de la valeur obtenue\n",
    "au premier jeté.\n",
    "\n",
    "\n",
    "</div>\n"
   ]
  },
  {
   "cell_type": "markdown",
   "metadata": {},
   "source": [
    "## Exercice 3\n",
    "### Exercice 3a)\n",
    "<div class=\"alert alert-info\">\n",
    "**Exercice**\n",
    "\n",
    "Une assemblée de 9 personnes doit élire 3 personnes parmi les\n",
    "personnes de l’assemblée : un président, un trésorier, un secrétaire.\n",
    "Combien existe-t-il de possibilités ?\n",
    "\n",
    "</div>\n"
   ]
  },
  {
   "cell_type": "markdown",
   "metadata": {},
   "source": [
    "### Exercice 3b)\n",
    "<div class=\"alert alert-info\">\n",
    "**Exercice**\n",
    "\n",
    "Une urne contient 6 boules numérotées. Combien de tirages or-\n",
    "données de deux boules existe-t-il ?\n",
    "\n",
    "</div>\n"
   ]
  },
  {
   "cell_type": "markdown",
   "metadata": {},
   "source": [
    "### Exercice 3c)\n",
    "<div class=\"alert alert-info\">\n",
    "**Exercice**\n",
    "\n",
    "Une personne veut emprunter 3 livres pour ses vacances dans un\n",
    "e bibliothèque qui contient 1000 livres. Combien cette personnes\n",
    "a-t-elle de choix possibles ?\n",
    "\n",
    "</div>\n"
   ]
  },
  {
   "cell_type": "markdown",
   "metadata": {},
   "source": [
    "## Exercice 4\n",
    "### Exercice 4a)\n",
    "<div class=\"alert alert-info\">\n",
    "**Exercice**\n",
    "\n",
    "Soit $k, n \\in\\mathbb N$. Soit $\\Omega = \\{1; 2; \\dots ; n\\}^k$. Soit $F = P(\\Omega)$. Soit P\n",
    "la probabilité uniforme sur $\\Omega$ (c’est-à-dire que $P$ prend la même\n",
    "valeur sur tout singleton). Soit\n",
    "\n",
    "$$\n",
    "A = \\{(x_1 ; \\dots ; x_k ) \\in\\Omega \\colon \\forall 1 \\leq i < j \\leq  k, x_i \\neq x_j \\}.\n",
    "$$\n",
    "\n",
    "Prouver que\n",
    "    \n",
    "$$\n",
    "P(A) = \\frac{1}{n^k}\\frac{n!}{(n-k)!}\n",
    "$$\n",
    "    \n",
    "</div>\n"
   ]
  },
  {
   "cell_type": "markdown",
   "metadata": {},
   "source": [
    "### Exercice 4b)\n",
    "<div class=\"alert alert-info\">\n",
    "**Exercice**\n",
    "\n",
    "On suppose pour simplifier qu’une année contient 365 jours et que\n",
    "la probabilité de naître un certain jour ne dépend pas du jour de\n",
    "l’année. Quelle est la probabilité que 2 personnes au moins parmi\n",
    "$k$ soient nées le même jour ?\n",
    "\n",
    "</div>"
   ]
  },
  {
   "cell_type": "markdown",
   "metadata": {},
   "source": [
    "### Exercice 4c)\n",
    "<div class=\"alert alert-info\">\n",
    "**Exercice**\n",
    "\n",
    "A partir de quel nombre de personnes cette probabilité est-elle\n",
    "plus grande que $0.5$ ?\n",
    "\n",
    "</div>"
   ]
  },
  {
   "cell_type": "markdown",
   "metadata": {},
   "source": [
    "## Exercice 5\n",
    "### Exercice 5a)\n",
    "<div class=\"alert alert-info\">\n",
    "**Exercice**\n",
    "\n",
    "Combien de mots de longueur $n$ sur l’alphabet $\\{0; 1\\}$ contiennentils $k$ zéros ? Faire la liste de ces mots dans le cas où $n = 5$ et\n",
    "$k = 2$.\n",
    "\n",
    "</div>"
   ]
  },
  {
   "cell_type": "markdown",
   "metadata": {},
   "source": [
    "### Exercice 5b)\n",
    "<div class=\"alert alert-info\">\n",
    "**Exercice**\n",
    "\n",
    "Combien de distributions de cartes existe-t-il pour un jeu de jass ?\n",
    "(Le jeu de jass contient 36 cartes, il y a 4 joueurs, chacun reçoit\n",
    "9 cartes).\n",
    "\n",
    "</div>"
   ]
  },
  {
   "cell_type": "markdown",
   "metadata": {},
   "source": [
    "### Exercice 5c)\n",
    "<div class=\"alert alert-info\">\n",
    "**Exercice**\n",
    "\n",
    "Soit $p, q \\in \\mathbb N \\cup \\{0\\}$. Soit $n = p + q$. Prouver que\n",
    "\n",
    "$$\n",
    "\\binom{n}{p,q} = \\binom{n}{p} = \\binom{n}{q}\n",
    "$$\n",
    "\n",
    "</div>"
   ]
  },
  {
   "cell_type": "markdown",
   "metadata": {},
   "source": [
    "### Exercice 5d)\n",
    "<div class=\"alert alert-info\">\n",
    "**Exercice**\n",
    "\n",
    "Calculer le coefficient du monôme $x^6yz^3$ dans le développement\n",
    "de $(x + y + z)^{10}$.\n",
    "\n",
    "</div>"
   ]
  }
 ],
 "metadata": {
  "kernelspec": {
   "display_name": "Python 3",
   "language": "python",
   "name": "python3"
  },
  "language_info": {
   "codemirror_mode": {
    "name": "ipython",
    "version": 3
   },
   "file_extension": ".py",
   "mimetype": "text/x-python",
   "name": "python",
   "nbconvert_exporter": "python",
   "pygments_lexer": "ipython3",
   "version": "3.8.5"
  }
 },
 "nbformat": 4,
 "nbformat_minor": 4
}
