{
 "cells": [
  {
   "cell_type": "markdown",
   "metadata": {},
   "source": [
    "[![Open in Colab](https://colab.research.google.com/assets/colab-badge.svg)](https://colab.research.google.com/github/RikVoorhaar/probastat2020/blob/master/notebooks/serie3.ipynb?hl=fr)\n",
    "\n",
    "# Série 3"
   ]
  },
  {
   "cell_type": "markdown",
   "metadata": {},
   "source": [
    "## Exercice 1\n",
    "### Exercice 1a)\n",
    "<div class=\"alert alert-info\">\n",
    "**Exercice**\n",
    "\n",
    "_(Application de la formule de Bayes)_ Pour $i = 1, 2,$ on considère une\n",
    "urne $U_i$ qui contient $b_i$ boules blanches et $n_i$ boules noires. On choisit\n",
    "au hasard de manière équiprobable une des deux urnes. Dans l’urne\n",
    "choisie, on tire au hasard de manière équiprobable une boule. Sachant\n",
    "que la boule tirée est noire, quelle est la probabilité que l’urne choisie\n",
    "soit l’urne numéro $i$ ?\n",
    "\n",
    "</div>\n",
    "\n",
    "Soit $N$ l'événement qu'une boule noire soit tirée, et soit $k$ l'urne choisie. On sait alors que\n",
    "\n",
    "$$\n",
    "P(N|k=i) = \\frac{n_i}{n_i+b_i}\n",
    "$$\n",
    "\n",
    "Et que $P(k=1)=P(k=2)=0.5$.\n",
    "\n",
    "Par la formule de Bayes on a\n",
    "\n",
    "$$\n",
    "\\begin{align}P(k=i|N) &= \\frac{P(N|k=i)P(k=i)}{P(N)}\\\\ &= \\frac{P(N|k=i)P(k=i)}{P(N|k=1)P(k=1)+P(N|k=2)P(k=2)}\\\\&=\\frac{\\frac{n_i}{n_i+b_i}\\frac{1}{2}}{\\frac{n_1}{n_1+b_1}\\frac{1}{2}+\\frac{n_2}{n_2+b_2}\\frac{1}{2}}\\\\ &= \\frac{\\frac{n_i}{n_i+b_i}}{\\frac{n_1}{n_1+b_1}+\\frac{n_2}{n_2+b_2}}\\end{align}\n",
    "$$"
   ]
  },
  {
   "cell_type": "markdown",
   "metadata": {},
   "source": [
    "## Exercice 2\n",
    "### Exercice 2a)\n",
    "<div class=\"alert alert-info\">\n",
    "**Exercice**\n",
    "\n",
    "Soit $(\\Omega, P )$ un espace de probabilités dénombrable. Soient $A, B \\subset\n",
    "\\Omega$. Supposons que $A$ et $B$ sont indépendants. Prouver qu’alors $A$\n",
    "et $\\Omega\\setminus B$ sont indépendants. Prouver que $\\Omega\\setminus A$ et $\\Omega\\setminus B$ sont indépendants.\n",
    "\n",
    "\n",
    "</div>\n",
    "\n",
    "Rappelons que l'indépendance signifie que $P(A\\cap B)=P(A)P(B)$. On voit que $A\\cap (\\Omega\\setminus B) = A\\setminus (A\\cap B)$. Alors, \n",
    "\n",
    "$$\n",
    "\\begin{align}\n",
    "P(A\\cap(\\Omega\\setminus B)) &= P(A\\setminus (A\\cap B))\\\\\n",
    "&= P(A)-P(A\\cap B) \\\\ \n",
    "&= P(A)(1-P(B)) \\\\ \n",
    "&= P(A)P(\\Omega\\setminus B)\n",
    "\\end{align}\n",
    "$$\n",
    "\n",
    "Donc $A$ et $\\Omega\\setminus B$ sont indépendants. De la même manière on peut conclure que $\\Omega\\setminus B$ et $\\Omega\\setminus A$ sont indépendants. "
   ]
  },
  {
   "cell_type": "markdown",
   "metadata": {},
   "source": [
    "### Exercice 2b)\n",
    "<div class=\"alert alert-info\">\n",
    "**Exercice**\n",
    "\n",
    "Un sondage a montré qu’une personne, prise au hasard, a une\n",
    "probabilité de $1/8$ de posséder un ordinateur personnel et une\n",
    "probabilité de $1/25$ d’être chauve. Si ces deux éventualités sont\n",
    "indépendantes, combien environ doit-on s’attendre à trouver de\n",
    "chauves possesseurs d’un ordinateur personnel dans un échantillon\n",
    "de $800$ personnes prises au hasard ?\n",
    "\n",
    "</div>\n",
    "\n",
    "Dénotons par $\\Omega$ l'ensemble de toutes les personnes, par $O\\subset \\Omega$ ceux qui possèdent ordinateur, et par $C\\subset \\Omega$ les chauves. Comme $O$ et $C$ sont indépendants, on a que\n",
    "\n",
    "$$\n",
    "P(O\\cap C) = P(O)P(C) = \\frac18\\frac1{25} =\\frac1{200}\n",
    "$$\n",
    "\n",
    "Alors, \n",
    "\n",
    "$$\n",
    "|O\\cap C| = P(O\\cap C)|\\Omega| = \\frac{800}{200}=4\n",
    "$$\n"
   ]
  },
  {
   "cell_type": "markdown",
   "metadata": {},
   "source": [
    "### Exercice 2c)\n",
    "<div class=\"alert alert-info\">\n",
    "**Exercice**\n",
    "\n",
    "On jette deux fois un dé équilibré. Prouver que la probabilité\n",
    "d’obtenir un total de 7 points ne dépend pas de la valeur obtenue\n",
    "au premier jeté.\n",
    "\n",
    "\n",
    "</div>\n",
    "\n",
    "Soit $\\Omega = \\{1;\\dots;6\\}^2$, muni de la probabilité uniforme et de la tribu maximale. On définit l'événement $S_k$ par \n",
    "\n",
    "$$\n",
    "S_k = \\{(x_1,x_2)\\in \\Omega\\mid x_1+x_2 = S_k\\}\n",
    "$$\n",
    "\n",
    "Soit $X_1$ la valeur obtenue au premier jeté. On doit alors montrer que \n",
    "\n",
    "$$\n",
    "P(S_7 | X_1=k)=P(S_7)\n",
    "$$\n",
    "\n",
    "Comme \n",
    "\n",
    "$$S_7 = \\{(1,6),(2,5),(3,4),(4,3),(5,2),(6,1)\\},$$\n",
    "\n",
    "on a $P(S_7) = 6/36=1/6$. On a de plus que \n",
    "\n",
    "$$S_7 \\cap (X_1=k) = \\{k,7-k\\},$$\n",
    "\n",
    "et donc $P(S_7 \\cap (X_1=k)) = 1/36$. Enfin,\n",
    "\n",
    "$$\n",
    "P(S_7 | X_1=k) = \\frac{P(S_7\\cap (X_1=k))}{P(X_1=k)} = \\frac{1/36}{1/6} = \\frac16 = P(S_7)\n",
    "$$\n",
    "\n",
    "Donc les événements $S_7$ et $(X_1=k)$ sont indépendents. "
   ]
  },
  {
   "cell_type": "markdown",
   "metadata": {},
   "source": [
    "## Exercice 3\n",
    "### Exercice 3a)\n",
    "<div class=\"alert alert-info\">\n",
    "**Exercice**\n",
    "\n",
    "Une assemblée de 9 personnes doit élire 3 personnes parmi les\n",
    "personnes de l’assemblée : un président, un trésorier, un secrétaire.\n",
    "Combien existe-t-il de possibilités ?\n",
    "\n",
    "</div>\n",
    "\n",
    "On a affaire à des choix ordonnées sans répétitions de 3 objets parmi 9, la réponse est alors\n",
    "\n",
    "$$\n",
    "    \\frac{9!}{6!} = 504\n",
    "$$"
   ]
  },
  {
   "cell_type": "markdown",
   "metadata": {},
   "source": [
    "### Exercice 3b)\n",
    "<div class=\"alert alert-info\">\n",
    "**Exercice**\n",
    "\n",
    "Une urne contient 6 boules numérotées. Combien de tirages ordonnées de deux boules existe-t-il ?\n",
    "\n",
    "</div>\n",
    "\n",
    "C'est un choix ordonnées sans répetitions de 2 objets parmi 6, la réponse est alors\n",
    "\n",
    "$$\n",
    "    \\frac{6!}{4!} = 30\n",
    "$$"
   ]
  },
  {
   "cell_type": "markdown",
   "metadata": {},
   "source": [
    "### Exercice 3c)\n",
    "<div class=\"alert alert-info\">\n",
    "**Exercice**\n",
    "\n",
    "Une personne veut emprunter 3 livres pour ses vacances dans une bibliothèque qui contient 1000 livres. Combien cette personnes\n",
    "a-t-elle de choix possibles ?\n",
    "\n",
    "</div>\n",
    "\n",
    "C'est un choix non-ordonnées de 3 livres parmi 1000, la réponse est alors\n",
    "\n",
    "$$\n",
    "    \\binom{1000}{3} =\\frac{1000!}{997!3!} = \\frac{1000\\cdot 999\\cdot 998}{3} = 332\\,334\\,000\n",
    "$$"
   ]
  },
  {
   "cell_type": "markdown",
   "metadata": {},
   "source": [
    "## Exercice 4\n",
    "### Exercice 4a)\n",
    "<div class=\"alert alert-info\">\n",
    "**Exercice**\n",
    "\n",
    "Soit $k, n \\in\\mathbb N$. Soit $\\Omega = \\{1; 2; \\dots ; n\\}^k$. Soit $F = P(\\Omega)$. Soit P\n",
    "la probabilité uniforme sur $\\Omega$ (c’est-à-dire que $P$ prend la même\n",
    "valeur sur tout singleton). Soit\n",
    "\n",
    "$$\n",
    "A = \\{(x_1 ; \\dots ; x_k ) \\in\\Omega \\mid \\forall 1 \\leq i < j \\leq  k, x_i \\neq x_j \\}.\n",
    "$$\n",
    "\n",
    "Prouver que\n",
    "    \n",
    "$$\n",
    "P(A) = \\frac{1}{n^k}\\frac{n!}{(n-k)!}\n",
    "$$\n",
    "    \n",
    "</div>\n"
   ]
  },
  {
   "cell_type": "markdown",
   "metadata": {},
   "source": [
    "La condition $x_i\\neq x_j$ signifie que $(x_1;\\dots;x_k)$ définit un injection de $(1;\\dots;k)$ à $(1;\\dots;n)$. Comme il y a $n!/(n-k)!$ telles injections, on a que\n",
    "\n",
    "$$\n",
    "P(A) = \\frac{1}{|\\Omega|}|A| = \\frac{1}{n^k}\\frac{n!}{(n-k)!}\n",
    "$$"
   ]
  },
  {
   "cell_type": "markdown",
   "metadata": {},
   "source": [
    "### Exercice 4b)\n",
    "<div class=\"alert alert-info\">\n",
    "**Exercice**\n",
    "\n",
    "On suppose pour simplifier qu’une année contient 365 jours et que\n",
    "la probabilité de naître un certain jour ne dépend pas du jour de\n",
    "l’année. Quelle est la probabilité que 2 personnes au moins parmi\n",
    "$k$ soient nées le même jour ?\n",
    "\n",
    "</div>\n",
    "\n",
    "Soit $\\Omega = \\{1;\\dots;365\\}^k$ l'ensemble de tous les anniversaires possibles parmi $k$ personnes. Dans ce situation on peut interpréter  l'ensemble $A\\subset \\Omega$ comme l'événement que tous les anniversaires sont différentes. L'événement que au moins 2 personnens soient nées le même jour est donc $\\Omega\\setminus A$. Sa probabilité est:\n",
    "\n",
    "$$\n",
    "P(\\Omega\\setminus A) = 1-P(A) = 1-\\frac{1}{365^k}\\frac{365!}{(365-k)!}\n",
    "$$"
   ]
  },
  {
   "cell_type": "markdown",
   "metadata": {},
   "source": [
    "### Exercice 4c)\n",
    "<div class=\"alert alert-info\">\n",
    "**Exercice**\n",
    "\n",
    "A partir de quel nombre de personnes cette probabilité est-elle\n",
    "plus grande que $0.5$ ?\n",
    "\n",
    "</div>\n",
    "\n",
    "On peut calculer cette nombre numériquement. Comme les nombres $365^k$, $365!$ et $(365-k)!$ peuvent être très grands, nous devons simplifier un peu l'expression. Notons que\n",
    "\n",
    "$$\n",
    "\\frac{1}{365^k}\\frac{365!}{(365-k)!} = \\frac{365}{364}\\cdot \\frac{364}{365}\\cdot\\dots\\cdot\\frac{365-k+1}{365}\n",
    "$$\n",
    "\n",
    "qui est une expression beaucoup plus stable numériquement. "
   ]
  },
  {
   "cell_type": "code",
   "execution_count": 51,
   "metadata": {},
   "outputs": [
    {
     "name": "stdout",
     "output_type": "stream",
     "text": [
      "k minimale: 23\n"
     ]
    },
    {
     "data": {
      "image/png": "[encoded data removed]",
      "text/plain": [
       "<Figure size 432x288 with 1 Axes>"
      ]
     },
     "metadata": {
      "needs_background": "light"
     },
     "output_type": "display_data"
    }
   ],
   "source": [
    "import numpy as np\n",
    "import matplotlib.pyplot as plt\n",
    "\n",
    "def probability(k):\n",
    "    return 1 - np.prod((365-np.arange(k))/365)\n",
    "\n",
    "probabilities = np.array([probability(k) for k in range(60)])\n",
    "\n",
    "# La k minimale est donnée par la nombre des k entre 0 et 365 ou\n",
    "# la probabilité est moins de 0.5\n",
    "min_k = np.sum(probabilities<0.5)\n",
    "print(f'k minimale: {min_k}')\n",
    "\n",
    "plt.axhline(y=0.5,c='k')\n",
    "plt.title(\"\"\"Probabilité que au moins 2 parmi $k$ personnes soient \n",
    "    nées le même jour.\"\"\")\n",
    "plt.xlabel('$k$')\n",
    "plt.ylabel('probabilité')\n",
    "plt.plot(probabilities,'.');"
   ]
  },
  {
   "cell_type": "markdown",
   "metadata": {},
   "source": [
    "On peut confirmer ce résultat avec une simulation. On prends beaucoup de fois un tuple de $k$ entiers entre $1$ et $365$, et puis on calcule la fraction des tuples où au moins deux entrées sont les mêmes. Si on prend $k=22$ on trouve une fraction plus petite que $0.5$, et si on prend $k=23$ on trouve une fraction plus grande que $0.5$."
   ]
  },
  {
   "cell_type": "code",
   "execution_count": 69,
   "metadata": {},
   "outputs": [
    {
     "name": "stdout",
     "output_type": "stream",
     "text": [
      "Fraction où au moins 2 parmi 22 soient nées le même jour :\n",
      "47577/100000=0.47577\n",
      "\n",
      "Fraction où au moins 2 parmi 23 soient nées le même jour :\n",
      "51053/100000=0.51053\n",
      "\n"
     ]
    }
   ],
   "source": [
    "import numpy as np\n",
    "\n",
    "N = 100000\n",
    "for k in [22,23]:\n",
    "    tuples = np.random.randint(1,366,size=(N,k))\n",
    "    num_common_birthday = 0 \n",
    "    for tup in tuples:\n",
    "        if len(set(tup)) != k:\n",
    "            num_common_birthday += 1\n",
    "    fraction = num_common_birthday/N\n",
    "    print(f'Fraction où au moins 2 parmi {k} soient nées le même jour :')\n",
    "    print(f'{num_common_birthday}/{N}={fraction}\\n')"
   ]
  },
  {
   "cell_type": "markdown",
   "metadata": {},
   "source": [
    "## Exercice 5\n",
    "### Exercice 5a)\n",
    "<div class=\"alert alert-info\">\n",
    "**Exercice**\n",
    "\n",
    "Combien de mots de longueur $n$ sur l’alphabet $\\{0; 1\\}$ contiennentils $k$ zéros ? Faire la liste de ces mots dans le cas où $n = 5$ et\n",
    "$k = 2$.\n",
    "\n",
    "</div>\n",
    "\n",
    "Soit $x=(x_1,\\dots,x_n)\\in \\{0;1\\}^n$ un mot de longueur $n$ avec $k$ zéros. Les positions des zéros définissent une sous-ensemble de $\\{1,\\dots,n\\}$ de cardinalité $k$. Notons que ce sous-ensemble définit $x$ de manière unique, car les autres entrées doivent êtres $1$. On conclut que les mots de longueur $n$ sur l'alphabet $\\{0;1\\}$ contentant $k$ zéros sont énuméré par les sous-ensembles de $\\{1;\\dots;n\\}$ de taille $k$. La cardinalité de cet ensemble est égal à $\\binom nk$. \n",
    "\n",
    "Dans cas $n=5$ et $k=2$ nous trouvons $\\binom nk = 5!/(3!2!) = 10$ mots. On peut générer la liste en utilisant du code. La methode la plus facile est de énumerer tous les mots de longueur $n$ et seulement prendres les mots avec $k$ zéros."
   ]
  },
  {
   "cell_type": "code",
   "execution_count": 78,
   "metadata": {},
   "outputs": [
    {
     "name": "stdout",
     "output_type": "stream",
     "text": [
      "11100\n",
      "10110\n",
      "11010\n",
      "11100\n",
      "10011\n",
      "10101\n",
      "10110\n",
      "11001\n",
      "11010\n",
      "11100\n"
     ]
    }
   ],
   "source": [
    "n = 5\n",
    "k = 2\n",
    "\n",
    "for i in range(2**n):\n",
    "    # Énumerer les mots en utilisant la forme binaire des entiers\n",
    "    word = bin(i)[2:]\n",
    "    word += '0'*(n-len(word))\n",
    "    \n",
    "    # Compter la nombre des zéros\n",
    "    num_zeros = 0\n",
    "    for c in word:\n",
    "        if c == '0':\n",
    "            num_zeros += 1\n",
    "    if num_zeros == k:\n",
    "        print(word)"
   ]
  },
  {
   "cell_type": "markdown",
   "metadata": {},
   "source": [
    "Méthode plus efficace :"
   ]
  },
  {
   "cell_type": "code",
   "execution_count": 83,
   "metadata": {},
   "outputs": [
    {
     "name": "stdout",
     "output_type": "stream",
     "text": [
      "00111\n",
      "01011\n",
      "01101\n",
      "01110\n",
      "10011\n",
      "10101\n",
      "10110\n",
      "11001\n",
      "11010\n",
      "11100\n"
     ]
    }
   ],
   "source": [
    "from itertools import combinations\n",
    "\n",
    "n = 5\n",
    "k = 2\n",
    "\n",
    "for tup in combinations(range(n),k):\n",
    "    # Remplacer les 1 par un zéro dans certains positions\n",
    "    word = ['1']*n\n",
    "    for i in tup:\n",
    "        word[i] = '0'\n",
    "    print(''.join(word))"
   ]
  },
  {
   "cell_type": "markdown",
   "metadata": {},
   "source": [
    "### Exercice 5b)\n",
    "<div class=\"alert alert-info\">\n",
    "**Exercice**\n",
    "\n",
    "Combien de distributions de cartes existe-t-il pour un jeu de jass ?\n",
    "(Le jeu de jass contient 36 cartes, il y a 4 joueurs, chacun reçoit\n",
    "9 cartes).\n",
    "\n",
    "</div>\n",
    "\n",
    "Une distribution est un partage de l'ensemble $\\{1,\\dots,36\\}$ en 4 sous-ensembles de taille 9. Alors la nombre de ces distributions est donnée par le coefficient multinomial\n",
    "\n",
    "$$\n",
    "    \\binom {36}{9,\\,9,\\,9,\\,9} = \\frac{36!}{9!9!9!9!} \\simeq 2.145\\times10^{19}\n",
    "$$\n",
    "\n",
    "Comme un coefficient multinomial est souvant un produit des facteurs très grand ou très petit, c'est numériquement plus stable de calculer son logarithme. On a \n",
    "\n",
    "$$\n",
    "    \\log \\binom{n}{n_1,\\dots,n_k} = \\log(n!)-\\log(n_1!)-\\dots-\\log(n_k!)\n",
    "$$\n",
    "\n",
    "Rappelons que la fonction \n",
    "\n",
    "$$\n",
    "\\Gamma(t) = \\int_0^\\infty\\! x^{t-1}e^{-x}\\,\\mathrm dx\n",
    "$$ \n",
    "\n",
    "satisfait $\\Gamma(n+1) = n!$ si $n\\in \\mathbb N$. On peut calculer la logarithme de $\\Gamma$ avec `scipy.scecial.loggamma`."
   ]
  },
  {
   "cell_type": "code",
   "execution_count": 95,
   "metadata": {},
   "outputs": [
    {
     "data": {
      "text/plain": [
       "2.1452752266265354e+19"
      ]
     },
     "execution_count": 95,
     "metadata": {},
     "output_type": "execute_result"
    }
   ],
   "source": [
    "import numpy as np\n",
    "from scipy.special import loggamma\n",
    "\n",
    "def log_multinom(n,*ni):\n",
    "    return loggamma(n+1) - np.sum([loggamma(nk+1) for nk in ni])\n",
    "    \n",
    "np.exp(log_multinom(36,9,9,9,9))"
   ]
  },
  {
   "cell_type": "markdown",
   "metadata": {},
   "source": [
    "### Exercice 5c)\n",
    "<div class=\"alert alert-info\">\n",
    "**Exercice**\n",
    "\n",
    "Soit $p, q \\in \\mathbb N \\cup \\{0\\}$. Soit $n = p + q$. Prouver que\n",
    "\n",
    "$$\n",
    "\\binom{n}{p,q} = \\binom{n}{p} = \\binom{n}{q}\n",
    "$$\n",
    "\n",
    "</div>\n",
    "\n",
    "Comme $n=p+q$ on a $q = n-p$ et $p = n-q$. Alors,\n",
    "\n",
    "$$\n",
    "\\binom{n}{p,q} = \\frac{n!}{p!q!} = \\frac{n!}{p!(n-p)!} = \\frac{n!}{(n-q)!q!},\n",
    "$$\n",
    "\n",
    "qui sont les définitions de $\\binom np$ et $\\binom nq$."
   ]
  },
  {
   "cell_type": "markdown",
   "metadata": {},
   "source": [
    "### Exercice 5d)\n",
    "<div class=\"alert alert-info\">\n",
    "**Exercice**\n",
    "\n",
    "Calculer le coefficient du monôme $x^6yz^3$ dans le développement\n",
    "de $(x + y + z)^{10}$.\n",
    "\n",
    "</div>\n",
    "\n",
    "Par la formule du multinôme de Newton on a\n",
    "\n",
    "$$\n",
    "(x + y + z)^{10} = \\sum_{i+j+k = 10} \\binom{10}{i,\\,j,\\,k} x^iy^jz^k\n",
    "$$\n",
    "\n",
    "Donc le coefficient du monôme $x^6yz^3$ est donné par\n",
    "\n",
    "$$\n",
    "\\binom{10}{6,\\,1,\\,3} = \\frac{10!}{6!1!3!} = 840\n",
    "$$"
   ]
  }
 ],
 "metadata": {
  "kernelspec": {
   "display_name": "Python 3",
   "language": "python",
   "name": "python3"
  },
  "language_info": {
   "codemirror_mode": {
    "name": "ipython",
    "version": 3
   },
   "file_extension": ".py",
   "mimetype": "text/x-python",
   "name": "python",
   "nbconvert_exporter": "python",
   "pygments_lexer": "ipython3",
   "version": "3.8.5"
  }
 },
 "nbformat": 4,
 "nbformat_minor": 4
}