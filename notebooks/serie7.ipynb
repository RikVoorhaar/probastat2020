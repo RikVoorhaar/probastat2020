{
 "cells": [
  {
   "cell_type": "markdown",
   "metadata": {},
   "source": [
    "[![Open in Colab](https://colab.research.google.com/assets/colab-badge.svg)](https://colab.research.google.com/github/RikVoorhaar/probastat2020/blob/master/notebooks/serie7.ipynb?hl=fr)\n",
    "\n",
    "# Série 7"
   ]
  },
  {
   "cell_type": "markdown",
   "metadata": {},
   "source": [
    "## Exercice 1\n",
    "\n",
    "<div class=\"alert alert-info\">\n",
    "**Exercice** \n",
    "\n",
    "Une loterie est composée de 1000 billets. L’un d’entre eux gagne le\n",
    "gros lot qui est de 500 F ; deux autres gagnent 100 F ; cinquante autres\n",
    "billets gagnent 10 F. Quel doit être le prix du billet pour que le jeu\n",
    "soit équitable ?\n",
    "    \n",
    "</div>"
   ]
  },
  {
   "cell_type": "markdown",
   "metadata": {},
   "source": [
    "## Exercice 2\n",
    "\n",
    "<div class=\"alert alert-info\">\n",
    "**Exercice** \n",
    "\n",
    "Un chef de service commercial estime avoir une probabilité de $0,6$\n",
    "de faire gagner $100′000$ F à son entreprise en faisant une opération.\n",
    "Si cette opération est manquée, la perte est de $20′000$ F. Quelle est\n",
    "l’espérance mathématique du gain ?\n",
    "    \n",
    "</div>"
   ]
  },
  {
   "cell_type": "markdown",
   "metadata": {},
   "source": [
    "## Exercice 3\n",
    "\n",
    "<div class=\"alert alert-info\">\n",
    "**Exercice**  (Inégalité de Markov)\n",
    "    \n",
    "Soit $(\\Omega,\\mathcal A,\\mathbb P)$ un espace probabilisé. Soit \n",
    "    \n",
    "$$\n",
    "    X\\colon \\Omega\\to \\mathbb R\n",
    "$$\n",
    "une variable aléatoire dont la densité est continue par morceaux et dont le moment d'ordre 1 est fini : $\\mathbb E[|X|] < \\infty$. (Cela signifie\n",
    "    \n",
    "$$\n",
    "    \\int_{-\\infty}^\\infty\\!|t|f_X(t)\\,\\mathrm dt<\\infty.)\n",
    "$$\n",
    "    \n",
    "Prouver que pour tout $a>0$,\n",
    "    \n",
    "$$\n",
    "    \\mathbb P(|X|\\geq a) \\leq \\frac{\\mathbb E[X]}{a}\n",
    "$$\n",
    "\n",
    "</div>"
   ]
  },
  {
   "cell_type": "markdown",
   "metadata": {},
   "source": [
    "## Exercice 4\n",
    "\n",
    "<div class=\"alert alert-info\">\n",
    "**Exercice** (Majoration du coefficient de corrélation)\n",
    "\n",
    "Déduire de l’inégalité de\n",
    "Cauchy-Schwartz que si $X$ et $Y$ sont des v.a. à valeurs réelles qui\n",
    "sont discrètes ou à densités continues par morceaux, qui possédent\n",
    "des moments d’ordre deux et dont les variances sont non-nuls, alors\n",
    "\n",
    "$$\n",
    "    |\\operatorname{cov}(X,Y)|\\leq \\sqrt{\\operatorname{Var}(X)}\\sqrt{\\operatorname{Var}(Y)}\n",
    "$$\n",
    "    \n",
    "</div>"
   ]
  },
  {
   "cell_type": "markdown",
   "metadata": {},
   "source": [
    "## Exercice 5\n",
    "\n",
    "<div class=\"alert alert-info\">\n",
    "**Exercice** \n",
    "\n",
    "Donner un exemple de variable aléatoire $X$ à valeurs réelles telle que\n",
    "$|\\mathbb E[X]| < \\infty$ mais telle que $\\mathbb E[X^2] = \\infty$.\n",
    "\n",
    "</div>"
   ]
  },
  {
   "cell_type": "markdown",
   "metadata": {},
   "source": [
    "## Exercice 6\n",
    "\n",
    "<div class=\"alert alert-info\">\n",
    "**Exercice** \n",
    "\n",
    "Soit $Z$ une variable aléatoire à valeurs réelles . Prouver que si\n",
    "\n",
    "$$\n",
    "    P(|Z|>\\epsilon) = 0,\\, \\forall \\epsilon >0,\n",
    "$$\n",
    "    \n",
    "alors\n",
    "\n",
    "$$\n",
    "    P(Z = 0) = 1.\n",
    "$$\n",
    "\n",
    "Suggestion. Appliquer le fait que\n",
    "    \n",
    "$$\n",
    "    (Z\\neq 0) = \\bigcup_{n\\in \\mathbb N}(|Z|>1/n).\n",
    "$$\n",
    "\n",
    "</div>"
   ]
  },
  {
   "cell_type": "markdown",
   "metadata": {},
   "source": [
    "## Exercice 7\n",
    "\n",
    "<div class=\"alert alert-info\">\n",
    "**Exercice** \n",
    "\n",
    "Prouver qu’une variable aléatoire dont la variance est nulle prend une\n",
    "certaine valeur avec probabilité 1.  \n",
    "_Suggestion:_ Appliquer l’inégalité de Tchebichev et l’exercice précédent.\n",
    "    \n",
    "</div>"
   ]
  },
  {
   "cell_type": "markdown",
   "metadata": {},
   "source": [
    "## Exercice 8\n",
    "\n",
    "<div class=\"alert alert-info\">\n",
    "**Exercice** \n",
    "\n",
    "Le bilan annuel d’une compagnie d’assurance est une variable aléatoire d’espérance $500′000$ CHF et d’écart type $100′000$ CHF. Son PDG\n",
    "déclare à son conseil d’administration qu’il est sûr à $95\\%$ de ne pas\n",
    "faire de perte.\n",
    "\n",
    "\n",
    "</div>"
   ]
  },
  {
   "cell_type": "markdown",
   "metadata": {},
   "source": [
    "### Exercice 8a)\n",
    "\n",
    "<div class=\"alert alert-info\">\n",
    "**Exercice** \n",
    "\n",
    "Soit $X$ la variable aléatoire décrivant le bilan annuel ($X$ prend\n",
    "donc une valeur positive en cas de bénéfice et une valeure négative en cas de perte). Montrer que l’obtention d’un bénéfice est\n",
    "impliquée par la condition.\n",
    "    \n",
    "$$(|X-\\mu|\\leq 5\\sigma)$$\n",
    "\n",
    "</div>"
   ]
  },
  {
   "cell_type": "markdown",
   "metadata": {},
   "source": [
    "### Exercice 8b)\n",
    "\n",
    "<div class=\"alert alert-info\">\n",
    "**Exercice** \n",
    "\n",
    "Appliquer l’inégalité de Tchebichev pour estimer\n",
    "\n",
    "$$\n",
    "    P(|X-\\mu|>5\\sigma)\n",
    "$$\n",
    "\n",
    "</div>"
   ]
  },
  {
   "cell_type": "markdown",
   "metadata": {},
   "source": [
    "### Exercice 8c)\n",
    "\n",
    "<div class=\"alert alert-info\">\n",
    "**Exercice** \n",
    "\n",
    "Que pensez-vous de l’affirmation du PDG ?\n",
    "\n",
    "</div>"
   ]
  }
 ],
 "metadata": {
  "kernelspec": {
   "display_name": "Python 3",
   "language": "python",
   "name": "python3"
  },
  "language_info": {
   "codemirror_mode": {
    "name": "ipython",
    "version": 3
   },
   "file_extension": ".py",
   "mimetype": "text/x-python",
   "name": "python",
   "nbconvert_exporter": "python",
   "pygments_lexer": "ipython3",
   "version": "3.8.3"
  }
 },
 "nbformat": 4,
 "nbformat_minor": 4
}