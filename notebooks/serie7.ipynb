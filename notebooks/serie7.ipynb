{
 "cells": [
  {
   "cell_type": "markdown",
   "metadata": {},
   "source": [
    "[![Open in Colab](https://colab.research.google.com/assets/colab-badge.svg)](https://colab.research.google.com/github/RikVoorhaar/probastat2020/blob/master/notebooks/serie7.ipynb?hl=fr)\n",
    "\n",
    "# Série 7"
   ]
  },
  {
   "cell_type": "markdown",
   "metadata": {},
   "source": [
    "## Exercice 1\n",
    "\n",
    "<div class=\"alert alert-info\">\n",
    "**Exercice** \n",
    "\n",
    "Une loterie est composée de 1000 billets. L’un d’entre eux gagne le\n",
    "gros lot qui est de 500 F ; deux autres gagnent 100 F ; cinquante autres\n",
    "billets gagnent 10 F. Quel doit être le prix du billet pour que le jeu\n",
    "soit équitable ?\n",
    "    \n",
    "</div>"
   ]
  },
  {
   "cell_type": "markdown",
   "metadata": {},
   "source": [
    "Le jeu est équitable si le prix du billet est égal à l'espérance du jeu. L'espérance est donnée par\n",
    "\n",
    "$$\n",
    "\\frac{500+2\\cdot 100+50\\cdot 10}{1000} = 1.2,\n",
    "$$\n",
    "\n",
    "alors le prix doit être 1.2 F."
   ]
  },
  {
   "cell_type": "markdown",
   "metadata": {},
   "source": [
    "## Exercice 2\n",
    "\n",
    "<div class=\"alert alert-info\">\n",
    "**Exercice** \n",
    "\n",
    "Un chef de service commercial estime avoir une probabilité de $0,6$\n",
    "de faire gagner $100′000$ F à son entreprise en faisant une opération.\n",
    "Si cette opération est manquée, la perte est de $20′000$ F. Quelle est\n",
    "l’espérance mathématique du gain ?\n",
    "    \n",
    "</div>\n",
    "\n",
    "L'espérance est\n",
    "\n",
    "$$\n",
    "0.6\\times100'000-0.4\\times20'000 = 52'000 \\text{ F}\n",
    "$$"
   ]
  },
  {
   "cell_type": "markdown",
   "metadata": {},
   "source": [
    "## Exercice 3\n",
    "\n",
    "<div class=\"alert alert-info\">\n",
    "**Exercice**  (Inégalité de Markov)\n",
    "    \n",
    "Soit $(\\Omega,\\mathcal A,\\mathbb P)$ un espace probabilisé. Soit \n",
    "    \n",
    "$$\n",
    "    X\\colon \\Omega\\to \\mathbb R\n",
    "$$\n",
    "    \n",
    "une variable aléatoire dont la densité est continue par morceaux et dont le moment d'ordre 1 est fini : $\\mathbb E[|X|] < \\infty$. (Cela signifie\n",
    "    \n",
    "$$\n",
    "    \\int_{-\\infty}^\\infty\\!|t|f_X(t)\\,\\mathrm dt<\\infty.)\n",
    "$$\n",
    "    \n",
    "Prouver que pour tout $a>0$,\n",
    "    \n",
    "$$\n",
    "    \\mathbb P(|X|\\geq a) \\leq \\frac{\\mathbb E[|X|]}{a}\n",
    "$$\n",
    "\n",
    "</div>"
   ]
  },
  {
   "cell_type": "markdown",
   "metadata": {},
   "source": [
    "On a \n",
    "\n",
    "$$\n",
    "\\begin{align}\n",
    "    \\mathbb P(|X|\\geq a) &= \\int_{|t|\\geq a} \\!f_X(t)\\,\\mathrm dt\\\\\n",
    "    &= \\int_{|t|\\geq a} \\frac{|t|}{|t|}\\!f_X(t)\\,\\mathrm dt\\\\\n",
    "    &\\leq \\int_{|t|\\geq a} \\frac{|t|}{a}\\!f_X(t)\\,\\mathrm dt\\\\\n",
    "    &\\leq \\int_{-\\infty}^\\infty \\frac{|t|}{a}\\!f_X(t)\\,\\mathrm dt\\\\\n",
    "    &=\\frac{\\mathbb E[|X|]}{a}\n",
    "\\end{align}\n",
    "$$"
   ]
  },
  {
   "cell_type": "markdown",
   "metadata": {},
   "source": [
    "## Exercice 4\n",
    "\n",
    "<div class=\"alert alert-info\">\n",
    "**Exercice** (Majoration du coefficient de corrélation)\n",
    "\n",
    "Déduire de l’inégalité de\n",
    "Cauchy-Schwartz que si $X$ et $Y$ sont des v.a. à valeurs réelles qui\n",
    "sont discrètes ou à densités continues par morceaux, qui possédent\n",
    "des moments d’ordre deux et dont les variances sont non-nuls, alors\n",
    "\n",
    "$$\n",
    "    |\\operatorname{cov}(X,Y)|\\leq \\sqrt{\\operatorname{Var}(X)}\\sqrt{\\operatorname{Var}(Y)}\n",
    "$$\n",
    "    \n",
    "</div>"
   ]
  },
  {
   "cell_type": "markdown",
   "metadata": {},
   "source": [
    "L'espérance des variables aléatoires est un produit scalaire, donc on a l'inégalité de Cauchy-Schwartz :\n",
    "\n",
    "$$\n",
    "    |\\mathbb E[XY]| \\leq \\sqrt{\\mathbb E[X^2]}\\sqrt{\\mathbb E[Y^2]}\n",
    "$$\n",
    "\n",
    "On applique cette inégalité à les v.a. $(X-\\mathbb E[X])$ et $(Y-\\mathbb E[Y])$ :\n",
    "\n",
    "$$\n",
    "\\begin{align}\n",
    "    |\\operatorname{cov}(X,Y)| &=|\\mathbb E[(X-\\mathbb E[X])(Y-\\mathbb E[Y])]|\\\\\n",
    "    & \\leq \\sqrt{\\mathbb E[(X-\\mathbb E[X])^2]}\\sqrt{\\mathbb E[(Y-\\mathbb E[Y])^2]}\\\\\n",
    "    &=\\sqrt{\\operatorname{Var}(X)}\\sqrt{\\operatorname{Var}(Y)}\n",
    "\\end{align}\n",
    "$$\n",
    "\n",
    "On a que $\\langle X,Y\\rangle = E[XY]$ est un produit scalaire parce que:  \n",
    "\n",
    "- Il est linéaire : $E[X(Y+\\lambda Z)] = E[XY]+\\lambda E[XZ]$  \n",
    "- Il est symmétrique : $E[XY]=E[YX]$  \n",
    "- Il est définie positive : $E[X^2]\\geq 0$ et $E[X^2]=0$ si et seulement si $P(X=0)=1$ (cf. exercice 7.7).)"
   ]
  },
  {
   "cell_type": "markdown",
   "metadata": {},
   "source": [
    "## Exercice 5\n",
    "\n",
    "<div class=\"alert alert-info\">\n",
    "**Exercice** \n",
    "\n",
    "Donner un exemple de variable aléatoire $X$ à valeurs réelles telle que\n",
    "$|\\mathbb E[X]| < \\infty$ mais telle que $\\mathbb E[X^2] = \\infty$.\n",
    "\n",
    "</div>"
   ]
  },
  {
   "cell_type": "markdown",
   "metadata": {},
   "source": [
    "On cherche donc une fonction de densité $f_X(x)$ t.q. \n",
    "\n",
    "$$\n",
    "\\left\\{\\begin{array}{ll}\n",
    "    \\int_{-\\infty}^\\infty\\! f_X(x)\\,\\mathrm dx &= 1,\\\\\n",
    "    \\int_{-\\infty}^\\infty\\! |x| f_X(x)\\,\\mathrm dx &<\\infty,\\\\\n",
    "    \\int_{-\\infty}^\\infty\\! x^2 f_X(x)\\,\\mathrm dx &= \\infty.\n",
    "\\end{array}\\right.\n",
    "$$\n",
    "\n",
    "On a que si $a<1$ :\n",
    "\n",
    "$$\n",
    "    \\int_{1}^\\infty\\! x^{-a}\\,\\mathrm d x = \\left[\\frac{x^{1-a}}{1-a}\\right]_{1}^\\infty  = \\frac{1}{a-1} < \\infty,\n",
    "$$\n",
    "\n",
    "mais si $a\\geq 1$ cette intégrale diverge. Alors, on peut prendre comme densité\n",
    "\n",
    "$$\n",
    "    f_X(x) = \\left\\{\\begin{array}{ll}\n",
    "    2 x^{-3} & x\\geq 1\\\\\n",
    "    0 & x<1\n",
    "    \\end{array}\\right.\n",
    "$$\n",
    "\n",
    "On a donc que \n",
    "\n",
    "$$\n",
    "|E[X]| = \\int_{1}^\\infty\\! 2 x^{-2}\\,\\mathrm d x = 2\n",
    "$$\n",
    "\n",
    "mais \n",
    "\n",
    "$$\n",
    "E[X^2] = \\int_{1}^\\infty\\! 2 x^{-1} = \\left[2\\log x\\right]^\\infty_1 = \\infty\n",
    "$$\n",
    "\n",
    "Cette fonction marche aussi dans le cas discrète. On définit la variable aléatoire à valeurs dans $\\mathbb N$ par \n",
    "\n",
    "$$\n",
    "    P(X=k) = \\frac{C}{k^3},\\qquad k\\geq 1\n",
    "$$\n",
    "\n",
    "où $C$ est défini par $$\\sum_{k=1}^\\infty \\frac{1}{k^3} = \\frac{1}{C}.$$ (On a que $C = 1/\\zeta(3)\\approx 0.8319$, mais on doit seulement savoir que c'est une nombre fini.) On a que\n",
    "\n",
    "$$\n",
    "    E[X] = C\\sum_{k=1}^\\infty \\frac{1}{k^2} = C\\frac{\\pi^2}{6}\\approx 1.3684<\\infty,\n",
    "$$\n",
    "\n",
    "mais \n",
    "\n",
    "$$\n",
    "    E[X^2] = C\\sum_{k=1}^\\infty \\frac{1}{k} = \\infty\n",
    "$$\n",
    "\n",
    "(il y a des dizaines de preuves différentes que la série harmonique diverge)."
   ]
  },
  {
   "cell_type": "markdown",
   "metadata": {},
   "source": [
    "## Exercice 6\n",
    "\n",
    "<div class=\"alert alert-info\">\n",
    "**Exercice** \n",
    "\n",
    "Soit $Z$ une variable aléatoire à valeurs réelles . Prouver que si\n",
    "\n",
    "$$\n",
    "    P(|Z|>\\epsilon) = 0,\\, \\forall \\epsilon >0,\n",
    "$$\n",
    "    \n",
    "alors\n",
    "\n",
    "$$\n",
    "    P(Z = 0) = 1.\n",
    "$$\n",
    "\n",
    "Suggestion. Appliquer le fait que\n",
    "    \n",
    "$$\n",
    "    (Z\\neq 0) = \\bigcup_{n\\in \\mathbb N}(|Z|>1/n).\n",
    "$$\n",
    "\n",
    "</div>\n",
    "\n",
    "En suivant la suggestion,\n",
    "\n",
    "$$\n",
    " P(Z \\neq 0) = P\\left(\\bigcup_{n\\in \\mathbb N}(|Z|>1/n)\\right)\\leq \\sum_{n\\in \\mathbb N}P\\left(|Z|>1/n\\right) = 0\n",
    "$$\n",
    "\n",
    "alors $P(Z=0)=1$."
   ]
  },
  {
   "cell_type": "markdown",
   "metadata": {},
   "source": [
    "## Exercice 7\n",
    "\n",
    "<div class=\"alert alert-info\">\n",
    "**Exercice** \n",
    "\n",
    "Prouver qu’une variable aléatoire dont la variance est nulle prend une\n",
    "certaine valeur avec probabilité 1.  \n",
    "_Suggestion:_ Appliquer l’inégalité de Tchebichev et l’exercice précédent.\n",
    "    \n",
    "</div>"
   ]
  },
  {
   "cell_type": "markdown",
   "metadata": {},
   "source": [
    "Soit $X$ v.a. telle que $\\operatorname{Var}(X) = 0$. Alors par l'inégalité de Tchebichev :\n",
    "\n",
    "$$\n",
    "    P(|X-\\mathbb E[X]|\\geq \\epsilon)\\leq \\frac{\\operatorname{Var}(X)}{\\epsilon^2} = 0,\\qquad \\forall\\epsilon>0\n",
    "$$\n",
    "\n",
    "donc par l'exercice précédent, $P(X-\\mathbb E[X] = 0) = 1$, c'est-à-dire $P(X=\\mathbb E[X]) = 1$."
   ]
  },
  {
   "cell_type": "markdown",
   "metadata": {},
   "source": [
    "## Exercice 8\n",
    "\n",
    "<div class=\"alert alert-info\">\n",
    "**Exercice** \n",
    "\n",
    "Le bilan annuel d’une compagnie d’assurance est une variable aléatoire d’espérance $500′000$ CHF et d’écart type $100′000$ CHF. Son PDG\n",
    "déclare à son conseil d’administration qu’il est sûr à $95\\%$ de ne pas\n",
    "faire de perte.\n",
    "\n",
    "\n",
    "</div>"
   ]
  },
  {
   "cell_type": "markdown",
   "metadata": {},
   "source": [
    "### Exercice 8a)\n",
    "\n",
    "<div class=\"alert alert-info\">\n",
    "**Exercice** \n",
    "\n",
    "Soit $X$ la variable aléatoire décrivant le bilan annuel ($X$ prend\n",
    "donc une valeur positive en cas de bénéfice et une valeure négative en cas de perte). Montrer que l’obtention d’un bénéfice est\n",
    "impliquée par la condition.\n",
    "    \n",
    "$$(|X-\\mu|\\leq 5\\sigma)$$\n",
    "\n",
    "</div>"
   ]
  },
  {
   "cell_type": "markdown",
   "metadata": {},
   "source": [
    "Notons que $|X-\\mu|\\leq 5\\sigma$, si et seulement si $X\\in [\\mu-5\\sigma,\\mu+5\\sigma] = [0,1'000'000]$, donc $X\\geq 0$ et on a un bénéfice."
   ]
  },
  {
   "cell_type": "markdown",
   "metadata": {},
   "source": [
    "### Exercice 8b)\n",
    "\n",
    "<div class=\"alert alert-info\">\n",
    "**Exercice** \n",
    "\n",
    "Appliquer l’inégalité de Tchebichev pour estimer\n",
    "\n",
    "$$\n",
    "    P(|X-\\mu|>5\\sigma)\n",
    "$$\n",
    "\n",
    "</div>"
   ]
  },
  {
   "cell_type": "markdown",
   "metadata": {},
   "source": [
    "Par l'inégalité de Tchebichev :\n",
    "\n",
    "$$\n",
    "P(|X-\\mu|> 5\\sigma)\\leq \\frac{\\sigma^2}{(5\\sigma)^2} = \\frac{1}{25}\n",
    "$$"
   ]
  },
  {
   "cell_type": "markdown",
   "metadata": {},
   "source": [
    "### Exercice 8c)\n",
    "\n",
    "<div class=\"alert alert-info\">\n",
    "**Exercice** \n",
    "\n",
    "Que pensez-vous de l’affirmation du PDG ?\n",
    "\n",
    "</div>"
   ]
  },
  {
   "cell_type": "markdown",
   "metadata": {},
   "source": [
    "On a que :\n",
    "$$\n",
    "\\begin{align}\n",
    "P(X\\geq 0)&\\geq P(|X-\\mu|\\leq 5\\sigma)\\\\&=1-P(|X-\\mu|>5\\sigma)\\\\&\\geq 1-0.04 = 0.96 \\\\&> 0.95\n",
    "\\end{align}$$\n",
    "\n",
    "donc l'affirmation est correcte. D'autre part, l'affirmation est assez faible. Par exemple si on suppose que $X$ suit une loi normale $\\mathcal N(\\mu,\\sigma)$ on peut calculer $P(X\\geq 0)$:"
   ]
  },
  {
   "cell_type": "code",
   "execution_count": 1,
   "metadata": {},
   "outputs": [
    {
     "data": {
      "text/plain": [
       "2.866515718791933e-07"
      ]
     },
     "execution_count": 1,
     "metadata": {},
     "output_type": "execute_result"
    }
   ],
   "source": [
    "from scipy.stats import norm\n",
    "\n",
    "# Variable aléatoire normale avec mu=500'000, sigma=100'000\n",
    "X = norm(loc=5*1e5, scale=1e5)\n",
    "\n",
    "# Probabilité que X < 0\n",
    "X.cdf(0)"
   ]
  },
  {
   "cell_type": "markdown",
   "metadata": {},
   "source": [
    "Alors on trouve une probabilité très faible que $X<0$. L'inégalité de Tchebichev nous donne la probabilité dans le pire des cas."
   ]
  }
 ],
 "metadata": {
  "kernelspec": {
   "display_name": "Python 3",
   "language": "python",
   "name": "python3"
  },
  "language_info": {
   "codemirror_mode": {
    "name": "ipython",
    "version": 3
   },
   "file_extension": ".py",
   "mimetype": "text/x-python",
   "name": "python",
   "nbconvert_exporter": "python",
   "pygments_lexer": "ipython3",
   "version": "3.7.4"
  }
 },
 "nbformat": 4,
 "nbformat_minor": 4
}