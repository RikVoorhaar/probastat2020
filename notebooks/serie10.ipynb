{
 "cells": [
  {
   "cell_type": "markdown",
   "metadata": {},
   "source": [
    "[![Open in Colab](https://colab.research.google.com/assets/colab-badge.svg)](https://colab.research.google.com/github/RikVoorhaar/probastat2020/blob/master/notebooks/serie10.ipynb?hl=fr)\n",
    "\n",
    "# Série 10"
   ]
  },
  {
   "cell_type": "markdown",
   "metadata": {},
   "source": [
    "## Exercice 1\n",
    "\n",
    "<div class=\"alert alert-info\">\n",
    "**Exercice** \n",
    "\n",
    "Soient $X$ et $Y$ des variables aléatoires à valeurs réelles définies sur un espace probabilisé $(\\Omega,\\mathcal A,\\mathbb P)$. Soit $\\mu\\in\\mathbb R$.\n",
    "Montrez que $X$ et $Y$ sont indépendantes si et seulement si $X$ et $Y+\\mu$ le sont.\n",
    "    \n",
    "</div>"
   ]
  },
  {
   "cell_type": "markdown",
   "metadata": {},
   "source": [
    "$X$ et $Y$ sont indépendantes si et seulement si pour chaque $A,B\\in \\mathcal A$ on a que\n",
    "\n",
    "$$\n",
    "    \\mathbb P((X\\in A)\\cap (Y\\in B)) =  \\mathbb P(X\\in A)\\mathbb P(Y\\in B)\n",
    "$$\n",
    "\n",
    "Supposons que $X$ et $Y$ sont indépendantes et dénotons $B-\\mu = \\{b-\\mu\\mid b\\in B\\}$, alors\n",
    "\n",
    "$$\n",
    "\\begin{align}\n",
    "    \\mathbb P((X\\in A)\\cap (Y+\\mu\\in B) &=  \\mathbb P((X\\in A)\\cap (Y\\in B-\\mu)\\\\\n",
    "    &=\\mathbb P(X\\in A) \\mathbb P(Y\\in B-\\mu)\\\\\n",
    "    &=\\mathbb P(X\\in A) \\mathbb P(Y+\\mu\\in B)\n",
    "\\end{align}\n",
    "$$\n",
    "\n",
    "et on conclut alors que $X$ et $Y+\\mu$ sont indépendantes. \n",
    "\n",
    "Si $X$ et $Y+\\mu$ sont indépendantes, de même manière on a alors que $X$ et $Y=(Y+\\mu)+(-\\mu)$ sont indépendantes. En conclusion $X$ et $Y$ sont indépendantes si et seulement si $X$ et $Y+\\mu$ le sont."
   ]
  },
  {
   "cell_type": "markdown",
   "metadata": {},
   "source": [
    "## Exercice 2\n",
    "\n",
    "<div class=\"alert alert-info\">\n",
    "**Exercice** \n",
    "\n",
    "On définit $\\Phi:\\mathbb R\\to]0,1[$ par la formule\n",
    "\n",
    "$$\n",
    "\\Phi(x)=\\frac{1}{\\sqrt{2\\pi}}\\int_{-\\infty}^xe^{\\frac{-t^2}{2}}\\,\\mathrm{d}t.\n",
    "$$\n",
    "\n",
    "En d'autres termes, $\\Phi$ est la fonction de répartition $F_X$ d'une variable aléatoire $X$ qui suit une loi normale de moyenne $\\mu=0$ et de d'écart-type $\\sigma=1$ :\n",
    "\n",
    "$$\n",
    "\\mathbb P(X\\leq x)=F_X(x)=\\Phi(x).\n",
    "$$\n",
    "\n",
    "On note dans ce cas $X\\sim N(0,1)$.\n",
    "Prouver que pour tout $x\\geq 0$,\n",
    "\n",
    "$$\n",
    "\\frac{1}{\\sqrt{2\\pi}}\\int_{-x}^xe^{\\frac{-t^2}{2}}\\,\\mathrm{d}t=2\\Phi(x)-1.\n",
    "$$\n",
    "    \n",
    "</div>"
   ]
  },
  {
   "cell_type": "markdown",
   "metadata": {},
   "source": [
    "Notons que $e^{\\frac{-t^2}{2}}$ et une fonction paire. On a alors que\n",
    "\n",
    "$$\n",
    "\\begin{align}\n",
    "\\frac{1}{\\sqrt{2\\pi}}\\int_{-x}^xe^{\\frac{-t^2}{2}}\\,\\mathrm{d}t&=\\frac{1}{\\sqrt{2\\pi}}\\int_{-x}^0e^{\\frac{-t^2}{2}}\\,\\mathrm{d}t+\\frac{1}{\\sqrt{2\\pi}}\\int_{0}^xe^{\\frac{-t^2}{2}}\\,\\mathrm{d}t\\\\\n",
    "&=2\\frac{1}{\\sqrt{2\\pi}}\\int_{0}^xe^{\\frac{-t^2}{2}}\\,\\mathrm{d}t\n",
    "\\end{align}\n",
    "$$\n",
    "\n",
    "Puis notons que \n",
    "\n",
    "$$\n",
    "\\frac{1}{\\sqrt{2\\pi}}\\int_{-\\infty}^0e^{\\frac{-t^2}{2}}\\,\\mathrm{d}t=\\frac12\n",
    "$$\n",
    "\n",
    "Donc,\n",
    "\n",
    "$$\n",
    "\\begin{align}\n",
    "\\frac{1}{\\sqrt{2\\pi}}\\int_{-x}^xe^{\\frac{-t^2}{2}}\\,\\mathrm{d}t&=2\\frac{1}{\\sqrt{2\\pi}}\\int_{0}^xe^{\\frac{-t^2}{2}}\\,\\mathrm{d}t\\\\\n",
    "&=2\\left(\\frac{1}{\\sqrt{2\\pi}}\\int_{0}^xe^{\\frac{-t^2}{2}}\\,\\mathrm{d}t+\\frac{1}{\\sqrt{2\\pi}}\\int_{-\\infty}^0e^{\\frac{-t^2}{2}}\\,\\mathrm{d}t-\\frac12\\right)\\\\\n",
    "&=2\\left(\\frac{1}{\\sqrt{2\\pi}}\\int_{-\\infty}^xe^{\\frac{-t^2}{2}}\\,\\mathrm{d}t\\right)-1\\\\\n",
    "&=2\\Phi(x)-1\n",
    "\\end{align}\n",
    "$$"
   ]
  },
  {
   "cell_type": "markdown",
   "metadata": {},
   "source": [
    "## Exercice 3\n",
    "\n",
    "<div class=\"alert alert-info\">\n",
    "**Exercice** \n",
    "\n",
    "Calculer les moments de la loi normale. C'est-à-dire, si $X\\sim N(0,1)$, calculer $\\mathbb{E}[X^k]$ pour $k=1,2,3$ (et plus si vous voulez).\n",
    "    \n",
    "</div>"
   ]
  },
  {
   "cell_type": "markdown",
   "metadata": {},
   "source": [
    "Notons que si $k$ est impair, alors $t^ke^{-t^2/2}$ est une fonction impaire. Alors si $k$ impaire,\n",
    "\n",
    "$$\n",
    "\\begin{align}\n",
    "    \\mathbb{E}[X^k] &= \\int_{-\\infty}^\\infty t^ke^{-t^2/2}\\,\\mathrm dt\\\\\n",
    "    &= \\int_{-\\infty}^0 t^ke^{-t^2/2}\\,\\mathrm dt+\\int_{0}^\\infty t^ke^{-t^2/2}\\,\\mathrm dt\\\\\n",
    "    &= \\int_{\\infty}^0 (-t)^ke^{-t^2/2}\\,\\mathrm d(-t)+\\int_{0}^\\infty t^ke^{-t^2/2}\\,\\mathrm dt\\\\\n",
    "    &= -\\int_{0}^\\infty t^ke^{-t^2/2}\\,\\mathrm dt+\\int_{0}^\\infty t^ke^{-t^2/2}\\,\\mathrm dt\\\\\n",
    "    &= 0\n",
    "\\end{align}\n",
    "$$\n",
    "\n",
    "On peut calculer $\\mathbb{E}[x^k]$ si $k$ est pair en utilisant intégration par parties et puis la récurrence. Notons que \n",
    "\n",
    "$$\n",
    "\\frac{\\mathrm d}{\\mathrm d t}e^{-t^2/2} = (-t)e^{-t^2/2}\n",
    "$$\n",
    "\n",
    "Donc,\n",
    "\n",
    "$$\n",
    "\\begin{align}\n",
    "    \\mathbb{E}[X^k] &= \\int_{-\\infty}^\\infty t^ke^{-t^2/2}\\,\\mathrm dt\\\\ \n",
    "    &= \\int_{-\\infty}^\\infty -t^{k-1}\\cdot(-t)e^{-t^2/2}\\,\\mathrm dt\\\\ \n",
    "    &= \\left[-t^{k-1}e^{-t^2/2}\\right]_{-\\infty}^\\infty-\\int_{-\\infty}^{\\infty}-(k-1)t^{k-2}e^{-t^2/2}\\,\\mathrm dt\\\\\n",
    "    &= (k-1)\\int_{-\\infty}^{\\infty}t^{k-2}e^{-t^2/2}\\,\\mathrm dt\\\\\n",
    "    &=(k-1)\\mathbb{E}[X^{k-2}]\n",
    "\\end{align}\n",
    "$$\n",
    "\n",
    "Par récurrence on donc trouve que si $2k$ est pair :\n",
    "\n",
    "$$\n",
    "    \\mathbb{E}[X^{2k}] = (2k-1)(2k-3)\\cdots 3\\cdot 1 \\mathbb{E}[X^0] = (2k-1)(2k-3)\\cdots 3\\cdot 1\n",
    "$$\n",
    "\n",
    "Ou en bref $\\mathbb{E}[X^{2k}] = (2k-1)!!$ (la double factorielle est précisement l'expression ci-dessus)."
   ]
  },
  {
   "cell_type": "markdown",
   "metadata": {},
   "source": [
    "## Exercice 4\n",
    "\n",
    "<div class=\"alert alert-info\">\n",
    "**Exercice** \n",
    "    \n",
    "Si $X$ et $Y$ suivent une loi normale $N(0,1)$ et sont indépendantes, quelle loi suit $\\frac{X+Y}{\\sqrt 2}$ ?\n",
    "\n",
    "</div>"
   ]
  },
  {
   "cell_type": "markdown",
   "metadata": {},
   "source": [
    "Rappelons que la densité de $X+Y$ est donnée par\n",
    "\n",
    "$$\n",
    "f_{X+Y}(z) = \\int_{-\\infty}^\\infty f_Y(z-x)f_X(x)\\,\\mathrm{d}x\n",
    "$$\n",
    "\n",
    "Si $X$ et $Y$ suivent une loi normale, on a alors que \n",
    "\n",
    "$$\n",
    "\\begin{align}\n",
    "f_{X+Y}(z) &=  \\frac{1}{\\sqrt{2\\pi}^2} \\int_{-\\infty}^\\infty e^{-(z-x)^2/2}e^{-x^2/2}\\,\\mathrm{d}x\\\\\n",
    "&=  \\frac{1}{\\sqrt{2\\pi}^2} \\int_{-\\infty}^\\infty e^{-\\frac{z^2+2x^2-2xz}{2}}\\,\\mathrm{d}x\n",
    "\\end{align}\n",
    "$$\n",
    "\n",
    "On veut écrire $z^2+2x^2-2xz$ sous la forme de $(ax^2-bz)+(cz)^2$. On trouve que \n",
    "\n",
    "$$\n",
    "    z^2+2x^2-2xz = \\left(\\sqrt 2x-\\frac{z}{\\sqrt 2}\\right)^2+\\left(\\frac{z}{\\sqrt{2}}\\right)^2\n",
    "$$\n",
    "\n",
    "Donc,\n",
    "\n",
    "$$\n",
    "\\begin{align}\n",
    "f_{X+Y}(z) &=  \\frac{1}{\\sqrt{2\\pi}}e^{-\\frac12\\left(\\frac{z}{\\sqrt{2}}\\right)^2} \\int_{-\\infty}^\\infty \\frac{1}{\\sqrt{2\\pi}}  e^{-\\frac12\\left(\\sqrt 2x-\\frac{z}{\\sqrt 2}\\right)^2}\\,\\mathrm dx\n",
    "\\end{align}\n",
    "$$\n",
    "\n",
    "On calcule l'intégrale\n",
    "\n",
    "$$\n",
    "\\begin{align}\n",
    "\\frac{1}{\\sqrt{2\\pi}} \\int_{-\\infty}^\\infty  e^{-\\frac12\\left(\\sqrt 2x-\\frac{z}{\\sqrt 2}\\right)^2}\\,\\mathrm dx &= \\frac{1}{\\sqrt{2\\pi}} \\int_{-\\infty}^\\infty  e^{-\\frac12\\left(\\sqrt 2x\\right)^2}\\,\\mathrm dx\\\\\n",
    "&= \\frac{1}{\\sqrt{2\\pi}} \\int_{-\\infty}^\\infty  e^{-\\frac{x^2}2}\\, \\frac{\\mathrm dx}{\\sqrt 2}\\\\\n",
    "&= \\frac{1}{\\sqrt{2}}\n",
    "\\end{align}\n",
    "$$\n",
    "\n",
    "En conclusion,\n",
    "\n",
    "$$\n",
    "f_{X+Y}(z) = \\frac{1}{\\sqrt{2}\\sqrt{2\\pi}}e^{-\\frac12\\left(\\frac{z}{\\sqrt{2}}\\right)^2}\n",
    "$$\n",
    "\n",
    "Donc $X+Y$ suit une loi normale $N(0,2)$ et $(X+Y)/\\sqrt{2}$ suit une loi normale $N(0,1)$.\n",
    "\n",
    "En général on a que si $X\\sim N(\\mu,\\sigma^2)$ et $Y\\sim(\\nu,\\tau^2)$, alors $X+Y\\sim N(\\mu+\\nu,\\sigma^2+\\tau^2)$."
   ]
  },
  {
   "cell_type": "markdown",
   "metadata": {},
   "source": [
    "## Exercice 5\n",
    "\n",
    "<div class=\"alert alert-info\">\n",
    "**Exercice** \n",
    "    \n",
    "On veut estimer la proportion $p$ de réponses positives lors d'un referendum. Pour cela on effectue un sondage sur $n$ personnes. On estime la proportion recherchée $p$, \n",
    "par la fréquence relative $F_n$ du nombre de réponses positives parmi $n$ personnes sondées. Déterminer le plus petit entier $n$ garantissant qu'un écart, entre la fréquence $F_n$  de l'échantillon choisi et $p$,\n",
    "supérieur à $\\alpha>0$, ne se produise qu'avec une probabilité inférieure à $0<\\beta<1$. \n",
    "En d'autres termes, on cherche la taille minimale $n$ d'un échantillon du sondage, garantissant un intervalle de confiance de longueur $2\\alpha$, avec probabilité $1-\\beta$.\n",
    "Traiter les cas particuliers suivants : $\\beta=0.05$, $\\alpha=0.01$ et $\\alpha=0.05$.\n",
    "\n",
    "__Indications.__ Soit $X_k$ une suite de v.a. indépendantes de même loi de Bernoulli $B(1,p)$, c'est-à-dire que pour tout $k$, on a $P(X_k=1)=p$ et $P(X_k=0)=q$ où $p+q=1$.\n",
    "Poser $F_n=\\frac{1}{n}\\sum_{k=1}^nX_k$. Appliquer le théorème limite central.\n",
    "\n",
    "</div>"
   ]
  },
  {
   "cell_type": "markdown",
   "metadata": {},
   "source": [
    "Pour appliquer le théorème central limite on a besoin d'espérance et variance de $X_k$. On a que $E[X] = p$ et $E[X^2] = p$ aussi, donc $\\mathrm{var}[X]=p-p^2$. Considérons la variable aléatoire centrée réduite\n",
    "\n",
    "$$\n",
    "\\widehat F_n = \\sqrt{n}\\frac{F_n-p}{\\sqrt{p-p^2}}\n",
    "$$\n",
    "\n",
    "Par théorème central limite on a que \n",
    "\n",
    "$$\n",
    "    \\lim_{n\\to \\infty} P(-x\\leq \\widehat F_n\\leq x) = \\frac{1}{\\sqrt{2\\pi}}\\int_{-x}^x e^{-t^2/2}\\,\\mathrm dt=2\\Phi(x)-1\n",
    "$$\n",
    "\n",
    "La dernière égalité est par exercice 10.2. \n",
    "En supprimant la limite on trouve l'estimation\n",
    "\n",
    "$$\n",
    "P(-x\\leq \\widehat F_n\\leq x)\\approx 2\\Phi(x)-1\n",
    "$$\n",
    "\n",
    "En remplaçant $\\widehat F_n$ par sa définition on a que\n",
    "\n",
    "$$\n",
    "    P\\left(\\left|\\sqrt{n}\\frac{F_n-p}{\\sqrt{p-p^2}}\\right|\\leq x\\right)\\approx 2\\Phi(x)-1\n",
    "$$\n",
    "\n",
    "Donc,\n",
    "\n",
    "$$\n",
    "    P\\left(\\left|F_n-p\\right|\\leq \\frac{x\\sqrt{p-p^2}}{\\sqrt{n}}\\right)\\approx 2\\Phi(x)-1\n",
    "$$\n",
    "\n",
    "Ici $\\frac{x\\sqrt{p-p^2}}{\\sqrt{n}} = \\alpha$ et on cherche le plus petit $n$ telle que \n",
    "\n",
    "$$\n",
    "2\\Phi\\left(\\frac{\\sqrt n}{\\sqrt{p-p^2}}\\alpha\\right)-1 \\geq 1-\\beta\n",
    "$$\n",
    "\n",
    "donc\n",
    "\n",
    "$$\n",
    "\\Phi\\left(\\frac{\\sqrt n}{\\sqrt{p-p^2}}\\alpha\\right) \\geq \\frac{2-\\beta}2\n",
    "$$\n",
    "\n",
    "Comme $\\Phi$ est monotone,\n",
    "\n",
    "$$\n",
    "\\frac{\\sqrt n}{\\sqrt{p-p^2}}\\alpha \\geq \\Phi^{-1}\\left(\\frac{2-\\beta}{2}\\right)\n",
    "$$\n",
    "\n",
    "et donc\n",
    "\n",
    "$$\n",
    "n =  \\left\\lceil\\frac{(p-p^2)}{\\alpha^2}\\Phi^{-1}\\left(\\frac{2-\\beta}{2}\\right)^2\\right\\rceil \\leq\\left\\lceil\\frac{1}{4\\alpha^2}\\Phi^{-1}\\left(\\frac{2-\\beta}{2}\\right)^2\\right\\rceil\n",
    "$$\n",
    "\n",
    "car $p-p^2\\leq 1/4$.\n",
    "\n",
    "On peut calculer ce $n$ avec code simple de python. On peut calculer $\\Phi$ avec `scipy.stats.norm.cdf` et $\\Phi^{-1}$ avec `scipy.stats.norm.ppf`. "
   ]
  },
  {
   "cell_type": "code",
   "execution_count": 44,
   "metadata": {},
   "outputs": [
    {
     "name": "stdout",
     "output_type": "stream",
     "text": [
      "alpha = 0.05, beta = 0.05, n = 385\n",
      "alpha = 0.01, beta = 0.05, n = 9604\n"
     ]
    }
   ],
   "source": [
    "from scipy.stats import norm\n",
    "import numpy as np\n",
    "\n",
    "def n_sondage(alpha, beta, p=0.5):\n",
    "    return np.ceil((p-p**2)/alpha**2 * norm.ppf((2-beta)/2)**2).astype(int)\n",
    "\n",
    "print(\"alpha = 0.05, beta = 0.05, n =\", n_sondage(0.05, 0.05))\n",
    "print(\"alpha = 0.01, beta = 0.05, n =\", n_sondage(0.01, 0.05))"
   ]
  },
  {
   "cell_type": "markdown",
   "metadata": {},
   "source": [
    "On peut aussi voir l'effet de $p$. Si on prend $\\alpha=0.05,\\beta=0.05$ on peut tracer $n$ comme fonction de $p$:"
   ]
  },
  {
   "cell_type": "code",
   "execution_count": 45,
   "metadata": {},
   "outputs": [
    {
     "data": {
      "image/png": "[encoded data removed]",
      "text/plain": [
       "<Figure size 432x288 with 1 Axes>"
      ]
     },
     "metadata": {
      "needs_background": "light"
     },
     "output_type": "display_data"
    }
   ],
   "source": [
    "import matplotlib.pyplot as plt\n",
    "\n",
    "p = np.linspace(0,1,100)\n",
    "plt.plot(p, n_sondage(0.05,0.05,p))\n",
    "plt.xlabel('p')\n",
    "plt.ylabel('n');"
   ]
  },
  {
   "cell_type": "markdown",
   "metadata": {},
   "source": [
    "On peut aussi calculer la valeur exacte de $n$ avec un modèle binomiale. On trouve un résultat très similaire."
   ]
  },
  {
   "cell_type": "code",
   "execution_count": 97,
   "metadata": {},
   "outputs": [
    {
     "name": "stdout",
     "output_type": "stream",
     "text": [
      "alpha = 0.05, beta = 0.05, n = 371\n",
      "alpha = 0.01, beta = 0.05, n = 9551\n"
     ]
    }
   ],
   "source": [
    "from scipy.stats import binom\n",
    "\n",
    "def n_sondage_exact(alpha, beta, p=0.5):\n",
    "    # On devez calculer P(|F_n|<s)=1-beta pour beacoup n\n",
    "    # on utilise la resultat approximative reduire le nombre de candidats\n",
    "    n_approx = n_sondage(alpha,beta,p)\n",
    "    n_approx = max(1,n_approx) \n",
    "    n=np.arange(n_approx*0.9,n_approx*1.1,dtype=int)\n",
    "    \n",
    "    # intervalles de 1-beta\n",
    "    i1,i2 = binom.interval(1-beta,n,p)\n",
    "    \n",
    "    # s t.q. P(|F_n|<s)=1-beta\n",
    "    max_dev = np.max(np.stack([(p*n-i1)/n,(i2-p*n)/n]),axis=0)\n",
    "    \n",
    "    # le resultat et le n minimale t.q. P(|F_n|<alpha)>=1-beta\n",
    "    return n[np.argmax(max_dev<alpha)]\n",
    "\n",
    "print(\"alpha = 0.05, beta = 0.05, n =\", n_sondage_exact(0.05, 0.05))\n",
    "print(\"alpha = 0.01, beta = 0.05, n =\", n_sondage_exact(0.01, 0.05))"
   ]
  },
  {
   "cell_type": "markdown",
   "metadata": {},
   "source": [
    "## Exercice 6\n",
    "\n",
    "<div class=\"alert alert-info\">\n",
    "**Exercice** (Jeu de la roulette et théorème limite central)\n",
    "    \n",
    "Pour un casino, la probabilité de gagner une partie à la roulette est de $19/37$.\n",
    "Supposons que la mise d'un joueur à une partie est d'un écu. Quel est le nombre minimal $n_0$ de parties qui doivent être jouées journellement pour que le casino gagne \n",
    " au moins $1000$ écus par jour, avec avec probabilité $0,5$ ? Quelle est la probabilité d'une perte globale pour le casino sur ces $n_0$  parties ?\n",
    "\n",
    "Suggestion. Considérer une suite  $X_n$  de variables aléatoires indépendantes de même loi\n",
    "\n",
    "$$\n",
    "P(X_1=-1)=18/37,\\, P(X_1=1)=19/37.\n",
    "$$\n",
    "\n",
    "La variable $X_n$ représente le gain algébrique du casino correspondant à la partie $n$. Le gain algébrique global du casino au cours de $n$ parties est alors $S_n=X_1+\\cdots+X_n$.\n",
    "Calculer l'espérance et la variance de $X_1$ et appliquer le théorème limite central.\n",
    "\n",
    "</div>"
   ]
  },
  {
   "cell_type": "markdown",
   "metadata": {},
   "source": [
    "L'espérence est \n",
    "\n",
    "$$\n",
    "    \\mathbb E[X] = \\frac{19}{37}-\\frac{18}{37} = \\frac{1}{37}\n",
    "$$\n",
    "\n",
    "Le variable $X^2=1$ est constante, donc $\\mathbb E[X^2]=1$, et la variance de $X$ est\n",
    "\n",
    "$$\n",
    "    \\operatorname{var}(X) = 1-\\frac{1}{37^2}\n",
    "$$\n",
    "\n",
    "Nous sommes intéressés par le $n$ minimal tel que\n",
    "\n",
    "$$\n",
    "    P(S_n \\geq 1000)\\geq 0.5\n",
    "$$\n",
    "\n",
    "Par théorème central limite on a que \n",
    "\n",
    "$$\n",
    "    P\\left(\\frac{S_n-n\\mu}{\\sqrt{n}\\sigma} \\geq x\\right) = 1-\\Phi(x)= \\frac{1}{2\\pi}\\int_{x}^\\infty e^{-t^2/2}\\,\\mathrm dt\n",
    "$$\n",
    "\n",
    "Notons que $1-\\Phi(x)=0.5$ si $x = 0$. Notons aussi que \n",
    "\n",
    "$$\n",
    " P\\left(\\frac{S_n-n\\mu}{\\sqrt{n}\\sigma} \\geq x\\right) =  P\\left(S_n \\geq x\\sqrt{n}\\sigma +n\\mu\\right) \n",
    "$$\n",
    "\n",
    "On prend donc $x=0$ et on doit résoudre $n\\mu = 1000$, et alors $n = 37000$.\n",
    "\n",
    "On peut aussi calculer la valeur exacte de $n$ sans utilisation du théorème central limite. Notons que $T_n = (S_n+n)/2$ a une loi binomiale $T_n\\sim \\mathrm{Bin}(n,p)$ avec $p=19/37$. Donc on peut aussi trouver le $n$ minimal tel que $P(T_n>(n+1000/2)\\geq 0.5$. On peut calculer la probabilité $P(T_n<x)$ en utilisant `scipy.stats.binom.cdf`."
   ]
  },
  {
   "cell_type": "code",
   "execution_count": 111,
   "metadata": {},
   "outputs": [
    {
     "name": "stdout",
     "output_type": "stream",
     "text": [
      "n minimale: 37001\n"
     ]
    }
   ],
   "source": [
    "from scipy.stats import binom\n",
    "\n",
    "p = 19/37\n",
    "n = np.arange(36000,38000)\n",
    "\n",
    "gain = 1000\n",
    "proba = binom.cdf((n+gain)/2,n,p)\n",
    "print(\"n minimale:\", n[np.argmax(proba<=0.5)])"
   ]
  }
 ],
 "metadata": {
  "kernelspec": {
   "display_name": "Python 3",
   "language": "python",
   "name": "python3"
  },
  "language_info": {
   "codemirror_mode": {
    "name": "ipython",
    "version": 3
   },
   "file_extension": ".py",
   "mimetype": "text/x-python",
   "name": "python",
   "nbconvert_exporter": "python",
   "pygments_lexer": "ipython3",
   "version": "3.8.3"
  }
 },
 "nbformat": 4,
 "nbformat_minor": 4
}
