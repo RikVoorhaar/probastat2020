{
 "cells": [
  {
   "cell_type": "markdown",
   "metadata": {},
   "source": [
    "[![Open in Colab](https://colab.research.google.com/assets/colab-badge.svg)](https://colab.research.google.com/github/RikVoorhaar/probastat2020/blob/master/notebooks/serie10.ipynb?hl=fr)\n",
    "\n",
    "# Série 10"
   ]
  },
  {
   "cell_type": "markdown",
   "metadata": {},
   "source": [
    "## Exercice 1\n",
    "\n",
    "<div class=\"alert alert-info\">\n",
    "**Exercice** \n",
    "\n",
    "Soient $X$ et $Y$ des variables aléatoires à valeurs réelles définie sur un espace probabilisé $(\\Omega,\\mathcal A,\\mathbb P)$. Soit $\\mu\\in\\mathbb R$.\n",
    "Supposons que $X$ et $Y$ sont indépendantes si et seulement si $X$ et $Y+\\mu$ le sont.\n",
    "    \n",
    "</div>"
   ]
  },
  {
   "cell_type": "markdown",
   "metadata": {},
   "source": [
    "## Exercice 2\n",
    "\n",
    "<div class=\"alert alert-info\">\n",
    "**Exercice** \n",
    "\n",
    "On définit $\\Phi:\\mathbb R\\to]0,1[$ par la formule\n",
    "\n",
    "$$\n",
    "\\Phi(x)=\\frac{1}{\\sqrt{2\\pi}}\\int_{-\\infty}^xe^{\\frac{-t^2}{2}}\\,\\mathrm{d}t.\n",
    "$$\n",
    "\n",
    "En d'autres termes, $\\Phi$ est la fonction de répartition $F_X$ d'une variable aléatoire $X$ qui suit une loi normale de moyenne $\\mu=0$ et de d'écart-type $\\sigma=1$ :\n",
    "\n",
    "$$\n",
    "\\mathbb P(X\\leq x)=F_X(x)=\\Phi(x).\n",
    "$$\n",
    "\n",
    "On note dans ce cas $X\\sim N(0,1)$.\n",
    "Prouver que pour tout $x\\geq 0$,\n",
    "\n",
    "$$\n",
    "\\frac{1}{\\sqrt{2\\pi}}\\int_{-x}^xe^{\\frac{-t^2}{2}}\\,\\mathrm{d}t=2\\Phi(x)-1.\n",
    "$$\n",
    "    \n",
    "</div>"
   ]
  },
  {
   "cell_type": "markdown",
   "metadata": {},
   "source": [
    "## Exercice 3\n",
    "\n",
    "<div class=\"alert alert-info\">\n",
    "**Exercice** \n",
    "\n",
    "Calculer les moments de la loi normale. C'est-à-dire, si $X\\sim N(0,1)$, calculer $\\mathbb{E}[X^k]$ pour $k=1,2,3$ (et plus si vous voulez).\n",
    "    \n",
    "</div>"
   ]
  },
  {
   "cell_type": "markdown",
   "metadata": {},
   "source": [
    "## Exercice 4\n",
    "\n",
    "<div class=\"alert alert-info\">\n",
    "**Exercice** \n",
    "    \n",
    "Si $X$ et $Y$ suivent une loi normale $N(0,1)$ et sont indépendantes, quelle loi suit $\\frac{X+Y}{\\sqrt 2}$ ?\n",
    "\n",
    "</div>"
   ]
  },
  {
   "cell_type": "markdown",
   "metadata": {},
   "source": [
    "## Exercice 5\n",
    "\n",
    "<div class=\"alert alert-info\">\n",
    "**Exercice** \n",
    "    \n",
    "On veut estimer la proportion $p$ de réponses positives lors d'un referendum. Pour cela on effectue un sondage sur $n$ personnes. On estime la proportion recherchée $p$, \n",
    "par la fréquence relative $F_n$ du nombre de réponses positives parmi $n$ personnes sondées. Déterminer le plus petit entier $n$ garantissant qu'un écart, entre la fréquence $F_n$  de l'échantillon choisi et $p$,\n",
    "supérieur à $\\alpha>0$, ne se produise qu'avec une probabilité inférieure à $0<\\beta<1$. \n",
    "En d'autres termes, on cherche la taille minimale $n$ d'un échantillon du sondage, garantissant un intervalle de confiance de longueur $2\\alpha$, avec probabilité $1-\\beta$.\n",
    "Traiter les cas particuliers suivants : $\\beta=0.05$, $\\alpha=0.01$ et $\\alpha=0.05$.\n",
    "\n",
    "__Indications.__ Soit $X_k$ une suite de v.a. indépendantes de même loi de Bernoulli $B(1,p)$, c'est-à-dire que pour tout $k$, on a $P(X_k=1)=p$ et $P(X_k=0)=q$ où $p+q=1$.\n",
    "Poser $F_n=\\frac{1}{n}\\sum_{k=1}^nX_k$. Appliquer le théorème limite central.\n",
    "\n",
    "</div>"
   ]
  },
  {
   "cell_type": "markdown",
   "metadata": {},
   "source": [
    "## Exercice 6\n",
    "\n",
    "<div class=\"alert alert-info\">\n",
    "**Exercice** (Jeu de la roulette et théorème limite central)\n",
    "    \n",
    "Pour un casino, la probabilité de gagner une partie à la roulette est de $19/37$.\n",
    "Supposons que la mise d'un joueur à une partie est d'un écu. Quel est le nombre minimal $n_0$ de parties qui doivent être jouées journellement pour que le casino gagne \n",
    " au moins $1000$ écus par jour, avec avec probabilité $0,5$ ? Quelle est la probabilité d'une perte globale pour le casino sur ces $n_0$  parties ?\n",
    "\n",
    "Suggestion. Considérer une suite  $X_n$  de variables aléatoires indépendantes de même loi\n",
    "\n",
    "$$\n",
    "P(X_1=-1)=18/37,\\, P(X_1=1)=19/37.\n",
    "$$\n",
    "\n",
    "La variable $X_n$ représente le gain algébrique du casino correspondant à la partie $n$. Le gain algébrique global du casino au cours de $n$ parties est alors $S_n=X_1+\\cdots+X_n$.\n",
    "Calculer l'espérance et la variance de $X_1$ et appliquer le théorème limite central.\n",
    "\n",
    "</div>"
   ]
  }
 ],
 "metadata": {
  "kernelspec": {
   "display_name": "Python 3",
   "language": "python",
   "name": "python3"
  },
  "language_info": {
   "codemirror_mode": {
    "name": "ipython",
    "version": 3
   },
   "file_extension": ".py",
   "mimetype": "text/x-python",
   "name": "python",
   "nbconvert_exporter": "python",
   "pygments_lexer": "ipython3",
   "version": "3.7.4"
  }
 },
 "nbformat": 4,
 "nbformat_minor": 4
}
