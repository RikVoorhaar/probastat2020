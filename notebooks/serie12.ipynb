{
 "cells": [
  {
   "cell_type": "markdown",
   "metadata": {},
   "source": [
    "[![Open in Colab](https://colab.research.google.com/assets/colab-badge.svg)](https://colab.research.google.com/github/RikVoorhaar/probastat2020/blob/master/notebooks/serie12.ipynb?hl=fr)\n",
    "\n",
    "# Série 12"
   ]
  },
  {
   "cell_type": "markdown",
   "metadata": {},
   "source": [
    "## Exercice 1\n",
    "\n",
    "<div class=\"alert alert-info\">\n",
    "**Exercice** (Produit de matrices stochastiques.) \n",
    "\n",
    "Soit $P$ et $Q$ des matrices stochastiques sur un ensemble dénombrable $E$. On définit le produit de $P$ avec $Q$\n",
    "\n",
    "$$\n",
    "PQ=(PQ(x,z))_{(x,z)\\in  E\\times E}\n",
    "$$\n",
    "\n",
    "par la formule\n",
    "\n",
    "$$\n",
    "PQ(x,z)=\\sum_{y\\in E} P(x,y)Q(y,z).\n",
    "$$\n",
    "\n",
    "Prouver que $PQ$ est une matrice stochastique.\n",
    "    \n",
    "</div>"
   ]
  },
  {
   "cell_type": "markdown",
   "metadata": {},
   "source": [
    "Rappelons que $P$ est stochastique si et seulement si $\\sum_{y\\in E}P(x,y)=1$. Nous calculons,\n",
    "\n",
    "$$\n",
    "\\begin{align}\n",
    "\\sum_{z\\in E}PQ(x,z) &= \\sum_{z\\in E}\\sum_{y\\in E}P(x,y)Q(y,z)\\\\\n",
    "&= \\sum_{y\\in E}\\sum_{z\\in E}P(x,y)Q(y,z)\\\\\n",
    "&= \\sum_{y\\in E}P(x,y)\\\\\n",
    "&=1\n",
    "\\end{align}\n",
    "$$\n",
    "\n",
    "Et donc $PQ$ est aussi stochastique. On a pu changer l'ordre de sommation parce que $E$ est dénombrable et la somme converge absolument. "
   ]
  },
  {
   "cell_type": "markdown",
   "metadata": {},
   "source": [
    "## Exercice 2\n",
    "\n",
    "<div class=\"alert alert-info\">\n",
    "**Exercice** (Mesure invariante.)\n",
    "    \n",
    "Soit $P$ et $Q$ des matrices stochastiques sur un ensemble dénombrable $E$. Soit $m$ une mesure sur $E$ invariante par $P$ et $Q$.\n",
    "Prouver que $m$ est invariante par $PQ$.\n",
    "    \n",
    "</div>"
   ]
  },
  {
   "cell_type": "markdown",
   "metadata": {},
   "source": [
    "Rappelons que $m$ est invariant par $P$ si et seulement si $mP=m$. Alors, $mPQ = mQ=m$, et $m$ est invariant par $PQ$."
   ]
  },
  {
   "cell_type": "markdown",
   "metadata": {},
   "source": [
    "## Exercice 3\n",
    "\n",
    "<div class=\"alert alert-info\">\n",
    "**Exercice** (Un système non-réversible.) \n",
    "    \n",
    "Soit $E$ un ensemble dénombrable ou fini, soit $P$ une matrice stochastique sur $E$. Supposons $P$  irréductible. Supposons que $m$ est une mesure invariante qui n'est pas identiquement nulle. \n",
    "    \n",
    "</div>"
   ]
  },
  {
   "cell_type": "markdown",
   "metadata": {},
   "source": [
    "### Exercice 3a)\n",
    "\n",
    "<div class=\"alert alert-info\">\n",
    "**Exercice** \n",
    "    \n",
    "Prouver que $m$  est $P$-réversible si et seulement si $P=\\hat{P}$.\n",
    "Indication : c'est évident.\n",
    "    \n",
    "</div>\n",
    "\n",
    "Rappelons que $m$ est $P$-réversible si et seulement si $m(x)P(x,y) = m(y)P(y,x)$, et rappelons que $\\hat P$ est défini par $m(y)\\hat P(y,x)=m(x)P(x,y)$. Si $\\hat P=P$ alors on a que $m$ est $P$-réversible.\n",
    "\n",
    "Si $m$ est $P$-réversible on a que $\\forall x,y$ \n",
    "\n",
    "$$\n",
    "m(y)P(y,x) = m(x)P(x,y) = m(y)\\hat P(y,x)\n",
    "$$\n",
    "\n",
    "Comme $P$ est irréductible on sait que $\\forall y$, $m(y)>0$ (Proposition 15.9), et donc $P(y,x)=\\hat P(y,x)$.\n",
    "\n",
    "On conclut que $P=\\hat P$ si et seulement si $m$ est $P$-réversible."
   ]
  },
  {
   "cell_type": "markdown",
   "metadata": {},
   "source": [
    "### Exercice 3b)\n",
    "\n",
    "<div class=\"alert alert-info\">\n",
    "**Exercice** \n",
    "    \n",
    "Prouver que $\\hat{P}$ est irréductible.\n",
    "    \n",
    "</div>"
   ]
  },
  {
   "cell_type": "markdown",
   "metadata": {},
   "source": [
    " C'est évident en terme des graphes de $P$ et $\\hat{P}$ : puisque $P$ est irréductible on peut passer de $y$ à $x$ selon $P$, donc par définition de $\\hat{P}$, on peut suivre le même chemin à l'envers pour passer de $x$ à $y$ selon $\\hat{P}$.\n",
    " \n",
    " Plus concrétement, on doit montrer que pour chaque $x,y$ il existe un $n$ tel que $\\hat P(x,y)^n>0$. Comme $m(x)>0$, $\\forall x$ on a que \n",
    "\n",
    "$$\n",
    "\\hat P(x,y)^n = \\frac{\\left(m(x)\\hat P(x,y)\\right)^n}{m(x)^n} = \\frac{\\left(m(y) P(y,x)\\right)^n}{m(x)^n}\n",
    "$$\n",
    "\n",
    "Car $P$ est irréductible il existe un $n$ tel que $P(y,x)^n>0$, est donc $\\hat P(x,y)^n>0$ pour cet $n$ aussi. On conclut que $\\hat P$ est irréductible."
   ]
  },
  {
   "cell_type": "markdown",
   "metadata": {},
   "source": [
    "### Exercice 3c)\n",
    "\n",
    "<div class=\"alert alert-info\">\n",
    "**Exercice** \n",
    "    \n",
    "Soit $E=\\{1;2;3\\}$. On considère la matrice stochastique\n",
    "\n",
    "$$\n",
    "P=\\left(\\begin{array}{cccc}\n",
    "0&2/3&1/3\\\\\n",
    "1/3&0&2/3\\\\\n",
    "2/3&1/3&0\\\\\n",
    "\\end{array}\\right).\n",
    "$$\n",
    "    \n",
    "Dessiner le graphe de $P$ en orientant chaque arête et en indiquant son poids. Déterminer l'unique mesure de probabilité $m$ sur $E$ qui est $P$-invariante. Est-ce que $m$ est $P$-réversible ?\n",
    "    \n",
    "    \n",
    "</div>\n",
    "\n",
    "Si on échange deux arrêtes, le graphe reste invariant, alors une mesure $P$-invariante doit être symmétrique dans ses entrées et donc $m=(1/3,1/3,1/3)$. On voit que bien \n",
    "\n",
    "$$\n",
    "mP = \\left(\\frac13,\\frac13,\\frac13\\right)\\left(\\begin{array}{cccc}\n",
    "0&2/3&1/3\\\\\n",
    "1/3&0&2/3\\\\\n",
    "2/3&1/3&0\\\\\n",
    "\\end{array}\\right)=\\left(\\frac13,\\frac13,\\frac13\\right)\n",
    "$$\n",
    "\n",
    "Si $m$ est $P$-réversible on a que \n",
    "\n",
    "$$\n",
    "m(x)P(x,y)=m(y)P(y,x)\n",
    "$$\n",
    "\n",
    "Comme $m(x)=1/3$, $\\forall x$ ce signifie que $P(x,y)=P(y,x)$, qui est faux. Donc $m$ n'est pas $P$-réversible.\n",
    "\n",
    "On peut dessiner le graphe de $P$ en utilisant la librarie `networkx`."
   ]
  },
  {
   "cell_type": "code",
   "execution_count": 44,
   "metadata": {},
   "outputs": [
    {
     "data": {
      "image/png": "[encoded data removed]",
      "text/plain": [
       "<Figure size 432x288 with 1 Axes>"
      ]
     },
     "metadata": {},
     "output_type": "display_data"
    }
   ],
   "source": [
    "import networkx as nx\n",
    "import matplotlib.pyplot as plt\n",
    "\n",
    "P = [[0,2/3,1/3],[1/3,0,2/3],[2/3,1/3,0]]\n",
    "G = nx.MultiDiGraph()\n",
    "edge_labels = dict()\n",
    "for i in range(3):\n",
    "    for j in range(3):\n",
    "        if P[i][j]>0:\n",
    "            G.add_edge(i,j,rad=0.4)\n",
    "            edge_labels[(i,j)]=f\"{P[i][j]:.3f}\"\n",
    "pos = nx.spring_layout(G)\n",
    "\n",
    "plt.figure()\n",
    "nx.draw_networkx_nodes(G, pos)\n",
    "nx.draw_networkx_labels(G, pos)\n",
    "nx.draw_networkx_edges(G,pos,connectionstyle=f'arc3, rad =0.2',arrowsize=30)\n",
    "nx.draw_networkx_edge_labels(G,pos,edge_labels,label_pos=0.8);"
   ]
  }
 ],
 "metadata": {
  "kernelspec": {
   "display_name": "Python 3",
   "language": "python",
   "name": "python3"
  },
  "language_info": {
   "codemirror_mode": {
    "name": "ipython",
    "version": 3
   },
   "file_extension": ".py",
   "mimetype": "text/x-python",
   "name": "python",
   "nbconvert_exporter": "python",
   "pygments_lexer": "ipython3",
   "version": "3.7.4"
  }
 },
 "nbformat": 4,
 "nbformat_minor": 4
}
