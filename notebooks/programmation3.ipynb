{
 "cells": [
  {
   "cell_type": "markdown",
   "metadata": {},
   "source": [
    "[![Open in Colab](https://colab.research.google.com/assets/colab-badge.svg)](https://colab.research.google.com/github/RikVoorhaar/probastat2020/blob/master/notebooks/programmation3.ipynb?hl=fr)"
   ]
  },
  {
   "cell_type": "markdown",
   "metadata": {},
   "source": [
    "# Série de programmation 3"
   ]
  },
  {
   "cell_type": "code",
   "execution_count": 1,
   "metadata": {},
   "outputs": [],
   "source": [
    "import pandas as pd\n",
    "import numpy as np\n",
    "import scipy\n",
    "import scipy.stats\n",
    "import matplotlib.pyplot as plt\n",
    "import datetime"
   ]
  },
  {
   "cell_type": "markdown",
   "metadata": {},
   "source": [
    "## Partie 1: Inférence bayésienne"
   ]
  },
  {
   "cell_type": "markdown",
   "metadata": {},
   "source": [
    "Dans ce partie on analysera la question suivante\n",
    "\n",
    "> On a fait un sondage non-biaisé de 200 personnes pour estimer l'opinion d'une population. Nous avons reçu 95 réponses positives et 105 réponses négatives. Quelle est la probabilité que l'opinion de la population est plus souvent négative ou positive?\n",
    "\n",
    "Soit $Q$ la variable aléatoire à valeurs $[0,1]$ qui décrit la proportion de population avec une opinion positive. Soit $N_1$, $N_2$  le nombre de personnes qui ont données une opinion négative respectivement positive au sondage. On peut modeler $P(N_1=n_1 | Q=q)$ comme une loi binomiale avec $N=N_1+N_2$ répetitions et probabilité $q$ de succès. On définit la vraisemblance $L(q)$ de $Q$ par \n",
    "\n",
    "$$\n",
    "    L(q) = P(N_1=n_1 | Q=q)=\\binom{N}{n_1}q^{n_1}(1-q)^{N-n_1}\n",
    "$$\n",
    "\n",
    "c'est-à-dire, la vraisemblance de paramètre $q$ est donnée par la probabilité d'observer nos données sachant que $q$ prend une valeur particulière. \n",
    "\n",
    "On veut utiliser $L(q)$ pour modeler une densité de probabilité pour $Q$. Notons que $L(q)$ n'est pas une densité de probabilité parce que $\\int_0^1\\!L(q)\\,\\mathrm dq\\neq 1$, mais si cette intégrale est finie on peut normaliser $L(q)$ pour qu'elle soit une densité de probabilité. C'est-à-dire, définissons :\n",
    "\n",
    "$$\n",
    "    f_Q(q) = L(q) \\left(\\int^0_1\\!L(q)\\,\\mathrm dq\\right)^{-1}\n",
    "$$\n",
    "\n",
    "et nous modélisons\n",
    "\n",
    "$$\n",
    "P(Q\\leq q) = \\int_{0}^q\\! f_Q(x)\\,\\mathrm dx\n",
    "$$"
   ]
  },
  {
   "cell_type": "markdown",
   "metadata": {},
   "source": [
    "_____\n",
    "> __Exercice 1a)__  \n",
    "> Écrire une fonction `vraisemblance(q,N1,N)` qui donne une liste / array des vraisemblances $L(q)$ sachant que `N1` personnes ont données une réponse positive dans le sondage parmi `N` personnes. Ici le paramètre `q` est une array, et `N1` et `N` sont scalaires.\n",
    ">\n",
    "> _Suggestion:_ Utiliser `scipy.stats.binom.pmf(k, n, p)` pour calculer la densité de loi binomiale. Alternativement, utiliser `scipy.special.binom(n, k)` pour calculer des coefficients binomiaux. Notons que ces fonctions marchent aussi si ses arguments sont des arrays.  \n",
    "\n",
    "_____"
   ]
  },
  {
   "cell_type": "code",
   "execution_count": null,
   "metadata": {
    "deletable": false,
    "nbgrader": {
     "cell_type": "code",
     "checksum": "3ce0ea89f80d93d606e28c3a3e57011e",
     "grade": false,
     "grade_id": "cell-bce1bc3d58d7a3e9",
     "locked": false,
     "schema_version": 3,
     "solution": true,
     "task": false
    }
   },
   "outputs": [],
   "source": [
    "def vraisemblance(q,N1,N):\n",
    "    # INSÉREZ VOTRE CODE ICI\n",
    "    "
   ]
  },
  {
   "cell_type": "code",
   "execution_count": null,
   "metadata": {},
   "outputs": [],
   "source": [
    "q = np.linspace(0,1,100)\n",
    "plt.plot(q,vraisemblance(q,95,200));"
   ]
  },
  {
   "cell_type": "code",
   "execution_count": null,
   "metadata": {
    "deletable": false,
    "editable": false,
    "nbgrader": {
     "cell_type": "code",
     "checksum": "e595450f6a63fc4981944b6d2616a2bd",
     "grade": true,
     "grade_id": "cell-3d7845897b78c08b",
     "locked": true,
     "points": 0,
     "schema_version": 3,
     "solution": false,
     "task": false
    }
   },
   "outputs": [],
   "source": [
    "# TESTS AUTOMATIQUES\n",
    "\n",
    "x = vraisemblance(np.linspace(0,1,10),10,20)\n",
    "assert len(x) == 10, \"La resultat doit être la même taille que la paramètre `q`\"\n",
    "assert x[0]==0, \"La vraisemblence de q=0 doit être 0 si N1!=0\"\n",
    "assert abs(np.sum(x)-0.4285)<0.01, \"Verifier la resultat\"\n",
    "x = vraisemblance(np.linspace(0,1,5),0,10)\n",
    "assert len(x) == 5, \"La resultat doit être la même taille que la paramètre `q`\"\n",
    "assert x[0]==1, \"Si N1=0, la vraisemblence de q=0 doit être 1\"\n",
    "assert x[-1]==0, \"Si N1=0, la vraisemblence de q=1 doit être 0\"\n",
    "assert abs(np.sum(x)-1.05729)<0.01, \"Verifier la resultat\" "
   ]
  },
  {
   "cell_type": "markdown",
   "metadata": {},
   "source": [
    "_____\n",
    "> __Exercice 1b)__  \n",
    "> Écrire une fonction `probabilite_positive(N1,N)` qui estime la probabilité $P(Q>0.5)$ que le paramètre $q$ est plus grand que $0.5$ sachant `N1` réponses positives parmi `N` réponses en totale.\n",
    "> \n",
    "> _Indications:_  \n",
    ">\n",
    "> - Calculer la vraisemblance $L(q)$ pour 1000 valeurs de $q$ entre 0 et 1.  \n",
    "> - Normaliser l'array des vraisemblances en divisant par la somme de l'array.  \n",
    "> - Calculer la somme des éléments qui correspond à $q>0.5$.  \n",
    "\n",
    "_____"
   ]
  },
  {
   "cell_type": "code",
   "execution_count": null,
   "metadata": {
    "deletable": false,
    "nbgrader": {
     "cell_type": "code",
     "checksum": "983fd4aa430c725c83cb16ccb10dd7a9",
     "grade": false,
     "grade_id": "cell-122210a7d9aee904",
     "locked": false,
     "schema_version": 3,
     "solution": true,
     "task": false
    }
   },
   "outputs": [],
   "source": [
    "def probabilite_positive(N1,N):\n",
    "    # INSÉREZ VOTRE CODE ICI\n",
    "    \n",
    "\n",
    "print(f'Probabilité que Q>0.5: {probabilite_positive(95,200):.4f}')"
   ]
  },
  {
   "cell_type": "code",
   "execution_count": null,
   "metadata": {
    "deletable": false,
    "editable": false,
    "nbgrader": {
     "cell_type": "code",
     "checksum": "fbddb44875325fc294ff3cc042d0d93c",
     "grade": true,
     "grade_id": "cell-66fe6c02199a28e6",
     "locked": true,
     "points": 0,
     "schema_version": 3,
     "solution": false,
     "task": false
    }
   },
   "outputs": [],
   "source": [
    "# TESTS AUTOMATIQUES\n",
    "\n",
    "p = probabilite_positive(95,200)\n",
    "assert isinstance(p,float), \"Le resultat n'est pas un nombre\"\n",
    "assert (p>=0) and (p<=1), \"Le resultat doit être une probabilité\"\n",
    "assert abs(p-0.2403) < 0.01, \"La resultat n'est pas correcte\"\n",
    "if abs(p-0.7597) < 0.01:\n",
    "    raise AssertionError(\"Vous avez calculé P(Q<0.5) et pas P(Q>0.5)\")\n",
    "p = probabilite_positive(0,100)\n",
    "assert (p>=0) and (p<=1), \"Le resultat doit être une probabilité\"\n",
    "assert p < 1e-14, \"Si N1=0 la probabilité P(Q>0.5) doit être très petit\"\n",
    "p = probabilite_positive(10,20)\n",
    "assert abs(p-0.5)<1e-5, \"Si N1 = N/2 on a que P(Q>0.5) = 0.5\""
   ]
  },
  {
   "cell_type": "markdown",
   "metadata": {},
   "source": [
    "De la même manière on peut calculer la probabilité $P(Q>0.5)$ avec la théorème de Bayes. On a que :\n",
    "\n",
    "$$\n",
    "    P(Q\\leq q | N_1=n_1,N_2=n_2) = \\frac{P(N_1=n_1,N_2=n_2|Q\\leq q)P(Q\\leq q)}{P(N_1=n_1,N_2=n_2)}\n",
    "$$\n",
    "\n",
    "\n",
    "Tous les termes dans cette expression ont des noms:\n",
    "\n",
    "- $P(Q\\leq q | N_1=n_1,N_2=n_2)$ est la probabilité postérieure\n",
    "- $P(N_1=n_1,N_2=n_2|Q\\leq q)$ est la vraisemblance\n",
    "- $P(Q\\leq q)$ est la probabilité a priori\n",
    "- $P(N_1=n_1,N_2=n_2)$ est la probabilité a priori des données\n",
    "\n",
    "Dans l'inférence bayésienne la probabilité a priori joue un rôle important. Il encode tous les information préalable. Pour les variables comme $Q$ qui représentent une probabilité ou proportion, on utile souvent la probabilité a priori suivante de la loi bêta $\\mathrm{Beta}(\\alpha,\\beta)$. Cette loi a une densité de probabilité de forme\n",
    "\n",
    "$$\n",
    "    f(x) = \\frac{1}{B(\\alpha,\\beta)}x^{\\alpha-1}(1-x)^{\\beta-1}\n",
    "$$\n",
    "\n",
    "ou $B(\\alpha,\\beta)$ est la fonction bêta qui est defini par $B(\\alpha,\\beta)=\\int_0^1\\!x^{\\alpha-1}(1-x)^{\\beta-1}\\,\\mathrm dx$. \n",
    "\n",
    "Avec un calcul assez facile on peut montrer que avec cette probabilité a priori, la probabilité postérieure suit aussi la loi bêta $B(\\alpha+n_1,\\beta+n_2)$. Donc on a que \n",
    "\n",
    "$$\n",
    "    P(Q\\leq q| N_1=n_1,N_2=n_2)) = \\int_0^q\\!\\frac{1}{B(\\alpha+n_1,\\beta+n_2)}x^{\\alpha+n_1-1}(1-x)^{\\beta+n_2-1}\\,\\mathrm dx\n",
    "$$\n",
    "\n",
    "Si on n'a pas d'informations préalable, on peut choisir $\\alpha,\\beta =1$ qui correspond à une probabilité a priori uniforme. "
   ]
  },
  {
   "cell_type": "markdown",
   "metadata": {},
   "source": [
    "_____\n",
    "> __Exercice 1c)__  \n",
    "> Écrire une fonction `probabilite_posterieure(q,alpha,beta,N1,N2)` qui estime la probabilité postérieure $P(Q>0.5|N_1=n_1,N_2=n_2)$ sachant la probabilité a priori de $Q$ de loi bêta $B(\\alpha,\\beta)$.\n",
    "> \n",
    "> _Suggestion:_ Utiliser `scipy.stats.beta.cdf(q, alpha, beta)` pour calculer la fonction de répartition de la loi bêta.\n",
    ">\n",
    "> _Remarque: On trouve la même probabilité qu'avant. Si on choisi `alpha` et `beta` différente de 1, la probabilité va changer_  \n",
    "\n",
    "_____"
   ]
  },
  {
   "cell_type": "code",
   "execution_count": null,
   "metadata": {
    "deletable": false,
    "nbgrader": {
     "cell_type": "code",
     "checksum": "41eedf95424e2acebc69c08d8d421050",
     "grade": false,
     "grade_id": "cell-5732315b2e09cd47",
     "locked": false,
     "schema_version": 3,
     "solution": true,
     "task": false
    }
   },
   "outputs": [],
   "source": [
    "def probabilite_posterieure(q,alpha,beta,N1,N2):\n",
    "    # INSÉREZ VOTRE CODE ICI\n",
    "    \n",
    "\n",
    "print(f'Probabilité que Q>0.5: {probabilite_posterieure(0.5, 1, 1, 95, 105):.4f}')"
   ]
  },
  {
   "cell_type": "code",
   "execution_count": null,
   "metadata": {
    "deletable": false,
    "editable": false,
    "nbgrader": {
     "cell_type": "code",
     "checksum": "d9944cebe046976bd471a836e5a7d9e9",
     "grade": true,
     "grade_id": "cell-05c59c47063d7a9f",
     "locked": true,
     "points": 0,
     "schema_version": 3,
     "solution": false,
     "task": false
    }
   },
   "outputs": [],
   "source": [
    "# TESTS AUTOMATIQUES\n",
    "\n",
    "p = probabilite_posterieure(0.5, 1, 1, 95, 105)\n",
    "assert isinstance(p,float), \"Le resultat n'est pas un nombre\"\n",
    "assert (p>=0) and (p<=1), \"Le resultat doit être une probabilité\"\n",
    "assert abs(p-0.2403) < 0.001, \"La resultat n'est pas correcte si alpha=1, beta=1\"\n",
    "if abs(p-0.7597) < 0.001:\n",
    "    raise AssertionError(\"Vous avez calculé P(Q<0.5) et pas P(Q>0.5)\")\n",
    "p = probabilite_posterieure(0.5, 0, 0, 95, 105)\n",
    "assert (p>=0) and (p<=1), \"Le resultat doit être une probabilité\"\n",
    "assert abs(p-0.23924) < 0.001, \"La resultat n'est pas correcte si alpha=0, beta=0\"\n",
    "p = probabilite_posterieure(0.5, 20, 10, 95, 105)\n",
    "if abs(p-0.09308)<0.001:\n",
    "    raise AssertionError(\"Vous avez interchance les rôles de alpha et beta\")\n",
    "assert abs(p-0.5) < 1e-6, \"La resultat n'est pas correcte si alpha=20, beta=10\"\n",
    "p = probabilite_posterieure(0.5, 0, 0, 10, 20)\n",
    "assert abs(p-0.03071) < 0.001, \"Vérifier la resultat\"\n",
    "p = probabilite_posterieure(0,1,1,10,10)\n",
    "assert abs(p-1) < 1e-6, \"La probabilité P(Q>0) doit être 1\"\n",
    "p = probabilite_posterieure(1,1,1,10,10)\n",
    "assert abs(p) < 1e-6, \"La probabilité P(Q>1) doit être 0\""
   ]
  },
  {
   "cell_type": "markdown",
   "metadata": {},
   "source": [
    "## Partie 2: Sondages d'élection présidentielle américaine de 2020"
   ]
  },
  {
   "cell_type": "markdown",
   "metadata": {},
   "source": [
    "Dans la partie précédente nous avons analysé un sondage non-biaisé, mais en réalité c'est presque impossible d'avoir un sondage non-biaisé. Dans cette partie on va analyser des sondages d'élection présidentielle américaine de 2020. On va voir que des sondages différents ont des résultats différents. Si nous avons beaucoup de sondages différens on peut utiliser la variance entre les sondages différents comme indicateur de incertitude. D'abbord on va télécharger un tableau des resultats de beaucoup de sondages, agrégé par [FiveThirtyEight](https://data.fivethirtyeight.com/) et modifiés en supprimant des données sans intérêt.\n",
    "\n",
    "Ces données ont 5 colonnes:\n",
    "\n",
    "- `state`: Le nom d'état\n",
    "- `sample_size`: La taille de l'échantillon du sondage\n",
    "- `answer`: `Biden` ou `Trump`\n",
    "- `pct`: Le pourcentage des réponses avec réponse `answer` dans ce sondage.\n",
    "- `votes`: Le nombre des votes du collège électoral de cet état\n",
    "\n",
    "Remarques:\n",
    "\n",
    "- La somme des pourcentages `pct` ne doit pas être égal à 100. (en raison des candidats de tiers qui sont supprimé)\n",
    "- Le candidat qui gagne une majorité dans un état gagne tous les votes du collège électoral de cet état.\n",
    "- En cas d'états Maine/Nebraska le vainqueur de la majorité gagne 2, respectivement 3 votes. De plus ces des états contiennent des districts (2 chacun),  et chaque victoire dans un district apporte un vote supplémentaire. À cause de ça, les deux districts de Maine et Nebraska sont mentionnés séparément.\n",
    "\n",
    "_Évaluer la cellule ci-dessous pour télécharger les données._"
   ]
  },
  {
   "cell_type": "code",
   "execution_count": null,
   "metadata": {},
   "outputs": [],
   "source": [
    "import urllib.request\n",
    "from urllib.error import URLError\n",
    "import os.path\n",
    "if not os.path.isfile('president_polls_parsed.csv') :\n",
    "    url = r\"https://raw.githubusercontent.com/RikVoorhaar/probastat2020/master/notebooks/president_polls_parsed.csv\"\n",
    "    try:\n",
    "        with urllib.request.urlopen(url) as request:\n",
    "            data = request.read().decode('utf-8')\n",
    "            with open('president_polls_parsed.csv','w',encoding='utf-8') as f:\n",
    "                f.write(data)\n",
    "    except URLError:\n",
    "        print('Erreur de téléchargement! Télécharger manuellement:\\n'+url)\n",
    "polls = pd.read_csv('president_polls_parsed.csv')\n",
    "polls"
   ]
  },
  {
   "cell_type": "markdown",
   "metadata": {},
   "source": [
    "Pour manipuler des données en Python on utilise `pandas`. L'objet principal dans `pandas` est le `DataFrame`. On peut facilement accéder des lignes et colonnes d'un `DataFrame`. Par example, si on veut tous les données ou la colonne `state` est égal à `'Texas'` on écrit simplement:"
   ]
  },
  {
   "cell_type": "code",
   "execution_count": null,
   "metadata": {},
   "outputs": [],
   "source": [
    "texas = polls[polls.state == 'Texas']\n",
    "texas"
   ]
  },
  {
   "cell_type": "markdown",
   "metadata": {},
   "source": [
    "Si on veut tracer la distribution des percantages ou `state=='Texas'` et `vote=='Biden'` on écrit :"
   ]
  },
  {
   "cell_type": "code",
   "execution_count": null,
   "metadata": {},
   "outputs": [],
   "source": [
    "texas = polls[polls.state == 'Texas']\n",
    "texas_biden = texas[texas.answer == 'Biden']\n",
    "texas_biden.pct.hist();"
   ]
  },
  {
   "cell_type": "markdown",
   "metadata": {},
   "source": [
    "On peut aussi utiliser les fonctions de `numpy` directement avec des `DataFrame` de `pandas`, par example on peut calculer la moyenne et l'écart type des pourcentages pour Biden en Texas :"
   ]
  },
  {
   "cell_type": "markdown",
   "metadata": {},
   "source": [
    "_____\n",
    "> __Exercice 2a)__  \n",
    "> Écrire une fonction `etats_pct(etat)` qui retourne deux listes, une avec des pourcentages de votes estimés pour Biden pour cet état, et une pour Trump.  \n",
    "\n",
    "_____"
   ]
  },
  {
   "cell_type": "code",
   "execution_count": null,
   "metadata": {
    "deletable": false,
    "nbgrader": {
     "cell_type": "code",
     "checksum": "6726e80b57d8d1da4fb6df1ff6d641e5",
     "grade": false,
     "grade_id": "cell-83650e3a5e83ba46",
     "locked": false,
     "schema_version": 3,
     "solution": true,
     "task": false
    }
   },
   "outputs": [],
   "source": [
    "def etats_pct(etat):\n",
    "    # INSÉREZ VOTRE CODE ICI\n",
    "    \n",
    "\n",
    "def plot_state(state):\n",
    "    pct_biden,pct_trump = etats_pct(state)\n",
    "    plt.hist(pct_biden,alpha=0.5,color='blue',density=True,label='Biden')\n",
    "    plt.hist(pct_trump,alpha=0.5,color='red',density=True,label='Trump')\n",
    "    plt.legend();\n",
    "    plt.title(f'Distribution de sondages pour {state}')\n",
    "plot_state('Georgia')"
   ]
  },
  {
   "cell_type": "code",
   "execution_count": null,
   "metadata": {
    "deletable": false,
    "editable": false,
    "nbgrader": {
     "cell_type": "code",
     "checksum": "35da376d1afb25860ce947b07755953b",
     "grade": true,
     "grade_id": "cell-2904a3ea5225c1b6",
     "locked": true,
     "points": 0,
     "schema_version": 3,
     "solution": false,
     "task": false
    }
   },
   "outputs": [],
   "source": [
    "# TESTS AUTOMATIQUES\n",
    "\n",
    "biden,trump = etats_pct(\"Iowa\")\n",
    "assert len(biden) == 86, \"Le nombre de sondages pour Biden pour Iowa n'est pas correcte\"\n",
    "assert len(trump) == 86, \"Le nombre de sondages pour Trump pour Iowa n'est pas correcte\"\n",
    "assert abs(np.mean(biden)-47.689)<1e-3, \"Le moyenne des sondages n'est pas correcte\"\n",
    "assert abs(np.mean(trump)-48.219)<1e-3, \"Le moyenne des sondages n'est pas correcte\"\n",
    "assert abs(np.std(biden)-2.2025)<1e-3, \"L'écart type des sondages n'est pas correcte\"\n",
    "assert abs(np.std(trump)-2.0673)<1e-3, \"L'écart type des sondages n'est pas correcte\"\n",
    "\n",
    "biden,trump = etats_pct(\"Minnesota\")\n",
    "assert len(biden) == 82, \"Le nombre de sondages pour Biden pour Minnesota n'est pas correcte\"\n",
    "assert len(trump) == 82, \"Le nombre de sondages pour Trump pour Minnesota n'est pas correcte\"\n",
    "assert abs(np.mean(biden)-52.9841)<1e-3, \"Le moyenne des sondages n'est pas correcte\"\n",
    "assert abs(np.mean(trump)-42.4374)<1e-3, \"Le moyenne des sondages n'est pas correcte\"\n",
    "assert abs(np.std(biden)-2.8979)<1e-3, \"L'écart type des sondages n'est pas correcte\"\n",
    "assert abs(np.std(trump)-1.6555)<1e-3, \"L'écart type des sondages n'est pas correcte\""
   ]
  },
  {
   "cell_type": "markdown",
   "metadata": {},
   "source": [
    "_____\n",
    "> __Exercice 2b)__  \n",
    "> Écrire une fonction `chances_gagner(etat)` donne une estimation de les chances de gagner pour Biden dans un état. \n",
    ">\n",
    "> _Indications:_\n",
    ">\n",
    "> - Obtenir les pourcentages estimé en utilisant `etats_pct`\n",
    "> - Prend un échantillon avec répétition de taille 1000 de les deux listes de pourcentages (_suggestion: utiliser `np.random.choice`_)\n",
    "> - Calculer la proportion des échantillons telles que la pourcentage de Biden est plus grand que la pourcentage de Trump  \n",
    "\n",
    "_____"
   ]
  },
  {
   "cell_type": "code",
   "execution_count": null,
   "metadata": {
    "deletable": false,
    "nbgrader": {
     "cell_type": "code",
     "checksum": "bef5fb9831c3aaa01ad4c6c265f3ccf5",
     "grade": false,
     "grade_id": "cell-be175262de08efa3",
     "locked": false,
     "schema_version": 3,
     "solution": true,
     "task": false
    }
   },
   "outputs": [],
   "source": [
    "def chances_gagner(etat):\n",
    "    # INSÉREZ VOTRE CODE ICI\n",
    "    \n",
    "\n",
    "chances_gagner('Georgia')"
   ]
  },
  {
   "cell_type": "code",
   "execution_count": null,
   "metadata": {
    "deletable": false,
    "editable": false,
    "nbgrader": {
     "cell_type": "code",
     "checksum": "d9d6496d0022a0b230e79365eae78621",
     "grade": true,
     "grade_id": "cell-ef25ca42affba9c9",
     "locked": true,
     "points": 0,
     "schema_version": 3,
     "solution": false,
     "task": false
    }
   },
   "outputs": [],
   "source": [
    "p = np.mean([chances_gagner('Georgia') for _ in range(50)])\n",
    "assert (p>=0) and (p<=1), \"Le resultat doit être une probabilité\"\n",
    "assert abs(p-0.6773) < 0.01, \"Vérifier l'implémentation\"\n",
    "p = chances_gagner('New York')\n",
    "assert (p>=0) and (p<=1), \"Le resultat doit être une probabilité\"\n",
    "assert abs(p-1) < 0.01, \"Vérifier l'implémentation\"\n",
    "p = chances_gagner('Alabama')\n",
    "assert (p>=0) and (p<=1), \"Le resultat doit être une probabilité\"\n",
    "assert abs(p) < 0.01, \"Vérifier l'implémentation\""
   ]
  },
  {
   "cell_type": "markdown",
   "metadata": {},
   "source": [
    "_____\n",
    "> __Exercice 2c)__  \n",
    "> Générer des listes `votes_biden` et `votes_trump` de taille 10000 qui contiennent des simulations d'élections\n",
    ">\n",
    "> _Indications:_\n",
    ">\n",
    "> - Utiliser `votes_df.state` pour une liste des états et `votes_df.votes` pour une liste des nombres des votes des collèges électoraux des états.\n",
    "> - Pour chaque état: générer un échantillon de taille 10000 d'une variable aléatoire de Bernoulli avec probabilité de succès donnée par `chances_gagner(etat)`. Multiplier le resultat par le nombres des votes du collège électoral.\n",
    "> - Ajouter les listes générées pour chaque état pour obtenir un échantillon pour les votes obtenu pour Biden\n",
    "> - Le nombre de votes pour Trump sont donnée par 538 moins le nombre de votes pour Biden.\n",
    ">\n",
    "> _Remarque: On trouve une probabilité de presque 100% que Biden gagne. En réalité les sondages sont un peu biaisés en faveur des démocrates. C'est un effet connu._  \n",
    "\n",
    "_____"
   ]
  },
  {
   "cell_type": "code",
   "execution_count": null,
   "metadata": {
    "deletable": false,
    "nbgrader": {
     "cell_type": "code",
     "checksum": "14aa1e3909056eafff780ff05288340e",
     "grade": false,
     "grade_id": "cell-f7a026a136a8c7f3",
     "locked": false,
     "schema_version": 3,
     "solution": true,
     "task": false
    }
   },
   "outputs": [],
   "source": [
    "votes_df = polls[['state','votes']].copy()\n",
    "votes_df.drop_duplicates(inplace=True)\n",
    "votes_df = votes_df.reset_index(drop=True)\n",
    "votes_df.sort_values(by='state',inplace=True)\n",
    "\n",
    "# INSÉREZ VOTRE CODE ICI\n",
    "\n",
    "\n",
    "print('Probabilité estimée que Biden aurait gagné:', np.mean(votes_biden>votes_trump))"
   ]
  },
  {
   "cell_type": "code",
   "execution_count": null,
   "metadata": {
    "deletable": false,
    "editable": false,
    "nbgrader": {
     "cell_type": "code",
     "checksum": "c268b3d5a483b6042f91dbc74685c9ba",
     "grade": true,
     "grade_id": "cell-561d2c1cd0b5f943",
     "locked": true,
     "points": 0,
     "schema_version": 3,
     "solution": false,
     "task": false
    }
   },
   "outputs": [],
   "source": [
    "assert len(votes_biden)==10000, \"Faire exactement 10000 simulations\"\n",
    "assert len(votes_trump)==10000, \"Faire exactement 10000 simulations\"\n",
    "assert set(votes_biden+votes_trump) == {538}, \"Vérifier que la totale de votes de chaque simulation est égale a 538\"\n",
    "assert np.abs(np.mean(votes_biden)-349.74) < 4, \"La moyenne de votes pour Biden n'est pas correcte\"\n",
    "assert np.abs(np.std(votes_biden)-24.745) < 1.5, \"L'écart type de votes pour Biden n'est pas correcte\"\n",
    "assert np.abs(np.mean(votes_trump)-188.19) < 4, \"La moyenne de votes pour Trump n'est pas correcte\"\n",
    "assert np.abs(np.std(votes_trump)-24.745) < 1.5, \"L'écart type de votes pour Trump n'est pas correcte\"\n",
    "assert np.mean(votes_biden>votes_trump)>0.98, \"La probabilité de gagner pour Biden n'est pas correcte\""
   ]
  },
  {
   "cell_type": "code",
   "execution_count": null,
   "metadata": {},
   "outputs": [],
   "source": [
    "plt.hist(votes_biden,alpha=0.5,color='blue',density=True,label='Biden')\n",
    "plt.hist(votes_trump,alpha=0.5,color='red',density=True,label='Trump')\n",
    "plt.axvline(x=270,linestyle='dashed',c='k',label='Égalité')\n",
    "plt.axvline(x=306,c='k',label='Réalité')\n",
    "plt.legend();"
   ]
  }
 ],
 "metadata": {
  "kernelspec": {
   "display_name": "Python 3",
   "language": "python",
   "name": "python3"
  },
  "language_info": {
   "codemirror_mode": {
    "name": "ipython",
    "version": 3
   },
   "file_extension": ".py",
   "mimetype": "text/x-python",
   "name": "python",
   "nbconvert_exporter": "python",
   "pygments_lexer": "ipython3",
   "version": "3.8.6-final"
  }
 },
 "nbformat": 4,
 "nbformat_minor": 4
}