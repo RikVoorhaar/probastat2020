{
 "cells": [
  {
   "cell_type": "markdown",
   "metadata": {},
   "source": [
    "[![Open in Colab](https://colab.research.google.com/assets/colab-badge.svg)](https://colab.research.google.com/github/RikVoorhaar/probastat2020/blob/master/notebooks/serie12.ipynb?hl=fr)\n",
    "\n",
    "# Série 13"
   ]
  },
  {
   "cell_type": "markdown",
   "metadata": {},
   "source": [
    "## Exercice 1\n",
    "\n",
    "<div class=\"alert alert-info\">\n",
    "**Exercice** \n",
    "    \n",
    "Soit $(\\Omega,\\mathcal A,\\mathbb P)$ un espace probabilisé. Soit  $(X_n)_{n\\geq 0}$ une chaîne de Markov homogène sur $\\Omega$ à valeurs dans $E$. Soit $P$ la matrice stochastique associée à cette chaîne. Prouver que pour tout entier $n\\geq 0$,\n",
    "\n",
    "$$\n",
    "\\mathbb P(X_n=y|X_0=x)=P^n(x,y),\\,\\forall x,y\\in E.\n",
    "$$\n",
    "\n",
    "Suggestion : récurrence sur $n$ en sommant sur tous les états possiblement visités avant le dernier pas.\n",
    "    \n",
    "</div>"
   ]
  },
  {
   "cell_type": "markdown",
   "metadata": {},
   "source": [
    "## Exercice 2\n",
    "\n",
    "<div class=\"alert alert-info\">\n",
    "**Exercice** (Marche aléatoire comme processus de Markov.) \n",
    "    \n",
    "Soient $$X_0,\\dots,X_n,\\dots$$ des variables aléatoires indépendantes à valeurs dans l'ensemble des entiers $\\mathbb Z$. On suppose que $X_0$ prend la valeur $0$ avec probabilité $1$. On suppose que les variables $X_1,\\dots,X_n,\\dots$ suivent  toutes une même loi de Bernoulli de paramètres $p,q\\geq 0$, $p+q=1$  et sont à valeurs dans $\\{-1;1\\}$ : pour tout $n\\geq 1$,\n",
    "\n",
    "$$\n",
    "\\mathbb P(X_n=1)=p,\\, \\mathbb P(X_n=-1)=q. \n",
    "$$\n",
    "    \n",
    "Soit \n",
    "\n",
    "$$\n",
    "S_n=\\sum_{k=0}^nX_k.\n",
    "$$\n",
    "\n",
    "Prouver que les variables $S_0,\\dots,S_n,\\dots$ forment une chaîne de Markov. Lorsque $p=1/2$, prouver que\n",
    "\n",
    "$$\n",
    "\\lim_{n\\to\\infty}\\frac{P^{2n}(0,0)}{\\sqrt n}=\\sqrt\\pi.\n",
    "$$\n",
    "    \n",
    "</div>"
   ]
  },
  {
   "cell_type": "markdown",
   "metadata": {},
   "source": [
    "## Exercice 3\n",
    "\n",
    "<div class=\"alert alert-info\">\n",
    "**Exercice** \n",
    "    \n",
    "On place un cavalier dans le coin d'un échiquier vide. On  déplace le cavalier en choisissant chaque coup de manière équiprobable parmi l'ensemble des déplacements permis. Combien de coups faut-il s'attendre à devoir jouer pour retrouver le cavalier sur sa case de départ ? Même question en partant d'une case proche du centre de l'échiquier. Suggestions : considérer le graphe dont les sommets sont les 64 cases de l'échiquier, lier deux cases par une arête si et seulement si un cavalier peut passer en un coup d'une case à l'autre. Vérifier que le graphe obtenu est connexe. Si $x$ est la case de départ, calculer $\\mathbb E_x[T_x]$ à l'aide du corollaire intitulé «Espérance du temps de premier retour d'une marche aléatoire simple». Tester les résultats obtenus par à l'aide d'un ordinateur.\n",
    "    \n",
    "</div>"
   ]
  }
 ],
 "metadata": {
  "kernelspec": {
   "display_name": "Python 3",
   "language": "python",
   "name": "python3"
  },
  "language_info": {
   "codemirror_mode": {
    "name": "ipython",
    "version": 3
   },
   "file_extension": ".py",
   "mimetype": "text/x-python",
   "name": "python",
   "nbconvert_exporter": "python",
   "pygments_lexer": "ipython3",
   "version": "3.7.7"
  }
 },
 "nbformat": 4,
 "nbformat_minor": 4
}
