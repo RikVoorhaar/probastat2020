{
 "cells": [
  {
   "cell_type": "markdown",
   "metadata": {},
   "source": [
    "[![Open in Colab](https://colab.research.google.com/assets/colab-badge.svg)](https://colab.research.google.com/github/RikVoorhaar/probastat2020/blob/master/notebooks/serie13.ipynb?hl=fr)\n",
    "\n",
    "# Série 13"
   ]
  },
  {
   "cell_type": "markdown",
   "metadata": {},
   "source": [
    "## Exercice 1\n",
    "\n",
    "<div class=\"alert alert-info\">\n",
    "**Exercice** \n",
    "    \n",
    "Soit $(\\Omega,\\mathcal A,\\mathbb P)$ un espace probabilisé. Soit  $(X_n)_{n\\geq 0}$ une chaîne de Markov homogène sur $\\Omega$ à valeurs dans $E$. Soit $P$ la matrice stochastique associée à cette chaîne. Prouver que pour tout entier $n\\geq 0$,\n",
    "\n",
    "$$\n",
    "\\mathbb P(X_n=y|X_0=x)=P^n(x,y),\\,\\forall x,y\\in E.\n",
    "$$\n",
    "\n",
    "Suggestion : récurrence sur $n$ en sommant sur tous les états possiblement visités avant le dernier pas.\n",
    "    \n",
    "</div>\n",
    "\n",
    "Par la formule de probabilités totales et la proprieté de Markov on a que \n",
    "\n",
    "$$\n",
    "\\begin{align}\n",
    "P(X_n=y|X_0=x) &= \\sum_z P(X_n=y|X_{n-1}=z,X_0=x)P(X_{n-1}=z|X_0=x)\\\\\n",
    "&=\\sum_z P(X_n=y|X_{n-1}=z)P(X_{n-1}=z|X_0=x)\\\\\n",
    "&=\\sum_z P(z,y)P(X_{n-1}=z|X_0=x)\\\\\n",
    "\\end{align}\n",
    "$$\n",
    "\n",
    "Dans la dernière étappe on a utilisé que $P(X_n=y|X_{n-1}=z)=P(y,z)$. Supposer par récurrence que $P(X_{n-1}=z|X_0=x) = P^{n-1}(x,z)$, alors\n",
    "\n",
    "$$\n",
    "\\begin{align}\n",
    "P(X_n=y|X_0=x) &= \\sum_z P(z,y)P(X_{n-1}=z|X_0=x)\\\\&= \\sum_z P^{n-1}(x,z)P(z,y) = P^n(x,y)\n",
    "\\end{align}\n",
    "$$"
   ]
  },
  {
   "cell_type": "markdown",
   "metadata": {},
   "source": [
    "## Exercice 2\n",
    "\n",
    "<div class=\"alert alert-info\">\n",
    "**Exercice** (Marche aléatoire comme processus de Markov.) \n",
    "    \n",
    "Soient $$X_0,\\dots,X_n,\\dots$$ des variables aléatoires indépendantes à valeurs dans l'ensemble des entiers $\\mathbb Z$. On suppose que $X_0$ prend la valeur $0$ avec probabilité $1$. On suppose que les variables $X_1,\\dots,X_n,\\dots$ suivent  toutes une même loi de Bernoulli de paramètres $p,q\\geq 0$, $p+q=1$  et sont à valeurs dans $\\{-1;1\\}$ : pour tout $n\\geq 1$,\n",
    "\n",
    "$$\n",
    "\\mathbb P(X_n=1)=p,\\, \\mathbb P(X_n=-1)=q. \n",
    "$$\n",
    "    \n",
    "Soit \n",
    "\n",
    "$$\n",
    "S_n=\\sum_{k=0}^nX_k.\n",
    "$$\n",
    "\n",
    "Prouver que les variables $S_0,\\dots,S_n,\\dots$ forment une chaîne de Markov. Lorsque $p=1/2$, prouver que\n",
    "\n",
    "$$\n",
    "\\lim_{n\\to\\infty}\\sqrt n{P^{2n}(0,0)}{}=\\frac{1}{\\sqrt\\pi}.\n",
    "$$\n",
    "    \n",
    "</div>"
   ]
  },
  {
   "cell_type": "markdown",
   "metadata": {},
   "source": [
    "On a que \n",
    "\n",
    "$$\n",
    "\\begin{align}\n",
    "P(S_n=s_n|&S_{n-1}=s_{n-1},S_{n-2}=s_{n-2},\\dots,S_1=s_1,S_0=0)\\\\ &= P(S_n=s_n|S_{n-1}=s_{n-1})\\\\ &= \\left\\{\\begin{array}{ll} p &\\quad\\text{si } s_n=s_{n-1}+1\\\\ q &\\quad\\text{si } s_n=s_{n-1}-1\\\\ 0&\\quad\\text{sinon, }\\end{array}\\right.\n",
    "\\end{align}\n",
    "$$\n",
    "\n",
    "parce que $S_n=S_{n-1}+X_n$, et si on donc sait la valeur de $S_{n-1}$ il y a seulement deux posibilités pour $S_n$. Les valeurs d'autres $S_k$ pour $k<n-1$ ne sont pas rélévants. On conclut que $S_0,\\dots,S_n$ forment une chaîne de Markov.\n",
    "\n",
    "On a que $S_n$ suit un loi binomiale. Si $p=1/2$ on a donc que \n",
    "\n",
    "$$\n",
    "P^{2n}(0,0) = P(S_{2n}=0) = \\binom{2n}{n}2^{-2n}\n",
    "$$\n",
    "\n",
    "En utilisant l'approximation de Sterling \n",
    "\n",
    "$$\n",
    "    n! \\approx \\sqrt{2\\pi n}\\left(\\frac{n}{e}\\right)^n\n",
    "$$\n",
    "\n",
    "On a que\n",
    "\n",
    "$$\n",
    "\\begin{align}\n",
    "\\lim_{n\\to\\infty} \\sqrt{n}\\binom{2n}{n}2^{-2n} &= \\lim_{n\\to\\infty}\\sqrt{n}\\frac{\\sqrt{4\\pi n}\\left(\\frac{2n}{e}\\right)^{2n}}{\\left(\\sqrt{2\\pi n}\\left(\\frac{n}{e}\\right)^n\\right)^2}2^{-2n}\\\\\n",
    "&=\\lim_{n\\to\\infty}\\sqrt{n}\\frac{2\\sqrt{\\pi n}}{2\\pi n}\\frac{\\left(\\frac{2n}{e}\\right)^{2n}}{\\left(\\frac{n}{e}\\right)^{2n}}2^{-2n}\\\\\n",
    "&=\\frac{1}{\\sqrt{\\pi}} \n",
    "\\end{align}\n",
    "$$"
   ]
  },
  {
   "cell_type": "markdown",
   "metadata": {},
   "source": [
    "## Exercice 3\n",
    "\n",
    "<div class=\"alert alert-info\">\n",
    "**Exercice** \n",
    "    \n",
    "On place un cavalier dans le coin d'un échiquier vide. On  déplace le cavalier en choisissant chaque coup de manière équiprobable parmi l'ensemble des déplacements permis. Combien de coups faut-il s'attendre à devoir jouer pour retrouver le cavalier sur sa case de départ ? Même question en partant d'une case proche du centre de l'échiquier. \n",
    "    \n",
    "_Suggestions_: considérer le graphe dont les sommets sont les 64 cases de l'échiquier, lier deux cases par une arête si et seulement si un cavalier peut passer en un coup d'une case à l'autre. Vérifier que le graphe obtenu est connexe. Si $x$ est la case de départ, calculer $\\mathbb E_x[T_x]$ à l'aide du corollaire intitulé «Espérance du temps de premier retour d'une marche aléatoire simple». Tester les résultats obtenus par à l'aide d'un ordinateur.\n",
    "    \n",
    "</div>"
   ]
  },
  {
   "cell_type": "markdown",
   "metadata": {},
   "source": [
    "Le graphe a 64 sommets, et il est bien connexe (en fait, il existe une cycle hamiltonien, c'est le [fameux problème du cavalier](https://fr.wikipedia.org/wiki/Probl%C3%A8me_du_cavalier)). Le corrollaire dit que\n",
    "\n",
    "$$\n",
    "    \\mathbb E_x[T_x] = \\frac{2|A|}{d_x}\n",
    "$$\n",
    "\n",
    "où $|A|$ est le nombre d'arrêtes et $d_x$ le degré de sommet $x$. On doit alors compter le nombre d'arrêtes du graphe. Le degré des sommets depend de distance de coin et bord. En centre d'échiquier le degré est 8, mais dans la coin il est 2. On peut écrire un programme simple pour compter les degrés de toutes sommets. Pour chaque sommet on compte les déplacements permis."
   ]
  },
  {
   "cell_type": "code",
   "execution_count": 1,
   "metadata": {},
   "outputs": [
    {
     "name": "stdout",
     "output_type": "stream",
     "text": [
      "[[2 3 4 4 4 4 3 2]\n",
      " [3 4 6 6 6 6 4 3]\n",
      " [4 6 8 8 8 8 6 4]\n",
      " [4 6 8 8 8 8 6 4]\n",
      " [4 6 8 8 8 8 6 4]\n",
      " [4 6 8 8 8 8 6 4]\n",
      " [3 4 6 6 6 6 4 3]\n",
      " [2 3 4 4 4 4 3 2]]\n",
      "somme des degrés: 336\n",
      "nombre d'arrêtes: 168\n"
     ]
    }
   ],
   "source": [
    "import numpy as np\n",
    "\n",
    "degres = np.zeros((8,8),int)\n",
    "for i in range(8):\n",
    "    for j in range(8):\n",
    "        degre = 0\n",
    "        if i+2 < 8:  # deux pas vers la droite\n",
    "            if j+1<8:  # un pas vers le haut\n",
    "                degre+=1\n",
    "            if j-1>=0:  # un pas vers le bas\n",
    "                degre+=1\n",
    "        if i-2>= 0:  # deux pas vers la gauche\n",
    "            if j+1<8:  # un pas vers le haut\n",
    "                degre+=1\n",
    "            if j-1>=0:  # un pas vers le bas\n",
    "                degre+=1\n",
    "        if j+2 < 8:  # deux pas vers le bas\n",
    "            if i+1<8:  # un pas vers la droite\n",
    "                degre+=1\n",
    "            if i-1>=0:  # un pas vers la gauche\n",
    "                degre+=1\n",
    "        if j-2>= 0:  # deux pas vers le haut\n",
    "            if i+1<8:  # un pas vers la droite\n",
    "                degre+=1\n",
    "            if i-1>=0:  # un pas vers la gauche\n",
    "                degre+=1\n",
    "        degres[i,j] = degre\n",
    "print(degres)\n",
    "print(\"somme des degrés:\", np.sum(degres))\n",
    "print(\"nombre d'arrêtes:\", np.sum(degres)//2)"
   ]
  },
  {
   "cell_type": "markdown",
   "metadata": {},
   "source": [
    "Notons que le nombre d'arrêtes est donné par la somme totale des degrés divisé par 2, car chaque arrête connecte deux sommets. On trouve donc $|A| = 168$. Pour un sommet au coin, on a $d_x=2$ et donc\n",
    "\n",
    "$$\n",
    "    \\mathbb E_x[T_x] = 168\\cdot 2 / 2 = 168\n",
    "$$\n",
    "\n",
    "Si on prend un sommet au centre, on a $d_x=8$ et donc\n",
    "\n",
    "$$\n",
    "    \\mathbb E_x[T_x] = 42\n",
    "$$\n",
    "\n",
    "On confirmera les resultats à l'aide d'une simulation. D'abord on crée pour chaque sommet une liste des sommets accessible en une seule étape."
   ]
  },
  {
   "cell_type": "code",
   "execution_count": 2,
   "metadata": {},
   "outputs": [],
   "source": [
    "accessible = []\n",
    "\n",
    "for i in range(8):\n",
    "    for j in range(8):\n",
    "        l = []\n",
    "        if i+2 < 8:  # deux pas vers la droite\n",
    "            if j+1<8:  # un pas vers le haut\n",
    "                l.append(8*(i+2)+(j+1))\n",
    "            if j-1>=0:  # un pas vers le bas\n",
    "                l.append(8*(i+2)+(j-1))\n",
    "        if i-2>= 0:  # deux pas vers la gauche\n",
    "            if j+1<8:  # un pas vers le haut\n",
    "                l.append(8*(i-2)+(j+1))\n",
    "            if j-1>=0:  # un pas vers le bas\n",
    "                l.append(8*(i-2)+(j-1))\n",
    "        if j+2 < 8:  # deux pas vers le bas\n",
    "            if i+1<8:  # un pas vers la droite\n",
    "                l.append(8*(i+1)+(j+2))\n",
    "            if i-1>=0:  # un pas vers la gauche\n",
    "                l.append(8*(i-1)+(j+2))\n",
    "        if j-2>= 0:  # deux pas vers le haut\n",
    "            if i+1<8:  # un pas vers la droite\n",
    "                l.append(8*(i+1)+(j-2))\n",
    "            if i-1>=0:  # un pas vers la gauche\n",
    "                l.append(8*(i-1)+(j-2))\n",
    "        accessible.append(l)"
   ]
  },
  {
   "cell_type": "markdown",
   "metadata": {},
   "source": [
    "Puis on simuler un chemin d'une million étappes. On trace le frequence de tous les sommets."
   ]
  },
  {
   "cell_type": "code",
   "execution_count": 3,
   "metadata": {},
   "outputs": [
    {
     "data": {
      "text/plain": [
       "<matplotlib.image.AxesImage at 0x7f19fce7c340>"
      ]
     },
     "execution_count": 3,
     "metadata": {},
     "output_type": "execute_result"
    },
    {
     "data": {
      "image/png": "[encoded data removed]",
      "text/plain": [
       "<Figure size 288x288 with 1 Axes>"
      ]
     },
     "metadata": {
      "needs_background": "light"
     },
     "output_type": "display_data"
    }
   ],
   "source": [
    "import matplotlib.pyplot as plt\n",
    "\n",
    "etappes = []\n",
    "sommet = 0\n",
    "N = 1000000\n",
    "for _ in range(N):\n",
    "    sommet = np.random.choice(accessible[sommet])\n",
    "    etappes.append(sommet)\n",
    "etappes = np.array(etappes)\n",
    "frequences = np.bincount(etappes).reshape(8,8)/N\n",
    "\n",
    "plt.matshow(frequences)"
   ]
  },
  {
   "cell_type": "markdown",
   "metadata": {},
   "source": [
    "On peut trouver les indices de tous les entrées correspond à le coin supérieur gauche (indice=0) en utilisant `np.argwhere(etappes==0)`.\n",
    "Puis on calcule les temps entre les visites du coin avec `np.diff`. On trouve un temps proche du temps théorique. On trace aussi la densité obtenu avec une densité exponentielle pour référence."
   ]
  },
  {
   "cell_type": "code",
   "execution_count": 4,
   "metadata": {},
   "outputs": [
    {
     "name": "stdout",
     "output_type": "stream",
     "text": [
      "Espérence du temps: 171.31344307270234\n"
     ]
    },
    {
     "data": {
      "image/png": "[encoded data removed]",
      "text/plain": [
       "<Figure size 432x288 with 1 Axes>"
      ]
     },
     "metadata": {
      "needs_background": "light"
     },
     "output_type": "display_data"
    }
   ],
   "source": [
    "temps = np.diff(np.argwhere(etappes==0).reshape(-1))\n",
    "print('Espérence du temps:',np.mean(temps))\n",
    "\n",
    "plt.hist(temps,density=True,alpha=0.6,bins=30)\n",
    "plt.ylabel('Densité')\n",
    "plt.xlabel('Temps')\n",
    "\n",
    "lam = 1/168\n",
    "x = np.arange(0,max(temps))\n",
    "plt.plot(x,lam*np.exp(-x*lam));"
   ]
  }
 ],
 "metadata": {
  "kernelspec": {
   "display_name": "Python 3",
   "language": "python",
   "name": "python3"
  },
  "language_info": {
   "codemirror_mode": {
    "name": "ipython",
    "version": 3
   },
   "file_extension": ".py",
   "mimetype": "text/x-python",
   "name": "python",
   "nbconvert_exporter": "python",
   "pygments_lexer": "ipython3",
   "version": "3.8.3"
  }
 },
 "nbformat": 4,
 "nbformat_minor": 4
}
