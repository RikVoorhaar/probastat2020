{
 "cells": [
  {
   "cell_type": "markdown",
   "metadata": {},
   "source": [
    "# Instructions d'utilisation de Jupyter\n",
    "\n",
    "Jupyter est une platforme très utile pour l'écricre est exécution de code interactive en Python (et en autre langues, notablement Julia et R). \n",
    "\n",
    "Avec Jupyter nous pouvons exécuter de code pièce par pièce. De plus, nous pouvons mélanger du code et texte riche (et en plus des maths avec $\\LaTeX$). Nous pouvons aussi montrer la sortie du code en formats riches (par exemple des graphiques). Cette page ici est un Jupyter notebook par exemple. "
   ]
  },
  {
   "source": [
    "# Installation\n",
    "\n"
   ],
   "cell_type": "markdown",
   "metadata": {}
  }
 ],
 "metadata": {
  "kernelspec": {
   "display_name": "Python 3.8.3 64-bit ('base': conda)",
   "language": "python",
   "name": "python38364bitbaseconda3ee4c4cdcb7a427db5500fc83937f989"
  },
  "language_info": {
   "codemirror_mode": {
    "name": "ipython",
    "version": 3
   },
   "file_extension": ".py",
   "mimetype": "text/x-python",
   "name": "python",
   "nbconvert_exporter": "python",
   "pygments_lexer": "ipython3",
   "version": "3.8.3-final"
  }
 },
 "nbformat": 4,
 "nbformat_minor": 2
}